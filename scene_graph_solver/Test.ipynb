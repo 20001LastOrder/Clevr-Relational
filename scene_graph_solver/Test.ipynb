{
 "cells": [
  {
   "cell_type": "code",
   "execution_count": 1,
   "outputs": [],
   "source": [
    "%load_ext autoreload\n",
    "%autoreload 2"
   ],
   "metadata": {
    "collapsed": false,
    "pycharm": {
     "name": "#%%\n"
    }
   }
  },
  {
   "cell_type": "code",
   "execution_count": 39,
   "outputs": [],
   "source": [
    "from main import get_normalized_probability, cal_most_prob_scene, reverse_relation\n",
    "import json\n",
    "import pulp\n",
    "import numpy as np"
   ],
   "metadata": {
    "collapsed": false,
    "pycharm": {
     "name": "#%%\n"
    }
   }
  },
  {
   "cell_type": "code",
   "execution_count": 7,
   "outputs": [],
   "source": [
    "with open('../results/clevr_block_val/rel_scenes.json', 'r') as f:\n",
    "    scenes = json.load(f)['scenes']\n",
    "\n",
    "with open('../data/clevr_block/clevr_attr_map.json', 'r') as f:\n",
    "    attr_map = json.load(f)\n",
    "\n",
    "REL_MAP = {\n",
    "    'left': 'right',\n",
    "    'above': 'below'\n",
    "}\n",
    "\n",
    "ATTRIBUTES = ['color', ]\n"
   ],
   "metadata": {
    "collapsed": false,
    "pycharm": {
     "name": "#%%\n"
    }
   }
  },
  {
   "cell_type": "code",
   "execution_count": 140,
   "outputs": [],
   "source": [
    "scene = scenes[72]"
   ],
   "metadata": {
    "collapsed": false,
    "pycharm": {
     "name": "#%%\n"
    }
   }
  },
  {
   "cell_type": "code",
   "execution_count": 180,
   "outputs": [],
   "source": [
    "def get_attribute_variables(objects, attributes_map):\n",
    "    variables = []\n",
    "    probabilities = {}\n",
    "    num_objects = len(objects)\n",
    "\n",
    "    for name, values in attributes_map.items():\n",
    "        for v, _ in enumerate(values):\n",
    "            for i in range(num_objects):\n",
    "                variable_name = f'{name}_{i}_{v}'\n",
    "                variables.append(variable_name)\n",
    "                probabilities[variable_name] = objects[i][name][v]\n",
    "    return variables, probabilities\n",
    "\n",
    "def get_relationship_variables(scene, relationships):\n",
    "    variables = []\n",
    "    probabilities = {}\n",
    "\n",
    "    for rel in relationships:\n",
    "        for source, targets in enumerate(scene['relationships'][rel]):\n",
    "            for j, probability in targets:\n",
    "                variable_name = f'{rel}_{source}_{j}'\n",
    "                variables.append(variable_name)\n",
    "                probabilities[variable_name] = probability\n",
    "    return variables, probabilities"
   ],
   "metadata": {
    "collapsed": false,
    "pycharm": {
     "name": "#%%\n"
    }
   }
  },
  {
   "cell_type": "code",
   "execution_count": 196,
   "outputs": [],
   "source": [
    "eps = 1e-50\n",
    "M = 100\n",
    "\n",
    "attr_variables, attr_probabilities = get_attribute_variables(scene['objects'], attr_map['attributes'])\n",
    "rel_variables, rel_probabilities = get_relationship_variables(scene, attr_map['relations'])\n",
    "\n",
    "attr_variables = pulp.LpVariable.dict('attr', attr_variables, 0, 1, pulp.LpBinary)\n",
    "rel_variables = pulp.LpVariable.dict('rel', rel_variables, 0, 1, pulp.LpBinary)"
   ],
   "metadata": {
    "collapsed": false,
    "pycharm": {
     "name": "#%%\n"
    }
   }
  },
  {
   "cell_type": "code",
   "execution_count": 197,
   "outputs": [],
   "source": [
    "prob = pulp.LpProblem(\"sceneGraphProblem\", pulp.LpMaximize)\n",
    "\n",
    "attr_obj = [attr_variables[i] * np.log(max(attr_probabilities[i], eps)) for i in attr_variables.keys()]\n",
    "rel_obj = [rel_variables[i] * np.log(max(rel_probabilities[i], eps)) + (1 - rel_variables[i]) * np.log((max(1 - rel_probabilities[i], eps))) for i in rel_variables.keys()]\n",
    "\n",
    "prob += pulp.lpSum(attr_obj + rel_obj)"
   ],
   "metadata": {
    "collapsed": false,
    "pycharm": {
     "name": "#%%\n"
    }
   }
  },
  {
   "cell_type": "code",
   "execution_count": 198,
   "outputs": [],
   "source": [
    "# only select one attribute\n",
    "num_objects = len(scene['objects'])\n",
    "objects = scene['objects']\n",
    "\n",
    "for attr in attr_map['attributes']:\n",
    "    for i in range(num_objects):\n",
    "        prob += pulp.lpSum([attr_variables[f'{attr}_{i}_{v}'] for v, _ in enumerate(objects[i][attr])]) == 1\n",
    "\n",
    "#above or right iff not left and right\n",
    "for i in range(num_objects):\n",
    "    for j in range(num_objects):\n",
    "        if i != j:\n",
    "            dummy1 = pulp.LpVariable(f'd_c1_{i}_{j}_0', cat=pulp.LpBinary)\n",
    "            dummy2 = pulp.LpVariable(f'd_c1_{i}_{j}_1', cat=pulp.LpBinary)\n",
    "\n",
    "            prob += rel_variables[f'above_{i}_{j}'] + rel_variables[f'below_{i}_{j}'] >= 1 - M * (1 - dummy1)\n",
    "            prob += rel_variables[f'above_{i}_{j}'] + rel_variables[f'below_{i}_{j}'] <= M * dummy1\n",
    "\n",
    "            prob += rel_variables[f'left_{i}_{j}'] + rel_variables[f'right_{i}_{j}'] >= 1 - M * (1 - dummy2)\n",
    "            prob += rel_variables[f'left_{i}_{j}'] + rel_variables[f'right_{i}_{j}'] <= M * dummy2\n",
    "            prob += dummy1 == 1 - dummy2\n",
    "            # rel_variables[f'above_{i}_{j}'] + rel_variables[f'below_{i}_{j}'] + rel_variables[f'left_{i}_{j}'] + rel_variables[f'right_{i}_{j}'] == 1"
   ],
   "metadata": {
    "collapsed": false,
    "pycharm": {
     "name": "#%%\n"
    }
   }
  },
  {
   "cell_type": "code",
   "execution_count": 199,
   "outputs": [
    {
     "data": {
      "text/plain": "1"
     },
     "execution_count": 199,
     "metadata": {},
     "output_type": "execute_result"
    }
   ],
   "source": [
    "prob.solve()"
   ],
   "metadata": {
    "collapsed": false,
    "pycharm": {
     "name": "#%%\n"
    }
   }
  },
  {
   "cell_type": "code",
   "execution_count": 200,
   "outputs": [],
   "source": [
    "predicted_scene = {\n",
    "    'objects': [{} for _ in range(len(scene['objects']))],\n",
    "    'relationships': { rel: [[] for _ in range(len(scene['objects']))] for rel in attr_map['relations']}\n",
    "}\n",
    "\n",
    "for v in prob.variables():\n",
    "    if v.varValue:\n",
    "        tokens = v.name.split('_')\n",
    "        if tokens[0] == 'attr':\n",
    "            predicted_scene['objects'][int(tokens[2])][tokens[1]] = attr_map['attributes'][tokens[1]][int(tokens[3])]\n",
    "        elif tokens[0] == 'rel':\n",
    "            predicted_scene['relationships'][tokens[1]][int(tokens[2])].append(int(tokens[3]))"
   ],
   "metadata": {
    "collapsed": false,
    "pycharm": {
     "name": "#%%\n"
    }
   }
  },
  {
   "cell_type": "code",
   "execution_count": 201,
   "outputs": [
    {
     "data": {
      "text/plain": "{'objects': [{'color': 'yellow',\n   'material': 'metal',\n   'shape': 'cube',\n   'size': 'small'},\n  {'color': 'blue', 'material': 'metal', 'shape': 'cube', 'size': 'large'},\n  {'color': 'yellow', 'material': 'rubber', 'shape': 'cube', 'size': 'large'},\n  {'color': 'green', 'material': 'rubber', 'shape': 'sphere', 'size': 'small'},\n  {'color': 'red', 'material': 'metal', 'shape': 'sphere', 'size': 'small'},\n  {'color': 'brown',\n   'material': 'metal',\n   'shape': 'cylinder',\n   'size': 'small'}],\n 'relationships': {'left': [[1, 2, 3, 4, 5],\n   [],\n   [1, 4, 5],\n   [1, 4, 5],\n   [1],\n   [1]],\n  'right': [[], [0, 2, 3, 4, 5], [0], [0], [0, 2, 3], [0, 2, 3]],\n  'above': [[], [], [], [2], [5], []],\n  'below': [[], [], [3], [], [], [4]]}}"
     },
     "execution_count": 201,
     "metadata": {},
     "output_type": "execute_result"
    }
   ],
   "source": [
    "predicted_scene"
   ],
   "metadata": {
    "collapsed": false,
    "pycharm": {
     "name": "#%%\n"
    }
   }
  },
  {
   "cell_type": "code",
   "execution_count": 202,
   "outputs": [
    {
     "name": "stdout",
     "output_type": "stream",
     "text": [
      "270\n"
     ]
    }
   ],
   "source": [
    "print(len(prob.variables()))"
   ],
   "metadata": {
    "collapsed": false,
    "pycharm": {
     "name": "#%%\n"
    }
   }
  },
  {
   "cell_type": "code",
   "execution_count": 203,
   "outputs": [
    {
     "name": "stdout",
     "output_type": "stream",
     "text": [
      "174\n"
     ]
    }
   ],
   "source": [
    "print(len(prob.constraints))"
   ],
   "metadata": {
    "collapsed": false,
    "pycharm": {
     "name": "#%%\n"
    }
   }
  },
  {
   "cell_type": "code",
   "execution_count": 169,
   "outputs": [
    {
     "data": {
      "text/plain": "1.0"
     },
     "execution_count": 169,
     "metadata": {},
     "output_type": "execute_result"
    }
   ],
   "source": [
    "rel_variables[f'left_{3}_{5}'].varValue"
   ],
   "metadata": {
    "collapsed": false,
    "pycharm": {
     "name": "#%%\n"
    }
   }
  },
  {
   "cell_type": "code",
   "execution_count": 170,
   "outputs": [
    {
     "data": {
      "text/plain": "sceneGraphProblem:\nMAXIMIZE\n-36.82955164694234*attr_color_0_0 + -31.138238917745266*attr_color_0_1 + -28.947620307674452*attr_color_0_2 + -34.76335144653448*attr_color_0_3 + -29.493898394840578*attr_color_0_4 + -26.815490750199857*attr_color_0_5 + -40.44316865436368*attr_color_0_6 + -30.338214876780636*attr_color_1_1 + -27.539512588878246*attr_color_1_2 + -31.50299828704129*attr_color_1_3 + -40.9568824584713*attr_color_1_4 + -27.606079045020635*attr_color_1_5 + -50.00104520960452*attr_color_1_6 + -35.719505299867045*attr_color_1_7 + -28.72638318951039*attr_color_2_0 + -21.32378390094922*attr_color_2_1 + -25.575771306472497*attr_color_2_2 + -26.773422304275723*attr_color_2_3 + -25.304447145160623*attr_color_2_4 + -19.722301433720943*attr_color_2_5 + -33.098697652013605*attr_color_2_6 + -34.20243062770304*attr_color_3_0 + -33.951995931120024*attr_color_3_1 + -32.44853588880306*attr_color_3_2 + -36.432872861762995*attr_color_3_3 + -32.09336468104429*attr_color_3_5 + -37.15052032645392*attr_color_3_6 + -36.44159703216466*attr_color_3_7 + -36.39500045958092*attr_color_4_0 + -24.330436696980584*attr_color_4_1 + -22.54927061091731*attr_color_4_2 + -27.132596962527526*attr_color_4_3 + -30.207698897211877*attr_color_4_4 + -17.864612605250166*attr_color_4_5 + -32.879592919746585*attr_color_4_7 + -33.50027465024199*attr_color_5_0 + -58.33872980728945*attr_color_5_2 + -30.731327093999372*attr_color_5_3 + -42.484016392220596*attr_color_5_4 + -41.0190162534916*attr_color_5_5 + -34.8983535447747*attr_color_5_6 + -31.01731871519664*attr_color_5_7 + -41.289794909542834*attr_material_0_1 + -26.08112905559925*attr_material_1_1 + -24.921169268796124*attr_material_2_0 + -34.76971427596277*attr_material_3_0 + -21.50573731824523*attr_material_4_1 + -1.1920929665620916e-07*attr_material_5_0 + -16.153564579789105*attr_material_5_1 + -30.181987759356776*attr_shape_0_0 + -18.644619003819834*attr_shape_0_2 + -21.155605389087253*attr_shape_1_0 + -28.205459591989186*attr_shape_1_2 + -37.078849763879624*attr_shape_2_0 + -39.05907443816612*attr_shape_2_2 + -59.18537898138389*attr_shape_3_1 + -52.65776819776009*attr_shape_3_2 + -34.19480510903585*attr_shape_4_1 + -24.786537227205223*attr_shape_4_2 + -13.86626666134278*attr_shape_5_0 + -12.397546242948085*attr_shape_5_1 + -5.126012588663675e-06*attr_shape_5_2 + -10.99053920463816*attr_size_0_0 + -1.680865109124442e-05*attr_size_0_1 + -71.5123138454433*attr_size_1_1 + -35.70337288144345*attr_size_2_1 + -14.102398618316707*attr_size_3_0 + -7.152559931001943e-07*attr_size_3_1 + -31.254732093579836*attr_size_4_0 + -20.620986920505388*attr_size_5_0 + -25.7244587605846*rel_above_0_1 + -14.677286088976166*rel_above_0_2 + -28.96355630052018*rel_above_0_3 + -29.187400809155683*rel_above_0_4 + -14.916261717646695*rel_above_0_5 + -23.008674594597057*rel_above_1_0 + -12.53615666727647*rel_above_1_2 + -26.820955314055553*rel_above_1_3 + -27.044788395885575*rel_above_1_4 + -12.774655404858605*rel_above_1_5 + -22.44258683333639*rel_above_2_0 + -23.018156151294363*rel_above_2_1 + -26.255716332027273*rel_above_2_3 + -26.478185725273082*rel_above_2_4 + -12.208790777859887*rel_above_2_5 + -9.451039402095661*rel_above_3_0 + -10.025880760117843*rel_above_3_1 + 1.0217485605681715*rel_above_3_2 + -13.486805958483611*rel_above_3_4 + 0.7827898789274862*rel_above_3_5 + -9.669442084218543*rel_above_4_0 + -10.243232794997903*rel_above_4_1 + 0.8037713908077395*rel_above_4_2 + -13.481780068482415*rel_above_4_3 + 0.5659511908617025*rel_above_4_5 + -20.214128470356037*rel_above_5_0 + -20.78954318069829*rel_above_5_1 + -9.74178792609454*rel_above_5_2 + -24.02840430896009*rel_above_5_3 + -24.25008014376434*rel_above_5_4 + -22.99821668333679*rel_below_0_1 + -22.37209122116742*rel_below_0_2 + -9.492402091845843*rel_below_0_3 + -9.742592749115948*rel_below_0_4 + -20.20004464921595*rel_below_0_5 + -25.474838288869005*rel_below_1_0 + -22.831783344180018*rel_below_1_2 + -9.95401291277259*rel_below_1_3 + -10.202291424846932*rel_below_1_4 + -20.658390058634946*rel_below_1_5 + -14.528855334336676*rel_below_2_0 + -12.513255161326102*rel_below_2_1 + 0.9901440815543969*rel_below_2_3 + 0.7402176019354489*rel_below_2_4 + -9.715207074506703*rel_below_2_5 + -28.7362059813076*rel_below_3_0 + -26.72038087738166*rel_below_3_1 + -26.095806044946706*rel_below_3_2 + -13.466142652694407*rel_below_3_4 + -23.92222988440473*rel_below_3_5 + -28.903963141048525*rel_below_4_0 + -26.886682581437746*rel_below_4_1 + -26.263389598326327*rel_below_4_2 + -13.383520085614965*rel_below_4_3 + -24.090398734653384*rel_below_4_5 + -14.737718560191542*rel_below_5_0 + -12.723296179414895*rel_below_5_1 + -12.09804719628534*rel_below_5_2 + 0.7809965193177799*rel_below_5_3 + 0.5316110777686339*rel_below_5_4 + 115.12925464970229*rel_left_0_1 + 15.942385033669446*rel_left_0_2 + 12.38703291905549*rel_left_0_3 + 115.12925464970229*rel_left_0_4 + 115.12925464970229*rel_left_0_5 + -115.12925464970229*rel_left_1_0 + -78.41259769849378*rel_left_1_2 + -81.63919824594021*rel_left_1_3 + -47.885803224843315*rel_left_1_4 + -47.50808714326986*rel_left_1_5 + -41.77974316745488*rel_left_2_0 + 115.12925464970229*rel_left_2_1 + -12.70745748972229*rel_left_2_3 + 115.12925464970229*rel_left_2_4 + 115.12925464970229*rel_left_2_5 + -43.83056634708827*rel_left_3_0 + 115.12925464970229*rel_left_3_1 + -11.53093821577017*rel_left_3_2 + 115.12925464970229*rel_left_3_4 + 115.12925464970229*rel_left_3_5 + -75.79388430044013*rel_left_4_0 + 115.12925464970229*rel_left_4_1 + -43.49303438881301*rel_left_4_2 + -46.718276974159046*rel_left_4_3 + -12.588923461711474*rel_left_4_5 + -69.69181061777235*rel_left_5_0 + 115.12925464970229*rel_left_5_1 + -37.39419944958233*rel_left_5_2 + -40.62050626262859*rel_left_5_3 + -6.8649955259951465*rel_left_5_4 + -115.12925464970229*rel_right_0_1 + -42.12771610121899*rel_right_0_2 + -43.81769558853708*rel_right_0_3 + -75.5767441320814*rel_right_0_4 + -69.6518401943842*rel_right_0_5 + 115.12925464970229*rel_right_1_0 + 115.12925464970229*rel_right_1_2 + 115.12925464970229*rel_right_1_3 + 115.12925464970229*rel_right_1_4 + 115.12925464970229*rel_right_1_5 + 15.24923773390019*rel_right_2_0 + -77.8605118248794*rel_right_2_1 + -11.52253155688674*rel_right_2_3 + -43.28117371046565*rel_right_2_4 + -37.35787203552599*rel_right_2_5 + 12.158190273737985*rel_right_3_0 + -80.77928923760595*rel_right_3_1 + -12.754138068613969*rel_right_3_2 + -46.19844053156442*rel_right_3_4 + -40.274253829483726*rel_right_3_5 + 115.12925464970229*rel_right_4_0 + -47.31501386763897*rel_right_4_1 + 115.12925464970229*rel_right_4_2 + 115.12925464970229*rel_right_4_3 + -6.813416983219978*rel_right_4_5 + 115.12925464970229*rel_right_5_0 + -47.00996388071*rel_right_5_1 + 115.12925464970229*rel_right_5_2 + 115.12925464970229*rel_right_5_3 + -12.43134975702494*rel_right_5_4 + -2597.849231608316\nSUBJECT TO\n_C1: attr_shape_0_0 + attr_shape_0_1 + attr_shape_0_2 = 1\n\n_C2: attr_shape_1_0 + attr_shape_1_1 + attr_shape_1_2 = 1\n\n_C3: attr_shape_2_0 + attr_shape_2_1 + attr_shape_2_2 = 1\n\n_C4: attr_shape_3_0 + attr_shape_3_1 + attr_shape_3_2 = 1\n\n_C5: attr_shape_4_0 + attr_shape_4_1 + attr_shape_4_2 = 1\n\n_C6: attr_shape_5_0 + attr_shape_5_1 + attr_shape_5_2 = 1\n\n_C7: attr_size_0_0 + attr_size_0_1 = 1\n\n_C8: attr_size_1_0 + attr_size_1_1 = 1\n\n_C9: attr_size_2_0 + attr_size_2_1 = 1\n\n_C10: attr_size_3_0 + attr_size_3_1 = 1\n\n_C11: attr_size_4_0 + attr_size_4_1 = 1\n\n_C12: attr_size_5_0 + attr_size_5_1 = 1\n\n_C13: attr_material_0_0 + attr_material_0_1 = 1\n\n_C14: attr_material_1_0 + attr_material_1_1 = 1\n\n_C15: attr_material_2_0 + attr_material_2_1 = 1\n\n_C16: attr_material_3_0 + attr_material_3_1 = 1\n\n_C17: attr_material_4_0 + attr_material_4_1 = 1\n\n_C18: attr_material_5_0 + attr_material_5_1 = 1\n\n_C19: attr_color_0_0 + attr_color_0_1 + attr_color_0_2 + attr_color_0_3\n + attr_color_0_4 + attr_color_0_5 + attr_color_0_6 + attr_color_0_7 = 1\n\n_C20: attr_color_1_0 + attr_color_1_1 + attr_color_1_2 + attr_color_1_3\n + attr_color_1_4 + attr_color_1_5 + attr_color_1_6 + attr_color_1_7 = 1\n\n_C21: attr_color_2_0 + attr_color_2_1 + attr_color_2_2 + attr_color_2_3\n + attr_color_2_4 + attr_color_2_5 + attr_color_2_6 + attr_color_2_7 = 1\n\n_C22: attr_color_3_0 + attr_color_3_1 + attr_color_3_2 + attr_color_3_3\n + attr_color_3_4 + attr_color_3_5 + attr_color_3_6 + attr_color_3_7 = 1\n\n_C23: attr_color_4_0 + attr_color_4_1 + attr_color_4_2 + attr_color_4_3\n + attr_color_4_4 + attr_color_4_5 + attr_color_4_6 + attr_color_4_7 = 1\n\n_C24: attr_color_5_0 + attr_color_5_1 + attr_color_5_2 + attr_color_5_3\n + attr_color_5_4 + attr_color_5_5 + attr_color_5_6 + attr_color_5_7 = 1\n\n_C25: - 100 d_c1_0_1_0 + rel_above_0_1 + rel_below_0_1 >= -99\n\n_C26: - 100 d_c1_0_1_1 + rel_left_0_1 + rel_right_0_1 >= -99\n\n_C27: - d_c1_0_1_0 - d_c1_0_1_1 >= -1\n\n_C28: d_c1_0_1_0 + d_c1_0_1_1 >= 1\n\n_C29: - 100 d_c1_0_2_0 + rel_above_0_2 + rel_below_0_2 >= -99\n\n_C30: - 100 d_c1_0_2_1 + rel_left_0_2 + rel_right_0_2 >= -99\n\n_C31: - d_c1_0_2_0 - d_c1_0_2_1 >= -1\n\n_C32: d_c1_0_2_0 + d_c1_0_2_1 >= 1\n\n_C33: - 100 d_c1_0_3_0 + rel_above_0_3 + rel_below_0_3 >= -99\n\n_C34: - 100 d_c1_0_3_1 + rel_left_0_3 + rel_right_0_3 >= -99\n\n_C35: - d_c1_0_3_0 - d_c1_0_3_1 >= -1\n\n_C36: d_c1_0_3_0 + d_c1_0_3_1 >= 1\n\n_C37: - 100 d_c1_0_4_0 + rel_above_0_4 + rel_below_0_4 >= -99\n\n_C38: - 100 d_c1_0_4_1 + rel_left_0_4 + rel_right_0_4 >= -99\n\n_C39: - d_c1_0_4_0 - d_c1_0_4_1 >= -1\n\n_C40: d_c1_0_4_0 + d_c1_0_4_1 >= 1\n\n_C41: - 100 d_c1_0_5_0 + rel_above_0_5 + rel_below_0_5 >= -99\n\n_C42: - 100 d_c1_0_5_1 + rel_left_0_5 + rel_right_0_5 >= -99\n\n_C43: - d_c1_0_5_0 - d_c1_0_5_1 >= -1\n\n_C44: d_c1_0_5_0 + d_c1_0_5_1 >= 1\n\n_C45: - 100 d_c1_1_0_0 + rel_above_1_0 + rel_below_1_0 >= -99\n\n_C46: - 100 d_c1_1_0_1 + rel_left_1_0 + rel_right_1_0 >= -99\n\n_C47: - d_c1_1_0_0 - d_c1_1_0_1 >= -1\n\n_C48: d_c1_1_0_0 + d_c1_1_0_1 >= 1\n\n_C49: - 100 d_c1_1_2_0 + rel_above_1_2 + rel_below_1_2 >= -99\n\n_C50: - 100 d_c1_1_2_1 + rel_left_1_2 + rel_right_1_2 >= -99\n\n_C51: - d_c1_1_2_0 - d_c1_1_2_1 >= -1\n\n_C52: d_c1_1_2_0 + d_c1_1_2_1 >= 1\n\n_C53: - 100 d_c1_1_3_0 + rel_above_1_3 + rel_below_1_3 >= -99\n\n_C54: - 100 d_c1_1_3_1 + rel_left_1_3 + rel_right_1_3 >= -99\n\n_C55: - d_c1_1_3_0 - d_c1_1_3_1 >= -1\n\n_C56: d_c1_1_3_0 + d_c1_1_3_1 >= 1\n\n_C57: - 100 d_c1_1_4_0 + rel_above_1_4 + rel_below_1_4 >= -99\n\n_C58: - 100 d_c1_1_4_1 + rel_left_1_4 + rel_right_1_4 >= -99\n\n_C59: - d_c1_1_4_0 - d_c1_1_4_1 >= -1\n\n_C60: d_c1_1_4_0 + d_c1_1_4_1 >= 1\n\n_C61: - 100 d_c1_1_5_0 + rel_above_1_5 + rel_below_1_5 >= -99\n\n_C62: - 100 d_c1_1_5_1 + rel_left_1_5 + rel_right_1_5 >= -99\n\n_C63: - d_c1_1_5_0 - d_c1_1_5_1 >= -1\n\n_C64: d_c1_1_5_0 + d_c1_1_5_1 >= 1\n\n_C65: - 100 d_c1_2_0_0 + rel_above_2_0 + rel_below_2_0 >= -99\n\n_C66: - 100 d_c1_2_0_1 + rel_left_2_0 + rel_right_2_0 >= -99\n\n_C67: - d_c1_2_0_0 - d_c1_2_0_1 >= -1\n\n_C68: d_c1_2_0_0 + d_c1_2_0_1 >= 1\n\n_C69: - 100 d_c1_2_1_0 + rel_above_2_1 + rel_below_2_1 >= -99\n\n_C70: - 100 d_c1_2_1_1 + rel_left_2_1 + rel_right_2_1 >= -99\n\n_C71: - d_c1_2_1_0 - d_c1_2_1_1 >= -1\n\n_C72: d_c1_2_1_0 + d_c1_2_1_1 >= 1\n\n_C73: - 100 d_c1_2_3_0 + rel_above_2_3 + rel_below_2_3 >= -99\n\n_C74: - 100 d_c1_2_3_1 + rel_left_2_3 + rel_right_2_3 >= -99\n\n_C75: - d_c1_2_3_0 - d_c1_2_3_1 >= -1\n\n_C76: d_c1_2_3_0 + d_c1_2_3_1 >= 1\n\n_C77: - 100 d_c1_2_4_0 + rel_above_2_4 + rel_below_2_4 >= -99\n\n_C78: - 100 d_c1_2_4_1 + rel_left_2_4 + rel_right_2_4 >= -99\n\n_C79: - d_c1_2_4_0 - d_c1_2_4_1 >= -1\n\n_C80: d_c1_2_4_0 + d_c1_2_4_1 >= 1\n\n_C81: - 100 d_c1_2_5_0 + rel_above_2_5 + rel_below_2_5 >= -99\n\n_C82: - 100 d_c1_2_5_1 + rel_left_2_5 + rel_right_2_5 >= -99\n\n_C83: - d_c1_2_5_0 - d_c1_2_5_1 >= -1\n\n_C84: d_c1_2_5_0 + d_c1_2_5_1 >= 1\n\n_C85: - 100 d_c1_3_0_0 + rel_above_3_0 + rel_below_3_0 >= -99\n\n_C86: - 100 d_c1_3_0_1 + rel_left_3_0 + rel_right_3_0 >= -99\n\n_C87: - d_c1_3_0_0 - d_c1_3_0_1 >= -1\n\n_C88: d_c1_3_0_0 + d_c1_3_0_1 >= 1\n\n_C89: - 100 d_c1_3_1_0 + rel_above_3_1 + rel_below_3_1 >= -99\n\n_C90: - 100 d_c1_3_1_1 + rel_left_3_1 + rel_right_3_1 >= -99\n\n_C91: - d_c1_3_1_0 - d_c1_3_1_1 >= -1\n\n_C92: d_c1_3_1_0 + d_c1_3_1_1 >= 1\n\n_C93: - 100 d_c1_3_2_0 + rel_above_3_2 + rel_below_3_2 >= -99\n\n_C94: - 100 d_c1_3_2_1 + rel_left_3_2 + rel_right_3_2 >= -99\n\n_C95: - d_c1_3_2_0 - d_c1_3_2_1 >= -1\n\n_C96: d_c1_3_2_0 + d_c1_3_2_1 >= 1\n\n_C97: - 100 d_c1_3_4_0 + rel_above_3_4 + rel_below_3_4 >= -99\n\n_C98: - 100 d_c1_3_4_1 + rel_left_3_4 + rel_right_3_4 >= -99\n\n_C99: - d_c1_3_4_0 - d_c1_3_4_1 >= -1\n\n_C100: d_c1_3_4_0 + d_c1_3_4_1 >= 1\n\n_C101: - 100 d_c1_3_5_0 + rel_above_3_5 + rel_below_3_5 >= -99\n\n_C102: - 100 d_c1_3_5_1 + rel_left_3_5 + rel_right_3_5 >= -99\n\n_C103: - d_c1_3_5_0 - d_c1_3_5_1 >= -1\n\n_C104: d_c1_3_5_0 + d_c1_3_5_1 >= 1\n\n_C105: - 100 d_c1_4_0_0 + rel_above_4_0 + rel_below_4_0 >= -99\n\n_C106: - 100 d_c1_4_0_1 + rel_left_4_0 + rel_right_4_0 >= -99\n\n_C107: - d_c1_4_0_0 - d_c1_4_0_1 >= -1\n\n_C108: d_c1_4_0_0 + d_c1_4_0_1 >= 1\n\n_C109: - 100 d_c1_4_1_0 + rel_above_4_1 + rel_below_4_1 >= -99\n\n_C110: - 100 d_c1_4_1_1 + rel_left_4_1 + rel_right_4_1 >= -99\n\n_C111: - d_c1_4_1_0 - d_c1_4_1_1 >= -1\n\n_C112: d_c1_4_1_0 + d_c1_4_1_1 >= 1\n\n_C113: - 100 d_c1_4_2_0 + rel_above_4_2 + rel_below_4_2 >= -99\n\n_C114: - 100 d_c1_4_2_1 + rel_left_4_2 + rel_right_4_2 >= -99\n\n_C115: - d_c1_4_2_0 - d_c1_4_2_1 >= -1\n\n_C116: d_c1_4_2_0 + d_c1_4_2_1 >= 1\n\n_C117: - 100 d_c1_4_3_0 + rel_above_4_3 + rel_below_4_3 >= -99\n\n_C118: - 100 d_c1_4_3_1 + rel_left_4_3 + rel_right_4_3 >= -99\n\n_C119: - d_c1_4_3_0 - d_c1_4_3_1 >= -1\n\n_C120: d_c1_4_3_0 + d_c1_4_3_1 >= 1\n\n_C121: - 100 d_c1_4_5_0 + rel_above_4_5 + rel_below_4_5 >= -99\n\n_C122: - 100 d_c1_4_5_1 + rel_left_4_5 + rel_right_4_5 >= -99\n\n_C123: - d_c1_4_5_0 - d_c1_4_5_1 >= -1\n\n_C124: d_c1_4_5_0 + d_c1_4_5_1 >= 1\n\n_C125: - 100 d_c1_5_0_0 + rel_above_5_0 + rel_below_5_0 >= -99\n\n_C126: - 100 d_c1_5_0_1 + rel_left_5_0 + rel_right_5_0 >= -99\n\n_C127: - d_c1_5_0_0 - d_c1_5_0_1 >= -1\n\n_C128: d_c1_5_0_0 + d_c1_5_0_1 >= 1\n\n_C129: - 100 d_c1_5_1_0 + rel_above_5_1 + rel_below_5_1 >= -99\n\n_C130: - 100 d_c1_5_1_1 + rel_left_5_1 + rel_right_5_1 >= -99\n\n_C131: - d_c1_5_1_0 - d_c1_5_1_1 >= -1\n\n_C132: d_c1_5_1_0 + d_c1_5_1_1 >= 1\n\n_C133: - 100 d_c1_5_2_0 + rel_above_5_2 + rel_below_5_2 >= -99\n\n_C134: - 100 d_c1_5_2_1 + rel_left_5_2 + rel_right_5_2 >= -99\n\n_C135: - d_c1_5_2_0 - d_c1_5_2_1 >= -1\n\n_C136: d_c1_5_2_0 + d_c1_5_2_1 >= 1\n\n_C137: - 100 d_c1_5_3_0 + rel_above_5_3 + rel_below_5_3 >= -99\n\n_C138: - 100 d_c1_5_3_1 + rel_left_5_3 + rel_right_5_3 >= -99\n\n_C139: - d_c1_5_3_0 - d_c1_5_3_1 >= -1\n\n_C140: d_c1_5_3_0 + d_c1_5_3_1 >= 1\n\n_C141: - 100 d_c1_5_4_0 + rel_above_5_4 + rel_below_5_4 >= -99\n\n_C142: - 100 d_c1_5_4_1 + rel_left_5_4 + rel_right_5_4 >= -99\n\n_C143: - d_c1_5_4_0 - d_c1_5_4_1 >= -1\n\n_C144: d_c1_5_4_0 + d_c1_5_4_1 >= 1\n\nVARIABLES\n0 <= attr_color_0_0 <= 1 Integer\n0 <= attr_color_0_1 <= 1 Integer\n0 <= attr_color_0_2 <= 1 Integer\n0 <= attr_color_0_3 <= 1 Integer\n0 <= attr_color_0_4 <= 1 Integer\n0 <= attr_color_0_5 <= 1 Integer\n0 <= attr_color_0_6 <= 1 Integer\n0 <= attr_color_0_7 <= 1 Integer\n0 <= attr_color_1_0 <= 1 Integer\n0 <= attr_color_1_1 <= 1 Integer\n0 <= attr_color_1_2 <= 1 Integer\n0 <= attr_color_1_3 <= 1 Integer\n0 <= attr_color_1_4 <= 1 Integer\n0 <= attr_color_1_5 <= 1 Integer\n0 <= attr_color_1_6 <= 1 Integer\n0 <= attr_color_1_7 <= 1 Integer\n0 <= attr_color_2_0 <= 1 Integer\n0 <= attr_color_2_1 <= 1 Integer\n0 <= attr_color_2_2 <= 1 Integer\n0 <= attr_color_2_3 <= 1 Integer\n0 <= attr_color_2_4 <= 1 Integer\n0 <= attr_color_2_5 <= 1 Integer\n0 <= attr_color_2_6 <= 1 Integer\n0 <= attr_color_2_7 <= 1 Integer\n0 <= attr_color_3_0 <= 1 Integer\n0 <= attr_color_3_1 <= 1 Integer\n0 <= attr_color_3_2 <= 1 Integer\n0 <= attr_color_3_3 <= 1 Integer\n0 <= attr_color_3_4 <= 1 Integer\n0 <= attr_color_3_5 <= 1 Integer\n0 <= attr_color_3_6 <= 1 Integer\n0 <= attr_color_3_7 <= 1 Integer\n0 <= attr_color_4_0 <= 1 Integer\n0 <= attr_color_4_1 <= 1 Integer\n0 <= attr_color_4_2 <= 1 Integer\n0 <= attr_color_4_3 <= 1 Integer\n0 <= attr_color_4_4 <= 1 Integer\n0 <= attr_color_4_5 <= 1 Integer\n0 <= attr_color_4_6 <= 1 Integer\n0 <= attr_color_4_7 <= 1 Integer\n0 <= attr_color_5_0 <= 1 Integer\n0 <= attr_color_5_1 <= 1 Integer\n0 <= attr_color_5_2 <= 1 Integer\n0 <= attr_color_5_3 <= 1 Integer\n0 <= attr_color_5_4 <= 1 Integer\n0 <= attr_color_5_5 <= 1 Integer\n0 <= attr_color_5_6 <= 1 Integer\n0 <= attr_color_5_7 <= 1 Integer\n0 <= attr_material_0_0 <= 1 Integer\n0 <= attr_material_0_1 <= 1 Integer\n0 <= attr_material_1_0 <= 1 Integer\n0 <= attr_material_1_1 <= 1 Integer\n0 <= attr_material_2_0 <= 1 Integer\n0 <= attr_material_2_1 <= 1 Integer\n0 <= attr_material_3_0 <= 1 Integer\n0 <= attr_material_3_1 <= 1 Integer\n0 <= attr_material_4_0 <= 1 Integer\n0 <= attr_material_4_1 <= 1 Integer\n0 <= attr_material_5_0 <= 1 Integer\n0 <= attr_material_5_1 <= 1 Integer\n0 <= attr_shape_0_0 <= 1 Integer\n0 <= attr_shape_0_1 <= 1 Integer\n0 <= attr_shape_0_2 <= 1 Integer\n0 <= attr_shape_1_0 <= 1 Integer\n0 <= attr_shape_1_1 <= 1 Integer\n0 <= attr_shape_1_2 <= 1 Integer\n0 <= attr_shape_2_0 <= 1 Integer\n0 <= attr_shape_2_1 <= 1 Integer\n0 <= attr_shape_2_2 <= 1 Integer\n0 <= attr_shape_3_0 <= 1 Integer\n0 <= attr_shape_3_1 <= 1 Integer\n0 <= attr_shape_3_2 <= 1 Integer\n0 <= attr_shape_4_0 <= 1 Integer\n0 <= attr_shape_4_1 <= 1 Integer\n0 <= attr_shape_4_2 <= 1 Integer\n0 <= attr_shape_5_0 <= 1 Integer\n0 <= attr_shape_5_1 <= 1 Integer\n0 <= attr_shape_5_2 <= 1 Integer\n0 <= attr_size_0_0 <= 1 Integer\n0 <= attr_size_0_1 <= 1 Integer\n0 <= attr_size_1_0 <= 1 Integer\n0 <= attr_size_1_1 <= 1 Integer\n0 <= attr_size_2_0 <= 1 Integer\n0 <= attr_size_2_1 <= 1 Integer\n0 <= attr_size_3_0 <= 1 Integer\n0 <= attr_size_3_1 <= 1 Integer\n0 <= attr_size_4_0 <= 1 Integer\n0 <= attr_size_4_1 <= 1 Integer\n0 <= attr_size_5_0 <= 1 Integer\n0 <= attr_size_5_1 <= 1 Integer\n0 <= d_c1_0_1_0 <= 1 Integer\n0 <= d_c1_0_1_1 <= 1 Integer\n0 <= d_c1_0_2_0 <= 1 Integer\n0 <= d_c1_0_2_1 <= 1 Integer\n0 <= d_c1_0_3_0 <= 1 Integer\n0 <= d_c1_0_3_1 <= 1 Integer\n0 <= d_c1_0_4_0 <= 1 Integer\n0 <= d_c1_0_4_1 <= 1 Integer\n0 <= d_c1_0_5_0 <= 1 Integer\n0 <= d_c1_0_5_1 <= 1 Integer\n0 <= d_c1_1_0_0 <= 1 Integer\n0 <= d_c1_1_0_1 <= 1 Integer\n0 <= d_c1_1_2_0 <= 1 Integer\n0 <= d_c1_1_2_1 <= 1 Integer\n0 <= d_c1_1_3_0 <= 1 Integer\n0 <= d_c1_1_3_1 <= 1 Integer\n0 <= d_c1_1_4_0 <= 1 Integer\n0 <= d_c1_1_4_1 <= 1 Integer\n0 <= d_c1_1_5_0 <= 1 Integer\n0 <= d_c1_1_5_1 <= 1 Integer\n0 <= d_c1_2_0_0 <= 1 Integer\n0 <= d_c1_2_0_1 <= 1 Integer\n0 <= d_c1_2_1_0 <= 1 Integer\n0 <= d_c1_2_1_1 <= 1 Integer\n0 <= d_c1_2_3_0 <= 1 Integer\n0 <= d_c1_2_3_1 <= 1 Integer\n0 <= d_c1_2_4_0 <= 1 Integer\n0 <= d_c1_2_4_1 <= 1 Integer\n0 <= d_c1_2_5_0 <= 1 Integer\n0 <= d_c1_2_5_1 <= 1 Integer\n0 <= d_c1_3_0_0 <= 1 Integer\n0 <= d_c1_3_0_1 <= 1 Integer\n0 <= d_c1_3_1_0 <= 1 Integer\n0 <= d_c1_3_1_1 <= 1 Integer\n0 <= d_c1_3_2_0 <= 1 Integer\n0 <= d_c1_3_2_1 <= 1 Integer\n0 <= d_c1_3_4_0 <= 1 Integer\n0 <= d_c1_3_4_1 <= 1 Integer\n0 <= d_c1_3_5_0 <= 1 Integer\n0 <= d_c1_3_5_1 <= 1 Integer\n0 <= d_c1_4_0_0 <= 1 Integer\n0 <= d_c1_4_0_1 <= 1 Integer\n0 <= d_c1_4_1_0 <= 1 Integer\n0 <= d_c1_4_1_1 <= 1 Integer\n0 <= d_c1_4_2_0 <= 1 Integer\n0 <= d_c1_4_2_1 <= 1 Integer\n0 <= d_c1_4_3_0 <= 1 Integer\n0 <= d_c1_4_3_1 <= 1 Integer\n0 <= d_c1_4_5_0 <= 1 Integer\n0 <= d_c1_4_5_1 <= 1 Integer\n0 <= d_c1_5_0_0 <= 1 Integer\n0 <= d_c1_5_0_1 <= 1 Integer\n0 <= d_c1_5_1_0 <= 1 Integer\n0 <= d_c1_5_1_1 <= 1 Integer\n0 <= d_c1_5_2_0 <= 1 Integer\n0 <= d_c1_5_2_1 <= 1 Integer\n0 <= d_c1_5_3_0 <= 1 Integer\n0 <= d_c1_5_3_1 <= 1 Integer\n0 <= d_c1_5_4_0 <= 1 Integer\n0 <= d_c1_5_4_1 <= 1 Integer\n0 <= rel_above_0_1 <= 1 Integer\n0 <= rel_above_0_2 <= 1 Integer\n0 <= rel_above_0_3 <= 1 Integer\n0 <= rel_above_0_4 <= 1 Integer\n0 <= rel_above_0_5 <= 1 Integer\n0 <= rel_above_1_0 <= 1 Integer\n0 <= rel_above_1_2 <= 1 Integer\n0 <= rel_above_1_3 <= 1 Integer\n0 <= rel_above_1_4 <= 1 Integer\n0 <= rel_above_1_5 <= 1 Integer\n0 <= rel_above_2_0 <= 1 Integer\n0 <= rel_above_2_1 <= 1 Integer\n0 <= rel_above_2_3 <= 1 Integer\n0 <= rel_above_2_4 <= 1 Integer\n0 <= rel_above_2_5 <= 1 Integer\n0 <= rel_above_3_0 <= 1 Integer\n0 <= rel_above_3_1 <= 1 Integer\n0 <= rel_above_3_2 <= 1 Integer\n0 <= rel_above_3_4 <= 1 Integer\n0 <= rel_above_3_5 <= 1 Integer\n0 <= rel_above_4_0 <= 1 Integer\n0 <= rel_above_4_1 <= 1 Integer\n0 <= rel_above_4_2 <= 1 Integer\n0 <= rel_above_4_3 <= 1 Integer\n0 <= rel_above_4_5 <= 1 Integer\n0 <= rel_above_5_0 <= 1 Integer\n0 <= rel_above_5_1 <= 1 Integer\n0 <= rel_above_5_2 <= 1 Integer\n0 <= rel_above_5_3 <= 1 Integer\n0 <= rel_above_5_4 <= 1 Integer\n0 <= rel_below_0_1 <= 1 Integer\n0 <= rel_below_0_2 <= 1 Integer\n0 <= rel_below_0_3 <= 1 Integer\n0 <= rel_below_0_4 <= 1 Integer\n0 <= rel_below_0_5 <= 1 Integer\n0 <= rel_below_1_0 <= 1 Integer\n0 <= rel_below_1_2 <= 1 Integer\n0 <= rel_below_1_3 <= 1 Integer\n0 <= rel_below_1_4 <= 1 Integer\n0 <= rel_below_1_5 <= 1 Integer\n0 <= rel_below_2_0 <= 1 Integer\n0 <= rel_below_2_1 <= 1 Integer\n0 <= rel_below_2_3 <= 1 Integer\n0 <= rel_below_2_4 <= 1 Integer\n0 <= rel_below_2_5 <= 1 Integer\n0 <= rel_below_3_0 <= 1 Integer\n0 <= rel_below_3_1 <= 1 Integer\n0 <= rel_below_3_2 <= 1 Integer\n0 <= rel_below_3_4 <= 1 Integer\n0 <= rel_below_3_5 <= 1 Integer\n0 <= rel_below_4_0 <= 1 Integer\n0 <= rel_below_4_1 <= 1 Integer\n0 <= rel_below_4_2 <= 1 Integer\n0 <= rel_below_4_3 <= 1 Integer\n0 <= rel_below_4_5 <= 1 Integer\n0 <= rel_below_5_0 <= 1 Integer\n0 <= rel_below_5_1 <= 1 Integer\n0 <= rel_below_5_2 <= 1 Integer\n0 <= rel_below_5_3 <= 1 Integer\n0 <= rel_below_5_4 <= 1 Integer\n0 <= rel_left_0_1 <= 1 Integer\n0 <= rel_left_0_2 <= 1 Integer\n0 <= rel_left_0_3 <= 1 Integer\n0 <= rel_left_0_4 <= 1 Integer\n0 <= rel_left_0_5 <= 1 Integer\n0 <= rel_left_1_0 <= 1 Integer\n0 <= rel_left_1_2 <= 1 Integer\n0 <= rel_left_1_3 <= 1 Integer\n0 <= rel_left_1_4 <= 1 Integer\n0 <= rel_left_1_5 <= 1 Integer\n0 <= rel_left_2_0 <= 1 Integer\n0 <= rel_left_2_1 <= 1 Integer\n0 <= rel_left_2_3 <= 1 Integer\n0 <= rel_left_2_4 <= 1 Integer\n0 <= rel_left_2_5 <= 1 Integer\n0 <= rel_left_3_0 <= 1 Integer\n0 <= rel_left_3_1 <= 1 Integer\n0 <= rel_left_3_2 <= 1 Integer\n0 <= rel_left_3_4 <= 1 Integer\n0 <= rel_left_3_5 <= 1 Integer\n0 <= rel_left_4_0 <= 1 Integer\n0 <= rel_left_4_1 <= 1 Integer\n0 <= rel_left_4_2 <= 1 Integer\n0 <= rel_left_4_3 <= 1 Integer\n0 <= rel_left_4_5 <= 1 Integer\n0 <= rel_left_5_0 <= 1 Integer\n0 <= rel_left_5_1 <= 1 Integer\n0 <= rel_left_5_2 <= 1 Integer\n0 <= rel_left_5_3 <= 1 Integer\n0 <= rel_left_5_4 <= 1 Integer\n0 <= rel_right_0_1 <= 1 Integer\n0 <= rel_right_0_2 <= 1 Integer\n0 <= rel_right_0_3 <= 1 Integer\n0 <= rel_right_0_4 <= 1 Integer\n0 <= rel_right_0_5 <= 1 Integer\n0 <= rel_right_1_0 <= 1 Integer\n0 <= rel_right_1_2 <= 1 Integer\n0 <= rel_right_1_3 <= 1 Integer\n0 <= rel_right_1_4 <= 1 Integer\n0 <= rel_right_1_5 <= 1 Integer\n0 <= rel_right_2_0 <= 1 Integer\n0 <= rel_right_2_1 <= 1 Integer\n0 <= rel_right_2_3 <= 1 Integer\n0 <= rel_right_2_4 <= 1 Integer\n0 <= rel_right_2_5 <= 1 Integer\n0 <= rel_right_3_0 <= 1 Integer\n0 <= rel_right_3_1 <= 1 Integer\n0 <= rel_right_3_2 <= 1 Integer\n0 <= rel_right_3_4 <= 1 Integer\n0 <= rel_right_3_5 <= 1 Integer\n0 <= rel_right_4_0 <= 1 Integer\n0 <= rel_right_4_1 <= 1 Integer\n0 <= rel_right_4_2 <= 1 Integer\n0 <= rel_right_4_3 <= 1 Integer\n0 <= rel_right_4_5 <= 1 Integer\n0 <= rel_right_5_0 <= 1 Integer\n0 <= rel_right_5_1 <= 1 Integer\n0 <= rel_right_5_2 <= 1 Integer\n0 <= rel_right_5_3 <= 1 Integer\n0 <= rel_right_5_4 <= 1 Integer"
     },
     "execution_count": 170,
     "metadata": {},
     "output_type": "execute_result"
    }
   ],
   "source": [
    "prob"
   ],
   "metadata": {
    "collapsed": false,
    "pycharm": {
     "name": "#%%\n"
    }
   }
  },
  {
   "cell_type": "code",
   "execution_count": null,
   "outputs": [],
   "source": [],
   "metadata": {
    "collapsed": false,
    "pycharm": {
     "name": "#%%\n"
    }
   }
  }
 ],
 "metadata": {
  "kernelspec": {
   "name": "python3",
   "language": "python",
   "display_name": "Python 3"
  },
  "language_info": {
   "codemirror_mode": {
    "name": "ipython",
    "version": 2
   },
   "file_extension": ".py",
   "mimetype": "text/x-python",
   "name": "python",
   "nbconvert_exporter": "python",
   "pygments_lexer": "ipython2",
   "version": "2.7.6"
  }
 },
 "nbformat": 4,
 "nbformat_minor": 0
}