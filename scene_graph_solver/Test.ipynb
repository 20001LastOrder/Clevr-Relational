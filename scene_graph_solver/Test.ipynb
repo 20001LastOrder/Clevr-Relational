{
 "cells": [
  {
   "cell_type": "code",
   "execution_count": 2,
   "outputs": [],
   "source": [
    "%load_ext autoreload\n",
    "%autoreload 2"
   ],
   "metadata": {
    "collapsed": false,
    "pycharm": {
     "name": "#%%\n"
    }
   }
  },
  {
   "cell_type": "code",
   "execution_count": 23,
   "outputs": [],
   "source": [
    "# from main import get_normalized_probability, cal_most_prob_scene, reverse_relation\n",
    "import json\n",
    "import pulp\n",
    "import numpy as np\n",
    "from LPConstraints import get_clevr_block_world_constraint\n",
    "from utils import process_coord_scene"
   ],
   "metadata": {
    "collapsed": false,
    "pycharm": {
     "name": "#%%\n"
    }
   }
  },
  {
   "cell_type": "code",
   "execution_count": 143,
   "outputs": [],
   "source": [
    "with open('../results/clevr_block_val/constraint_1234/rel_scenes.json', 'r') as f:\n",
    "    scenes = json.load(f)['scenes']\n",
    "\n",
    "with open('../data/clevr_block/clevr_attr_map.json', 'r') as f:\n",
    "    attr_map = json.load(f)"
   ],
   "metadata": {
    "collapsed": false,
    "pycharm": {
     "name": "#%%\n"
    }
   }
  },
  {
   "cell_type": "code",
   "execution_count": 110,
   "outputs": [],
   "source": [
    "scenes = [process_coord_scene(scene, 'blockworld') for scene in scenes]"
   ],
   "metadata": {
    "collapsed": false,
    "pycharm": {
     "name": "#%%\n"
    }
   }
  },
  {
   "cell_type": "code",
   "execution_count": 19,
   "outputs": [],
   "source": [
    "def get_attribute_variables(objects, attributes_map):\n",
    "    variables = []\n",
    "    probabilities = {}\n",
    "    num_objects = len(objects)\n",
    "\n",
    "    for name, values in attributes_map.items():\n",
    "        for v, _ in enumerate(values):\n",
    "            for i in range(num_objects):\n",
    "                variable_name = f'{name}_{i}_{v}'\n",
    "                variables.append(variable_name)\n",
    "                probabilities[variable_name] = objects[i][name][v]\n",
    "    return variables, probabilities\n",
    "\n",
    "def get_relationship_variables(scene, relationships):\n",
    "    variables = []\n",
    "    probabilities = {}\n",
    "\n",
    "    for rel in relationships:\n",
    "        for target, sources in enumerate(scene['relationships'][rel]):\n",
    "            for source, probability in sources:\n",
    "                # TODO: change the prediction for below and above (currently flipped)\n",
    "                variable_name = f'{rel}_{source}_{target}'\n",
    "                variables.append(variable_name)\n",
    "                probabilities[variable_name] = probability\n",
    "    return variables, probabilities\n",
    "\n",
    "def get_LP_problem(scene, attr_map, eps=1e-50):\n",
    "    attr_variables, attr_probabilities = get_attribute_variables(scene['objects'], attr_map['attributes'])\n",
    "    rel_variables, rel_probabilities = get_relationship_variables(scene, attr_map['relations'])\n",
    "\n",
    "\n",
    "    attr_variables = pulp.LpVariable.dict('attr', attr_variables, 0, 1, pulp.LpBinary)\n",
    "    rel_variables = pulp.LpVariable.dict('rel', rel_variables, 0, 1, pulp.LpBinary)\n",
    "\n",
    "    attr_objective = [attr_variables[i] * np.log(max(attr_probabilities[i], eps)) for i in attr_variables.keys()]\n",
    "    rel_objective = [rel_variables[i] * np.log(max(rel_probabilities[i], eps)) + (1 - rel_variables[i]) * np.log((max(1 - rel_probabilities[i], eps))) for i in rel_variables.keys()]\n",
    "\n",
    "    prob = pulp.LpProblem(\"sceneGraphProblem\", pulp.LpMaximize)\n",
    "    prob += pulp.lpSum(attr_objective + rel_objective)\n",
    "    return prob, attr_variables, rel_variables\n",
    "\n",
    "def get_predicted_scene_for_block_world(variables, scene):\n",
    "    predicted_scene = {\n",
    "        'objects': [{'mask': o['mask']} for o in scene['objects']],\n",
    "        'relationships': { rel: [[] for _ in range(len(scene['objects']))] for rel in attr_map['relations']}\n",
    "    }\n",
    "\n",
    "    for v in variables:\n",
    "        if v.varValue:\n",
    "            tokens = v.name.split('_')\n",
    "            if tokens[0] == 'attr':\n",
    "                predicted_scene['objects'][int(tokens[2])][tokens[1]] = attr_map['attributes'][tokens[1]][int(tokens[3])]\n",
    "            elif tokens[0] == 'rel':\n",
    "                predicted_scene['relationships'][tokens[1]][int(tokens[3])].append(int(tokens[2]))\n",
    "    return predicted_scene"
   ],
   "metadata": {
    "collapsed": false,
    "pycharm": {
     "name": "#%%\n"
    }
   }
  },
  {
   "cell_type": "code",
   "execution_count": 113,
   "outputs": [
    {
     "name": "stderr",
     "output_type": "stream",
     "text": [
      "100%|██████████| 6000/6000 [10:03<00:00,  9.94it/s]\n"
     ]
    }
   ],
   "source": [
    "from tqdm import tqdm\n",
    "M = 100\n",
    "predicted_scenes = []\n",
    "solver = pulp.GUROBI_CMD(path = 'C:/gurobi951/win64/bin/gurobi_cl.exe')\n",
    "\n",
    "for scene in tqdm(scenes):\n",
    "    prob, attr_variables, rel_variables = get_LP_problem(scene, attr_map)\n",
    "    get_clevr_block_world_constraint(prob, scene, rel_variables, attr_variables, attr_map, include_small_obj=True, include_large_cube=True, include_bottom_stack=True, include_yellow=True)\n",
    "    prob.solve(solver)\n",
    "    predicted_scenes.append(get_predicted_scene_for_block_world(prob.variables(), scene))"
   ],
   "metadata": {
    "collapsed": false,
    "pycharm": {
     "name": "#%%\n"
    }
   }
  },
  {
   "cell_type": "code",
   "execution_count": 114,
   "outputs": [],
   "source": [
    "with open('../results/clevr_block_val/constraint_1234/scene_prob_fix.json', 'w') as f:\n",
    "    json.dump({'scenes': predicted_scenes}, f)\n",
    "\n"
   ],
   "metadata": {
    "collapsed": false,
    "pycharm": {
     "name": "#%%\n"
    }
   }
  },
  {
   "cell_type": "markdown",
   "source": [
    "Experiment with Gurobi Constraint formulations"
   ],
   "metadata": {
    "collapsed": false
   }
  },
  {
   "cell_type": "markdown",
   "source": [
    "## Blocksworld"
   ],
   "metadata": {
    "collapsed": false
   }
  },
  {
   "cell_type": "code",
   "execution_count": 20,
   "outputs": [],
   "source": [
    "from LPProblem import BlocksworldLPProblem\n",
    "from tqdm import tqdm"
   ],
   "metadata": {
    "collapsed": false,
    "pycharm": {
     "name": "#%%\n"
    }
   }
  },
  {
   "cell_type": "code",
   "execution_count": 123,
   "outputs": [],
   "source": [
    "with open('../results/clevr_block_val/constraint_1234/constraint_1234/data_44/scenes_coord_prob.json', 'r') as f:\n",
    "    scenes = json.load(f)['scenes']\n",
    "\n",
    "with open('../data/clevr_block/clevr_attr_map.json', 'r') as f:\n",
    "    attr_map = json.load(f)"
   ],
   "metadata": {
    "collapsed": false,
    "pycharm": {
     "name": "#%%\n"
    }
   }
  },
  {
   "cell_type": "code",
   "execution_count": 124,
   "outputs": [],
   "source": [
    "scenes = [process_coord_scene(scene, 'blockworld') for scene in scenes]"
   ],
   "metadata": {
    "collapsed": false,
    "pycharm": {
     "name": "#%%\n"
    }
   }
  },
  {
   "cell_type": "code",
   "execution_count": 125,
   "outputs": [],
   "source": [
    "problem_solver = BlocksworldLPProblem(attr_map, include_small_obj=True, include_large_cube=True, include_bottom_stack=True, include_yellow=True)"
   ],
   "metadata": {
    "collapsed": false,
    "pycharm": {
     "name": "#%%\n"
    }
   }
  },
  {
   "cell_type": "code",
   "source": [
    "predicted_scenes = []\n",
    "for scene in tqdm(scenes):\n",
    "    predicted_scenes.append(problem_solver.solve_for_scene(scene))"
   ],
   "metadata": {
    "collapsed": false,
    "pycharm": {
     "name": "#%%\n"
    }
   },
   "execution_count": 126,
   "outputs": [
    {
     "name": "stderr",
     "output_type": "stream",
     "text": [
      "100%|██████████| 2000/2000 [01:09<00:00, 28.74it/s]\n"
     ]
    }
   ]
  },
  {
   "cell_type": "code",
   "execution_count": 127,
   "outputs": [],
   "source": [
    "with open('../results/clevr_block_val/constraint_1234/constraint_1234/data_44/rel_scenes_fix_coord.json', 'w') as f:\n",
    "    json.dump({'scenes': predicted_scenes}, f)"
   ],
   "metadata": {
    "collapsed": false,
    "pycharm": {
     "name": "#%%\n"
    }
   }
  },
  {
   "cell_type": "code",
   "execution_count": null,
   "outputs": [],
   "source": [],
   "metadata": {
    "collapsed": false,
    "pycharm": {
     "name": "#%%\n"
    }
   }
  },
  {
   "cell_type": "markdown",
   "source": [
    "## Clevr"
   ],
   "metadata": {
    "collapsed": false
   }
  },
  {
   "cell_type": "code",
   "execution_count": 79,
   "outputs": [],
   "source": [
    "from LPProblem import ClevrLPProblem\n",
    "from tqdm import tqdm\n",
    "import json\n",
    "from utils import process_coord_scene_clevr\n",
    "\n",
    "with open('../results/clevr_val/original/constraint_1234/data_125/s.json', 'r') as f:\n",
    "    scenes = json.load(f)['scenes']\n",
    "\n",
    "with open('G:/My Drive/Research/data/Clevr_mini/clevr_attr_map.json', 'r') as f:\n",
    "    attr_map = json.load(f)"
   ],
   "metadata": {
    "collapsed": false,
    "pycharm": {
     "name": "#%%\n"
    }
   }
  },
  {
   "cell_type": "code",
   "execution_count": 80,
   "outputs": [
    {
     "ename": "KeyError",
     "evalue": "'x'",
     "output_type": "error",
     "traceback": [
      "\u001B[1;31m---------------------------------------------------------------------------\u001B[0m",
      "\u001B[1;31mKeyError\u001B[0m                                  Traceback (most recent call last)",
      "\u001B[1;32m~\\AppData\\Local\\Temp/ipykernel_17584/4259423453.py\u001B[0m in \u001B[0;36m<module>\u001B[1;34m\u001B[0m\n\u001B[1;32m----> 1\u001B[1;33m \u001B[0mscenes\u001B[0m \u001B[1;33m=\u001B[0m \u001B[1;33m[\u001B[0m\u001B[0mprocess_coord_scene_clevr\u001B[0m\u001B[1;33m(\u001B[0m\u001B[0mscene\u001B[0m\u001B[1;33m)\u001B[0m \u001B[1;32mfor\u001B[0m \u001B[0mscene\u001B[0m \u001B[1;32min\u001B[0m \u001B[0mscenes\u001B[0m\u001B[1;33m]\u001B[0m\u001B[1;33m\u001B[0m\u001B[1;33m\u001B[0m\u001B[0m\n\u001B[0m\u001B[0;32m      2\u001B[0m \u001B[1;33m\u001B[0m\u001B[0m\n",
      "\u001B[1;32m~\\AppData\\Local\\Temp/ipykernel_17584/4259423453.py\u001B[0m in \u001B[0;36m<listcomp>\u001B[1;34m(.0)\u001B[0m\n\u001B[1;32m----> 1\u001B[1;33m \u001B[0mscenes\u001B[0m \u001B[1;33m=\u001B[0m \u001B[1;33m[\u001B[0m\u001B[0mprocess_coord_scene_clevr\u001B[0m\u001B[1;33m(\u001B[0m\u001B[0mscene\u001B[0m\u001B[1;33m)\u001B[0m \u001B[1;32mfor\u001B[0m \u001B[0mscene\u001B[0m \u001B[1;32min\u001B[0m \u001B[0mscenes\u001B[0m\u001B[1;33m]\u001B[0m\u001B[1;33m\u001B[0m\u001B[1;33m\u001B[0m\u001B[0m\n\u001B[0m\u001B[0;32m      2\u001B[0m \u001B[1;33m\u001B[0m\u001B[0m\n",
      "\u001B[1;32m~\\Documents\\github\\Clevr-Relational\\scene_graph_solver\\utils.py\u001B[0m in \u001B[0;36mprocess_coord_scene_clevr\u001B[1;34m(scene)\u001B[0m\n\u001B[0;32m     64\u001B[0m             \u001B[1;32mif\u001B[0m \u001B[0mo1\u001B[0m \u001B[1;33m==\u001B[0m \u001B[0mo2\u001B[0m\u001B[1;33m:\u001B[0m\u001B[1;33m\u001B[0m\u001B[1;33m\u001B[0m\u001B[0m\n\u001B[0;32m     65\u001B[0m                 \u001B[1;32mcontinue\u001B[0m\u001B[1;33m\u001B[0m\u001B[1;33m\u001B[0m\u001B[0m\n\u001B[1;32m---> 66\u001B[1;33m             \u001B[1;32mif\u001B[0m \u001B[0mo1\u001B[0m\u001B[1;33m[\u001B[0m\u001B[1;34m'x'\u001B[0m\u001B[1;33m]\u001B[0m \u001B[1;33m>\u001B[0m \u001B[0mo2\u001B[0m\u001B[1;33m[\u001B[0m\u001B[1;34m'x'\u001B[0m\u001B[1;33m]\u001B[0m\u001B[1;33m:\u001B[0m\u001B[1;33m\u001B[0m\u001B[1;33m\u001B[0m\u001B[0m\n\u001B[0m\u001B[0;32m     67\u001B[0m                 \u001B[0mrelation\u001B[0m \u001B[1;33m=\u001B[0m \u001B[1;34m'left'\u001B[0m\u001B[1;33m\u001B[0m\u001B[1;33m\u001B[0m\u001B[0m\n\u001B[0;32m     68\u001B[0m             \u001B[1;32mif\u001B[0m \u001B[0mo1\u001B[0m\u001B[1;33m[\u001B[0m\u001B[1;34m'x'\u001B[0m\u001B[1;33m]\u001B[0m \u001B[1;33m<\u001B[0m \u001B[0mo2\u001B[0m\u001B[1;33m[\u001B[0m\u001B[1;34m'x'\u001B[0m\u001B[1;33m]\u001B[0m\u001B[1;33m:\u001B[0m\u001B[1;33m\u001B[0m\u001B[1;33m\u001B[0m\u001B[0m\n",
      "\u001B[1;31mKeyError\u001B[0m: 'x'"
     ]
    }
   ],
   "source": [
    "scenes = [process_coord_scene_clevr(scene) for scene in scenes]\n"
   ],
   "metadata": {
    "collapsed": false,
    "pycharm": {
     "name": "#%%\n"
    }
   }
  },
  {
   "cell_type": "code",
   "execution_count": 81,
   "outputs": [],
   "source": [
    "problem_solver = ClevrLPProblem(attr_map,color_between=True, material_order=True, large_cube=True, object_behind=True)"
   ],
   "metadata": {
    "collapsed": false,
    "pycharm": {
     "name": "#%%\n"
    }
   }
  },
  {
   "cell_type": "code",
   "execution_count": 82,
   "outputs": [
    {
     "name": "stderr",
     "output_type": "stream",
     "text": [
      "100%|██████████| 2000/2000 [01:09<00:00, 28.78it/s]\n"
     ]
    }
   ],
   "source": [
    "predicted_scenes = []\n",
    "for scene in tqdm(scenes):\n",
    "    predicted_scenes.append(problem_solver.solve_for_scene(scene))"
   ],
   "metadata": {
    "collapsed": false,
    "pycharm": {
     "name": "#%%\n"
    }
   }
  },
  {
   "cell_type": "code",
   "execution_count": 83,
   "outputs": [],
   "source": [
    "with open('../results/clevr_val/original/constraint_1234/data_125/rel_scenes_fix_c1234.json', 'w') as f:\n",
    "    json.dump({'scenes': predicted_scenes}, f)"
   ],
   "metadata": {
    "collapsed": false,
    "pycharm": {
     "name": "#%%\n"
    }
   }
  },
  {
   "cell_type": "code",
   "execution_count": 74,
   "outputs": [
    {
     "data": {
      "text/plain": "{'image_index': 148,\n 'objects': [{'color': [0.10553427040576935,\n    0.10506808757781982,\n    0.10183698683977127,\n    0.10595829784870148,\n    0.10935458540916443,\n    0.10565945506095886,\n    0.10175710916519165,\n    0.2648312449455261],\n   'mask': {'size': [320, 480],\n    'counts': 'lP[1<a95L4L3N2N2M3O1N2N1O2O001N101N10000O100000000000000001O001O0O2N101N101N2N2N2N2M5K[Un2'},\n   'shape': [0.5627967119216919, 0.23314182460308075, 0.20406146347522736],\n   'material': [0.7139469981193542, 0.28605297207832336],\n   'size': [0.3730557858943939, 0.6269442439079285]},\n  {'color': [0.10530387610197067,\n    0.10300596803426743,\n    0.10073711723089218,\n    0.10680421441793442,\n    0.2724931836128235,\n    0.10494957864284515,\n    0.10133244842290878,\n    0.10537359118461609],\n   'mask': {'size': [320, 480],\n    'counts': 'jZj1[1d84K4N001O1N1O101O1O0000000O10000O1000O1@`0N2O1O10000000000O10000O2O00001O00000000010O1O01OO3NWo\\\\2'},\n   'shape': [0.22634080052375793, 0.2303495705127716, 0.5433096289634705],\n   'material': [0.712725818157196, 0.28727418184280396],\n   'size': [0.6503808498382568, 0.34961920976638794]},\n  {'color': [0.26740047335624695,\n    0.10527374595403671,\n    0.10511517524719238,\n    0.10650885850191116,\n    0.1080411821603775,\n    0.10394085198640823,\n    0.09939989447593689,\n    0.10431979596614838],\n   'mask': {'size': [320, 480],\n    'counts': '_Wo2j0U92N3N001O001O1O001N2O0O2O001O0000000O10000000000000O2O001N101O001O001N101O001O0O`nY1'},\n   'shape': [0.21744638681411743, 0.5669431090354919, 0.21561047434806824],\n   'material': [0.6921147108078003, 0.3078853189945221],\n   'size': [0.3698103725910187, 0.6301896572113037]},\n  {'color': [0.10367109626531601,\n    0.10434017330408096,\n    0.25701943039894104,\n    0.11015383899211884,\n    0.11144363135099411,\n    0.10494913160800934,\n    0.10324951261281967,\n    0.10517318546772003],\n   'mask': {'size': [320, 480],\n    'counts': 'YjV2:e93L201N2O002N2Nj0VO0O100O100000000000000000000000000000000001O00001O0000000O2O0O2N2_OaG\\\\OZZR2'},\n   'shape': [0.22375231981277466, 0.22613193094730377, 0.5501158237457275],\n   'material': [0.7087708711624146, 0.29122915863990784],\n   'size': [0.5188342928886414, 0.48116573691368103]},\n  {'color': [0.1058030053973198,\n    0.10607142746448517,\n    0.10366196185350418,\n    0.10693468898534775,\n    0.10906980186700821,\n    0.10494653135538101,\n    0.2586613595485687,\n    0.10485123097896576],\n   'mask': {'size': [320, 480],\n    'counts': 'lcP2Q1n83M2N2O001O1O0O10000O1000000000000000000000000001O001N1O101O0O3MUR[2'},\n   'shape': [0.2178185135126114, 0.23222734034061432, 0.5499541759490967],\n   'material': [0.27403539419174194, 0.7259646058082581],\n   'size': [0.37813302874565125, 0.6218669414520264]},\n  {'color': [0.10694730281829834,\n    0.10362562537193298,\n    0.1032363772392273,\n    0.11690016835927963,\n    0.10617565363645554,\n    0.10466311872005463,\n    0.2519873082637787,\n    0.1064644604921341],\n   'mask': {'size': [320, 480],\n    'counts': 'kje27f96L3M2N2N2O1N100O10000000000001O00001O1N1O2N2N3LY[h1'},\n   'shape': [0.5628829002380371, 0.23174495995044708, 0.2053721845149994],\n   'material': [0.26820603013038635, 0.731793999671936],\n   'size': [0.36009863018989563, 0.6399013996124268]}],\n 'relationships': {'front': [[[1, 1], [2, 1], [3, 1], [4, 1], [5, 1]],\n   [[0, 0], [2, 0], [3, 0], [4, 1], [5, 0]],\n   [[0, 0], [1, 1], [3, 0], [4, 1], [5, 0]],\n   [[0, 0], [1, 1], [2, 1], [4, 1], [5, 1]],\n   [[0, 0], [1, 0], [2, 0], [3, 0], [5, 0]],\n   [[0, 0], [1, 1], [2, 1], [3, 0], [4, 1]]],\n  'behind': [[[1, 0], [2, 0], [3, 0], [4, 0], [5, 0]],\n   [[0, 1], [2, 1], [3, 1], [4, 0], [5, 1]],\n   [[0, 1], [1, 0], [3, 1], [4, 0], [5, 1]],\n   [[0, 1], [1, 0], [2, 0], [4, 0], [5, 0]],\n   [[0, 1], [1, 1], [2, 1], [3, 1], [5, 1]],\n   [[0, 1], [1, 0], [2, 0], [3, 1], [4, 0]]],\n  'left': [[[1, 0], [2, 0], [3, 0], [4, 0], [5, 0]],\n   [[0, 1], [2, 0], [3, 0], [4, 0], [5, 0]],\n   [[0, 1], [1, 1], [3, 1], [4, 1], [5, 1]],\n   [[0, 1], [1, 1], [2, 0], [4, 1], [5, 0]],\n   [[0, 1], [1, 1], [2, 0], [3, 0], [5, 0]],\n   [[0, 1], [1, 1], [2, 0], [3, 1], [4, 1]]],\n  'right': [[[1, 1], [2, 1], [3, 1], [4, 1], [5, 1]],\n   [[0, 0], [2, 1], [3, 1], [4, 1], [5, 1]],\n   [[0, 0], [1, 0], [3, 0], [4, 0], [5, 0]],\n   [[0, 0], [1, 0], [2, 1], [4, 0], [5, 1]],\n   [[0, 0], [1, 0], [2, 1], [3, 1], [5, 1]],\n   [[0, 0], [1, 0], [2, 1], [3, 0], [4, 0]]]}}"
     },
     "execution_count": 74,
     "metadata": {},
     "output_type": "execute_result"
    }
   ],
   "source": [
    "scenes[148]"
   ],
   "metadata": {
    "collapsed": false,
    "pycharm": {
     "name": "#%%\n"
    }
   }
  },
  {
   "cell_type": "code",
   "execution_count": 87,
   "outputs": [],
   "source": [
    "result, attr_variables, model = problem_solver.solve_for_scene(scenes[148])"
   ],
   "metadata": {
    "collapsed": false,
    "pycharm": {
     "name": "#%%\n"
    }
   }
  },
  {
   "cell_type": "code",
   "execution_count": 88,
   "outputs": [
    {
     "data": {
      "text/plain": "{'objects': [{'mask': {'size': [320, 480],\n    'counts': 'lP[1<a95L4L3N2N2M3O1N2N1O2O001N101N10000O100000000000000001O001O0O2N101N101N2N2N2N2M5K[Un2'},\n   'shape': 'sphere',\n   'size': 'small',\n   'material': 'metal',\n   'color': 'yellow'},\n  {'mask': {'size': [320, 480],\n    'counts': 'jZj1[1d84K4N001O1N1O101O1O0000000O10000O1000O1@`0N2O1O10000000000O10000O2O00001O00000000010O1O01OO3NWo\\\\2'},\n   'shape': 'cylinder',\n   'size': 'large',\n   'material': 'metal',\n   'color': 'green'},\n  {'mask': {'size': [320, 480],\n    'counts': '_Wo2j0U92N3N001O001O1O001N2O0O2O001O0000000O10000000000000O2O001N101O001O001N101O001O0O`nY1'},\n   'shape': 'cube',\n   'size': 'small',\n   'material': 'metal',\n   'color': 'blue'},\n  {'mask': {'size': [320, 480],\n    'counts': 'YjV2:e93L201N2O002N2Nj0VO0O100O100000000000000000000000000000000001O00001O0000000O2O0O2N2_OaG\\\\OZZR2'},\n   'shape': 'cylinder',\n   'size': 'large',\n   'material': 'metal',\n   'color': 'cyan'},\n  {'mask': {'size': [320, 480],\n    'counts': 'lcP2Q1n83M2N2O001O1O0O10000O1000000000000000000000000001O001N1O101O0O3MUR[2'},\n   'shape': 'cylinder',\n   'size': 'small',\n   'material': 'metal',\n   'color': 'red'},\n  {'mask': {'size': [320, 480],\n    'counts': 'kje27f96L3M2N2N2O1N100O10000000000001O00001O1N1O2N2N3LY[h1'},\n   'shape': 'sphere',\n   'size': 'small',\n   'material': 'metal',\n   'color': 'gray'}],\n 'relationships': {'left': [[],\n   [0],\n   [0, 1, 3, 4, 5],\n   [0, 1, 4],\n   [0, 1],\n   [0, 1, 3, 4]],\n  'right': [[1, 2, 3, 4, 5], [2, 3, 4, 5], [], [2, 5], [2, 3, 5], [2]],\n  'front': [[1, 2, 3, 4, 5], [4], [1, 4], [1, 2, 4, 5], [], [1, 2, 4]],\n  'behind': [[], [0, 2, 3, 5], [0, 3, 5], [0], [0, 1, 2, 3, 5], [0, 3]]}}"
     },
     "execution_count": 88,
     "metadata": {},
     "output_type": "execute_result"
    }
   ],
   "source": [
    "result"
   ],
   "metadata": {
    "collapsed": false,
    "pycharm": {
     "name": "#%%\n"
    }
   }
  },
  {
   "cell_type": "code",
   "execution_count": 60,
   "outputs": [
    {
     "name": "stderr",
     "output_type": "stream",
     "text": [
      "100%|██████████| 1/1 [00:00<00:00, 62.67it/s]\n"
     ]
    }
   ],
   "source": [
    "for scene in tqdm(scenes[21:22]):\n",
    "    scene = problem_solver.solve_for_scene(scene)"
   ],
   "metadata": {
    "collapsed": false,
    "pycharm": {
     "name": "#%%\n"
    }
   }
  },
  {
   "cell_type": "code",
   "execution_count": 61,
   "outputs": [
    {
     "data": {
      "text/plain": "{'objects': [{'mask': {'size': [320, 480],\n    'counts': 'f^W2h0W92O0000000O2O00001N10001N10000O100001O00001O00001N10000O2O00000O10[mS2'},\n   'shape': 'cube',\n   'size': 'small',\n   'material': 'metal',\n   'color': 'cyan'},\n  {'mask': {'size': [320, 480],\n    'counts': '[\\\\i1=`94M3N1O1O2N1O1O100O2O1O1N3N2N1O000000000000000001O000O2O0O3M1O2N2N3M2M4LiQa2'},\n   'shape': 'sphere',\n   'size': 'large',\n   'material': 'metal',\n   'color': 'red'},\n  {'mask': {'size': [320, 480],\n    'counts': 'o\\\\d1?_9<E3N1N101O000O10000000000000000000000001O00000O100O2OTkh2'},\n   'shape': 'cylinder',\n   'size': 'small',\n   'material': 'metal',\n   'color': 'cyan'}],\n 'relationships': {'left': [[1, 2], [2], []],\n  'right': [[], [0], [0, 1]],\n  'front': [[2], [0, 2], []],\n  'behind': [[1], [], [0, 1]]}}"
     },
     "execution_count": 61,
     "metadata": {},
     "output_type": "execute_result"
    }
   ],
   "source": [
    "scene"
   ],
   "metadata": {
    "collapsed": false,
    "pycharm": {
     "name": "#%%\n"
    }
   }
  },
  {
   "cell_type": "code",
   "execution_count": 79,
   "outputs": [],
   "source": [
    "model.write(\"file.lp\")"
   ],
   "metadata": {
    "collapsed": false,
    "pycharm": {
     "name": "#%%\n"
    }
   }
  },
  {
   "cell_type": "code",
   "execution_count": null,
   "outputs": [],
   "source": [],
   "metadata": {
    "collapsed": false,
    "pycharm": {
     "name": "#%%\n"
    }
   }
  }
 ],
 "metadata": {
  "kernelspec": {
   "name": "python3",
   "language": "python",
   "display_name": "Python 3"
  },
  "language_info": {
   "codemirror_mode": {
    "name": "ipython",
    "version": 2
   },
   "file_extension": ".py",
   "mimetype": "text/x-python",
   "name": "python",
   "nbconvert_exporter": "python",
   "pygments_lexer": "ipython2",
   "version": "2.7.6"
  }
 },
 "nbformat": 4,
 "nbformat_minor": 0
}