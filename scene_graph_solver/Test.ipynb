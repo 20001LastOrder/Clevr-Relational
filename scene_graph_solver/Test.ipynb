{
 "cells": [
  {
   "cell_type": "code",
   "execution_count": 1,
   "outputs": [],
   "source": [
    "%load_ext autoreload\n",
    "%autoreload 2"
   ],
   "metadata": {
    "collapsed": false,
    "pycharm": {
     "name": "#%%\n"
    }
   }
  },
  {
   "cell_type": "code",
   "execution_count": 98,
   "outputs": [],
   "source": [
    "# from main import get_normalized_probability, cal_most_prob_scene, reverse_relation\n",
    "import json\n",
    "import pulp\n",
    "import numpy as np\n",
    "from LPConstraints import get_clevr_block_world_constraint\n",
    "from utils import process_coord_scene"
   ],
   "metadata": {
    "collapsed": false,
    "pycharm": {
     "name": "#%%\n"
    }
   }
  },
  {
   "cell_type": "code",
   "execution_count": 109,
   "outputs": [],
   "source": [
    "with open('../results/clevr_block_val/constraint_1234/scenes_coord_prob.json', 'r') as f:\n",
    "    scenes = json.load(f)['scenes']\n",
    "\n",
    "with open('../data/clevr_block/clevr_attr_map.json', 'r') as f:\n",
    "    attr_map = json.load(f)"
   ],
   "metadata": {
    "collapsed": false,
    "pycharm": {
     "name": "#%%\n"
    }
   }
  },
  {
   "cell_type": "code",
   "execution_count": 110,
   "outputs": [],
   "source": [
    "scenes = [process_coord_scene(scene, 'blockworld') for scene in scenes]"
   ],
   "metadata": {
    "collapsed": false,
    "pycharm": {
     "name": "#%%\n"
    }
   }
  },
  {
   "cell_type": "code",
   "execution_count": 111,
   "outputs": [
    {
     "data": {
      "text/plain": "{'image_index': 0,\n 'objects': [{'color': [0.10307889431715012,\n    0.10457025468349457,\n    0.10198843479156494,\n    0.10117006301879883,\n    0.10283872485160828,\n    0.1016504168510437,\n    0.28262683749198914,\n    0.10207632929086685],\n   'mask': {'size': [320, 480],\n    'counts': 'hoP19e94J7L3L4M2N2N2N2N101N2O0O2O0O10000O1000000000000000000001O001O001N101N2O0O2N2N2N2M3N3L`XW3'},\n   'shape': [0.5749544501304626, 0.21360108256340027, 0.21144454181194305],\n   'material': [0.26887354254722595, 0.7311264276504517],\n   'size': [0.7294363379478455, 0.2705637216567993]},\n  {'color': [0.28117287158966064,\n    0.1021944209933281,\n    0.10317713022232056,\n    0.1028904914855957,\n    0.10222049057483673,\n    0.10279274731874466,\n    0.10296396166086197,\n    0.10258792340755463],\n   'mask': {'size': [320, 480],\n    'counts': 'SgV38c99J4M2M4M3M1O3M101N2O1N1O2O00000O100000000000000001O0000001O1N100O2N2O0O2O1N2N3M3L3NSkQ1'},\n   'shape': [0.5740546584129333, 0.2132999151945114, 0.21264544129371643],\n   'material': [0.2685074508190155, 0.7314925789833069],\n   'size': [0.7314532995223999, 0.2685467302799225]},\n  {'color': [0.10295233875513077,\n    0.10365217179059982,\n    0.2802472412586212,\n    0.1015717014670372,\n    0.10302893817424774,\n    0.10249786078929901,\n    0.1031394824385643,\n    0.10291026532649994],\n   'mask': {'size': [320, 480],\n    'counts': 'XbU2j0U91O2O0O1O101O0O100O100000000000001O0001O0000000O1000000O2O0O1O100O1Om_U2'},\n   'shape': [0.21107779443264008, 0.5772243142127991, 0.21169793605804443],\n   'material': [0.26863402128219604, 0.731365978717804],\n   'size': [0.2669793367385864, 0.7330206632614136]},\n  {'color': [0.10333790630102158,\n    0.10321824997663498,\n    0.10255394130945206,\n    0.2792702317237854,\n    0.10348948836326599,\n    0.10277775675058365,\n    0.10298432409763336,\n    0.10236810147762299],\n   'mask': {'size': [320, 480],\n    'counts': 'hTo0;d96Ih0ZO1O0O2N100O2N10000O1O2O000001O001O01O000001O001O000000000000O100O100000000O1O1000O01O01O100O1O100O1O2O0O1O2N102La]T3'},\n   'shape': [0.2105829417705536, 0.5788520574569702, 0.210564985871315],\n   'material': [0.2678322494029999, 0.7321677803993225],\n   'size': [0.7308892011642456, 0.26911085844039917]},\n  {'color': [0.10253415256738663,\n    0.10301323980093002,\n    0.10248426347970963,\n    0.10184881836175919,\n    0.10241582989692688,\n    0.10305099189281464,\n    0.28200072050094604,\n    0.10265205800533295],\n   'mask': {'size': [320, 480],\n    'counts': 'b`e2Z1d84M2O001O1O01O01000O1O001O1O00000000000000000000O10000000000O100000000000O1O01O10Na[c1'},\n   'shape': [0.21134233474731445, 0.21294671297073364, 0.5757109522819519],\n   'material': [0.7320408821105957, 0.2679590880870819],\n   'size': [0.7302406430244446, 0.2697593867778778]},\n  {'color': [0.1025560274720192,\n    0.10263697803020477,\n    0.10237333923578262,\n    0.10151208192110062,\n    0.10245215892791748,\n    0.10162995755672455,\n    0.10318229347467422,\n    0.28365713357925415],\n   'mask': {'size': [320, 480],\n    'counts': 'iXh2m0R92O001O000O100000000000000000000000000001O00000000001NXod1'},\n   'shape': [0.21039517223834991, 0.2128232717514038, 0.5767815113067627],\n   'material': [0.2692457139492035, 0.7307543158531189],\n   'size': [0.2651135325431824, 0.7348864078521729]},\n  {'color': [0.1034151017665863,\n    0.10304849594831467,\n    0.10328353196382523,\n    0.10179687291383743,\n    0.10256951302289963,\n    0.10214944183826447,\n    0.10379370301961899,\n    0.2799433171749115],\n   'mask': {'size': [320, 480],\n    'counts': 'fQg2i0V92O0010O01000O01O010O00000000000000O10000000000000000000O10O100000XZd1'},\n   'shape': [0.21117326617240906, 0.5764328837394714, 0.2123938500881195],\n   'material': [0.7336574792861938, 0.26634255051612854],\n   'size': [0.2663540840148926, 0.7336458563804626]},\n  {'color': [0.10360021144151688,\n    0.10322610288858414,\n    0.10281484574079514,\n    0.10216846317052841,\n    0.10286165773868561,\n    0.27923840284347534,\n    0.10363290458917618,\n    0.10245734453201294],\n   'mask': {'size': [320, 480],\n    'counts': 'TkV2k0T92O01O0000001O00000000001O00000000000000O100O1O1O10O2Nn\\\\V2'},\n   'shape': [0.21127468347549438, 0.5772990584373474, 0.211426243185997],\n   'material': [0.26862162351608276, 0.7313783764839172],\n   'size': [0.2680980861186981, 0.7319018840789795]}],\n 'relationships': {'above': [[[1, 0],\n    [2, 0],\n    [3, 0],\n    [4, 0],\n    [5, 0],\n    [6, 0],\n    [7, 0]],\n   [[0, 0], [2, 0], [3, 0], [4, 0], [5, 0], [6, 0], [7, 0]],\n   [[0, 0], [1, 0], [3, 0], [4, 0], [5, 0], [6, 0], [7, 0]],\n   [[0, 1], [1, 0], [2, 0], [4, 0], [5, 0], [6, 0], [7, 0]],\n   [[0, 0], [1, 0], [2, 0], [3, 0], [5, 1], [6, 1], [7, 0]],\n   [[0, 0], [1, 0], [2, 0], [3, 0], [4, 0], [6, 0], [7, 0]],\n   [[0, 0], [1, 0], [2, 0], [3, 0], [4, 0], [5, 1], [7, 0]],\n   [[0, 0], [1, 0], [2, 1], [3, 0], [4, 0], [5, 0], [6, 0]]],\n  'below': [[[1, 0], [2, 0], [3, 1], [4, 0], [5, 0], [6, 0], [7, 0]],\n   [[0, 0], [2, 0], [3, 0], [4, 0], [5, 0], [6, 0], [7, 0]],\n   [[0, 0], [1, 0], [3, 0], [4, 0], [5, 0], [6, 0], [7, 1]],\n   [[0, 0], [1, 0], [2, 0], [4, 0], [5, 0], [6, 0], [7, 0]],\n   [[0, 0], [1, 0], [2, 0], [3, 0], [5, 0], [6, 0], [7, 0]],\n   [[0, 0], [1, 0], [2, 0], [3, 0], [4, 1], [6, 1], [7, 0]],\n   [[0, 0], [1, 0], [2, 0], [3, 0], [4, 1], [5, 0], [7, 0]],\n   [[0, 0], [1, 0], [2, 0], [3, 0], [4, 0], [5, 0], [6, 0]]],\n  'left': [[[1, 0], [2, 0], [3, 0], [4, 0], [5, 0], [6, 0], [7, 0]],\n   [[0, 1], [2, 1], [3, 1], [4, 1], [5, 1], [6, 1], [7, 1]],\n   [[0, 1], [1, 0], [3, 1], [4, 0], [5, 0], [6, 0], [7, 0]],\n   [[0, 0], [1, 0], [2, 0], [4, 0], [5, 0], [6, 0], [7, 0]],\n   [[0, 1], [1, 0], [2, 1], [3, 1], [5, 0], [6, 0], [7, 1]],\n   [[0, 1], [1, 0], [2, 1], [3, 1], [4, 0], [6, 0], [7, 1]],\n   [[0, 1], [1, 0], [2, 1], [3, 1], [4, 0], [5, 0], [7, 1]],\n   [[0, 1], [1, 0], [2, 0], [3, 1], [4, 0], [5, 0], [6, 0]]],\n  'right': [[[1, 1], [2, 1], [3, 0], [4, 1], [5, 1], [6, 1], [7, 1]],\n   [[0, 0], [2, 0], [3, 0], [4, 0], [5, 0], [6, 0], [7, 0]],\n   [[0, 0], [1, 1], [3, 0], [4, 1], [5, 1], [6, 1], [7, 0]],\n   [[0, 0], [1, 1], [2, 1], [4, 1], [5, 1], [6, 1], [7, 1]],\n   [[0, 0], [1, 1], [2, 0], [3, 0], [5, 0], [6, 0], [7, 0]],\n   [[0, 0], [1, 1], [2, 0], [3, 0], [4, 0], [6, 0], [7, 0]],\n   [[0, 0], [1, 1], [2, 0], [3, 0], [4, 0], [5, 0], [7, 0]],\n   [[0, 0], [1, 1], [2, 0], [3, 0], [4, 1], [5, 1], [6, 1]]]}}"
     },
     "execution_count": 111,
     "metadata": {},
     "output_type": "execute_result"
    }
   ],
   "source": [
    "scenes[0]"
   ],
   "metadata": {
    "collapsed": false,
    "pycharm": {
     "name": "#%%\n"
    }
   }
  },
  {
   "cell_type": "code",
   "execution_count": 112,
   "outputs": [],
   "source": [
    "def get_attribute_variables(objects, attributes_map):\n",
    "    variables = []\n",
    "    probabilities = {}\n",
    "    num_objects = len(objects)\n",
    "\n",
    "    for name, values in attributes_map.items():\n",
    "        for v, _ in enumerate(values):\n",
    "            for i in range(num_objects):\n",
    "                variable_name = f'{name}_{i}_{v}'\n",
    "                variables.append(variable_name)\n",
    "                probabilities[variable_name] = objects[i][name][v]\n",
    "    return variables, probabilities\n",
    "\n",
    "def get_relationship_variables(scene, relationships):\n",
    "    variables = []\n",
    "    probabilities = {}\n",
    "\n",
    "    for rel in relationships:\n",
    "        for target, sources in enumerate(scene['relationships'][rel]):\n",
    "            for source, probability in sources:\n",
    "                # TODO: change the prediction for below and above (currently flipped)\n",
    "                variable_name = f'{rel}_{source}_{target}'\n",
    "                variables.append(variable_name)\n",
    "                probabilities[variable_name] = probability\n",
    "    return variables, probabilities\n",
    "\n",
    "def get_LP_problem(scene, attr_map, eps=1e-50):\n",
    "    attr_variables, attr_probabilities = get_attribute_variables(scene['objects'], attr_map['attributes'])\n",
    "    rel_variables, rel_probabilities = get_relationship_variables(scene, attr_map['relations'])\n",
    "\n",
    "\n",
    "    attr_variables = pulp.LpVariable.dict('attr', attr_variables, 0, 1, pulp.LpBinary)\n",
    "    rel_variables = pulp.LpVariable.dict('rel', rel_variables, 0, 1, pulp.LpBinary)\n",
    "\n",
    "    attr_objective = [attr_variables[i] * np.log(max(attr_probabilities[i], eps)) for i in attr_variables.keys()]\n",
    "    rel_objective = [rel_variables[i] * np.log(max(rel_probabilities[i], eps)) + (1 - rel_variables[i]) * np.log((max(1 - rel_probabilities[i], eps))) for i in rel_variables.keys()]\n",
    "\n",
    "    prob = pulp.LpProblem(\"sceneGraphProblem\", pulp.LpMaximize)\n",
    "    prob += pulp.lpSum(attr_objective + rel_objective)\n",
    "    return prob, attr_variables, rel_variables\n",
    "\n",
    "def get_predicted_scene_for_block_world(variables, scene):\n",
    "    predicted_scene = {\n",
    "        'objects': [{'mask': o['mask']} for o in scene['objects']],\n",
    "        'relationships': { rel: [[] for _ in range(len(scene['objects']))] for rel in attr_map['relations']}\n",
    "    }\n",
    "\n",
    "    for v in variables:\n",
    "        if v.varValue:\n",
    "            tokens = v.name.split('_')\n",
    "            if tokens[0] == 'attr':\n",
    "                predicted_scene['objects'][int(tokens[2])][tokens[1]] = attr_map['attributes'][tokens[1]][int(tokens[3])]\n",
    "            elif tokens[0] == 'rel':\n",
    "                predicted_scene['relationships'][tokens[1]][int(tokens[3])].append(int(tokens[2]))\n",
    "    return predicted_scene"
   ],
   "metadata": {
    "collapsed": false,
    "pycharm": {
     "name": "#%%\n"
    }
   }
  },
  {
   "cell_type": "code",
   "execution_count": 113,
   "outputs": [
    {
     "name": "stderr",
     "output_type": "stream",
     "text": [
      "100%|██████████| 6000/6000 [10:03<00:00,  9.94it/s]\n"
     ]
    }
   ],
   "source": [
    "from tqdm import tqdm\n",
    "M = 100\n",
    "predicted_scenes = []\n",
    "solver = pulp.GUROBI_CMD(path = 'C:/gurobi951/win64/bin/gurobi_cl.exe')\n",
    "\n",
    "for scene in tqdm(scenes):\n",
    "    prob, attr_variables, rel_variables = get_LP_problem(scene, attr_map)\n",
    "    get_clevr_block_world_constraint(prob, scene, rel_variables, attr_variables, attr_map, include_small_obj=True, include_large_cube=True, include_bottom_stack=True, include_yellow=True)\n",
    "    prob.solve(solver)\n",
    "    predicted_scenes.append(get_predicted_scene_for_block_world(prob.variables(), scene))"
   ],
   "metadata": {
    "collapsed": false,
    "pycharm": {
     "name": "#%%\n"
    }
   }
  },
  {
   "cell_type": "code",
   "execution_count": 115,
   "outputs": [
    {
     "data": {
      "text/plain": "{'objects': [{'mask': {'size': [320, 480],\n    'counts': 'hoP19e94J7L3L4M2N2N2N2N101N2O0O2O0O10000O1000000000000000000001O001O001N101N2O0O2N2N2N2M3N3L`XW3'},\n   'color': 'red',\n   'material': 'rubber',\n   'shape': 'sphere',\n   'size': 'large'},\n  {'mask': {'size': [320, 480],\n    'counts': 'SgV38c99J4M2M4M3M1O3M101N2O1N1O2O00000O100000000000000001O0000001O1N100O2N2O0O2O1N2N3M3L3NSkQ1'},\n   'color': 'blue',\n   'material': 'rubber',\n   'shape': 'sphere',\n   'size': 'large'},\n  {'mask': {'size': [320, 480],\n    'counts': 'XbU2j0U91O2O0O1O101O0O100O100000000000001O0001O0000000O1000000O2O0O1O100O1Om_U2'},\n   'color': 'cyan',\n   'material': 'rubber',\n   'shape': 'cube',\n   'size': 'small'},\n  {'mask': {'size': [320, 480],\n    'counts': 'hTo0;d96Ih0ZO1O0O2N100O2N10000O1O2O000001O001O01O000001O001O000000000000O100O100000000O1O1000O01O01O100O1O100O1O2O0O1O2N102La]T3'},\n   'color': 'gray',\n   'material': 'rubber',\n   'shape': 'cube',\n   'size': 'large'},\n  {'mask': {'size': [320, 480],\n    'counts': 'b`e2Z1d84M2O001O1O01O01000O1O001O1O00000000000000000000O10000000000O100000000000O1O01O10Na[c1'},\n   'color': 'red',\n   'material': 'metal',\n   'shape': 'cylinder',\n   'size': 'large'},\n  {'mask': {'size': [320, 480],\n    'counts': 'iXh2m0R92O001O000O100000000000000000000000000001O00000000001NXod1'},\n   'color': 'yellow',\n   'material': 'rubber',\n   'shape': 'cylinder',\n   'size': 'small'},\n  {'mask': {'size': [320, 480],\n    'counts': 'fQg2i0V92O0010O01000O01O010O00000000000000O10000000000000000000O10O100000XZd1'},\n   'color': 'yellow',\n   'material': 'metal',\n   'shape': 'cube',\n   'size': 'small'},\n  {'mask': {'size': [320, 480],\n    'counts': 'TkV2k0T92O01O0000001O00000000001O00000000000000O100O1O1O10O2Nn\\\\V2'},\n   'color': 'purple',\n   'material': 'rubber',\n   'shape': 'cube',\n   'size': 'small'}],\n 'relationships': {'left': [[],\n   [0, 2, 3, 4, 5, 6, 7],\n   [0, 3],\n   [],\n   [0, 2, 3, 7],\n   [0, 2, 3, 7],\n   [0, 2, 3, 7],\n   [0, 3]],\n  'right': [[1, 2, 4, 5, 6, 7],\n   [],\n   [1, 4, 5, 6],\n   [1, 2, 4, 5, 6, 7],\n   [1],\n   [1],\n   [1],\n   [1, 4, 5, 6]],\n  'above': [[], [], [], [0], [5, 6], [], [5], [2]],\n  'below': [[3], [], [7], [], [], [4, 6], [4], []]}}"
     },
     "execution_count": 115,
     "metadata": {},
     "output_type": "execute_result"
    }
   ],
   "source": [
    "predicted_scenes[0]"
   ],
   "metadata": {
    "collapsed": false,
    "pycharm": {
     "name": "#%%\n"
    }
   }
  },
  {
   "cell_type": "code",
   "execution_count": 114,
   "outputs": [],
   "source": [
    "with open('../results/clevr_block_val/constraint_1234/scene_prob_fix.json', 'w') as f:\n",
    "    json.dump({'scenes': predicted_scenes}, f)\n",
    "\n"
   ],
   "metadata": {
    "collapsed": false,
    "pycharm": {
     "name": "#%%\n"
    }
   }
  },
  {
   "cell_type": "code",
   "execution_count": 173,
   "outputs": [
    {
     "data": {
      "text/plain": "{'shape_0_0': attr_shape_0_0,\n 'shape_1_0': attr_shape_1_0,\n 'shape_2_0': attr_shape_2_0,\n 'shape_0_1': attr_shape_0_1,\n 'shape_1_1': attr_shape_1_1,\n 'shape_2_1': attr_shape_2_1,\n 'shape_0_2': attr_shape_0_2,\n 'shape_1_2': attr_shape_1_2,\n 'shape_2_2': attr_shape_2_2,\n 'size_0_0': attr_size_0_0,\n 'size_1_0': attr_size_1_0,\n 'size_2_0': attr_size_2_0,\n 'size_0_1': attr_size_0_1,\n 'size_1_1': attr_size_1_1,\n 'size_2_1': attr_size_2_1,\n 'material_0_0': attr_material_0_0,\n 'material_1_0': attr_material_1_0,\n 'material_2_0': attr_material_2_0,\n 'material_0_1': attr_material_0_1,\n 'material_1_1': attr_material_1_1,\n 'material_2_1': attr_material_2_1,\n 'color_0_0': attr_color_0_0,\n 'color_1_0': attr_color_1_0,\n 'color_2_0': attr_color_2_0,\n 'color_0_1': attr_color_0_1,\n 'color_1_1': attr_color_1_1,\n 'color_2_1': attr_color_2_1,\n 'color_0_2': attr_color_0_2,\n 'color_1_2': attr_color_1_2,\n 'color_2_2': attr_color_2_2,\n 'color_0_3': attr_color_0_3,\n 'color_1_3': attr_color_1_3,\n 'color_2_3': attr_color_2_3,\n 'color_0_4': attr_color_0_4,\n 'color_1_4': attr_color_1_4,\n 'color_2_4': attr_color_2_4,\n 'color_0_5': attr_color_0_5,\n 'color_1_5': attr_color_1_5,\n 'color_2_5': attr_color_2_5,\n 'color_0_6': attr_color_0_6,\n 'color_1_6': attr_color_1_6,\n 'color_2_6': attr_color_2_6,\n 'color_0_7': attr_color_0_7,\n 'color_1_7': attr_color_1_7,\n 'color_2_7': attr_color_2_7}"
     },
     "execution_count": 173,
     "metadata": {},
     "output_type": "execute_result"
    }
   ],
   "source": [
    "attr_variables"
   ],
   "metadata": {
    "collapsed": false,
    "pycharm": {
     "name": "#%%\n"
    }
   }
  },
  {
   "cell_type": "code",
   "execution_count": 203,
   "outputs": [
    {
     "name": "stdout",
     "output_type": "stream",
     "text": [
      "174\n"
     ]
    }
   ],
   "source": [
    "print(len(prob.constraints))"
   ],
   "metadata": {
    "collapsed": false,
    "pycharm": {
     "name": "#%%\n"
    }
   }
  },
  {
   "cell_type": "code",
   "execution_count": 169,
   "outputs": [
    {
     "data": {
      "text/plain": "1.0"
     },
     "execution_count": 169,
     "metadata": {},
     "output_type": "execute_result"
    }
   ],
   "source": [
    "rel_variables[f'left_{3}_{5}'].varValue"
   ],
   "metadata": {
    "collapsed": false,
    "pycharm": {
     "name": "#%%\n"
    }
   }
  },
  {
   "cell_type": "code",
   "execution_count": 154,
   "outputs": [],
   "source": [
    "scene_file = '../data/clevr_block/constraint_1_2_3_4/scenes.json'\n",
    "\n",
    "with open(scene_file) as f:\n",
    "    gt_scenes = json.load(f)"
   ],
   "metadata": {
    "collapsed": false,
    "pycharm": {
     "name": "#%%\n"
    }
   }
  },
  {
   "cell_type": "code",
   "execution_count": 155,
   "outputs": [],
   "source": [
    "for scene in gt_scenes['scenes']:\n",
    "    scene['relationships']['above'], scene['relationships']['below'] = scene['relationships']['below'], scene['relationships']['above']"
   ],
   "metadata": {
    "collapsed": false,
    "pycharm": {
     "name": "#%%\n"
    }
   }
  },
  {
   "cell_type": "code",
   "execution_count": 156,
   "outputs": [],
   "source": [
    "with open(scene_file, 'w') as f:\n",
    "    json.dump(gt_scenes, f)"
   ],
   "metadata": {
    "collapsed": false,
    "pycharm": {
     "name": "#%%\n"
    }
   }
  },
  {
   "cell_type": "code",
   "execution_count": null,
   "outputs": [],
   "source": [],
   "metadata": {
    "collapsed": false,
    "pycharm": {
     "name": "#%%\n"
    }
   }
  }
 ],
 "metadata": {
  "kernelspec": {
   "name": "python3",
   "language": "python",
   "display_name": "Python 3"
  },
  "language_info": {
   "codemirror_mode": {
    "name": "ipython",
    "version": 2
   },
   "file_extension": ".py",
   "mimetype": "text/x-python",
   "name": "python",
   "nbconvert_exporter": "python",
   "pygments_lexer": "ipython2",
   "version": "2.7.6"
  }
 },
 "nbformat": 4,
 "nbformat_minor": 0
}