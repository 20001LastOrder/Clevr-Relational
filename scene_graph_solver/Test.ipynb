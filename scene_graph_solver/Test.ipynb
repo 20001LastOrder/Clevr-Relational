{
 "cells": [
  {
   "cell_type": "code",
   "execution_count": 1,
   "outputs": [],
   "source": [
    "%load_ext autoreload\n",
    "%autoreload 2"
   ],
   "metadata": {
    "collapsed": false,
    "pycharm": {
     "name": "#%%\n"
    }
   }
  },
  {
   "cell_type": "code",
   "execution_count": 2,
   "outputs": [],
   "source": [
    "# from main import get_normalized_probability, cal_most_prob_scene, reverse_relation\n",
    "import json\n",
    "import pulp\n",
    "import numpy as np\n",
    "from LPConstraints import get_clevr_block_world_constraint\n",
    "from utils import process_coord_scene"
   ],
   "metadata": {
    "collapsed": false,
    "pycharm": {
     "name": "#%%\n"
    }
   }
  },
  {
   "cell_type": "code",
   "execution_count": 143,
   "outputs": [],
   "source": [
    "with open('../results/clevr_block_val/constraint_1234/rel_scenes.json', 'r') as f:\n",
    "    scenes = json.load(f)['scenes']\n",
    "\n",
    "with open('../data/clevr_block/clevr_attr_map.json', 'r') as f:\n",
    "    attr_map = json.load(f)"
   ],
   "metadata": {
    "collapsed": false,
    "pycharm": {
     "name": "#%%\n"
    }
   }
  },
  {
   "cell_type": "code",
   "execution_count": 110,
   "outputs": [],
   "source": [
    "scenes = [process_coord_scene(scene, 'blockworld') for scene in scenes]"
   ],
   "metadata": {
    "collapsed": false,
    "pycharm": {
     "name": "#%%\n"
    }
   }
  },
  {
   "cell_type": "code",
   "execution_count": 19,
   "outputs": [],
   "source": [
    "def get_attribute_variables(objects, attributes_map):\n",
    "    variables = []\n",
    "    probabilities = {}\n",
    "    num_objects = len(objects)\n",
    "\n",
    "    for name, values in attributes_map.items():\n",
    "        for v, _ in enumerate(values):\n",
    "            for i in range(num_objects):\n",
    "                variable_name = f'{name}_{i}_{v}'\n",
    "                variables.append(variable_name)\n",
    "                probabilities[variable_name] = objects[i][name][v]\n",
    "    return variables, probabilities\n",
    "\n",
    "def get_relationship_variables(scene, relationships):\n",
    "    variables = []\n",
    "    probabilities = {}\n",
    "\n",
    "    for rel in relationships:\n",
    "        for target, sources in enumerate(scene['relationships'][rel]):\n",
    "            for source, probability in sources:\n",
    "                # TODO: change the prediction for below and above (currently flipped)\n",
    "                variable_name = f'{rel}_{source}_{target}'\n",
    "                variables.append(variable_name)\n",
    "                probabilities[variable_name] = probability\n",
    "    return variables, probabilities\n",
    "\n",
    "def get_LP_problem(scene, attr_map, eps=1e-50):\n",
    "    attr_variables, attr_probabilities = get_attribute_variables(scene['objects'], attr_map['attributes'])\n",
    "    rel_variables, rel_probabilities = get_relationship_variables(scene, attr_map['relations'])\n",
    "\n",
    "\n",
    "    attr_variables = pulp.LpVariable.dict('attr', attr_variables, 0, 1, pulp.LpBinary)\n",
    "    rel_variables = pulp.LpVariable.dict('rel', rel_variables, 0, 1, pulp.LpBinary)\n",
    "\n",
    "    attr_objective = [attr_variables[i] * np.log(max(attr_probabilities[i], eps)) for i in attr_variables.keys()]\n",
    "    rel_objective = [rel_variables[i] * np.log(max(rel_probabilities[i], eps)) + (1 - rel_variables[i]) * np.log((max(1 - rel_probabilities[i], eps))) for i in rel_variables.keys()]\n",
    "\n",
    "    prob = pulp.LpProblem(\"sceneGraphProblem\", pulp.LpMaximize)\n",
    "    prob += pulp.lpSum(attr_objective + rel_objective)\n",
    "    return prob, attr_variables, rel_variables\n",
    "\n",
    "def get_predicted_scene_for_block_world(variables, scene):\n",
    "    predicted_scene = {\n",
    "        'objects': [{'mask': o['mask']} for o in scene['objects']],\n",
    "        'relationships': { rel: [[] for _ in range(len(scene['objects']))] for rel in attr_map['relations']}\n",
    "    }\n",
    "\n",
    "    for v in variables:\n",
    "        if v.varValue:\n",
    "            tokens = v.name.split('_')\n",
    "            if tokens[0] == 'attr':\n",
    "                predicted_scene['objects'][int(tokens[2])][tokens[1]] = attr_map['attributes'][tokens[1]][int(tokens[3])]\n",
    "            elif tokens[0] == 'rel':\n",
    "                predicted_scene['relationships'][tokens[1]][int(tokens[3])].append(int(tokens[2]))\n",
    "    return predicted_scene"
   ],
   "metadata": {
    "collapsed": false,
    "pycharm": {
     "name": "#%%\n"
    }
   }
  },
  {
   "cell_type": "code",
   "execution_count": 113,
   "outputs": [
    {
     "name": "stderr",
     "output_type": "stream",
     "text": [
      "100%|██████████| 6000/6000 [10:03<00:00,  9.94it/s]\n"
     ]
    }
   ],
   "source": [
    "from tqdm import tqdm\n",
    "M = 100\n",
    "predicted_scenes = []\n",
    "solver = pulp.GUROBI_CMD(path = 'C:/gurobi951/win64/bin/gurobi_cl.exe')\n",
    "\n",
    "for scene in tqdm(scenes):\n",
    "    prob, attr_variables, rel_variables = get_LP_problem(scene, attr_map)\n",
    "    get_clevr_block_world_constraint(prob, scene, rel_variables, attr_variables, attr_map, include_small_obj=True, include_large_cube=True, include_bottom_stack=True, include_yellow=True)\n",
    "    prob.solve(solver)\n",
    "    predicted_scenes.append(get_predicted_scene_for_block_world(prob.variables(), scene))"
   ],
   "metadata": {
    "collapsed": false,
    "pycharm": {
     "name": "#%%\n"
    }
   }
  },
  {
   "cell_type": "code",
   "execution_count": 114,
   "outputs": [],
   "source": [
    "with open('../results/clevr_block_val/constraint_1234/scene_prob_fix.json', 'w') as f:\n",
    "    json.dump({'scenes': predicted_scenes}, f)\n",
    "\n"
   ],
   "metadata": {
    "collapsed": false,
    "pycharm": {
     "name": "#%%\n"
    }
   }
  },
  {
   "cell_type": "markdown",
   "source": [
    "Experiment with Gurobi Constraint formulations"
   ],
   "metadata": {
    "collapsed": false
   }
  },
  {
   "cell_type": "markdown",
   "source": [
    "## Blocksworld"
   ],
   "metadata": {
    "collapsed": false
   }
  },
  {
   "cell_type": "code",
   "execution_count": 20,
   "outputs": [],
   "source": [
    "from LPProblem import BlocksworldLPProblem\n",
    "from tqdm import tqdm"
   ],
   "metadata": {
    "collapsed": false,
    "pycharm": {
     "name": "#%%\n"
    }
   }
  },
  {
   "cell_type": "code",
   "execution_count": 123,
   "outputs": [],
   "source": [
    "with open('../results/clevr_block_val/constraint_1234/constraint_1234/data_44/scenes_coord_prob.json', 'r') as f:\n",
    "    scenes = json.load(f)['scenes']\n",
    "\n",
    "with open('../data/clevr_block/clevr_attr_map.json', 'r') as f:\n",
    "    attr_map = json.load(f)"
   ],
   "metadata": {
    "collapsed": false,
    "pycharm": {
     "name": "#%%\n"
    }
   }
  },
  {
   "cell_type": "code",
   "execution_count": 124,
   "outputs": [],
   "source": [
    "scenes = [process_coord_scene(scene, 'blockworld') for scene in scenes]"
   ],
   "metadata": {
    "collapsed": false,
    "pycharm": {
     "name": "#%%\n"
    }
   }
  },
  {
   "cell_type": "code",
   "execution_count": 125,
   "outputs": [],
   "source": [
    "problem_solver = BlocksworldLPProblem(attr_map, include_small_obj=True, include_large_cube=True, include_bottom_stack=True, include_yellow=True)"
   ],
   "metadata": {
    "collapsed": false,
    "pycharm": {
     "name": "#%%\n"
    }
   }
  },
  {
   "cell_type": "code",
   "source": [
    "predicted_scenes = []\n",
    "for scene in tqdm(scenes):\n",
    "    predicted_scenes.append(problem_solver.solve_for_scene(scene))"
   ],
   "metadata": {
    "collapsed": false,
    "pycharm": {
     "name": "#%%\n"
    }
   },
   "execution_count": 126,
   "outputs": [
    {
     "name": "stderr",
     "output_type": "stream",
     "text": [
      "100%|██████████| 2000/2000 [01:09<00:00, 28.74it/s]\n"
     ]
    }
   ]
  },
  {
   "cell_type": "code",
   "execution_count": 127,
   "outputs": [],
   "source": [
    "with open('../results/clevr_block_val/constraint_1234/constraint_1234/data_44/rel_scenes_fix_coord.json', 'w') as f:\n",
    "    json.dump({'scenes': predicted_scenes}, f)"
   ],
   "metadata": {
    "collapsed": false,
    "pycharm": {
     "name": "#%%\n"
    }
   }
  },
  {
   "cell_type": "code",
   "execution_count": null,
   "outputs": [],
   "source": [],
   "metadata": {
    "collapsed": false,
    "pycharm": {
     "name": "#%%\n"
    }
   }
  },
  {
   "cell_type": "markdown",
   "source": [
    "## Clevr"
   ],
   "metadata": {
    "collapsed": false
   }
  },
  {
   "cell_type": "code",
   "execution_count": 79,
   "outputs": [],
   "source": [
    "from LPProblem import ClevrLPProblem\n",
    "from tqdm import tqdm\n",
    "import json\n",
    "from utils import process_coord_scene_clevr\n",
    "\n",
    "with open('../results/clevr_val/original/constraint_1234/data_125/s.json', 'r') as f:\n",
    "    scenes = json.load(f)['scenes']\n",
    "\n",
    "with open('G:/My Drive/Research/data/Clevr_mini/clevr_attr_map.json', 'r') as f:\n",
    "    attr_map = json.load(f)"
   ],
   "metadata": {
    "collapsed": false,
    "pycharm": {
     "name": "#%%\n"
    }
   }
  },
  {
   "cell_type": "code",
   "execution_count": 80,
   "outputs": [
    {
     "ename": "KeyError",
     "evalue": "'x'",
     "output_type": "error",
     "traceback": [
      "\u001B[1;31m---------------------------------------------------------------------------\u001B[0m",
      "\u001B[1;31mKeyError\u001B[0m                                  Traceback (most recent call last)",
      "\u001B[1;32m~\\AppData\\Local\\Temp/ipykernel_17584/4259423453.py\u001B[0m in \u001B[0;36m<module>\u001B[1;34m\u001B[0m\n\u001B[1;32m----> 1\u001B[1;33m \u001B[0mscenes\u001B[0m \u001B[1;33m=\u001B[0m \u001B[1;33m[\u001B[0m\u001B[0mprocess_coord_scene_clevr\u001B[0m\u001B[1;33m(\u001B[0m\u001B[0mscene\u001B[0m\u001B[1;33m)\u001B[0m \u001B[1;32mfor\u001B[0m \u001B[0mscene\u001B[0m \u001B[1;32min\u001B[0m \u001B[0mscenes\u001B[0m\u001B[1;33m]\u001B[0m\u001B[1;33m\u001B[0m\u001B[1;33m\u001B[0m\u001B[0m\n\u001B[0m\u001B[0;32m      2\u001B[0m \u001B[1;33m\u001B[0m\u001B[0m\n",
      "\u001B[1;32m~\\AppData\\Local\\Temp/ipykernel_17584/4259423453.py\u001B[0m in \u001B[0;36m<listcomp>\u001B[1;34m(.0)\u001B[0m\n\u001B[1;32m----> 1\u001B[1;33m \u001B[0mscenes\u001B[0m \u001B[1;33m=\u001B[0m \u001B[1;33m[\u001B[0m\u001B[0mprocess_coord_scene_clevr\u001B[0m\u001B[1;33m(\u001B[0m\u001B[0mscene\u001B[0m\u001B[1;33m)\u001B[0m \u001B[1;32mfor\u001B[0m \u001B[0mscene\u001B[0m \u001B[1;32min\u001B[0m \u001B[0mscenes\u001B[0m\u001B[1;33m]\u001B[0m\u001B[1;33m\u001B[0m\u001B[1;33m\u001B[0m\u001B[0m\n\u001B[0m\u001B[0;32m      2\u001B[0m \u001B[1;33m\u001B[0m\u001B[0m\n",
      "\u001B[1;32m~\\Documents\\github\\Clevr-Relational\\scene_graph_solver\\utils.py\u001B[0m in \u001B[0;36mprocess_coord_scene_clevr\u001B[1;34m(scene)\u001B[0m\n\u001B[0;32m     64\u001B[0m             \u001B[1;32mif\u001B[0m \u001B[0mo1\u001B[0m \u001B[1;33m==\u001B[0m \u001B[0mo2\u001B[0m\u001B[1;33m:\u001B[0m\u001B[1;33m\u001B[0m\u001B[1;33m\u001B[0m\u001B[0m\n\u001B[0;32m     65\u001B[0m                 \u001B[1;32mcontinue\u001B[0m\u001B[1;33m\u001B[0m\u001B[1;33m\u001B[0m\u001B[0m\n\u001B[1;32m---> 66\u001B[1;33m             \u001B[1;32mif\u001B[0m \u001B[0mo1\u001B[0m\u001B[1;33m[\u001B[0m\u001B[1;34m'x'\u001B[0m\u001B[1;33m]\u001B[0m \u001B[1;33m>\u001B[0m \u001B[0mo2\u001B[0m\u001B[1;33m[\u001B[0m\u001B[1;34m'x'\u001B[0m\u001B[1;33m]\u001B[0m\u001B[1;33m:\u001B[0m\u001B[1;33m\u001B[0m\u001B[1;33m\u001B[0m\u001B[0m\n\u001B[0m\u001B[0;32m     67\u001B[0m                 \u001B[0mrelation\u001B[0m \u001B[1;33m=\u001B[0m \u001B[1;34m'left'\u001B[0m\u001B[1;33m\u001B[0m\u001B[1;33m\u001B[0m\u001B[0m\n\u001B[0;32m     68\u001B[0m             \u001B[1;32mif\u001B[0m \u001B[0mo1\u001B[0m\u001B[1;33m[\u001B[0m\u001B[1;34m'x'\u001B[0m\u001B[1;33m]\u001B[0m \u001B[1;33m<\u001B[0m \u001B[0mo2\u001B[0m\u001B[1;33m[\u001B[0m\u001B[1;34m'x'\u001B[0m\u001B[1;33m]\u001B[0m\u001B[1;33m:\u001B[0m\u001B[1;33m\u001B[0m\u001B[1;33m\u001B[0m\u001B[0m\n",
      "\u001B[1;31mKeyError\u001B[0m: 'x'"
     ]
    }
   ],
   "source": [
    "scenes = [process_coord_scene_clevr(scene) for scene in scenes]\n"
   ],
   "metadata": {
    "collapsed": false,
    "pycharm": {
     "name": "#%%\n"
    }
   }
  },
  {
   "cell_type": "code",
   "execution_count": 81,
   "outputs": [],
   "source": [
    "problem_solver = ClevrLPProblem(attr_map,color_between=True, material_order=True, large_cube=True, object_behind=True)"
   ],
   "metadata": {
    "collapsed": false,
    "pycharm": {
     "name": "#%%\n"
    }
   }
  },
  {
   "cell_type": "code",
   "execution_count": 82,
   "outputs": [
    {
     "name": "stderr",
     "output_type": "stream",
     "text": [
      "100%|██████████| 2000/2000 [01:09<00:00, 28.78it/s]\n"
     ]
    }
   ],
   "source": [
    "predicted_scenes = []\n",
    "for scene in tqdm(scenes):\n",
    "    predicted_scenes.append(problem_solver.solve_for_scene(scene))"
   ],
   "metadata": {
    "collapsed": false,
    "pycharm": {
     "name": "#%%\n"
    }
   }
  },
  {
   "cell_type": "code",
   "execution_count": 83,
   "outputs": [],
   "source": [
    "with open('../results/clevr_val/original/constraint_1234/data_125/rel_scenes_fix_c1234.json', 'w') as f:\n",
    "    json.dump({'scenes': predicted_scenes}, f)"
   ],
   "metadata": {
    "collapsed": false,
    "pycharm": {
     "name": "#%%\n"
    }
   }
  },
  {
   "cell_type": "markdown",
   "source": [
    "# VG"
   ],
   "metadata": {
    "collapsed": false,
    "pycharm": {
     "name": "#%% md\n"
    }
   }
  },
  {
   "cell_type": "code",
   "execution_count": 188,
   "outputs": [],
   "source": [
    "from LPProblem import VGLPProblem\n",
    "from clevr_block_gen.constraints import get_vg_constraint_map\n",
    "import torch\n",
    "import json\n",
    "from tqdm.notebook import tqdm\n"
   ],
   "metadata": {
    "collapsed": false,
    "pycharm": {
     "name": "#%%\n"
    }
   }
  },
  {
   "cell_type": "code",
   "execution_count": 189,
   "outputs": [],
   "source": [
    "constraints = get_vg_constraint_map()"
   ],
   "metadata": {
    "collapsed": false,
    "pycharm": {
     "name": "#%%\n"
    }
   }
  },
  {
   "cell_type": "code",
   "execution_count": 190,
   "outputs": [],
   "source": [
    "with open('../results/vg/probablistic_scenes.pytorch', 'rb') as f:\n",
    "    scenes = torch.load(f)['scenes']\n",
    "\n",
    "with open('../results/vg/schema.json', 'r') as f:\n",
    "    schema = json.load(f)"
   ],
   "metadata": {
    "collapsed": false,
    "pycharm": {
     "name": "#%%\n"
    }
   }
  },
  {
   "cell_type": "code",
   "execution_count": 195,
   "outputs": [],
   "source": [
    "problem_solver = VGLPProblem(attr_map=schema, opposite=True, person=True, transitivity=True)"
   ],
   "metadata": {
    "collapsed": false,
    "pycharm": {
     "name": "#%%\n"
    }
   }
  },
  {
   "cell_type": "code",
   "execution_count": 197,
   "outputs": [
    {
     "data": {
      "text/plain": "  0%|          | 0/100 [00:00<?, ?it/s]",
      "application/vnd.jupyter.widget-view+json": {
       "version_major": 2,
       "version_minor": 0,
       "model_id": "2b734472b4fc4de6ace8ec07809056ea"
      }
     },
     "metadata": {},
     "output_type": "display_data"
    }
   ],
   "source": [
    "predicted_scenes = []\n",
    "\n",
    "for scene in tqdm(scenes[:100]):\n",
    "    predicted_scenes.append(problem_solver.solve_for_scene(scene))"
   ],
   "metadata": {
    "collapsed": false,
    "pycharm": {
     "name": "#%%\n"
    }
   }
  },
  {
   "cell_type": "code",
   "execution_count": 193,
   "outputs": [
    {
     "name": "stdout",
     "output_type": "stream",
     "text": [
      "0\n"
     ]
    }
   ],
   "source": [
    "violations = []\n",
    "for i, scene in enumerate(predicted_scenes):\n",
    "    for name, constraint in constraints.items():\n",
    "        if not constraint.evaluate(scene):\n",
    "            violations.append((i, name))\n",
    "print(len(violations))"
   ],
   "metadata": {
    "collapsed": false,
    "pycharm": {
     "name": "#%%\n"
    }
   }
  },
  {
   "cell_type": "code",
   "execution_count": 180,
   "outputs": [
    {
     "data": {
      "text/plain": "{'1': 'above',\n '2': 'across',\n '3': 'against',\n '4': 'along',\n '5': 'and',\n '6': 'at',\n '7': 'attached to',\n '8': 'behind',\n '9': 'belonging to',\n '10': 'between',\n '11': 'carrying',\n '12': 'covered in',\n '13': 'covering',\n '14': 'eating',\n '15': 'flying in',\n '16': 'for',\n '17': 'from',\n '18': 'growing on',\n '19': 'hanging from',\n '20': 'has',\n '21': 'holding',\n '22': 'in',\n '23': 'in front of',\n '24': 'laying on',\n '25': 'looking at',\n '26': 'lying on',\n '27': 'made of',\n '28': 'mounted on',\n '29': 'near',\n '30': 'of',\n '31': 'on',\n '32': 'on back of',\n '33': 'over',\n '34': 'painted on',\n '35': 'parked on',\n '36': 'part of',\n '37': 'playing',\n '38': 'riding',\n '39': 'says',\n '40': 'sitting on',\n '41': 'standing on',\n '42': 'to',\n '43': 'under',\n '44': 'using',\n '45': 'walking in',\n '46': 'walking on',\n '47': 'watching',\n '48': 'wearing',\n '49': 'wears',\n '50': 'with'}"
     },
     "execution_count": 180,
     "metadata": {},
     "output_type": "execute_result"
    }
   ],
   "source": [
    "schema['idx_to_predicate']"
   ],
   "metadata": {
    "collapsed": false,
    "pycharm": {
     "name": "#%%\n"
    }
   }
  },
  {
   "cell_type": "code",
   "execution_count": 194,
   "outputs": [],
   "source": [
    "with open('../results/vg/scene_fixed.json', 'w') as f:\n",
    "    json.dump({'scenes': predicted_scenes}, f)"
   ],
   "metadata": {
    "collapsed": false,
    "pycharm": {
     "name": "#%%\n"
    }
   }
  },
  {
   "cell_type": "code",
   "execution_count": 77,
   "outputs": [
    {
     "data": {
      "text/plain": "330"
     },
     "execution_count": 77,
     "metadata": {},
     "output_type": "execute_result"
    }
   ],
   "source": [
    "from measurements import ProblemDomain"
   ],
   "metadata": {
    "collapsed": false,
    "pycharm": {
     "name": "#%%\n"
    }
   }
  },
  {
   "cell_type": "code",
   "execution_count": 147,
   "outputs": [
    {
     "data": {
      "text/plain": "[(0, 1, 2),\n (0, 1, 3),\n (0, 1, 4),\n (0, 1, 5),\n (0, 1, 6),\n (0, 1, 7),\n (0, 1, 8),\n (0, 1, 9),\n (0, 2, 1),\n (0, 2, 3),\n (0, 2, 4),\n (0, 2, 5),\n (0, 2, 6),\n (0, 2, 7),\n (0, 2, 8),\n (0, 2, 9),\n (0, 3, 1),\n (0, 3, 2),\n (0, 3, 4),\n (0, 3, 5),\n (0, 3, 6),\n (0, 3, 7),\n (0, 3, 8),\n (0, 3, 9),\n (0, 4, 1),\n (0, 4, 2),\n (0, 4, 3),\n (0, 4, 5),\n (0, 4, 6),\n (0, 4, 7),\n (0, 4, 8),\n (0, 4, 9),\n (0, 5, 1),\n (0, 5, 2),\n (0, 5, 3),\n (0, 5, 4),\n (0, 5, 6),\n (0, 5, 7),\n (0, 5, 8),\n (0, 5, 9),\n (0, 6, 1),\n (0, 6, 2),\n (0, 6, 3),\n (0, 6, 4),\n (0, 6, 5),\n (0, 6, 7),\n (0, 6, 8),\n (0, 6, 9),\n (0, 7, 1),\n (0, 7, 2),\n (0, 7, 3),\n (0, 7, 4),\n (0, 7, 5),\n (0, 7, 6),\n (0, 7, 8),\n (0, 7, 9),\n (0, 8, 1),\n (0, 8, 2),\n (0, 8, 3),\n (0, 8, 4),\n (0, 8, 5),\n (0, 8, 6),\n (0, 8, 7),\n (0, 8, 9),\n (0, 9, 1),\n (0, 9, 2),\n (0, 9, 3),\n (0, 9, 4),\n (0, 9, 5),\n (0, 9, 6),\n (0, 9, 7),\n (0, 9, 8),\n (1, 0, 2),\n (1, 0, 3),\n (1, 0, 4),\n (1, 0, 5),\n (1, 0, 6),\n (1, 0, 7),\n (1, 0, 8),\n (1, 0, 9),\n (1, 2, 0),\n (1, 2, 3),\n (1, 2, 4),\n (1, 2, 5),\n (1, 2, 6),\n (1, 2, 7),\n (1, 2, 8),\n (1, 2, 9),\n (1, 3, 0),\n (1, 3, 2),\n (1, 3, 4),\n (1, 3, 5),\n (1, 3, 6),\n (1, 3, 7),\n (1, 3, 8),\n (1, 3, 9),\n (1, 4, 0),\n (1, 4, 2),\n (1, 4, 3),\n (1, 4, 5),\n (1, 4, 6),\n (1, 4, 7),\n (1, 4, 8),\n (1, 4, 9),\n (1, 5, 0),\n (1, 5, 2),\n (1, 5, 3),\n (1, 5, 4),\n (1, 5, 6),\n (1, 5, 7),\n (1, 5, 8),\n (1, 5, 9),\n (1, 6, 0),\n (1, 6, 2),\n (1, 6, 3),\n (1, 6, 4),\n (1, 6, 5),\n (1, 6, 7),\n (1, 6, 8),\n (1, 6, 9),\n (1, 7, 0),\n (1, 7, 2),\n (1, 7, 3),\n (1, 7, 4),\n (1, 7, 5),\n (1, 7, 6),\n (1, 7, 8),\n (1, 7, 9),\n (1, 8, 0),\n (1, 8, 2),\n (1, 8, 3),\n (1, 8, 4),\n (1, 8, 5),\n (1, 8, 6),\n (1, 8, 7),\n (1, 8, 9),\n (1, 9, 0),\n (1, 9, 2),\n (1, 9, 3),\n (1, 9, 4),\n (1, 9, 5),\n (1, 9, 6),\n (1, 9, 7),\n (1, 9, 8),\n (2, 0, 1),\n (2, 0, 3),\n (2, 0, 4),\n (2, 0, 5),\n (2, 0, 6),\n (2, 0, 7),\n (2, 0, 8),\n (2, 0, 9),\n (2, 1, 0),\n (2, 1, 3),\n (2, 1, 4),\n (2, 1, 5),\n (2, 1, 6),\n (2, 1, 7),\n (2, 1, 8),\n (2, 1, 9),\n (2, 3, 0),\n (2, 3, 1),\n (2, 3, 4),\n (2, 3, 5),\n (2, 3, 6),\n (2, 3, 7),\n (2, 3, 8),\n (2, 3, 9),\n (2, 4, 0),\n (2, 4, 1),\n (2, 4, 3),\n (2, 4, 5),\n (2, 4, 6),\n (2, 4, 7),\n (2, 4, 8),\n (2, 4, 9),\n (2, 5, 0),\n (2, 5, 1),\n (2, 5, 3),\n (2, 5, 4),\n (2, 5, 6),\n (2, 5, 7),\n (2, 5, 8),\n (2, 5, 9),\n (2, 6, 0),\n (2, 6, 1),\n (2, 6, 3),\n (2, 6, 4),\n (2, 6, 5),\n (2, 6, 7),\n (2, 6, 8),\n (2, 6, 9),\n (2, 7, 0),\n (2, 7, 1),\n (2, 7, 3),\n (2, 7, 4),\n (2, 7, 5),\n (2, 7, 6),\n (2, 7, 8),\n (2, 7, 9),\n (2, 8, 0),\n (2, 8, 1),\n (2, 8, 3),\n (2, 8, 4),\n (2, 8, 5),\n (2, 8, 6),\n (2, 8, 7),\n (2, 8, 9),\n (2, 9, 0),\n (2, 9, 1),\n (2, 9, 3),\n (2, 9, 4),\n (2, 9, 5),\n (2, 9, 6),\n (2, 9, 7),\n (2, 9, 8),\n (3, 0, 1),\n (3, 0, 2),\n (3, 0, 4),\n (3, 0, 5),\n (3, 0, 6),\n (3, 0, 7),\n (3, 0, 8),\n (3, 0, 9),\n (3, 1, 0),\n (3, 1, 2),\n (3, 1, 4),\n (3, 1, 5),\n (3, 1, 6),\n (3, 1, 7),\n (3, 1, 8),\n (3, 1, 9),\n (3, 2, 0),\n (3, 2, 1),\n (3, 2, 4),\n (3, 2, 5),\n (3, 2, 6),\n (3, 2, 7),\n (3, 2, 8),\n (3, 2, 9),\n (3, 4, 0),\n (3, 4, 1),\n (3, 4, 2),\n (3, 4, 5),\n (3, 4, 6),\n (3, 4, 7),\n (3, 4, 8),\n (3, 4, 9),\n (3, 5, 0),\n (3, 5, 1),\n (3, 5, 2),\n (3, 5, 4),\n (3, 5, 6),\n (3, 5, 7),\n (3, 5, 8),\n (3, 5, 9),\n (3, 6, 0),\n (3, 6, 1),\n (3, 6, 2),\n (3, 6, 4),\n (3, 6, 5),\n (3, 6, 7),\n (3, 6, 8),\n (3, 6, 9),\n (3, 7, 0),\n (3, 7, 1),\n (3, 7, 2),\n (3, 7, 4),\n (3, 7, 5),\n (3, 7, 6),\n (3, 7, 8),\n (3, 7, 9),\n (3, 8, 0),\n (3, 8, 1),\n (3, 8, 2),\n (3, 8, 4),\n (3, 8, 5),\n (3, 8, 6),\n (3, 8, 7),\n (3, 8, 9),\n (3, 9, 0),\n (3, 9, 1),\n (3, 9, 2),\n (3, 9, 4),\n (3, 9, 5),\n (3, 9, 6),\n (3, 9, 7),\n (3, 9, 8),\n (4, 0, 1),\n (4, 0, 2),\n (4, 0, 3),\n (4, 0, 5),\n (4, 0, 6),\n (4, 0, 7),\n (4, 0, 8),\n (4, 0, 9),\n (4, 1, 0),\n (4, 1, 2),\n (4, 1, 3),\n (4, 1, 5),\n (4, 1, 6),\n (4, 1, 7),\n (4, 1, 8),\n (4, 1, 9),\n (4, 2, 0),\n (4, 2, 1),\n (4, 2, 3),\n (4, 2, 5),\n (4, 2, 6),\n (4, 2, 7),\n (4, 2, 8),\n (4, 2, 9),\n (4, 3, 0),\n (4, 3, 1),\n (4, 3, 2),\n (4, 3, 5),\n (4, 3, 6),\n (4, 3, 7),\n (4, 3, 8),\n (4, 3, 9),\n (4, 5, 0),\n (4, 5, 1),\n (4, 5, 2),\n (4, 5, 3),\n (4, 5, 6),\n (4, 5, 7),\n (4, 5, 8),\n (4, 5, 9),\n (4, 6, 0),\n (4, 6, 1),\n (4, 6, 2),\n (4, 6, 3),\n (4, 6, 5),\n (4, 6, 7),\n (4, 6, 8),\n (4, 6, 9),\n (4, 7, 0),\n (4, 7, 1),\n (4, 7, 2),\n (4, 7, 3),\n (4, 7, 5),\n (4, 7, 6),\n (4, 7, 8),\n (4, 7, 9),\n (4, 8, 0),\n (4, 8, 1),\n (4, 8, 2),\n (4, 8, 3),\n (4, 8, 5),\n (4, 8, 6),\n (4, 8, 7),\n (4, 8, 9),\n (4, 9, 0),\n (4, 9, 1),\n (4, 9, 2),\n (4, 9, 3),\n (4, 9, 5),\n (4, 9, 6),\n (4, 9, 7),\n (4, 9, 8),\n (5, 0, 1),\n (5, 0, 2),\n (5, 0, 3),\n (5, 0, 4),\n (5, 0, 6),\n (5, 0, 7),\n (5, 0, 8),\n (5, 0, 9),\n (5, 1, 0),\n (5, 1, 2),\n (5, 1, 3),\n (5, 1, 4),\n (5, 1, 6),\n (5, 1, 7),\n (5, 1, 8),\n (5, 1, 9),\n (5, 2, 0),\n (5, 2, 1),\n (5, 2, 3),\n (5, 2, 4),\n (5, 2, 6),\n (5, 2, 7),\n (5, 2, 8),\n (5, 2, 9),\n (5, 3, 0),\n (5, 3, 1),\n (5, 3, 2),\n (5, 3, 4),\n (5, 3, 6),\n (5, 3, 7),\n (5, 3, 8),\n (5, 3, 9),\n (5, 4, 0),\n (5, 4, 1),\n (5, 4, 2),\n (5, 4, 3),\n (5, 4, 6),\n (5, 4, 7),\n (5, 4, 8),\n (5, 4, 9),\n (5, 6, 0),\n (5, 6, 1),\n (5, 6, 2),\n (5, 6, 3),\n (5, 6, 4),\n (5, 6, 7),\n (5, 6, 8),\n (5, 6, 9),\n (5, 7, 0),\n (5, 7, 1),\n (5, 7, 2),\n (5, 7, 3),\n (5, 7, 4),\n (5, 7, 6),\n (5, 7, 8),\n (5, 7, 9),\n (5, 8, 0),\n (5, 8, 1),\n (5, 8, 2),\n (5, 8, 3),\n (5, 8, 4),\n (5, 8, 6),\n (5, 8, 7),\n (5, 8, 9),\n (5, 9, 0),\n (5, 9, 1),\n (5, 9, 2),\n (5, 9, 3),\n (5, 9, 4),\n (5, 9, 6),\n (5, 9, 7),\n (5, 9, 8),\n (6, 0, 1),\n (6, 0, 2),\n (6, 0, 3),\n (6, 0, 4),\n (6, 0, 5),\n (6, 0, 7),\n (6, 0, 8),\n (6, 0, 9),\n (6, 1, 0),\n (6, 1, 2),\n (6, 1, 3),\n (6, 1, 4),\n (6, 1, 5),\n (6, 1, 7),\n (6, 1, 8),\n (6, 1, 9),\n (6, 2, 0),\n (6, 2, 1),\n (6, 2, 3),\n (6, 2, 4),\n (6, 2, 5),\n (6, 2, 7),\n (6, 2, 8),\n (6, 2, 9),\n (6, 3, 0),\n (6, 3, 1),\n (6, 3, 2),\n (6, 3, 4),\n (6, 3, 5),\n (6, 3, 7),\n (6, 3, 8),\n (6, 3, 9),\n (6, 4, 0),\n (6, 4, 1),\n (6, 4, 2),\n (6, 4, 3),\n (6, 4, 5),\n (6, 4, 7),\n (6, 4, 8),\n (6, 4, 9),\n (6, 5, 0),\n (6, 5, 1),\n (6, 5, 2),\n (6, 5, 3),\n (6, 5, 4),\n (6, 5, 7),\n (6, 5, 8),\n (6, 5, 9),\n (6, 7, 0),\n (6, 7, 1),\n (6, 7, 2),\n (6, 7, 3),\n (6, 7, 4),\n (6, 7, 5),\n (6, 7, 8),\n (6, 7, 9),\n (6, 8, 0),\n (6, 8, 1),\n (6, 8, 2),\n (6, 8, 3),\n (6, 8, 4),\n (6, 8, 5),\n (6, 8, 7),\n (6, 8, 9),\n (6, 9, 0),\n (6, 9, 1),\n (6, 9, 2),\n (6, 9, 3),\n (6, 9, 4),\n (6, 9, 5),\n (6, 9, 7),\n (6, 9, 8),\n (7, 0, 1),\n (7, 0, 2),\n (7, 0, 3),\n (7, 0, 4),\n (7, 0, 5),\n (7, 0, 6),\n (7, 0, 8),\n (7, 0, 9),\n (7, 1, 0),\n (7, 1, 2),\n (7, 1, 3),\n (7, 1, 4),\n (7, 1, 5),\n (7, 1, 6),\n (7, 1, 8),\n (7, 1, 9),\n (7, 2, 0),\n (7, 2, 1),\n (7, 2, 3),\n (7, 2, 4),\n (7, 2, 5),\n (7, 2, 6),\n (7, 2, 8),\n (7, 2, 9),\n (7, 3, 0),\n (7, 3, 1),\n (7, 3, 2),\n (7, 3, 4),\n (7, 3, 5),\n (7, 3, 6),\n (7, 3, 8),\n (7, 3, 9),\n (7, 4, 0),\n (7, 4, 1),\n (7, 4, 2),\n (7, 4, 3),\n (7, 4, 5),\n (7, 4, 6),\n (7, 4, 8),\n (7, 4, 9),\n (7, 5, 0),\n (7, 5, 1),\n (7, 5, 2),\n (7, 5, 3),\n (7, 5, 4),\n (7, 5, 6),\n (7, 5, 8),\n (7, 5, 9),\n (7, 6, 0),\n (7, 6, 1),\n (7, 6, 2),\n (7, 6, 3),\n (7, 6, 4),\n (7, 6, 5),\n (7, 6, 8),\n (7, 6, 9),\n (7, 8, 0),\n (7, 8, 1),\n (7, 8, 2),\n (7, 8, 3),\n (7, 8, 4),\n (7, 8, 5),\n (7, 8, 6),\n (7, 8, 9),\n (7, 9, 0),\n (7, 9, 1),\n (7, 9, 2),\n (7, 9, 3),\n (7, 9, 4),\n (7, 9, 5),\n (7, 9, 6),\n (7, 9, 8),\n (8, 0, 1),\n (8, 0, 2),\n (8, 0, 3),\n (8, 0, 4),\n (8, 0, 5),\n (8, 0, 6),\n (8, 0, 7),\n (8, 0, 9),\n (8, 1, 0),\n (8, 1, 2),\n (8, 1, 3),\n (8, 1, 4),\n (8, 1, 5),\n (8, 1, 6),\n (8, 1, 7),\n (8, 1, 9),\n (8, 2, 0),\n (8, 2, 1),\n (8, 2, 3),\n (8, 2, 4),\n (8, 2, 5),\n (8, 2, 6),\n (8, 2, 7),\n (8, 2, 9),\n (8, 3, 0),\n (8, 3, 1),\n (8, 3, 2),\n (8, 3, 4),\n (8, 3, 5),\n (8, 3, 6),\n (8, 3, 7),\n (8, 3, 9),\n (8, 4, 0),\n (8, 4, 1),\n (8, 4, 2),\n (8, 4, 3),\n (8, 4, 5),\n (8, 4, 6),\n (8, 4, 7),\n (8, 4, 9),\n (8, 5, 0),\n (8, 5, 1),\n (8, 5, 2),\n (8, 5, 3),\n (8, 5, 4),\n (8, 5, 6),\n (8, 5, 7),\n (8, 5, 9),\n (8, 6, 0),\n (8, 6, 1),\n (8, 6, 2),\n (8, 6, 3),\n (8, 6, 4),\n (8, 6, 5),\n (8, 6, 7),\n (8, 6, 9),\n (8, 7, 0),\n (8, 7, 1),\n (8, 7, 2),\n (8, 7, 3),\n (8, 7, 4),\n (8, 7, 5),\n (8, 7, 6),\n (8, 7, 9),\n (8, 9, 0),\n (8, 9, 1),\n (8, 9, 2),\n (8, 9, 3),\n (8, 9, 4),\n (8, 9, 5),\n (8, 9, 6),\n (8, 9, 7),\n (9, 0, 1),\n (9, 0, 2),\n (9, 0, 3),\n (9, 0, 4),\n (9, 0, 5),\n (9, 0, 6),\n (9, 0, 7),\n (9, 0, 8),\n (9, 1, 0),\n (9, 1, 2),\n (9, 1, 3),\n (9, 1, 4),\n (9, 1, 5),\n (9, 1, 6),\n (9, 1, 7),\n (9, 1, 8),\n (9, 2, 0),\n (9, 2, 1),\n (9, 2, 3),\n (9, 2, 4),\n (9, 2, 5),\n (9, 2, 6),\n (9, 2, 7),\n (9, 2, 8),\n (9, 3, 0),\n (9, 3, 1),\n (9, 3, 2),\n (9, 3, 4),\n (9, 3, 5),\n (9, 3, 6),\n (9, 3, 7),\n (9, 3, 8),\n (9, 4, 0),\n (9, 4, 1),\n (9, 4, 2),\n (9, 4, 3),\n (9, 4, 5),\n (9, 4, 6),\n (9, 4, 7),\n (9, 4, 8),\n (9, 5, 0),\n (9, 5, 1),\n (9, 5, 2),\n (9, 5, 3),\n (9, 5, 4),\n (9, 5, 6),\n (9, 5, 7),\n (9, 5, 8),\n (9, 6, 0),\n (9, 6, 1),\n (9, 6, 2),\n (9, 6, 3),\n (9, 6, 4),\n (9, 6, 5),\n (9, 6, 7),\n (9, 6, 8),\n (9, 7, 0),\n (9, 7, 1),\n (9, 7, 2),\n (9, 7, 3),\n (9, 7, 4),\n (9, 7, 5),\n (9, 7, 6),\n (9, 7, 8),\n (9, 8, 0),\n (9, 8, 1),\n (9, 8, 2),\n (9, 8, 3),\n (9, 8, 4),\n (9, 8, 5),\n (9, 8, 6),\n (9, 8, 7)]"
     },
     "execution_count": 147,
     "metadata": {},
     "output_type": "execute_result"
    }
   ],
   "source": [
    "from itertools import permutations\n",
    "list(permutations(range(10), 3))"
   ],
   "metadata": {
    "collapsed": false,
    "pycharm": {
     "name": "#%%\n"
    }
   }
  },
  {
   "cell_type": "code",
   "execution_count": null,
   "outputs": [],
   "source": [],
   "metadata": {
    "collapsed": false,
    "pycharm": {
     "name": "#%%\n"
    }
   }
  }
 ],
 "metadata": {
  "kernelspec": {
   "name": "python3",
   "language": "python",
   "display_name": "Python 3"
  },
  "language_info": {
   "codemirror_mode": {
    "name": "ipython",
    "version": 2
   },
   "file_extension": ".py",
   "mimetype": "text/x-python",
   "name": "python",
   "nbconvert_exporter": "python",
   "pygments_lexer": "ipython2",
   "version": "2.7.6"
  }
 },
 "nbformat": 4,
 "nbformat_minor": 0
}