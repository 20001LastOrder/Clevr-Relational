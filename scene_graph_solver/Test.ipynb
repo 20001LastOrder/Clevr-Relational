{
 "cells": [
  {
   "cell_type": "code",
   "execution_count": 99,
   "outputs": [
    {
     "name": "stdout",
     "output_type": "stream",
     "text": [
      "The autoreload extension is already loaded. To reload it, use:\n",
      "  %reload_ext autoreload\n"
     ]
    }
   ],
   "source": [
    "%load_ext autoreload\n",
    "%autoreload 2"
   ],
   "metadata": {
    "collapsed": false,
    "pycharm": {
     "name": "#%%\n"
    }
   }
  },
  {
   "cell_type": "code",
   "execution_count": 109,
   "outputs": [],
   "source": [
    "# from main import get_normalized_probability, cal_most_prob_scene, reverse_relation\n",
    "import json\n",
    "import pulp\n",
    "import numpy as np\n",
    "from LPConstraints import get_clevr_block_world_constraint"
   ],
   "metadata": {
    "collapsed": false,
    "pycharm": {
     "name": "#%%\n"
    }
   }
  },
  {
   "cell_type": "code",
   "execution_count": 200,
   "outputs": [],
   "source": [
    "with open('../results/clevr_block_val/constraint_1_2_3_4/rel_scenes.json', 'r') as f:\n",
    "    scenes = json.load(f)['scenes']\n",
    "\n",
    "with open('../data/clevr_block/clevr_attr_map.json', 'r') as f:\n",
    "    attr_map = json.load(f)"
   ],
   "metadata": {
    "collapsed": false,
    "pycharm": {
     "name": "#%%\n"
    }
   }
  },
  {
   "cell_type": "code",
   "execution_count": 201,
   "outputs": [],
   "source": [
    "scene = scenes[0]"
   ],
   "metadata": {
    "collapsed": false,
    "pycharm": {
     "name": "#%%\n"
    }
   }
  },
  {
   "cell_type": "code",
   "execution_count": 202,
   "outputs": [],
   "source": [
    "def get_attribute_variables(objects, attributes_map):\n",
    "    variables = []\n",
    "    probabilities = {}\n",
    "    num_objects = len(objects)\n",
    "\n",
    "    for name, values in attributes_map.items():\n",
    "        for v, _ in enumerate(values):\n",
    "            for i in range(num_objects):\n",
    "                variable_name = f'{name}_{i}_{v}'\n",
    "                variables.append(variable_name)\n",
    "                probabilities[variable_name] = objects[i][name][v]\n",
    "    return variables, probabilities\n",
    "\n",
    "def get_relationship_variables(scene, relationships):\n",
    "    variables = []\n",
    "    probabilities = {}\n",
    "\n",
    "    for rel in relationships:\n",
    "        for target, sources in enumerate(scene['relationships'][rel]):\n",
    "            for source, probability in sources:\n",
    "                # TODO: change the prediction for below and above (currently flipped)\n",
    "                variable_name = f'{rel}_{source}_{target}'\n",
    "                variables.append(variable_name)\n",
    "                probabilities[variable_name] = probability\n",
    "    return variables, probabilities\n",
    "\n",
    "def get_LP_problem(scene, attr_map, eps=1e-50):\n",
    "    attr_variables, attr_probabilities = get_attribute_variables(scene['objects'], attr_map['attributes'])\n",
    "    rel_variables, rel_probabilities = get_relationship_variables(scene, attr_map['relations'])\n",
    "\n",
    "\n",
    "    attr_variables = pulp.LpVariable.dict('attr', attr_variables, 0, 1, pulp.LpBinary)\n",
    "    rel_variables = pulp.LpVariable.dict('rel', rel_variables, 0, 1, pulp.LpBinary)\n",
    "\n",
    "    attr_objective = [attr_variables[i] * np.log(max(attr_probabilities[i], eps)) for i in attr_variables.keys()]\n",
    "    rel_objective = [rel_variables[i] * np.log(max(rel_probabilities[i], eps)) + (1 - rel_variables[i]) * np.log((max(1 - rel_probabilities[i], eps))) for i in rel_variables.keys()]\n",
    "\n",
    "    prob = pulp.LpProblem(\"sceneGraphProblem\", pulp.LpMaximize)\n",
    "    prob += pulp.lpSum(attr_objective + rel_objective)\n",
    "    return prob, attr_variables, rel_variables\n",
    "\n",
    "def get_predicted_scene_for_block_world(variables):\n",
    "    predicted_scene = {\n",
    "        'objects': [{} for _ in range(len(scene['objects']))],\n",
    "        'relationships': { rel: [[] for _ in range(len(scene['objects']))] for rel in attr_map['relations']}\n",
    "    }\n",
    "\n",
    "    for v in variables:\n",
    "        if v.varValue:\n",
    "            tokens = v.name.split('_')\n",
    "            if tokens[0] == 'attr':\n",
    "                predicted_scene['objects'][int(tokens[2])][tokens[1]] = attr_map['attributes'][tokens[1]][int(tokens[3])]\n",
    "            elif tokens[0] == 'rel':\n",
    "                predicted_scene['relationships'][tokens[1]][int(tokens[3])].append(int(tokens[2]))\n",
    "    return predicted_scene"
   ],
   "metadata": {
    "collapsed": false,
    "pycharm": {
     "name": "#%%\n"
    }
   }
  },
  {
   "cell_type": "code",
   "execution_count": 205,
   "outputs": [
    {
     "name": "stderr",
     "output_type": "stream",
     "text": [
      "100%|██████████| 1000/1000 [00:53<00:00, 18.64it/s]\n"
     ]
    }
   ],
   "source": [
    "from tqdm import tqdm\n",
    "M = 100\n",
    "predicted_scenes = []\n",
    "\n",
    "for scene in tqdm(scenes):\n",
    "    prob, attr_variables, rel_variables = get_LP_problem(scene, attr_map)\n",
    "    get_clevr_block_world_constraint(prob, scene, rel_variables, attr_variables, attr_map, include_small_obj=True, include_large_cube=True)\n",
    "    prob.solve()\n",
    "    predicted_scenes.append(get_predicted_scene_for_block_world(prob.variables()))"
   ],
   "metadata": {
    "collapsed": false,
    "pycharm": {
     "name": "#%%\n"
    }
   }
  },
  {
   "cell_type": "code",
   "execution_count": 207,
   "outputs": [],
   "source": [
    "with open('../results/clevr_block_val/constraint_1_2_3_4/rel_scenes_consistent_1_2.json', 'w') as f:\n",
    "    json.dump({'scenes': predicted_scenes}, f)\n",
    "\n"
   ],
   "metadata": {
    "collapsed": false,
    "pycharm": {
     "name": "#%%\n"
    }
   }
  },
  {
   "cell_type": "code",
   "execution_count": 173,
   "outputs": [
    {
     "data": {
      "text/plain": "{'shape_0_0': attr_shape_0_0,\n 'shape_1_0': attr_shape_1_0,\n 'shape_2_0': attr_shape_2_0,\n 'shape_0_1': attr_shape_0_1,\n 'shape_1_1': attr_shape_1_1,\n 'shape_2_1': attr_shape_2_1,\n 'shape_0_2': attr_shape_0_2,\n 'shape_1_2': attr_shape_1_2,\n 'shape_2_2': attr_shape_2_2,\n 'size_0_0': attr_size_0_0,\n 'size_1_0': attr_size_1_0,\n 'size_2_0': attr_size_2_0,\n 'size_0_1': attr_size_0_1,\n 'size_1_1': attr_size_1_1,\n 'size_2_1': attr_size_2_1,\n 'material_0_0': attr_material_0_0,\n 'material_1_0': attr_material_1_0,\n 'material_2_0': attr_material_2_0,\n 'material_0_1': attr_material_0_1,\n 'material_1_1': attr_material_1_1,\n 'material_2_1': attr_material_2_1,\n 'color_0_0': attr_color_0_0,\n 'color_1_0': attr_color_1_0,\n 'color_2_0': attr_color_2_0,\n 'color_0_1': attr_color_0_1,\n 'color_1_1': attr_color_1_1,\n 'color_2_1': attr_color_2_1,\n 'color_0_2': attr_color_0_2,\n 'color_1_2': attr_color_1_2,\n 'color_2_2': attr_color_2_2,\n 'color_0_3': attr_color_0_3,\n 'color_1_3': attr_color_1_3,\n 'color_2_3': attr_color_2_3,\n 'color_0_4': attr_color_0_4,\n 'color_1_4': attr_color_1_4,\n 'color_2_4': attr_color_2_4,\n 'color_0_5': attr_color_0_5,\n 'color_1_5': attr_color_1_5,\n 'color_2_5': attr_color_2_5,\n 'color_0_6': attr_color_0_6,\n 'color_1_6': attr_color_1_6,\n 'color_2_6': attr_color_2_6,\n 'color_0_7': attr_color_0_7,\n 'color_1_7': attr_color_1_7,\n 'color_2_7': attr_color_2_7}"
     },
     "execution_count": 173,
     "metadata": {},
     "output_type": "execute_result"
    }
   ],
   "source": [
    "attr_variables"
   ],
   "metadata": {
    "collapsed": false,
    "pycharm": {
     "name": "#%%\n"
    }
   }
  },
  {
   "cell_type": "code",
   "execution_count": 203,
   "outputs": [
    {
     "name": "stdout",
     "output_type": "stream",
     "text": [
      "174\n"
     ]
    }
   ],
   "source": [
    "print(len(prob.constraints))"
   ],
   "metadata": {
    "collapsed": false,
    "pycharm": {
     "name": "#%%\n"
    }
   }
  },
  {
   "cell_type": "code",
   "execution_count": 169,
   "outputs": [
    {
     "data": {
      "text/plain": "1.0"
     },
     "execution_count": 169,
     "metadata": {},
     "output_type": "execute_result"
    }
   ],
   "source": [
    "rel_variables[f'left_{3}_{5}'].varValue"
   ],
   "metadata": {
    "collapsed": false,
    "pycharm": {
     "name": "#%%\n"
    }
   }
  },
  {
   "cell_type": "code",
   "execution_count": 154,
   "outputs": [],
   "source": [
    "scene_file = '../data/clevr_block/constraint_1_2_3_4/scenes.json'\n",
    "\n",
    "with open(scene_file) as f:\n",
    "    gt_scenes = json.load(f)"
   ],
   "metadata": {
    "collapsed": false,
    "pycharm": {
     "name": "#%%\n"
    }
   }
  },
  {
   "cell_type": "code",
   "execution_count": 155,
   "outputs": [],
   "source": [
    "for scene in gt_scenes['scenes']:\n",
    "    scene['relationships']['above'], scene['relationships']['below'] = scene['relationships']['below'], scene['relationships']['above']"
   ],
   "metadata": {
    "collapsed": false,
    "pycharm": {
     "name": "#%%\n"
    }
   }
  },
  {
   "cell_type": "code",
   "execution_count": 156,
   "outputs": [],
   "source": [
    "with open(scene_file, 'w') as f:\n",
    "    json.dump(gt_scenes, f)"
   ],
   "metadata": {
    "collapsed": false,
    "pycharm": {
     "name": "#%%\n"
    }
   }
  },
  {
   "cell_type": "code",
   "execution_count": null,
   "outputs": [],
   "source": [],
   "metadata": {
    "collapsed": false,
    "pycharm": {
     "name": "#%%\n"
    }
   }
  }
 ],
 "metadata": {
  "kernelspec": {
   "name": "python3",
   "language": "python",
   "display_name": "Python 3"
  },
  "language_info": {
   "codemirror_mode": {
    "name": "ipython",
    "version": 2
   },
   "file_extension": ".py",
   "mimetype": "text/x-python",
   "name": "python",
   "nbconvert_exporter": "python",
   "pygments_lexer": "ipython2",
   "version": "2.7.6"
  }
 },
 "nbformat": 4,
 "nbformat_minor": 0
}