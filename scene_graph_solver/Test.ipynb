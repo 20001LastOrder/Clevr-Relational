{
 "cells": [
  {
   "cell_type": "code",
   "execution_count": null,
   "outputs": [],
   "source": [
    "import pulp\n",
    "import json\n",
    "from argparse import ArgumentParser\n",
    "import numpy as np"
   ],
   "metadata": {
    "collapsed": false,
    "pycharm": {
     "name": "#%%\n"
    }
   }
  },
  {
   "cell_type": "code",
   "execution_count": null,
   "outputs": [],
   "source": [
    "parser = ArgumentParser()\n",
    "parser.add_argument('--input', type=str, required=True)\n",
    "parser.add_argument('--output', type=str, required=True)\n",
    "\n",
    "args = parser.parse_args()\n",
    "\n",
    "\n",
    "def main"
   ],
   "metadata": {
    "collapsed": false,
    "pycharm": {
     "name": "#%%\n"
    }
   }
  },
  {
   "cell_type": "code",
   "execution_count": 43,
   "outputs": [],
   "source": [
    "ps = {}\n",
    "for source, targets in enumerate(scene['relationships']['left']):\n",
    "    for target, p in targets:\n",
    "        ps[f'{source},{target}'] = p"
   ],
   "metadata": {
    "collapsed": false,
    "pycharm": {
     "name": "#%%\n"
    }
   }
  },
  {
   "cell_type": "code",
   "execution_count": 74,
   "outputs": [
    {
     "name": "stdout",
     "output_type": "stream",
     "text": [
      "[[], [0, 2, 3, 4, 5, 6, 7], [0, 3, 4, 6], [0, 4, 6], [0, 6], [0, 2, 3, 4, 6, 7], [0], [0, 2, 3, 4, 6]]\n"
     ]
    },
    {
     "data": {
      "text/plain": "[[1, 2, 3, 4, 5, 6, 7],\n [],\n [1, 5, 7],\n [1, 2, 5, 7],\n [1, 2, 3, 5, 7],\n [1],\n [1, 2, 3, 4, 5, 7],\n [1, 5]]"
     },
     "execution_count": 74,
     "metadata": {},
     "output_type": "execute_result"
    }
   ],
   "source": [
    "left_relations = cal_most_prob_scene(ps, len(scene['objects']))\n",
    "print(left_relations)\n",
    "reverse_relation(left_relations)"
   ],
   "metadata": {
    "collapsed": false,
    "pycharm": {
     "name": "#%%\n"
    }
   }
  },
  {
   "cell_type": "code",
   "execution_count": 72,
   "outputs": [],
   "source": [
    "def cal_most_prob_scene(edges, num_objects, eps = 1e-50):\n",
    "    indexes = []\n",
    "    for i in range(num_objects):\n",
    "        for j in range(num_objects):\n",
    "            if i != j:\n",
    "                indexes.append(f'{i},{j}')\n",
    "\n",
    "    variables = pulp.LpVariable.dict('', indexes, 0, 1, pulp.LpInteger)\n",
    "\n",
    "    prob = pulp.LpProblem(\"sceneGraphProblem\", pulp.LpMaximize)\n",
    "    prob += pulp.lpSum([variables[i] * np.log(max(edges[i], eps)) +\n",
    "                    (1 - variables[i]) * np.log(max(1 - edges[i], eps)) for i in indexes])\n",
    "\n",
    "    # constriants\n",
    "    # between two node, there exist one and only one edge\n",
    "    for i in range(num_objects):\n",
    "        for j in range(num_objects):\n",
    "            if i != j:\n",
    "                prob += variables[f'{i},{j}'] + variables[f'{j},{i}'] == 1\n",
    "\n",
    "    # The transitivity must be followed\n",
    "    for i in range(num_objects):\n",
    "        for j in range(num_objects):\n",
    "            for k in range(num_objects):\n",
    "                if i != j and j != k and i != k:\n",
    "                    prob += variables[f'{i},{j}'] + variables[f'{j},{k}'] - variables[f'{i},{k}'] <= 1\n",
    "    #%%\n",
    "    status = prob.solve()\n",
    "\n",
    "    if status < 0:\n",
    "        raise ValueError('The problem is unsolvable')\n",
    "\n",
    "    rels = [[] for _ in range(num_objects)]\n",
    "    for v in prob.variables():\n",
    "        if v.varValue:\n",
    "            edge = list(map(int, v.name.replace('_', '').split(',')))\n",
    "            rels[edge[0]].append(edge[1])\n",
    "\n",
    "    return rels\n",
    "\n",
    "def reverse_relation(rels):\n",
    "    all_nodes = set(range(len(rels)))\n",
    "\n",
    "    ops_rels = []\n",
    "    for source, targets in enumerate(rels):\n",
    "        ops_rels.append(list(all_nodes.difference(set(targets + [source]))))\n",
    "\n",
    "    return ops_rels"
   ],
   "metadata": {
    "collapsed": false,
    "pycharm": {
     "name": "#%%\n"
    }
   }
  },
  {
   "cell_type": "code",
   "execution_count": null,
   "outputs": [],
   "source": [],
   "metadata": {
    "collapsed": false,
    "pycharm": {
     "name": "#%%\n"
    }
   }
  },
  {
   "cell_type": "code",
   "execution_count": 68,
   "outputs": [
    {
     "ename": "TypeError",
     "evalue": "unsupported operand type(s) for +: 'set' and 'set'",
     "output_type": "error",
     "traceback": [
      "\u001B[1;31m---------------------------------------------------------------------------\u001B[0m",
      "\u001B[1;31mTypeError\u001B[0m                                 Traceback (most recent call last)",
      "\u001B[1;32m<ipython-input-68-ec088bfec77b>\u001B[0m in \u001B[0;36m<module>\u001B[1;34m\u001B[0m\n\u001B[1;32m----> 1\u001B[1;33m \u001B[0mset\u001B[0m\u001B[1;33m(\u001B[0m\u001B[1;33m[\u001B[0m\u001B[1;36m0\u001B[0m\u001B[1;33m]\u001B[0m\u001B[1;33m)\u001B[0m \u001B[1;33m+\u001B[0m \u001B[0mset\u001B[0m\u001B[1;33m(\u001B[0m\u001B[1;33m[\u001B[0m\u001B[1;36m1\u001B[0m\u001B[1;33m]\u001B[0m\u001B[1;33m)\u001B[0m\u001B[1;33m\u001B[0m\u001B[1;33m\u001B[0m\u001B[0m\n\u001B[0m",
      "\u001B[1;31mTypeError\u001B[0m: unsupported operand type(s) for +: 'set' and 'set'"
     ]
    }
   ],
   "source": [
    "set([0]) + set([1])"
   ],
   "metadata": {
    "collapsed": false,
    "pycharm": {
     "name": "#%%\n"
    }
   }
  },
  {
   "cell_type": "code",
   "execution_count": null,
   "outputs": [],
   "source": [],
   "metadata": {
    "collapsed": false,
    "pycharm": {
     "name": "#%%\n"
    }
   }
  }
 ],
 "metadata": {
  "kernelspec": {
   "name": "python3",
   "language": "python",
   "display_name": "Python 3"
  },
  "language_info": {
   "codemirror_mode": {
    "name": "ipython",
    "version": 2
   },
   "file_extension": ".py",
   "mimetype": "text/x-python",
   "name": "python",
   "nbconvert_exporter": "python",
   "pygments_lexer": "ipython2",
   "version": "2.7.6"
  }
 },
 "nbformat": 4,
 "nbformat_minor": 0
}