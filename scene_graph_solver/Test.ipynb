{
 "cells": [
  {
   "cell_type": "code",
   "execution_count": 1,
   "outputs": [],
   "source": [
    "%load_ext autoreload\n",
    "%autoreload 2"
   ],
   "metadata": {
    "collapsed": false,
    "pycharm": {
     "name": "#%%\n"
    }
   }
  },
  {
   "cell_type": "code",
   "execution_count": 4,
   "outputs": [],
   "source": [
    "# from main import get_normalized_probability, cal_most_prob_scene, reverse_relation\n",
    "import json\n",
    "import pulp\n",
    "import numpy as np\n",
    "from LPConstraints import get_clevr_block_world_constraint\n",
    "from utils import process_coord_scene"
   ],
   "metadata": {
    "collapsed": false,
    "pycharm": {
     "name": "#%%\n"
    }
   }
  },
  {
   "cell_type": "code",
   "execution_count": 143,
   "outputs": [],
   "source": [
    "with open('../results/clevr_block_val/constraint_1234/rel_scenes.json', 'r') as f:\n",
    "    scenes = json.load(f)['scenes']\n",
    "\n",
    "with open('../data/clevr_block/clevr_attr_map.json', 'r') as f:\n",
    "    attr_map = json.load(f)"
   ],
   "metadata": {
    "collapsed": false,
    "pycharm": {
     "name": "#%%\n"
    }
   }
  },
  {
   "cell_type": "code",
   "execution_count": 110,
   "outputs": [],
   "source": [
    "scenes = [process_coord_scene(scene, 'blockworld') for scene in scenes]"
   ],
   "metadata": {
    "collapsed": false,
    "pycharm": {
     "name": "#%%\n"
    }
   }
  },
  {
   "cell_type": "code",
   "execution_count": 19,
   "outputs": [],
   "source": [
    "def get_attribute_variables(objects, attributes_map):\n",
    "    variables = []\n",
    "    probabilities = {}\n",
    "    num_objects = len(objects)\n",
    "\n",
    "    for name, values in attributes_map.items():\n",
    "        for v, _ in enumerate(values):\n",
    "            for i in range(num_objects):\n",
    "                variable_name = f'{name}_{i}_{v}'\n",
    "                variables.append(variable_name)\n",
    "                probabilities[variable_name] = objects[i][name][v]\n",
    "    return variables, probabilities\n",
    "\n",
    "def get_relationship_variables(scene, relationships):\n",
    "    variables = []\n",
    "    probabilities = {}\n",
    "\n",
    "    for rel in relationships:\n",
    "        for target, sources in enumerate(scene['relationships'][rel]):\n",
    "            for source, probability in sources:\n",
    "                # TODO: change the prediction for below and above (currently flipped)\n",
    "                variable_name = f'{rel}_{source}_{target}'\n",
    "                variables.append(variable_name)\n",
    "                probabilities[variable_name] = probability\n",
    "    return variables, probabilities\n",
    "\n",
    "def get_LP_problem(scene, attr_map, eps=1e-50):\n",
    "    attr_variables, attr_probabilities = get_attribute_variables(scene['objects'], attr_map['attributes'])\n",
    "    rel_variables, rel_probabilities = get_relationship_variables(scene, attr_map['relations'])\n",
    "\n",
    "\n",
    "    attr_variables = pulp.LpVariable.dict('attr', attr_variables, 0, 1, pulp.LpBinary)\n",
    "    rel_variables = pulp.LpVariable.dict('rel', rel_variables, 0, 1, pulp.LpBinary)\n",
    "\n",
    "    attr_objective = [attr_variables[i] * np.log(max(attr_probabilities[i], eps)) for i in attr_variables.keys()]\n",
    "    rel_objective = [rel_variables[i] * np.log(max(rel_probabilities[i], eps)) + (1 - rel_variables[i]) * np.log((max(1 - rel_probabilities[i], eps))) for i in rel_variables.keys()]\n",
    "\n",
    "    prob = pulp.LpProblem(\"sceneGraphProblem\", pulp.LpMaximize)\n",
    "    prob += pulp.lpSum(attr_objective + rel_objective)\n",
    "    return prob, attr_variables, rel_variables\n",
    "\n",
    "def get_predicted_scene_for_block_world(variables, scene):\n",
    "    predicted_scene = {\n",
    "        'objects': [{'mask': o['mask']} for o in scene['objects']],\n",
    "        'relationships': { rel: [[] for _ in range(len(scene['objects']))] for rel in attr_map['relations']}\n",
    "    }\n",
    "\n",
    "    for v in variables:\n",
    "        if v.varValue:\n",
    "            tokens = v.name.split('_')\n",
    "            if tokens[0] == 'attr':\n",
    "                predicted_scene['objects'][int(tokens[2])][tokens[1]] = attr_map['attributes'][tokens[1]][int(tokens[3])]\n",
    "            elif tokens[0] == 'rel':\n",
    "                predicted_scene['relationships'][tokens[1]][int(tokens[3])].append(int(tokens[2]))\n",
    "    return predicted_scene"
   ],
   "metadata": {
    "collapsed": false,
    "pycharm": {
     "name": "#%%\n"
    }
   }
  },
  {
   "cell_type": "code",
   "execution_count": 113,
   "outputs": [
    {
     "name": "stderr",
     "output_type": "stream",
     "text": [
      "100%|██████████| 6000/6000 [10:03<00:00,  9.94it/s]\n"
     ]
    }
   ],
   "source": [
    "from tqdm import tqdm\n",
    "M = 100\n",
    "predicted_scenes = []\n",
    "solver = pulp.GUROBI_CMD(path = 'C:/gurobi951/win64/bin/gurobi_cl.exe')\n",
    "\n",
    "for scene in tqdm(scenes):\n",
    "    prob, attr_variables, rel_variables = get_LP_problem(scene, attr_map)\n",
    "    get_clevr_block_world_constraint(prob, scene, rel_variables, attr_variables, attr_map, include_small_obj=True, include_large_cube=True, include_bottom_stack=True, include_yellow=True)\n",
    "    prob.solve(solver)\n",
    "    predicted_scenes.append(get_predicted_scene_for_block_world(prob.variables(), scene))"
   ],
   "metadata": {
    "collapsed": false,
    "pycharm": {
     "name": "#%%\n"
    }
   }
  },
  {
   "cell_type": "code",
   "execution_count": 114,
   "outputs": [],
   "source": [
    "with open('../results/clevr_block_val/constraint_1234/scene_prob_fix.json', 'w') as f:\n",
    "    json.dump({'scenes': predicted_scenes}, f)\n",
    "\n"
   ],
   "metadata": {
    "collapsed": false,
    "pycharm": {
     "name": "#%%\n"
    }
   }
  },
  {
   "cell_type": "markdown",
   "source": [
    "Experiment with Gurobi Constraint formulations"
   ],
   "metadata": {
    "collapsed": false
   }
  },
  {
   "cell_type": "code",
   "execution_count": 3,
   "outputs": [],
   "source": [
    "from LPProblem import BlocksworldLPProblem"
   ],
   "metadata": {
    "collapsed": false,
    "pycharm": {
     "name": "#%%\n"
    }
   }
  },
  {
   "cell_type": "code",
   "execution_count": 4,
   "outputs": [],
   "source": [
    "with open('../results/clevr_block_val/constraint_1234/scenes_coord_prob.json', 'r') as f:\n",
    "    scenes = json.load(f)['scenes']\n",
    "\n",
    "with open('../data/clevr_block/clevr_attr_map.json', 'r') as f:\n",
    "    attr_map = json.load(f)"
   ],
   "metadata": {
    "collapsed": false,
    "pycharm": {
     "name": "#%%\n"
    }
   }
  },
  {
   "cell_type": "code",
   "execution_count": 5,
   "outputs": [],
   "source": [
    "scenes = [process_coord_scene(scene, 'blockworld') for scene in scenes]"
   ],
   "metadata": {
    "collapsed": false,
    "pycharm": {
     "name": "#%%\n"
    }
   }
  },
  {
   "cell_type": "code",
   "execution_count": 6,
   "outputs": [],
   "source": [
    "problem_solver = BlocksworldLPProblem(attr_map, include_small_obj=True, include_large_cube=True, include_bottom_stack=True, include_yellow=True)"
   ],
   "metadata": {
    "collapsed": false,
    "pycharm": {
     "name": "#%%\n"
    }
   }
  },
  {
   "cell_type": "code",
   "source": [
    "predicted_scenes = []\n",
    "for scene in tqdm(scenes):\n",
    "    predicted_scenes.append(problem_solver.solve_for_scene(scene))"
   ],
   "metadata": {
    "collapsed": false,
    "pycharm": {
     "name": "#%%\n"
    }
   },
   "execution_count": 11,
   "outputs": [
    {
     "name": "stderr",
     "output_type": "stream",
     "text": [
      "  0%|          | 0/6000 [00:00<?, ?it/s]"
     ]
    },
    {
     "name": "stdout",
     "output_type": "stream",
     "text": [
      "Set parameter Username\n",
      "Academic license - for non-commercial use only - expires 2022-05-27\n"
     ]
    },
    {
     "name": "stderr",
     "output_type": "stream",
     "text": [
      " 12%|█▏        | 746/6000 [00:25<03:02, 28.83it/s]\n"
     ]
    },
    {
     "ename": "KeyboardInterrupt",
     "evalue": "",
     "output_type": "error",
     "traceback": [
      "\u001B[1;31m---------------------------------------------------------------------------\u001B[0m",
      "\u001B[1;31mKeyboardInterrupt\u001B[0m                         Traceback (most recent call last)",
      "\u001B[1;32m~\\AppData\\Local\\Temp/ipykernel_34824/2663032119.py\u001B[0m in \u001B[0;36m<module>\u001B[1;34m\u001B[0m\n\u001B[0;32m      1\u001B[0m \u001B[0mpredicted_scenes\u001B[0m \u001B[1;33m=\u001B[0m \u001B[1;33m[\u001B[0m\u001B[1;33m]\u001B[0m\u001B[1;33m\u001B[0m\u001B[1;33m\u001B[0m\u001B[0m\n\u001B[0;32m      2\u001B[0m \u001B[1;32mfor\u001B[0m \u001B[0mscene\u001B[0m \u001B[1;32min\u001B[0m \u001B[0mtqdm\u001B[0m\u001B[1;33m(\u001B[0m\u001B[0mscenes\u001B[0m\u001B[1;33m)\u001B[0m\u001B[1;33m:\u001B[0m\u001B[1;33m\u001B[0m\u001B[1;33m\u001B[0m\u001B[0m\n\u001B[1;32m----> 3\u001B[1;33m     \u001B[0mpredicted_scenes\u001B[0m\u001B[1;33m.\u001B[0m\u001B[0mappend\u001B[0m\u001B[1;33m(\u001B[0m\u001B[0mproblem_solver\u001B[0m\u001B[1;33m.\u001B[0m\u001B[0msolve_for_scene\u001B[0m\u001B[1;33m(\u001B[0m\u001B[0mscene\u001B[0m\u001B[1;33m)\u001B[0m\u001B[1;33m)\u001B[0m\u001B[1;33m\u001B[0m\u001B[1;33m\u001B[0m\u001B[0m\n\u001B[0m",
      "\u001B[1;32m~\\Documents\\github\\Clevr-Relational\\scene_graph_solver\\LPProblem.py\u001B[0m in \u001B[0;36msolve_for_scene\u001B[1;34m(self, scene)\u001B[0m\n\u001B[0;32m     17\u001B[0m     \u001B[1;32mdef\u001B[0m \u001B[0msolve_for_scene\u001B[0m\u001B[1;33m(\u001B[0m\u001B[0mself\u001B[0m\u001B[1;33m,\u001B[0m \u001B[0mscene\u001B[0m\u001B[1;33m)\u001B[0m\u001B[1;33m:\u001B[0m\u001B[1;33m\u001B[0m\u001B[1;33m\u001B[0m\u001B[0m\n\u001B[0;32m     18\u001B[0m         \u001B[0mmodel\u001B[0m\u001B[1;33m,\u001B[0m \u001B[0mattr_variables\u001B[0m\u001B[1;33m,\u001B[0m \u001B[0mrel_variables\u001B[0m \u001B[1;33m=\u001B[0m \u001B[0mself\u001B[0m\u001B[1;33m.\u001B[0m\u001B[0mget_LP_problem\u001B[0m\u001B[1;33m(\u001B[0m\u001B[0mscene\u001B[0m\u001B[1;33m)\u001B[0m\u001B[1;33m\u001B[0m\u001B[1;33m\u001B[0m\u001B[0m\n\u001B[1;32m---> 19\u001B[1;33m         \u001B[0mself\u001B[0m\u001B[1;33m.\u001B[0m\u001B[0madd_constraints\u001B[0m\u001B[1;33m(\u001B[0m\u001B[0mmodel\u001B[0m\u001B[1;33m,\u001B[0m \u001B[0mscene\u001B[0m\u001B[1;33m,\u001B[0m \u001B[0mrel_variables\u001B[0m\u001B[1;33m,\u001B[0m \u001B[0mattr_variables\u001B[0m\u001B[1;33m)\u001B[0m\u001B[1;33m\u001B[0m\u001B[1;33m\u001B[0m\u001B[0m\n\u001B[0m\u001B[0;32m     20\u001B[0m         \u001B[0mmodel\u001B[0m\u001B[1;33m.\u001B[0m\u001B[0msetParam\u001B[0m\u001B[1;33m(\u001B[0m\u001B[1;34m'OutputFlag'\u001B[0m\u001B[1;33m,\u001B[0m \u001B[1;36m0\u001B[0m\u001B[1;33m)\u001B[0m\u001B[1;33m\u001B[0m\u001B[1;33m\u001B[0m\u001B[0m\n\u001B[0;32m     21\u001B[0m         \u001B[0mmodel\u001B[0m\u001B[1;33m.\u001B[0m\u001B[0moptimize\u001B[0m\u001B[1;33m(\u001B[0m\u001B[1;33m)\u001B[0m\u001B[1;33m\u001B[0m\u001B[1;33m\u001B[0m\u001B[0m\n",
      "\u001B[1;32m~\\Documents\\github\\Clevr-Relational\\scene_graph_solver\\LPProblem.py\u001B[0m in \u001B[0;36madd_constraints\u001B[1;34m(self, model, scene, rel_variables, attr_variables)\u001B[0m\n\u001B[0;32m    144\u001B[0m                     \u001B[1;32mif\u001B[0m \u001B[0mself\u001B[0m\u001B[1;33m.\u001B[0m\u001B[0minclude_bottom_stack\u001B[0m\u001B[1;33m:\u001B[0m\u001B[1;33m\u001B[0m\u001B[1;33m\u001B[0m\u001B[0m\n\u001B[0;32m    145\u001B[0m                         \u001B[0mdummy\u001B[0m \u001B[1;33m=\u001B[0m \u001B[0mmodel\u001B[0m\u001B[1;33m.\u001B[0m\u001B[0maddVar\u001B[0m\u001B[1;33m(\u001B[0m\u001B[0mvtype\u001B[0m\u001B[1;33m=\u001B[0m\u001B[0mGRB\u001B[0m\u001B[1;33m.\u001B[0m\u001B[0mBINARY\u001B[0m\u001B[1;33m,\u001B[0m \u001B[0mname\u001B[0m\u001B[1;33m=\u001B[0m\u001B[1;34mf'in_between_{k}_{i}_{j}'\u001B[0m\u001B[1;33m)\u001B[0m\u001B[1;33m\u001B[0m\u001B[1;33m\u001B[0m\u001B[0m\n\u001B[1;32m--> 146\u001B[1;33m                         \u001B[0mmodel\u001B[0m\u001B[1;33m.\u001B[0m\u001B[0maddConstr\u001B[0m\u001B[1;33m(\u001B[0m\u001B[0mdummy\u001B[0m \u001B[1;33m==\u001B[0m \u001B[0mand_\u001B[0m\u001B[1;33m(\u001B[0m\u001B[0mrel_variables\u001B[0m\u001B[1;33m[\u001B[0m\u001B[1;34mf'left_{i}_{k}'\u001B[0m\u001B[1;33m]\u001B[0m\u001B[1;33m,\u001B[0m \u001B[0mrel_variables\u001B[0m\u001B[1;33m[\u001B[0m\u001B[1;34mf'left_{k}_{j}'\u001B[0m\u001B[1;33m]\u001B[0m\u001B[1;33m)\u001B[0m\u001B[1;33m)\u001B[0m\u001B[1;33m\u001B[0m\u001B[1;33m\u001B[0m\u001B[0m\n\u001B[0m\u001B[0;32m    147\u001B[0m                         \u001B[0min_between\u001B[0m\u001B[1;33m[\u001B[0m\u001B[1;34mf'in_between_{k}_{i}_{j}'\u001B[0m\u001B[1;33m]\u001B[0m \u001B[1;33m=\u001B[0m \u001B[0mdummy\u001B[0m\u001B[1;33m\u001B[0m\u001B[1;33m\u001B[0m\u001B[0m\n\u001B[0;32m    148\u001B[0m \u001B[1;33m\u001B[0m\u001B[0m\n",
      "\u001B[1;31mKeyboardInterrupt\u001B[0m: "
     ]
    }
   ]
  },
  {
   "cell_type": "code",
   "execution_count": 169,
   "outputs": [],
   "source": [
    "with open('../results/clevr_block_val/constraint_1234/rel_scenes_fix.json', 'w') as f:\n",
    "    json.dump({'scenes': predicted_scenes}, f)"
   ],
   "metadata": {
    "collapsed": false,
    "pycharm": {
     "name": "#%%\n"
    }
   }
  },
  {
   "cell_type": "markdown",
   "source": [
    "Experiment with Clevr"
   ],
   "metadata": {
    "collapsed": false
   }
  },
  {
   "cell_type": "code",
   "execution_count": 70,
   "outputs": [],
   "source": [
    "from LPProblem import ClevrLPProblem\n",
    "from tqdm import tqdm\n",
    "import json\n",
    "from utils import process_coord_scene_blockworld_clevr\n",
    "\n",
    "with open('../results/clevr_val/c3/rel_scenes.json', 'r') as f:\n",
    "    scenes = json.load(f)['scenes']\n",
    "\n",
    "with open('G:/My Drive/Research/data/Clevr_mini/clevr_attr_map.json', 'r') as f:\n",
    "    attr_map = json.load(f)"
   ],
   "metadata": {
    "collapsed": false,
    "pycharm": {
     "name": "#%%\n"
    }
   }
  },
  {
   "cell_type": "code",
   "execution_count": 71,
   "outputs": [
    {
     "ename": "KeyError",
     "evalue": "'x'",
     "output_type": "error",
     "traceback": [
      "\u001B[1;31m---------------------------------------------------------------------------\u001B[0m",
      "\u001B[1;31mKeyError\u001B[0m                                  Traceback (most recent call last)",
      "\u001B[1;32m~\\AppData\\Local\\Temp/ipykernel_30136/1818203432.py\u001B[0m in \u001B[0;36m<module>\u001B[1;34m\u001B[0m\n\u001B[1;32m----> 1\u001B[1;33m \u001B[0mscenes\u001B[0m \u001B[1;33m=\u001B[0m \u001B[1;33m[\u001B[0m\u001B[0mprocess_coord_scene_blockworld_clevr\u001B[0m\u001B[1;33m(\u001B[0m\u001B[0mscene\u001B[0m\u001B[1;33m)\u001B[0m \u001B[1;32mfor\u001B[0m \u001B[0mscene\u001B[0m \u001B[1;32min\u001B[0m \u001B[0mscenes\u001B[0m\u001B[1;33m]\u001B[0m\u001B[1;33m\u001B[0m\u001B[1;33m\u001B[0m\u001B[0m\n\u001B[0m\u001B[0;32m      2\u001B[0m \u001B[1;33m\u001B[0m\u001B[0m\n",
      "\u001B[1;32m~\\AppData\\Local\\Temp/ipykernel_30136/1818203432.py\u001B[0m in \u001B[0;36m<listcomp>\u001B[1;34m(.0)\u001B[0m\n\u001B[1;32m----> 1\u001B[1;33m \u001B[0mscenes\u001B[0m \u001B[1;33m=\u001B[0m \u001B[1;33m[\u001B[0m\u001B[0mprocess_coord_scene_blockworld_clevr\u001B[0m\u001B[1;33m(\u001B[0m\u001B[0mscene\u001B[0m\u001B[1;33m)\u001B[0m \u001B[1;32mfor\u001B[0m \u001B[0mscene\u001B[0m \u001B[1;32min\u001B[0m \u001B[0mscenes\u001B[0m\u001B[1;33m]\u001B[0m\u001B[1;33m\u001B[0m\u001B[1;33m\u001B[0m\u001B[0m\n\u001B[0m\u001B[0;32m      2\u001B[0m \u001B[1;33m\u001B[0m\u001B[0m\n",
      "\u001B[1;32m~\\Documents\\github\\Clevr-Relational\\scene_graph_solver\\utils.py\u001B[0m in \u001B[0;36mprocess_coord_scene_blockworld_clevr\u001B[1;34m(scene)\u001B[0m\n\u001B[0;32m     64\u001B[0m             \u001B[1;32mif\u001B[0m \u001B[0mo1\u001B[0m \u001B[1;33m==\u001B[0m \u001B[0mo2\u001B[0m\u001B[1;33m:\u001B[0m\u001B[1;33m\u001B[0m\u001B[1;33m\u001B[0m\u001B[0m\n\u001B[0;32m     65\u001B[0m                 \u001B[1;32mcontinue\u001B[0m\u001B[1;33m\u001B[0m\u001B[1;33m\u001B[0m\u001B[0m\n\u001B[1;32m---> 66\u001B[1;33m             \u001B[1;32mif\u001B[0m \u001B[0mo1\u001B[0m\u001B[1;33m[\u001B[0m\u001B[1;34m'x'\u001B[0m\u001B[1;33m]\u001B[0m \u001B[1;33m>\u001B[0m \u001B[0mo2\u001B[0m\u001B[1;33m[\u001B[0m\u001B[1;34m'x'\u001B[0m\u001B[1;33m]\u001B[0m\u001B[1;33m:\u001B[0m\u001B[1;33m\u001B[0m\u001B[1;33m\u001B[0m\u001B[0m\n\u001B[0m\u001B[0;32m     67\u001B[0m                 \u001B[0mrelation\u001B[0m \u001B[1;33m=\u001B[0m \u001B[1;34m'left'\u001B[0m\u001B[1;33m\u001B[0m\u001B[1;33m\u001B[0m\u001B[0m\n\u001B[0;32m     68\u001B[0m             \u001B[1;32mif\u001B[0m \u001B[0mo1\u001B[0m\u001B[1;33m[\u001B[0m\u001B[1;34m'x'\u001B[0m\u001B[1;33m]\u001B[0m \u001B[1;33m<\u001B[0m \u001B[0mo2\u001B[0m\u001B[1;33m[\u001B[0m\u001B[1;34m'x'\u001B[0m\u001B[1;33m]\u001B[0m\u001B[1;33m:\u001B[0m\u001B[1;33m\u001B[0m\u001B[1;33m\u001B[0m\u001B[0m\n",
      "\u001B[1;31mKeyError\u001B[0m: 'x'"
     ]
    }
   ],
   "source": [
    "scenes = [process_coord_scene_blockworld_clevr(scene) for scene in scenes]\n"
   ],
   "metadata": {
    "collapsed": false,
    "pycharm": {
     "name": "#%%\n"
    }
   }
  },
  {
   "cell_type": "code",
   "execution_count": 72,
   "outputs": [],
   "source": [
    "problem_solver = ClevrLPProblem(attr_map,color_between=True, material_order=True, large_cube=True, object_behind=True)"
   ],
   "metadata": {
    "collapsed": false,
    "pycharm": {
     "name": "#%%\n"
    }
   }
  },
  {
   "cell_type": "code",
   "execution_count": 73,
   "outputs": [
    {
     "name": "stderr",
     "output_type": "stream",
     "text": [
      "100%|██████████| 1000/1000 [00:49<00:00, 20.25it/s]\n"
     ]
    }
   ],
   "source": [
    "predicted_scenes = []\n",
    "for scene in tqdm(scenes):\n",
    "    predicted_scenes.append(problem_solver.solve_for_scene(scene))"
   ],
   "metadata": {
    "collapsed": false,
    "pycharm": {
     "name": "#%%\n"
    }
   }
  },
  {
   "cell_type": "code",
   "execution_count": 74,
   "outputs": [],
   "source": [
    "with open('../results/clevr_val/c3/rel_scenes_fix_c1234.json', 'w') as f:\n",
    "    json.dump({'scenes': predicted_scenes}, f)"
   ],
   "metadata": {
    "collapsed": false,
    "pycharm": {
     "name": "#%%\n"
    }
   }
  },
  {
   "cell_type": "code",
   "execution_count": 60,
   "outputs": [
    {
     "name": "stderr",
     "output_type": "stream",
     "text": [
      "100%|██████████| 1/1 [00:00<00:00, 62.67it/s]\n"
     ]
    }
   ],
   "source": [
    "for scene in tqdm(scenes[21:22]):\n",
    "    scene = problem_solver.solve_for_scene(scene)"
   ],
   "metadata": {
    "collapsed": false,
    "pycharm": {
     "name": "#%%\n"
    }
   }
  },
  {
   "cell_type": "code",
   "execution_count": 61,
   "outputs": [
    {
     "data": {
      "text/plain": "{'objects': [{'mask': {'size': [320, 480],\n    'counts': 'f^W2h0W92O0000000O2O00001N10001N10000O100001O00001O00001N10000O2O00000O10[mS2'},\n   'shape': 'cube',\n   'size': 'small',\n   'material': 'metal',\n   'color': 'cyan'},\n  {'mask': {'size': [320, 480],\n    'counts': '[\\\\i1=`94M3N1O1O2N1O1O100O2O1O1N3N2N1O000000000000000001O000O2O0O3M1O2N2N3M2M4LiQa2'},\n   'shape': 'sphere',\n   'size': 'large',\n   'material': 'metal',\n   'color': 'red'},\n  {'mask': {'size': [320, 480],\n    'counts': 'o\\\\d1?_9<E3N1N101O000O10000000000000000000000001O00000O100O2OTkh2'},\n   'shape': 'cylinder',\n   'size': 'small',\n   'material': 'metal',\n   'color': 'cyan'}],\n 'relationships': {'left': [[1, 2], [2], []],\n  'right': [[], [0], [0, 1]],\n  'front': [[2], [0, 2], []],\n  'behind': [[1], [], [0, 1]]}}"
     },
     "execution_count": 61,
     "metadata": {},
     "output_type": "execute_result"
    }
   ],
   "source": [
    "scene"
   ],
   "metadata": {
    "collapsed": false,
    "pycharm": {
     "name": "#%%\n"
    }
   }
  },
  {
   "cell_type": "code",
   "execution_count": 231,
   "outputs": [],
   "source": [
    "model.write(\"file.lp\")"
   ],
   "metadata": {
    "collapsed": false,
    "pycharm": {
     "name": "#%%\n"
    }
   }
  },
  {
   "cell_type": "code",
   "execution_count": null,
   "outputs": [],
   "source": [],
   "metadata": {
    "collapsed": false,
    "pycharm": {
     "name": "#%%\n"
    }
   }
  }
 ],
 "metadata": {
  "kernelspec": {
   "name": "python3",
   "language": "python",
   "display_name": "Python 3"
  },
  "language_info": {
   "codemirror_mode": {
    "name": "ipython",
    "version": 2
   },
   "file_extension": ".py",
   "mimetype": "text/x-python",
   "name": "python",
   "nbconvert_exporter": "python",
   "pygments_lexer": "ipython2",
   "version": "2.7.6"
  }
 },
 "nbformat": 4,
 "nbformat_minor": 0
}