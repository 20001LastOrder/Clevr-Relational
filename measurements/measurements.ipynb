{
 "cells": [
  {
   "cell_type": "markdown",
   "metadata": {},
   "source": [
    "# Evaluation Code for the paper"
   ]
  },
  {
   "cell_type": "code",
   "execution_count": 1,
   "metadata": {
    "pycharm": {
     "name": "#%%\n"
    }
   },
   "outputs": [],
   "source": [
    "%load_ext autoreload\n",
    "%autoreload 2"
   ]
  },
  {
   "cell_type": "code",
   "execution_count": 19,
   "metadata": {
    "pycharm": {
     "name": "#%%\n"
    }
   },
   "outputs": [],
   "source": [
    "from utils import *\n",
    "from measurements import ProblemDomain\n",
    "import datasets.Clevr as clevr\n",
    "import datasets.Blockworld as block\n",
    "import numpy as np"
   ]
  },
  {
   "cell_type": "markdown",
   "metadata": {},
   "source": [
    "# RQ1"
   ]
  },
  {
   "cell_type": "markdown",
   "metadata": {},
   "source": [
    "## Block"
   ]
  },
  {
   "cell_type": "code",
   "execution_count": 29,
   "metadata": {
    "scrolled": true
   },
   "outputs": [
    {
     "name": "stdout",
     "output_type": "stream",
     "text": [
      "../scenes/rq1/block/constraint_1234/cons\\rel_scenes.json\n"
     ]
    },
    {
     "name": "stderr",
     "output_type": "stream",
     "text": [
      "100%|██████████████████████████████████████████████████████████████████████████████| 2000/2000 [00:36<00:00, 55.53it/s]\n",
      "100%|██████████████████████████████████████████████████████████████████████████████| 2000/2000 [00:36<00:00, 54.99it/s]\n"
     ]
    },
    {
     "name": "stdout",
     "output_type": "stream",
     "text": [
      "../scenes/rq1/block/constraint_1234/c2\\rel_scenes.json\n"
     ]
    },
    {
     "name": "stderr",
     "output_type": "stream",
     "text": [
      "100%|██████████████████████████████████████████████████████████████████████████████| 2000/2000 [00:45<00:00, 43.69it/s]\n",
      "100%|██████████████████████████████████████████████████████████████████████████████| 2000/2000 [00:46<00:00, 43.25it/s]\n"
     ]
    },
    {
     "name": "stdout",
     "output_type": "stream",
     "text": [
      "../scenes/rq1/block/constraint_1234/c4\\rel_scenes.json\n"
     ]
    },
    {
     "name": "stderr",
     "output_type": "stream",
     "text": [
      "100%|██████████████████████████████████████████████████████████████████████████████| 2000/2000 [00:39<00:00, 50.13it/s]\n",
      "100%|██████████████████████████████████████████████████████████████████████████████| 2000/2000 [00:39<00:00, 50.02it/s]\n"
     ]
    },
    {
     "name": "stdout",
     "output_type": "stream",
     "text": [
      "../scenes/rq1/block/original/cons\\rel_scenes.json\n"
     ]
    },
    {
     "name": "stderr",
     "output_type": "stream",
     "text": [
      "100%|██████████████████████████████████████████████████████████████████████████████| 2000/2000 [00:36<00:00, 55.50it/s]\n",
      "100%|██████████████████████████████████████████████████████████████████████████████| 2000/2000 [00:36<00:00, 55.13it/s]\n"
     ]
    },
    {
     "name": "stdout",
     "output_type": "stream",
     "text": [
      "../scenes/rq1/block/original/c2\\rel_scenes.json\n"
     ]
    },
    {
     "name": "stderr",
     "output_type": "stream",
     "text": [
      "100%|██████████████████████████████████████████████████████████████████████████████| 2000/2000 [00:45<00:00, 43.98it/s]\n",
      "100%|██████████████████████████████████████████████████████████████████████████████| 2000/2000 [00:45<00:00, 43.76it/s]\n"
     ]
    },
    {
     "name": "stdout",
     "output_type": "stream",
     "text": [
      "../scenes/rq1/block/original/c4\\rel_scenes.json\n"
     ]
    },
    {
     "name": "stderr",
     "output_type": "stream",
     "text": [
      "100%|██████████████████████████████████████████████████████████████████████████████| 2000/2000 [00:39<00:00, 50.39it/s]\n",
      "100%|██████████████████████████████████████████████████████████████████████████████| 2000/2000 [00:39<00:00, 50.04it/s]\n"
     ]
    }
   ],
   "source": [
    "constraints =  [block.SmallObjectConstraint('c1'), block.LargeCubeConstraint('c2'), \n",
    "                block.BottomConstraint('c3'), block.YellowObjectConstraint('c4')]\n",
    "keys = ['SGGen', 'SGGen+', 'SA']\n",
    "\n",
    "constrained_path = '../scenes/rq1/block/constraint_1234'\n",
    "original_path = '../scenes/rq1/block/original'\n",
    "test_paths = ['../scenes/rq1/block/gt/cons', '../scenes/rq1/block/gt/c2', \n",
    "              '../scenes/rq1/block/gt/c4']\n",
    "setup_paths = ['cons', 'c2', 'c4']\n",
    "schema_path = '../scenes/datasets_schema/block.json'\n",
    "\n",
    "\n",
    "constrained_results_block = {}\n",
    "original_results_block = {}\n",
    "\n",
    "for i, setup in enumerate(setup_paths):\n",
    "    constrained_result = ProblemDomain(constraints, keys, test_paths[i], f'{constrained_path}/{setup}', schema_path)\n",
    "    original_result = ProblemDomain(constraints, keys, test_paths[i], f'{original_path}/{setup}', schema_path)\n",
    "    constrained_results_block[setup] = constrained_result\n",
    "    original_results_block[setup] = original_result\n",
    "\n",
    "process_results(constrained_results_block, process_coord_scene)\n",
    "process_results(original_results_block, process_coord_scene)"
   ]
  },
  {
   "cell_type": "markdown",
   "metadata": {},
   "source": [
    "## RM"
   ]
  },
  {
   "cell_type": "markdown",
   "metadata": {},
   "source": [
    "Results for RM+CON"
   ]
  },
  {
   "cell_type": "code",
   "execution_count": 32,
   "metadata": {},
   "outputs": [
    {
     "data": {
      "text/plain": [
       "'[0.9919 0.9967 0.898  0.925  0.9901 0.9958 0.854  0.9285 0.992  0.9969\\n 0.895  0.9585]'"
      ]
     },
     "execution_count": 32,
     "metadata": {},
     "output_type": "execute_result"
    }
   ],
   "source": [
    "print_metrics(constrained_results_block, ['SGGen', 'SGGen+', 'SA', 'Con'], setup_paths, lambda a: a.scene_stats)"
   ]
  },
  {
   "cell_type": "markdown",
   "metadata": {},
   "source": [
    "Results for RM-CON"
   ]
  },
  {
   "cell_type": "code",
   "execution_count": 34,
   "metadata": {},
   "outputs": [
    {
     "data": {
      "text/plain": [
       "'[0.9866 0.9935 0.848  0.924  0.9817 0.991  0.7835 0.9475 0.9855 0.9934\\n 0.8295 0.969 ]'"
      ]
     },
     "execution_count": 34,
     "metadata": {},
     "output_type": "execute_result"
    }
   ],
   "source": [
    "print_metrics(original_results_block, ['SGGen', 'SGGen+', 'SA', 'Con'], setup_paths, lambda a: a.scene_stats)"
   ]
  },
  {
   "cell_type": "markdown",
   "metadata": {},
   "source": [
    "Cohen-d effect size"
   ]
  },
  {
   "cell_type": "code",
   "execution_count": 36,
   "metadata": {},
   "outputs": [
    {
     "data": {
      "text/plain": [
       "'[ 1.6387  4.7712  2.4381  0.0976  2.7002  5.1212  3.0781 -0.949   2.5792\\n  2.6622  2.0758 -0.843 ]'"
      ]
     },
     "execution_count": 36,
     "metadata": {},
     "output_type": "execute_result"
    }
   ],
   "source": [
    "np.array2string(print_stats(constrained_results_block, original_results_block, ['SGGen', 'SGGen+', 'SA', 'Con'], setup_paths, lambda a: a.scene_stats), precision=4)"
   ]
  },
  {
   "cell_type": "markdown",
   "metadata": {},
   "source": [
    "Results  for PM+CON"
   ]
  },
  {
   "cell_type": "code",
   "execution_count": 37,
   "metadata": {},
   "outputs": [
    {
     "data": {
      "text/plain": [
       "'[0.9963 0.9997 0.9875 0.9995 0.9963 0.9998 0.9865 1.     0.9943 0.9997\\n 0.984  1.    ]'"
      ]
     },
     "execution_count": 37,
     "metadata": {},
     "output_type": "execute_result"
    }
   ],
   "source": [
    "print_metrics(constrained_results_block, ['SGGen', 'SGGen+', 'SA', 'Con'], setup_paths, lambda a: a.coord_scene_stats)"
   ]
  },
  {
   "cell_type": "markdown",
   "metadata": {},
   "source": [
    "Results for PM-CON"
   ]
  },
  {
   "cell_type": "code",
   "execution_count": 38,
   "metadata": {},
   "outputs": [
    {
     "data": {
      "text/plain": [
       "'[0.9963 0.9995 0.9885 1.     0.9963 0.9998 0.988  1.     0.9939 0.9995\\n 0.9835 1.    ]'"
      ]
     },
     "execution_count": 38,
     "metadata": {},
     "output_type": "execute_result"
    }
   ],
   "source": [
    "print_metrics(original_results_block, ['SGGen', 'SGGen+', 'SA', 'Con'], setup_paths, lambda a: a.coord_scene_stats)"
   ]
  },
  {
   "cell_type": "markdown",
   "metadata": {},
   "source": [
    "Cohen-d effect size (NAN means 0 here as the two number distributions are identical)"
   ]
  },
  {
   "cell_type": "code",
   "execution_count": 39,
   "metadata": {},
   "outputs": [
    {
     "name": "stderr",
     "output_type": "stream",
     "text": [
      "C:\\Users\\chenp\\AppData\\Local\\Temp/ipykernel_36904/3720072167.py:24: RuntimeWarning: invalid value encountered in double_scalars\n",
      "  return (np.mean(x) - np.mean(y)) / np.sqrt((np.std(x, ddof=1) ** 2 + np.std(y, ddof=1) ** 2) / 2.0)\n"
     ]
    },
    {
     "data": {
      "text/plain": [
       "'[-0.0013  0.3456 -0.13   -0.4472 -0.0235  0.1642 -0.2167     nan  0.1123\\n  0.4249  0.0501     nan]'"
      ]
     },
     "execution_count": 39,
     "metadata": {},
     "output_type": "execute_result"
    }
   ],
   "source": [
    "np.array2string(print_stats(constrained_results_block, original_results_block, ['SGGen', 'SGGen+', 'SA', 'Con'], setup_paths, lambda a: a.coord_scene_stats), precision=4)"
   ]
  },
  {
   "cell_type": "markdown",
   "metadata": {},
   "source": [
    "## Clevr"
   ]
  },
  {
   "cell_type": "code",
   "execution_count": 20,
   "metadata": {
    "pycharm": {
     "name": "#%%\n"
    }
   },
   "outputs": [],
   "source": [
    "def print_stats(results1, results2, metrics, setups, mapping):\n",
    "    values = []\n",
    "    for setup in setups:\n",
    "        stats1 = mapping(results1[setup])\n",
    "        stats2 = mapping(results2[setup])\n",
    "        for metric in metrics:\n",
    "            values.append(cohen_d(stats1[metric], stats2[metric]))\n",
    "    return np.array(values)\n",
    "\n",
    "def process_results(results, process_coord):\n",
    "    for _, value in results.items():\n",
    "        value.load_predicted_scenes(process_coord, coord_fixed_fname=None, fixed_scenes_fname=None)\n",
    "        value.cal_matrics_statistics()\n",
    "        \n",
    "def print_metrics(results, metrics, setups, mapping, precision=4):\n",
    "    values = []\n",
    "    for setup in setups:\n",
    "        stats = mapping(results[setup])\n",
    "        for metric in metrics:\n",
    "            values.append(np.mean(stats[metric]))\n",
    "    return np.array2string(np.array(values), precision=precision)\n",
    "\n",
    "def cohen_d(x, y):\n",
    "    return (np.mean(x) - np.mean(y)) / np.sqrt((np.std(x, ddof=1) ** 2 + np.std(y, ddof=1) ** 2) / 2.0)"
   ]
  },
  {
   "cell_type": "code",
   "execution_count": 43,
   "metadata": {
    "pycharm": {
     "name": "#%%\n"
    }
   },
   "outputs": [],
   "source": [
    "constraints =  [clevr.SameColorConstraint('c1'), clevr.MaterialConstraint('c2'), \n",
    "                clevr.LargeCubeConstraint('c3'), clevr.PairBehindConstraint('c4')]\n",
    "keys = ['SGGen', 'SGGen+', 'SA']\n",
    "\n",
    "constrained_path = '../scenes/rq1/clevr/constraint_1234'\n",
    "original_path = '../scenes/rq1/clevr/original'\n",
    "test_paths = ['../scenes/rq1/clevr/gt/cons', '../scenes/rq1/clevr/gt/c3', \n",
    "              '../scenes/rq1/clevr/gt/c4']\n",
    "setup_paths = ['cons', 'c3', 'c4']\n",
    "schema_path = '../scenes/datasets_schema/clevr.json'\n",
    "\n",
    "constrained_results_clevr = {}\n",
    "original_results_clevr = {}\n",
    "\n",
    "for i, setup in enumerate(setup_paths):\n",
    "    constrained_result = ProblemDomain(constraints, keys, test_paths[i], f'{constrained_path}/{setup}', schema_path)\n",
    "    original_result = ProblemDomain(constraints, keys, test_paths[i], f'{original_path}/{setup}', schema_path)\n",
    "    constrained_results_clevr[setup] = constrained_result\n",
    "    original_results_clevr[setup] = original_result"
   ]
  },
  {
   "cell_type": "code",
   "execution_count": 10,
   "metadata": {
    "pycharm": {
     "name": "#%%\n"
    },
    "scrolled": false
   },
   "outputs": [
    {
     "name": "stdout",
     "output_type": "stream",
     "text": [
      "../scenes/rq1/clevr/constraint_1234/cons\\rel_scenes.json\n"
     ]
    },
    {
     "name": "stderr",
     "output_type": "stream",
     "text": [
      "100%|██████████████████████████████████████████████████████████████████████████████| 2000/2000 [00:21<00:00, 91.79it/s]\n",
      "100%|██████████████████████████████████████████████████████████████████████████████| 2000/2000 [00:21<00:00, 93.56it/s]\n"
     ]
    },
    {
     "name": "stdout",
     "output_type": "stream",
     "text": [
      "../scenes/rq1/clevr/constraint_1234/c3\\rel_scenes.json\n"
     ]
    },
    {
     "name": "stderr",
     "output_type": "stream",
     "text": [
      "100%|██████████████████████████████████████████████████████████████████████████████| 2000/2000 [00:31<00:00, 63.45it/s]\n",
      "100%|██████████████████████████████████████████████████████████████████████████████| 2000/2000 [00:31<00:00, 63.78it/s]\n"
     ]
    },
    {
     "name": "stdout",
     "output_type": "stream",
     "text": [
      "../scenes/rq1/clevr/constraint_1234/c4\\rel_scenes.json\n"
     ]
    },
    {
     "name": "stderr",
     "output_type": "stream",
     "text": [
      "100%|█████████████████████████████████████████████████████████████████████████████| 2000/2000 [00:18<00:00, 110.76it/s]\n",
      "100%|█████████████████████████████████████████████████████████████████████████████| 2000/2000 [00:18<00:00, 110.98it/s]\n"
     ]
    },
    {
     "name": "stdout",
     "output_type": "stream",
     "text": [
      "../scenes/rq1/clevr/original/cons\\rel_scenes.json\n"
     ]
    },
    {
     "name": "stderr",
     "output_type": "stream",
     "text": [
      "100%|██████████████████████████████████████████████████████████████████████████████| 2000/2000 [00:21<00:00, 93.01it/s]\n",
      "100%|██████████████████████████████████████████████████████████████████████████████| 2000/2000 [00:21<00:00, 92.87it/s]\n"
     ]
    },
    {
     "name": "stdout",
     "output_type": "stream",
     "text": [
      "../scenes/rq1/clevr/original/c3\\rel_scenes.json\n"
     ]
    },
    {
     "name": "stderr",
     "output_type": "stream",
     "text": [
      "100%|██████████████████████████████████████████████████████████████████████████████| 2000/2000 [00:31<00:00, 63.20it/s]\n",
      "100%|██████████████████████████████████████████████████████████████████████████████| 2000/2000 [00:31<00:00, 63.81it/s]\n"
     ]
    },
    {
     "name": "stdout",
     "output_type": "stream",
     "text": [
      "../scenes/rq1/clevr/original/c4\\rel_scenes.json\n"
     ]
    },
    {
     "name": "stderr",
     "output_type": "stream",
     "text": [
      "100%|█████████████████████████████████████████████████████████████████████████████| 2000/2000 [00:18<00:00, 111.01it/s]\n",
      "100%|█████████████████████████████████████████████████████████████████████████████| 2000/2000 [00:18<00:00, 110.43it/s]\n"
     ]
    }
   ],
   "source": [
    "process_results(constrained_results_clevr, process_coord_scene_clevr)\n",
    "process_results(original_results_clevr, process_coord_scene_clevr)"
   ]
  },
  {
   "cell_type": "markdown",
   "metadata": {},
   "source": [
    "## RM"
   ]
  },
  {
   "cell_type": "markdown",
   "metadata": {},
   "source": [
    "Result for RM+CONS"
   ]
  },
  {
   "cell_type": "code",
   "execution_count": 13,
   "metadata": {},
   "outputs": [
    {
     "data": {
      "text/plain": [
       "'[0.9955 0.9994 0.9805 0.996  0.988  0.9979 0.939  0.991  0.997  0.9996\\n 0.9875 0.998 ]'"
      ]
     },
     "execution_count": 13,
     "metadata": {},
     "output_type": "execute_result"
    }
   ],
   "source": [
    "print_metrics(constrained_results_clevr, ['SGGen', 'SGGen+', 'SA', 'Con'], setup_paths, lambda a: a.scene_stats)"
   ]
  },
  {
   "cell_type": "markdown",
   "metadata": {},
   "source": [
    "Result for RM-CONS"
   ]
  },
  {
   "cell_type": "code",
   "execution_count": 14,
   "metadata": {
    "pycharm": {
     "name": "#%%\n"
    }
   },
   "outputs": [
    {
     "data": {
      "text/plain": [
       "'[0.9992 0.9998 0.995  0.9975 0.9961 0.9993 0.983  0.993  0.9997 0.9999\\n 0.997  0.9995]'"
      ]
     },
     "execution_count": 14,
     "metadata": {},
     "output_type": "execute_result"
    }
   ],
   "source": [
    "print_metrics(original_results_clevr, ['SGGen', 'SGGen+', 'SA', 'Con'], setup_paths, lambda a: a.scene_stats)"
   ]
  },
  {
   "cell_type": "markdown",
   "metadata": {},
   "source": [
    "Cohen-d effect size for each case"
   ]
  },
  {
   "cell_type": "code",
   "execution_count": 21,
   "metadata": {},
   "outputs": [
    {
     "data": {
      "text/plain": [
       "'[-1.6961 -1.6726 -2.0254 -0.339  -2.522  -1.4659 -3.4665 -0.3795 -2.5191\\n -1.4704 -2.0883 -0.5529]'"
      ]
     },
     "execution_count": 21,
     "metadata": {},
     "output_type": "execute_result"
    }
   ],
   "source": [
    "np.array2string(print_stats(constrained_results_clevr, original_results_clevr, ['SGGen', 'SGGen+', 'SA', 'Con'], setup_paths, lambda a: a.scene_stats), precision=4)"
   ]
  },
  {
   "cell_type": "markdown",
   "metadata": {},
   "source": [
    "## PM"
   ]
  },
  {
   "cell_type": "markdown",
   "metadata": {},
   "source": [
    "Result for PM+CONS"
   ]
  },
  {
   "cell_type": "code",
   "execution_count": 22,
   "metadata": {},
   "outputs": [
    {
     "data": {
      "text/plain": [
       "'[0.992  0.9996 0.9805 0.999  0.9768 0.9981 0.9385 0.985  0.9912 0.9994\\n 0.9805 0.9955]'"
      ]
     },
     "execution_count": 22,
     "metadata": {},
     "output_type": "execute_result"
    }
   ],
   "source": [
    "print_metrics(constrained_results_clevr, ['SGGen', 'SGGen+', 'SA', 'Con'], setup_paths, lambda a: a.coord_scene_stats)"
   ]
  },
  {
   "cell_type": "markdown",
   "metadata": {},
   "source": [
    "Result for PM-CONS"
   ]
  },
  {
   "cell_type": "code",
   "execution_count": 23,
   "metadata": {},
   "outputs": [
    {
     "data": {
      "text/plain": [
       "'[0.996  0.9998 0.991  0.999  0.9856 0.999  0.961  0.9825 0.9971 0.9999\\n 0.9935 0.999 ]'"
      ]
     },
     "execution_count": 23,
     "metadata": {},
     "output_type": "execute_result"
    }
   ],
   "source": [
    "print_metrics(original_results_clevr, ['SGGen', 'SGGen+', 'SA', 'Con'], setup_paths, lambda a: a.coord_scene_stats)"
   ]
  },
  {
   "cell_type": "markdown",
   "metadata": {},
   "source": [
    "Cohen-d effect size for each case"
   ]
  },
  {
   "cell_type": "code",
   "execution_count": 25,
   "metadata": {
    "pycharm": {
     "name": "#%%\n"
    }
   },
   "outputs": [
    {
     "data": {
      "text/plain": [
       "'[-1.0097 -0.8144 -1.1455  0.     -1.8223 -0.9488 -1.7029  0.3721 -1.6253\\n -1.8284 -1.7227 -1.1649]'"
      ]
     },
     "execution_count": 25,
     "metadata": {},
     "output_type": "execute_result"
    }
   ],
   "source": [
    "np.array2string(print_stats(constrained_results_clevr, original_results_clevr, ['SGGen', 'SGGen+', 'SA', 'Con'], setup_paths, lambda a: a.coord_scene_stats), precision=4)"
   ]
  },
  {
   "cell_type": "markdown",
   "metadata": {
    "pycharm": {
     "name": "#%% md\n"
    }
   },
   "source": [
    "# RQ 2-3"
   ]
  },
  {
   "cell_type": "code",
   "execution_count": 49,
   "metadata": {},
   "outputs": [],
   "source": [
    "def print_metric_values(metric_names, setups):\n",
    "    for metric_name in metric_names:\n",
    "        print(f'\"{metric_name}\": {np.array2string(np.array([np.mean(setup[metric_name]) for setup in setups]), precision=4)}')"
   ]
  },
  {
   "cell_type": "markdown",
   "metadata": {},
   "source": [
    "## BLOCK\n",
    "From left to right: 4/4, 3/4, 2/4, 1/4"
   ]
  },
  {
   "cell_type": "code",
   "execution_count": 51,
   "metadata": {},
   "outputs": [],
   "source": [
    "constraints =  [block.SmallObjectConstraint('c1'), block.LargeCubeConstraint('c2'), \n",
    "                block.BottomConstraint('c3'), block.YellowObjectConstraint('c4')]\n",
    "schema_path = '../scenes/datasets_schema/block.json'\n",
    "keys = ['SGGen', 'SGGen+', 'SA']\n",
    "gt_path = '../scenes/rq1/block/gt/cons'\n",
    "scenes_path = '../scenes/rq2-3/block/'\n",
    "setup_names = ['data_44', 'data_34', 'data_24', 'data_14']\n",
    "setups = []\n",
    "\n",
    "for name in setup_names:\n",
    "    setups.append(ProblemDomain(constraints, keys, gt_path, f'{scenes_path}/{name}', schema_path))\n",
    "\n",
    "for domain in setups:\n",
    "    domain.load_predicted_scenes(process_coord_scene)\n",
    "    domain.cal_matrics_statistics()"
   ]
  },
  {
   "cell_type": "markdown",
   "metadata": {},
   "source": [
    "### RM"
   ]
  },
  {
   "cell_type": "code",
   "execution_count": 53,
   "metadata": {},
   "outputs": [
    {
     "name": "stdout",
     "output_type": "stream",
     "text": [
      "\"SGGen\": [0.9841 0.9727 0.9717 0.9595]\n",
      "\"SGGen+\": [0.9919 0.9859 0.9854 0.9783]\n",
      "\"SA\": [0.825  0.783  0.7595 0.743 ]\n",
      "\"Con\": [0.909  0.8715 0.865  0.8315]\n"
     ]
    }
   ],
   "source": [
    "print_metric_values(['SGGen', 'SGGen+', 'SA', 'Con'], [setup.scene_stats for setup in setups])"
   ]
  },
  {
   "cell_type": "markdown",
   "metadata": {},
   "source": [
    "### RM + OP"
   ]
  },
  {
   "cell_type": "code",
   "execution_count": 54,
   "metadata": {},
   "outputs": [
    {
     "name": "stdout",
     "output_type": "stream",
     "text": [
      "\"SGGen\": [0.9965 0.995  0.9948 0.9917]\n",
      "\"SGGen+\": [0.9997 0.9994 0.9994 0.9985]\n",
      "\"SA\": [0.9885 0.986  0.982  0.959 ]\n",
      "\"Con\": [1. 1. 1. 1.]\n"
     ]
    }
   ],
   "source": [
    "print_metric_values(['SGGen', 'SGGen+', 'SA', 'Con'], [setup.scene_fixed_stats for setup in setups])"
   ]
  },
  {
   "cell_type": "markdown",
   "metadata": {},
   "source": [
    "### PM"
   ]
  },
  {
   "cell_type": "code",
   "execution_count": 55,
   "metadata": {},
   "outputs": [
    {
     "name": "stdout",
     "output_type": "stream",
     "text": [
      "\"SGGen\": [0.9942 0.9913 0.9927 0.9811]\n",
      "\"SGGen+\": [0.9996 0.9994 0.9994 0.9984]\n",
      "\"SA\": [0.982  0.976  0.9775 0.948 ]\n",
      "\"Con\": [1.     0.9995 1.     0.998 ]\n"
     ]
    }
   ],
   "source": [
    "print_metric_values(['SGGen', 'SGGen+', 'SA', 'Con'], [setup.coord_scene_stats for setup in setups])"
   ]
  },
  {
   "cell_type": "markdown",
   "metadata": {},
   "source": [
    "### PM + OP"
   ]
  },
  {
   "cell_type": "code",
   "execution_count": 56,
   "metadata": {},
   "outputs": [
    {
     "name": "stdout",
     "output_type": "stream",
     "text": [
      "\"SGGen\": [0.9942 0.9913 0.9927 0.981 ]\n",
      "\"SGGen+\": [0.9996 0.9994 0.9994 0.9984]\n",
      "\"SA\": [0.982  0.976  0.9775 0.949 ]\n",
      "\"Con\": [1. 1. 1. 1.]\n"
     ]
    }
   ],
   "source": [
    "print_metric_values(['SGGen', 'SGGen+', 'SA', 'Con'], [setup.coord_scene_fixed_stats for setup in setups])"
   ]
  },
  {
   "cell_type": "markdown",
   "metadata": {},
   "source": [
    "## CLEVR\n",
    "From left to right: 4/4, 3/4, 2/4, 1/4"
   ]
  },
  {
   "cell_type": "code",
   "execution_count": 59,
   "metadata": {
    "pycharm": {
     "name": "#%%\n"
    }
   },
   "outputs": [
    {
     "name": "stdout",
     "output_type": "stream",
     "text": [
      "../scenes/rq2-3/clevr//data_44\\rel_scenes.json\n"
     ]
    },
    {
     "name": "stderr",
     "output_type": "stream",
     "text": [
      "100%|██████████████████████████████████████████████████████████████████████████████| 2000/2000 [00:21<00:00, 92.99it/s]\n",
      "100%|██████████████████████████████████████████████████████████████████████████████| 2000/2000 [00:21<00:00, 92.63it/s]\n",
      "100%|██████████████████████████████████████████████████████████████████████████████| 2000/2000 [00:21<00:00, 93.14it/s]\n",
      "100%|██████████████████████████████████████████████████████████████████████████████| 2000/2000 [00:21<00:00, 92.97it/s]\n"
     ]
    },
    {
     "name": "stdout",
     "output_type": "stream",
     "text": [
      "../scenes/rq2-3/clevr//data_34\\rel_scenes.json\n"
     ]
    },
    {
     "name": "stderr",
     "output_type": "stream",
     "text": [
      "100%|██████████████████████████████████████████████████████████████████████████████| 2000/2000 [00:21<00:00, 92.87it/s]\n",
      "100%|██████████████████████████████████████████████████████████████████████████████| 2000/2000 [00:21<00:00, 92.89it/s]\n",
      "100%|██████████████████████████████████████████████████████████████████████████████| 2000/2000 [00:21<00:00, 92.97it/s]\n",
      "100%|██████████████████████████████████████████████████████████████████████████████| 2000/2000 [00:21<00:00, 93.08it/s]\n"
     ]
    },
    {
     "name": "stdout",
     "output_type": "stream",
     "text": [
      "../scenes/rq2-3/clevr//data_24\\rel_scenes.json\n"
     ]
    },
    {
     "name": "stderr",
     "output_type": "stream",
     "text": [
      "100%|██████████████████████████████████████████████████████████████████████████████| 2000/2000 [00:21<00:00, 92.84it/s]\n",
      "100%|██████████████████████████████████████████████████████████████████████████████| 2000/2000 [00:21<00:00, 92.95it/s]\n",
      "100%|██████████████████████████████████████████████████████████████████████████████| 2000/2000 [00:21<00:00, 92.94it/s]\n",
      "100%|██████████████████████████████████████████████████████████████████████████████| 2000/2000 [00:21<00:00, 93.01it/s]\n"
     ]
    },
    {
     "name": "stdout",
     "output_type": "stream",
     "text": [
      "../scenes/rq2-3/clevr//data_14\\rel_scenes.json\n"
     ]
    },
    {
     "name": "stderr",
     "output_type": "stream",
     "text": [
      "100%|██████████████████████████████████████████████████████████████████████████████| 2000/2000 [00:21<00:00, 93.24it/s]\n",
      "100%|██████████████████████████████████████████████████████████████████████████████| 2000/2000 [00:21<00:00, 93.10it/s]\n",
      "100%|██████████████████████████████████████████████████████████████████████████████| 2000/2000 [00:21<00:00, 92.35it/s]\n",
      "100%|██████████████████████████████████████████████████████████████████████████████| 2000/2000 [00:21<00:00, 92.42it/s]\n"
     ]
    }
   ],
   "source": [
    "constraints =  [clevr.SameColorConstraint('c1'), clevr.MaterialConstraint('c2'), \n",
    "                clevr.LargeCubeConstraint('c3'), clevr.PairBehindConstraint('c4')]\n",
    "schema_path = '../scenes/datasets_schema/clevr.json'\n",
    "keys = ['SGGen', 'SGGen+', 'SA']\n",
    "gt_path = '../scenes/rq1/clevr/gt/cons'\n",
    "scenes_path = '../scenes/rq2-3/clevr/'\n",
    "setup_names = ['data_44', 'data_34', 'data_24', 'data_14']\n",
    "setups = []\n",
    "\n",
    "for name in setup_names:\n",
    "    setups.append(ProblemDomain(constraints, keys, gt_path, f'{scenes_path}/{name}', schema_path))\n",
    "\n",
    "for domain in setups:\n",
    "    domain.load_predicted_scenes(process_coord_scene_clevr)\n",
    "    domain.cal_matrics_statistics()"
   ]
  },
  {
   "cell_type": "markdown",
   "metadata": {},
   "source": [
    "### RM"
   ]
  },
  {
   "cell_type": "code",
   "execution_count": 60,
   "metadata": {
    "pycharm": {
     "name": "#%%\n"
    }
   },
   "outputs": [
    {
     "name": "stdout",
     "output_type": "stream",
     "text": [
      "\"SGGen\": [0.9991 0.9978 0.9981 0.9937]\n",
      "\"SGGen+\": [0.9998 0.9998 0.9996 0.999 ]\n",
      "\"SA\": [0.993  0.99   0.9845 0.9705]\n",
      "\"Con\": [0.999  0.998  0.997  0.9945]\n"
     ]
    }
   ],
   "source": [
    "print_metric_values(['SGGen', 'SGGen+', 'SA', 'Con'], [setup.scene_stats for setup in setups])"
   ]
  },
  {
   "cell_type": "markdown",
   "metadata": {},
   "source": [
    "### RM + OP"
   ]
  },
  {
   "cell_type": "code",
   "execution_count": 61,
   "metadata": {
    "pycharm": {
     "name": "#%%\n"
    }
   },
   "outputs": [
    {
     "name": "stdout",
     "output_type": "stream",
     "text": [
      "\"SGGen\": [0.9997 0.9981 0.9992 0.996 ]\n",
      "\"SGGen+\": [1.     0.9998 0.9999 0.9997]\n",
      "\"SA\": [0.999  0.9945 0.9945 0.988 ]\n",
      "\"Con\": [1. 1. 1. 1.]\n"
     ]
    }
   ],
   "source": [
    "print_metric_values(['SGGen', 'SGGen+', 'SA', 'Con'], [setup.scene_fixed_stats for setup in setups])"
   ]
  },
  {
   "cell_type": "markdown",
   "metadata": {},
   "source": [
    "### PM"
   ]
  },
  {
   "cell_type": "code",
   "execution_count": 62,
   "metadata": {
    "pycharm": {
     "name": "#%%\n"
    }
   },
   "outputs": [
    {
     "name": "stdout",
     "output_type": "stream",
     "text": [
      "\"SGGen\": [0.9949 0.9943 0.9898 0.1455]\n",
      "\"SGGen+\": [0.9997 0.9997 0.9995 0.9336]\n",
      "\"SA\": [0.99   0.9875 0.978  0.031 ]\n",
      "\"Con\": [0.9985 0.9975 0.9975 0.654 ]\n"
     ]
    }
   ],
   "source": [
    "print_metric_values(['SGGen', 'SGGen+', 'SA', 'Con'], [setup.coord_scene_stats for setup in setups])"
   ]
  },
  {
   "cell_type": "markdown",
   "metadata": {},
   "source": [
    "### PM + OP"
   ]
  },
  {
   "cell_type": "code",
   "execution_count": 63,
   "metadata": {
    "pycharm": {
     "name": "#%%\n"
    }
   },
   "outputs": [
    {
     "name": "stdout",
     "output_type": "stream",
     "text": [
      "\"SGGen\": [0.9958 0.9945 0.9908 0.1596]\n",
      "\"SGGen+\": [0.9998 0.9997 0.9995 0.9345]\n",
      "\"SA\": [0.992  0.9885 0.98   0.0425]\n",
      "\"Con\": [1. 1. 1. 1.]\n"
     ]
    }
   ],
   "source": [
    "print_metric_values(['SGGen', 'SGGen+', 'SA', 'Con'], [setup.coord_scene_fixed_stats for setup in setups])"
   ]
  }
 ],
 "metadata": {
  "kernelspec": {
   "display_name": "Python 3 (ipykernel)",
   "language": "python",
   "name": "python3"
  },
  "language_info": {
   "codemirror_mode": {
    "name": "ipython",
    "version": 3
   },
   "file_extension": ".py",
   "mimetype": "text/x-python",
   "name": "python",
   "nbconvert_exporter": "python",
   "pygments_lexer": "ipython3",
   "version": "3.8.12"
  }
 },
 "nbformat": 4,
 "nbformat_minor": 1
}
