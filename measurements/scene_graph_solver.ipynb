{
 "cells": [
  {
   "cell_type": "markdown",
   "metadata": {
    "collapsed": true,
    "pycharm": {
     "name": "#%% md\n"
    }
   },
   "source": [
    "## Calculate the effect of the scene graph solver\n",
    "\n",
    "the scene nodes are ordered, so the edge difference can be directly used to measure the difference between naively pick\n",
    "the most probable edge or taking the whole graph into consideration"
   ]
  },
  {
   "cell_type": "code",
   "execution_count": 1,
   "outputs": [],
   "source": [
    "%load_ext autoreload\n",
    "%autoreload 2"
   ],
   "metadata": {
    "collapsed": false,
    "pycharm": {
     "name": "#%%\n"
    }
   }
  },
  {
   "cell_type": "code",
   "execution_count": 46,
   "outputs": [],
   "source": [
    "from utils import *\n",
    "import networkx as nx\n",
    "import matplotlib.pyplot as plt\n",
    "import h5py\n"
   ],
   "metadata": {
    "collapsed": false,
    "pycharm": {
     "name": "#%%\n"
    }
   }
  },
  {
   "cell_type": "code",
   "execution_count": 32,
   "outputs": [],
   "source": [
    "scenes_edge = read_json('G:/My Drive/Research/data/scenes/scenes_with_rels.json')\n",
    "scenes_graph = read_json('G:/My Drive/Research/data/scenes/scenes_with_rels_corrected.json')\n"
   ],
   "metadata": {
    "collapsed": false,
    "pycharm": {
     "name": "#%%\n"
    }
   }
  },
  {
   "cell_type": "code",
   "execution_count": 4,
   "outputs": [],
   "source": [
    "directions = ['left', 'right', 'behind', 'front']\n",
    "differences = {i: {'more': [], 'few': []} for i in range(len(scenes_graph['scenes']))}\n",
    "\n",
    "for i, (scene_graph, scene_edge) in enumerate(zip(scenes_edge['scenes'], scenes_graph['scenes'])):\n",
    "    for dire in directions:\n",
    "        for source, (targets_graph, targets_edge) in enumerate(zip(scene_graph['relationships'][dire],\n",
    "                                                                   scene_edge['relationships'][dire])):\n",
    "            targets_graph = set(targets_graph)\n",
    "            targets_edge = set(targets_edge)\n",
    "\n",
    "            more = [(source, target, dire) for target in targets_graph.difference(targets_edge)]\n",
    "            few = [(source, target, dire) for target in targets_edge.difference(targets_graph)]\n",
    "            differences[i]['more'].extend(more)\n",
    "            differences[i]['few'].extend(few)\n",
    "\n",
    "differences = {key : value for (key, value) in differences.items() if len(value['more']) > 0 or len(value['few']) > 0}\n",
    "\n"
   ],
   "metadata": {
    "collapsed": false,
    "pycharm": {
     "name": "#%%\n"
    }
   }
  },
  {
   "cell_type": "code",
   "execution_count": 5,
   "outputs": [
    {
     "name": "stdout",
     "output_type": "stream",
     "text": [
      "19\n",
      "left [[8, 1]]\n",
      "right []\n",
      "behind []\n",
      "front []\n",
      "82\n",
      "left []\n",
      "right []\n",
      "behind []\n",
      "front [[8, 7]]\n",
      "226\n",
      "left [[8, 6]]\n",
      "right []\n",
      "behind []\n",
      "front []\n",
      "230\n",
      "left []\n",
      "right []\n",
      "behind []\n",
      "front [[4, 5]]\n",
      "233\n",
      "left []\n",
      "right [[4, 5]]\n",
      "behind []\n",
      "front []\n",
      "234\n",
      "left []\n",
      "right []\n",
      "behind [[4, 6]]\n",
      "front []\n",
      "273\n",
      "left [[0, 9]]\n",
      "right []\n",
      "behind []\n",
      "front []\n",
      "339\n",
      "left []\n",
      "right [[3, 6]]\n",
      "behind []\n",
      "front []\n",
      "356\n",
      "left [[0, 5]]\n",
      "right []\n",
      "behind []\n",
      "front []\n",
      "417\n",
      "left []\n",
      "right []\n",
      "behind []\n",
      "front [[8, 2]]\n",
      "440\n",
      "left []\n",
      "right []\n",
      "behind []\n",
      "front [[8, 7]]\n",
      "441\n",
      "left []\n",
      "right []\n",
      "behind []\n",
      "front [[4, 6]]\n",
      "472\n",
      "left []\n",
      "right []\n",
      "behind [[8, 7]]\n",
      "front []\n",
      "474\n",
      "left []\n",
      "right []\n",
      "behind [[4, 7]]\n",
      "front []\n",
      "501\n",
      "left []\n",
      "right [[1, 6]]\n",
      "behind [[9, 4]]\n",
      "front []\n",
      "597\n",
      "left []\n",
      "right []\n",
      "behind [[3, 5]]\n",
      "front []\n",
      "694\n",
      "left []\n",
      "right []\n",
      "behind []\n",
      "front [[2, 7]]\n",
      "753\n",
      "left []\n",
      "right []\n",
      "behind []\n",
      "front [[8, 4]]\n",
      "797\n",
      "left []\n",
      "right []\n",
      "behind [[0, 7]]\n",
      "front []\n",
      "841\n",
      "left []\n",
      "right []\n",
      "behind [[0, 4]]\n",
      "front []\n",
      "853\n",
      "left []\n",
      "right []\n",
      "behind []\n",
      "front [[0, 6]]\n"
     ]
    }
   ],
   "source": [
    "for scene_id in differences.keys():\n",
    "    print(scene_id)\n",
    "    for direction in directions:\n",
    "        graph = convert_to_nx(scenes_edge['scenes'][scene_id], [direction], ['r'])\n",
    "        print(f'{direction} {list(nx.simple_cycles(graph))}')"
   ],
   "metadata": {
    "collapsed": false,
    "pycharm": {
     "name": "#%%\n"
    }
   }
  },
  {
   "cell_type": "code",
   "execution_count": 6,
   "outputs": [
    {
     "data": {
      "text/plain": "{19: {'more': [(1, 8, 'left')], 'few': [(1, 8, 'right')]},\n 82: {'more': [(8, 7, 'front')], 'few': [(8, 7, 'behind')]},\n 226: {'more': [(8, 6, 'left')], 'few': [(8, 6, 'right')]},\n 230: {'more': [(4, 5, 'front')], 'few': [(4, 5, 'behind')]},\n 233: {'more': [(5, 4, 'right')], 'few': [(5, 4, 'left')]},\n 234: {'more': [(4, 6, 'behind')], 'few': [(4, 6, 'front')]},\n 273: {'more': [(0, 9, 'left')], 'few': [(0, 9, 'right')]},\n 339: {'more': [(3, 6, 'right')], 'few': [(3, 6, 'left')]},\n 356: {'more': [(0, 5, 'left')], 'few': [(0, 5, 'right')]},\n 417: {'more': [(8, 2, 'front')], 'few': [(8, 2, 'behind')]},\n 440: {'more': [(7, 8, 'front')], 'few': [(7, 8, 'behind')]},\n 441: {'more': [(4, 6, 'front')], 'few': [(4, 6, 'behind')]},\n 472: {'more': [(8, 7, 'behind')], 'few': [(8, 7, 'front')]},\n 474: {'more': [(7, 4, 'behind')], 'few': [(7, 4, 'front')]},\n 501: {'more': [(6, 1, 'right'), (4, 9, 'behind')],\n  'few': [(6, 1, 'left'), (4, 9, 'front')]},\n 597: {'more': [(3, 5, 'behind')], 'few': [(3, 5, 'front')]},\n 694: {'more': [(2, 7, 'front')], 'few': [(2, 7, 'behind')]},\n 753: {'more': [(8, 4, 'front')], 'few': [(8, 4, 'behind')]},\n 797: {'more': [(7, 0, 'behind')], 'few': [(7, 0, 'front')]},\n 841: {'more': [(0, 4, 'behind')], 'few': [(0, 4, 'front')]},\n 853: {'more': [(0, 6, 'front')], 'few': [(0, 6, 'behind')]}}"
     },
     "execution_count": 6,
     "metadata": {},
     "output_type": "execute_result"
    }
   ],
   "source": [
    "differences"
   ],
   "metadata": {
    "collapsed": false,
    "pycharm": {
     "name": "#%%\n"
    }
   }
  },
  {
   "cell_type": "code",
   "execution_count": 7,
   "outputs": [],
   "source": [
    "    # pos = nx.circular_layout(graph)\n",
    "    # edges = graph.edges()\n",
    "    #\n",
    "    # colors = []\n",
    "    # for u, v, data in list(graph.edges(data=True)):\n",
    "    #     colors.append(data['color'])"
   ],
   "metadata": {
    "collapsed": false,
    "pycharm": {
     "name": "#%%\n"
    }
   }
  },
  {
   "cell_type": "markdown",
   "source": [
    "# Fault Case Analysis"
   ],
   "metadata": {
    "collapsed": false,
    "pycharm": {
     "name": "#%% md\n"
    }
   }
  },
  {
   "cell_type": "code",
   "execution_count": 29,
   "outputs": [],
   "source": [
    "vocab = read_json('G:/My Drive/Research/data/vocab.json')\n",
    "clevr_results = read_json('G:/My Drive/Research/data/reason/results/result_clevr.json')\n",
    "clevr_rel_corrected_results = read_json('G:/My Drive/Research/data/reason/results/result_clevr_corrected.json')\n",
    "questions = read_json('G:/My Drive/Research/data/Original/CLEVR_questions.json')['questions']\n",
    "h5_filename = 'G:/My Drive/Research/data/Original/images.h5'\n",
    "images = h5py.File(h5_filename, 'r')['images']"
   ],
   "metadata": {
    "collapsed": false,
    "pycharm": {
     "name": "#%%\n"
    }
   }
  },
  {
   "cell_type": "code",
   "execution_count": 9,
   "outputs": [],
   "source": [
    "wrong_ans_indexes = [i for (i, correct) in enumerate(clevr_results['corrects']) if not correct]\n",
    "wrong_ans_indexes_rel_corrected = [i for (i, correct) in enumerate(clevr_rel_corrected_results['corrects']) if not correct]\n"
   ],
   "metadata": {
    "collapsed": false,
    "pycharm": {
     "name": "#%%\n"
    }
   }
  },
  {
   "cell_type": "code",
   "execution_count": 34,
   "outputs": [
    {
     "name": "stdout",
     "output_type": "stream",
     "text": [
      "6696\n",
      "Are there more large matte things that are behind the small cube than small brown objects?\n",
      "{'image_index': 669, 'objects': [{'color': 'green', 'shape': 'sphere', 'material': 'rubber', 'size': 'large'}, {'color': 'cyan', 'shape': 'sphere', 'material': 'rubber', 'size': 'small'}, {'color': 'cyan', 'shape': 'sphere', 'material': 'metal', 'size': 'large'}, {'color': 'yellow', 'shape': 'cylinder', 'material': 'rubber', 'size': 'large'}, {'color': 'cyan', 'shape': 'cylinder', 'material': 'rubber', 'size': 'small'}, {'color': 'red', 'shape': 'cylinder', 'material': 'metal', 'size': 'small'}, {'color': 'gray', 'shape': 'cylinder', 'material': 'metal', 'size': 'small'}], 'relationships': {'left': [[1, 2, 4], [2, 4], [], [0, 1, 2, 4, 6], [2], [0, 1, 2, 3, 4, 6], [0, 1, 2, 4]], 'right': [[3, 5, 6], [0, 3, 5, 6], [0, 1, 3, 4, 5, 6], [5], [0, 1, 3, 5, 6], [], [3, 5]], 'front': [[1, 2, 3, 4, 5, 6], [], [1, 3, 4], [1, 4], [1], [1, 2, 3, 4, 6], [1, 2, 3, 4]], 'behind': [[], [0, 2, 3, 4, 5, 6], [0, 5, 6], [0, 2, 5, 6], [0, 2, 3, 5, 6], [0], [0, 5]]}}\n",
      "7\n",
      "Model Answer: -1\n",
      "Actual Result: True\n"
     ]
    },
    {
     "data": {
      "text/plain": "['greater_than',\n 'count',\n 'filter_material[rubber]',\n 'filter_size[large]',\n 'relate[behind]',\n 'unique',\n 'filter_shape[cube]',\n 'filter_size[small]',\n 'scene',\n 'count',\n 'filter_color[brown]',\n 'filter_size[small]',\n 'scene',\n '<END>',\n 'equal_integer',\n 'equal_integer',\n 'equal_integer',\n 'equal_integer',\n 'equal_integer',\n 'equal_integer',\n 'equal_integer',\n 'equal_integer',\n 'equal_integer',\n 'equal_integer',\n 'equal_integer',\n 'equal_integer',\n 'equal_integer']"
     },
     "execution_count": 34,
     "metadata": {},
     "output_type": "execute_result"
    },
    {
     "data": {
      "text/plain": "<Figure size 432x288 with 1 Axes>",
      "image/png": "[encoded data removed]"
     },
     "metadata": {
      "needs_background": "light"
     },
     "output_type": "display_data"
    }
   ],
   "source": [
    "i = 6696\n",
    "print(i)\n",
    "print(questions[i]['question'])\n",
    "print(scenes_graph['scenes'][questions[i]['image_index']])\n",
    "print(len(scenes_graph['scenes'][questions[i]['image_index']]['objects']))\n",
    "plt.imshow(images[questions[i]['image_index']])\n",
    "print(f\"Model Answer: {clevr_rel_corrected_results['answers'][i]}\")\n",
    "print(f\"Actual Result: {questions[i]['answer']}\")\n",
    "[vocab['program_idx_to_token'][str(i)] for i in clevr_results['programs'][i]]"
   ],
   "metadata": {
    "collapsed": false,
    "pycharm": {
     "name": "#%%\n"
    }
   }
  },
  {
   "cell_type": "markdown",
   "source": [
    "## Check If the faults are repairable\n",
    "1. The correct answer is ranked second, after the prediction\n",
    "2. The correct answer is higher than all other objects in the scene without that property"
   ],
   "metadata": {
    "collapsed": false,
    "pycharm": {
     "name": "#%% md\n"
    }
   }
  },
  {
   "cell_type": "code",
   "source": [
    "import pandas as pd"
   ],
   "metadata": {
    "collapsed": false,
    "pycharm": {
     "name": "#%%\n"
    }
   },
   "execution_count": 3,
   "outputs": []
  },
  {
   "cell_type": "code",
   "execution_count": 35,
   "outputs": [],
   "source": [
    "error_df = pd.read_csv('G:/My Drive/Research/data/measurements/error_cases.csv')\n",
    "scenes = read_json('G:/My Drive/Research/data/scenes/scenes_proba.json')['scenes']\n",
    "attr_map = read_json('G:/My Drive/Research/data/clevr_attr_map.json')['attributes']\n",
    "attributes = ['size', 'color', 'material', 'shape']"
   ],
   "metadata": {
    "collapsed": false,
    "pycharm": {
     "name": "#%%\n"
    }
   }
  },
  {
   "cell_type": "code",
   "execution_count": 51,
   "outputs": [
    {
     "name": "stdout",
     "output_type": "stream",
     "text": [
      "184\n",
      "color\n",
      "gt prob? 0.005968824028968811\n",
      "gt is the second best? True\n",
      "gt is more significant? True\n",
      "207\n",
      "size\n",
      "gt prob? 0.3000764846801758\n",
      "gt is the second best? True\n",
      "gt is more significant? True\n",
      "226\n",
      "shape\n",
      "gt prob? 0.015813350677490234\n",
      "gt is the second best? True\n",
      "gt is more significant? True\n",
      "265\n",
      "shape\n",
      "gt prob? 0.003326356876641512\n",
      "gt is the second best? True\n",
      "gt is more significant? True\n",
      "329\n",
      "shape\n",
      "gt prob? 5.954895186732756e-06\n",
      "gt is the second best? True\n",
      "gt is more significant? False\n",
      "444\n",
      "shape\n",
      "gt prob? 0.41011369228363037\n",
      "gt is the second best? True\n",
      "gt is more significant? True\n",
      "592\n",
      "shape\n",
      "gt prob? 0.42855921387672424\n",
      "gt is the second best? True\n",
      "gt is more significant? True\n",
      "641\n",
      "shape\n",
      "gt prob? 0.008016800507903099\n",
      "gt is the second best? True\n",
      "gt is more significant? True\n",
      "669\n",
      "shape\n",
      "gt prob? 0.36291930079460144\n",
      "gt is the second best? True\n",
      "gt is more significant? True\n",
      "697\n",
      "color\n",
      "gt prob? 0.02594890631735325\n",
      "gt is the second best? True\n",
      "gt is more significant? True\n",
      "739\n",
      "shape\n",
      "gt prob? 0.00011164064926560968\n",
      "gt is the second best? False\n",
      "gt is more significant? True\n",
      "759\n",
      "shape\n",
      "gt prob? 0.03191329538822174\n",
      "gt is the second best? True\n",
      "gt is more significant? True\n",
      "792\n",
      "shape\n",
      "gt prob? 0.33735913038253784\n",
      "gt is the second best? True\n",
      "gt is more significant? True\n",
      "937\n",
      "shape\n",
      "gt prob? 0.001321836025454104\n",
      "gt is the second best? True\n",
      "gt is more significant? True\n"
     ]
    }
   ],
   "source": [
    "for _, row in error_df.iterrows():\n",
    "    print(row['image_id'])\n",
    "    scene = scenes[row['image_id']]\n",
    "    attr_name = row['attr_name']\n",
    "    objects = scene['objects']\n",
    "\n",
    "    target_obj = find_matching_object(row['detected_object'], objects, attr_map, attributes)\n",
    "    if not target_obj:\n",
    "        print('did not find matching object')\n",
    "        continue\n",
    "\n",
    "    print(row['attr_name'])\n",
    "    actual_idx = attr_map[attr_name].index(row['actual'])\n",
    "    actual_proba = target_obj[attr_name][actual_idx]\n",
    "    sorted_dist = np.argsort(target_obj[attr_name])\n",
    "    print(f'gt prob? {target_obj[attr_name][actual_idx]}')\n",
    "    print(f'gt is the second best? {sorted_dist[-2] == actual_idx}')\n",
    "\n",
    "    more_significant = is_more_significant(target_obj, objects, attr_name, actual_idx)\n",
    "    print(f'gt is more significant? {more_significant}')\n"
   ],
   "metadata": {
    "collapsed": false,
    "pycharm": {
     "name": "#%%\n"
    }
   }
  },
  {
   "cell_type": "code",
   "execution_count": 12,
   "outputs": [
    {
     "data": {
      "text/plain": "    image_id              detected_object attr_name predicted    actual\n0        184       small gray rubber cube     color      gray      blue\n1        207    small yellow ruber sphere      size     small     large\n2        226    small cyan metal cylinder     shape  cylinder      cube\n3        265     small cyan rubber sphere     shape    sphere  cylinder\n4        329  small green rubber cylinder     shape  cylinder    sphere\n5        444    small gray metal cylinder     shape  cylinder      cube\n6        592       small blue rubber cube     shape  cylinder      cube\n7        641      small blue metal sphere     shape    sphere      cube\n8        669      small gray metal sphere     shape    shpere      cube\n9        697         large red metal cube     color       red    purple\n10       739         small red ruber cube     shape      cube    sphere\n11       759   small cyan rubber cylinder     shape  cylinder      cube\n12       792       small red ruber sphere     shape    sphere      cube\n13       937   small yellow rubber sphere     shape    sphere      cube",
      "text/html": "<div>\n<style scoped>\n    .dataframe tbody tr th:only-of-type {\n        vertical-align: middle;\n    }\n\n    .dataframe tbody tr th {\n        vertical-align: top;\n    }\n\n    .dataframe thead th {\n        text-align: right;\n    }\n</style>\n<table border=\"1\" class=\"dataframe\">\n  <thead>\n    <tr style=\"text-align: right;\">\n      <th></th>\n      <th>image_id</th>\n      <th>detected_object</th>\n      <th>attr_name</th>\n      <th>predicted</th>\n      <th>actual</th>\n    </tr>\n  </thead>\n  <tbody>\n    <tr>\n      <th>0</th>\n      <td>184</td>\n      <td>small gray rubber cube</td>\n      <td>color</td>\n      <td>gray</td>\n      <td>blue</td>\n    </tr>\n    <tr>\n      <th>1</th>\n      <td>207</td>\n      <td>small yellow ruber sphere</td>\n      <td>size</td>\n      <td>small</td>\n      <td>large</td>\n    </tr>\n    <tr>\n      <th>2</th>\n      <td>226</td>\n      <td>small cyan metal cylinder</td>\n      <td>shape</td>\n      <td>cylinder</td>\n      <td>cube</td>\n    </tr>\n    <tr>\n      <th>3</th>\n      <td>265</td>\n      <td>small cyan rubber sphere</td>\n      <td>shape</td>\n      <td>sphere</td>\n      <td>cylinder</td>\n    </tr>\n    <tr>\n      <th>4</th>\n      <td>329</td>\n      <td>small green rubber cylinder</td>\n      <td>shape</td>\n      <td>cylinder</td>\n      <td>sphere</td>\n    </tr>\n    <tr>\n      <th>5</th>\n      <td>444</td>\n      <td>small gray metal cylinder</td>\n      <td>shape</td>\n      <td>cylinder</td>\n      <td>cube</td>\n    </tr>\n    <tr>\n      <th>6</th>\n      <td>592</td>\n      <td>small blue rubber cube</td>\n      <td>shape</td>\n      <td>cylinder</td>\n      <td>cube</td>\n    </tr>\n    <tr>\n      <th>7</th>\n      <td>641</td>\n      <td>small blue metal sphere</td>\n      <td>shape</td>\n      <td>sphere</td>\n      <td>cube</td>\n    </tr>\n    <tr>\n      <th>8</th>\n      <td>669</td>\n      <td>small gray metal sphere</td>\n      <td>shape</td>\n      <td>shpere</td>\n      <td>cube</td>\n    </tr>\n    <tr>\n      <th>9</th>\n      <td>697</td>\n      <td>large red metal cube</td>\n      <td>color</td>\n      <td>red</td>\n      <td>purple</td>\n    </tr>\n    <tr>\n      <th>10</th>\n      <td>739</td>\n      <td>small red ruber cube</td>\n      <td>shape</td>\n      <td>cube</td>\n      <td>sphere</td>\n    </tr>\n    <tr>\n      <th>11</th>\n      <td>759</td>\n      <td>small cyan rubber cylinder</td>\n      <td>shape</td>\n      <td>cylinder</td>\n      <td>cube</td>\n    </tr>\n    <tr>\n      <th>12</th>\n      <td>792</td>\n      <td>small red ruber sphere</td>\n      <td>shape</td>\n      <td>sphere</td>\n      <td>cube</td>\n    </tr>\n    <tr>\n      <th>13</th>\n      <td>937</td>\n      <td>small yellow rubber sphere</td>\n      <td>shape</td>\n      <td>sphere</td>\n      <td>cube</td>\n    </tr>\n  </tbody>\n</table>\n</div>"
     },
     "execution_count": 12,
     "metadata": {},
     "output_type": "execute_result"
    }
   ],
   "source": [
    "error_df"
   ],
   "metadata": {
    "collapsed": false,
    "pycharm": {
     "name": "#%%\n"
    }
   }
  },
  {
   "cell_type": "code",
   "execution_count": null,
   "outputs": [],
   "source": [],
   "metadata": {
    "collapsed": false,
    "pycharm": {
     "name": "#%%\n"
    }
   }
  }
 ],
 "metadata": {
  "kernelspec": {
   "name": "python3",
   "language": "python",
   "display_name": "Python 3"
  },
  "language_info": {
   "codemirror_mode": {
    "name": "ipython",
    "version": 2
   },
   "file_extension": ".py",
   "mimetype": "text/x-python",
   "name": "python",
   "nbconvert_exporter": "python",
   "pygments_lexer": "ipython2",
   "version": "2.7.6"
  }
 },
 "nbformat": 4,
 "nbformat_minor": 0
}