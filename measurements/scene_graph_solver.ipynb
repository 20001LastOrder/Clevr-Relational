{
 "cells": [
  {
   "cell_type": "markdown",
   "metadata": {
    "collapsed": true,
    "pycharm": {
     "name": "#%% md\n"
    }
   },
   "source": [
    "## Calculate the effect of the scene graph solver\n",
    "\n",
    "the scene nodes are ordered, so the edge difference can be directly used to measure the difference between naively pick\n",
    "the most probable edge or taking the whole graph into consideration"
   ]
  },
  {
   "cell_type": "markdown",
   "metadata": {},
   "source": []
  },
  {
   "cell_type": "code",
   "execution_count": 30,
   "metadata": {
    "pycharm": {
     "name": "#%%\n"
    }
   },
   "outputs": [],
   "source": [
    "%load_ext autoreload\n",
    "%autoreload 2"
   ]
  },
  {
   "cell_type": "code",
   "execution_count": 31,
   "metadata": {
    "pycharm": {
     "name": "#%%\n"
    }
   },
   "outputs": [],
   "source": [
    "from utils import *\n",
    "import networkx as nx\n",
    "import matplotlib.pyplot as plt\n",
    "import h5py\n"
   ]
  },
  {
   "cell_type": "code",
   "execution_count": null,
   "metadata": {
    "pycharm": {
     "name": "#%%\n"
    }
   },
   "outputs": [],
   "source": [
    "scenes_edge = read_json('G:/My Drive/Research/data/scenes/scenes_with_rels.json')\n",
    "scenes_graph = read_json('G:/My Drive/Research/data/scenes/scenes_with_rels_corrected.json')\n"
   ]
  },
  {
   "cell_type": "code",
   "execution_count": null,
   "metadata": {
    "pycharm": {
     "name": "#%%\n"
    }
   },
   "outputs": [],
   "source": [
    "directions = ['left', 'right', 'behind', 'front']\n",
    "differences = {i: {'more': [], 'few': []} for i in range(len(scenes_graph['scenes']))}\n",
    "\n",
    "for i, (scene_graph, scene_edge) in enumerate(zip(scenes_edge['scenes'], scenes_graph['scenes'])):\n",
    "    for dire in directions:\n",
    "        for source, (targets_graph, targets_edge) in enumerate(zip(scene_graph['relationships'][dire],\n",
    "                                                                   scene_edge['relationships'][dire])):\n",
    "            targets_graph = set(targets_graph)\n",
    "            targets_edge = set(targets_edge)\n",
    "\n",
    "            more = [(source, target, dire) for target in targets_graph.difference(targets_edge)]\n",
    "            few = [(source, target, dire) for target in targets_edge.difference(targets_graph)]\n",
    "            differences[i]['more'].extend(more)\n",
    "            differences[i]['few'].extend(few)\n",
    "\n",
    "differences = {key : value for (key, value) in differences.items() if len(value['more']) > 0 or len(value['few']) > 0}\n",
    "\n"
   ]
  },
  {
   "cell_type": "code",
   "execution_count": null,
   "metadata": {
    "pycharm": {
     "name": "#%%\n"
    }
   },
   "outputs": [],
   "source": [
    "for scene_id in differences.keys():\n",
    "    print(scene_id)\n",
    "    for direction in directions:\n",
    "        graph = convert_to_nx(scenes_edge['scenes'][scene_id], [direction], ['r'])\n",
    "        print(f'{direction} {list(nx.simple_cycles(graph))}')"
   ]
  },
  {
   "cell_type": "code",
   "execution_count": null,
   "metadata": {
    "pycharm": {
     "name": "#%%\n"
    }
   },
   "outputs": [],
   "source": [
    "    # pos = nx.circular_layout(graph)\n",
    "    # edges = graph.edges()\n",
    "    #\n",
    "    # colors = []\n",
    "    # for u, v, data in list(graph.edges(data=True)):\n",
    "    #     colors.append(data['color'])"
   ]
  },
  {
   "cell_type": "markdown",
   "metadata": {
    "pycharm": {
     "name": "#%% md\n"
    }
   },
   "source": [
    "# Fault Case Analysis"
   ]
  },
  {
   "cell_type": "code",
   "execution_count": null,
   "metadata": {
    "pycharm": {
     "name": "#%%\n"
    }
   },
   "outputs": [],
   "source": [
    "vocab = read_json('G:/My Drive/Research/data/vocab.json')\n",
    "clevr_results = read_json('G:/My Drive/Research/data/reason/results/result_clevr.json')\n",
    "clevr_rel_corrected_results = read_json('G:/My Drive/Research/data/reason/results/result_clevr_corrected.json')\n",
    "questions = read_json('G:/My Drive/Research/data/Original/CLEVR_questions.json')['questions']\n",
    "h5_filename = 'G:/My Drive/Research/data/Original/images.h5'\n",
    "images = h5py.File(h5_filename, 'r')['images']"
   ]
  },
  {
   "cell_type": "code",
   "execution_count": null,
   "metadata": {
    "pycharm": {
     "name": "#%%\n"
    }
   },
   "outputs": [],
   "source": [
    "wrong_ans_indexes = [i for (i, correct) in enumerate(clevr_results['corrects']) if not correct]\n",
    "wrong_ans_indexes_rel_corrected = [i for (i, correct) in enumerate(clevr_rel_corrected_results['corrects']) if not correct]\n"
   ]
  },
  {
   "cell_type": "code",
   "execution_count": null,
   "metadata": {
    "pycharm": {
     "name": "#%%\n"
    }
   },
   "outputs": [],
   "source": [
    "i = 6696\n",
    "print(i)\n",
    "print(questions[i]['question'])\n",
    "print(scenes_graph['scenes'][questions[i]['image_index']])\n",
    "print(len(scenes_graph['scenes'][questions[i]['image_index']]['objects']))\n",
    "plt.imshow(images[questions[i]['image_index']])\n",
    "print(f\"Model Answer: {clevr_rel_corrected_results['answers'][i]}\")\n",
    "print(f\"Actual Result: {questions[i]['answer']}\")\n",
    "[vocab['program_idx_to_token'][str(i)] for i in clevr_results['programs'][i]]"
   ]
  },
  {
   "cell_type": "markdown",
   "metadata": {
    "pycharm": {
     "name": "#%% md\n"
    }
   },
   "source": [
    "## Check If the faults are repairable\n",
    "1. The correct answer is ranked second, after the prediction\n",
    "2. The correct answer is higher than all other objects in the scene without that property"
   ]
  },
  {
   "cell_type": "code",
   "execution_count": null,
   "metadata": {
    "pycharm": {
     "name": "#%%\n"
    }
   },
   "outputs": [],
   "source": [
    "import pandas as pd"
   ]
  },
  {
   "cell_type": "code",
   "execution_count": null,
   "metadata": {
    "pycharm": {
     "name": "#%%\n"
    }
   },
   "outputs": [],
   "source": [
    "error_df = pd.read_csv('G:/My Drive/Research/data/measurements/error_cases.csv')\n",
    "scenes = read_json('G:/My Drive/Research/data/scenes/scenes_proba.json')['scenes']\n",
    "attr_map = read_json('G:/My Drive/Research/data/clevr_attr_map.json')['attributes']\n",
    "attributes = ['size', 'color', 'material', 'shape']"
   ]
  },
  {
   "cell_type": "code",
   "execution_count": null,
   "metadata": {
    "pycharm": {
     "name": "#%%\n"
    }
   },
   "outputs": [],
   "source": [
    "for _, row in error_df.iterrows():\n",
    "    print(row['image_id'])\n",
    "    scene = scenes[row['image_id']]\n",
    "    attr_name = row['attr_name']\n",
    "    objects = scene['objects']\n",
    "\n",
    "    target_obj = find_matching_object(row['detected_object'], objects, attr_map, attributes)\n",
    "    if not target_obj:\n",
    "        print('did not find matching object')\n",
    "        continue\n",
    "\n",
    "    print(row['attr_name'])\n",
    "    actual_idx = attr_map[attr_name].index(row['actual'])\n",
    "    actual_proba = target_obj[attr_name][actual_idx]\n",
    "    sorted_dist = np.argsort(target_obj[attr_name])\n",
    "    print(f'gt prob? {target_obj[attr_name][actual_idx]}')\n",
    "    print(f'gt is the second best? {sorted_dist[-2] == actual_idx}')\n",
    "\n",
    "    more_significant = is_more_significant(target_obj, objects, attr_name, actual_idx)\n",
    "    print(f'gt is more significant? {more_significant}')\n"
   ]
  },
  {
   "cell_type": "code",
   "execution_count": null,
   "metadata": {
    "pycharm": {
     "name": "#%%\n"
    }
   },
   "outputs": [],
   "source": [
    "error_df"
   ]
  },
  {
   "cell_type": "markdown",
   "metadata": {},
   "source": [
    "# Graph Edit Distance metrics"
   ]
  },
  {
   "cell_type": "code",
   "execution_count": null,
   "metadata": {
    "pycharm": {
     "name": "#%%\n"
    }
   },
   "outputs": [],
   "source": [
    "from scene_graph_transformer import get_concrete_scene_graph, get_simple_concrete_attributes\n",
    "from utils import dag_constraint, anti_symmetry_constraint, construct_adj, process_gt_scenes, process_coord_scene, process_coord_scene_clevr\n",
    "from tqdm import tqdm"
   ]
  },
  {
   "cell_type": "code",
   "execution_count": null,
   "metadata": {
    "pycharm": {
     "name": "#%%\n"
    }
   },
   "outputs": [],
   "source": [
    "scenes = read_json('../results/clevr_block_val/constraint_1234/rel_scenes.json')['scenes']\n",
    "gt_scenes = read_json(f'../data/clevr_block/constraint_1234/scenes_test.json')['scenes']\n",
    "schema = read_json(f'../data/clevr_block/clevr_attr_map.json')\n",
    "con_scenes = read_json('../results/clevr_block_val/constraint_1234/rel_scenes_fix.json')['scenes']\n",
    "coord_scenes = read_json('../results/clevr_block_val/constraint_1234/scenes_coord_prob.json')['scenes']"
   ]
  },
  {
   "cell_type": "code",
   "execution_count": null,
   "metadata": {
    "pycharm": {
     "name": "#%%\n"
    }
   },
   "outputs": [],
   "source": [
    "concrete_scenes = [get_concrete_scene_graph(scene, schema) for scene in scenes]\n",
    "gt_scenes = [process_gt_scenes(scene, schema) for scene in gt_scenes]\n",
    "coord_scenes = [process_coord_scene(scene, schema) for scene in coord_scenes]\n",
    "for scene in coord_scenes:\n",
    "    scene['objects'] = get_simple_concrete_attributes(scene, schema)"
   ]
  },
  {
   "cell_type": "code",
   "execution_count": null,
   "metadata": {
    "pycharm": {
     "name": "#%%\n"
    }
   },
   "outputs": [],
   "source": [
    "concrete_error_maps = error_classification_for_scenes(concrete_scenes, gt_scenes, schema['relations'])\n",
    "consistent_error_maps = error_classification_for_scenes(con_scenes, gt_scenes, schema['relations'])\n",
    "coord_error_maps = error_classification_for_scenes(coord_scenes, gt_scenes, schema['relations'])"
   ]
  },
  {
   "cell_type": "code",
   "execution_count": null,
   "metadata": {
    "pycharm": {
     "name": "#%%\n"
    }
   },
   "outputs": [],
   "source": [
    "from datasets.Blockworld import *\n",
    "\n",
    "keys = ['SGGen', 'SGGen+', 'SA', 'FSA']\n",
    "constraints = [SmallObjectConstraint('small'), LargeCubeConstraint('large'), BottomConstraint('bottom'), YellowObjectConstraint('yellow')]"
   ]
  },
  {
   "cell_type": "code",
   "execution_count": null,
   "metadata": {
    "pycharm": {
     "name": "#%%\n"
    }
   },
   "outputs": [],
   "source": [
    "error_maps = consistent_error_maps\n",
    "check_scenes = con_scenes\n",
    "\n",
    "for key in keys:\n",
    "    print(key, np.mean([m[key] for m in error_maps]))\n",
    "\n",
    "errors = [sum([constraint.evaluate(scene) for constraint in constraints]) for scene in check_scenes]\n",
    "print('CV', len([e for e in errors if e == 0]) / len(errors))"
   ]
  },
  {
   "cell_type": "markdown",
   "metadata": {},
   "source": [
    "## Blocksworld"
   ]
  },
  {
   "cell_type": "code",
   "execution_count": null,
   "metadata": {
    "pycharm": {
     "name": "#%%\n"
    }
   },
   "outputs": [],
   "source": [
    "from datasets.Blockworld import *\n",
    "from measurements import ProblemDomain\n"
   ]
  },
  {
   "cell_type": "code",
   "execution_count": null,
   "metadata": {
    "pycharm": {
     "name": "#%%\n"
    }
   },
   "outputs": [],
   "source": [
    "keys = ['SGGen', 'SGGen+', 'SA', 'FSA']\n",
    "constraints = [SmallObjectConstraint('c1'), LargeCubeConstraint('c2'), BottomConstraint('c3'), YellowObjectConstraint('c4')]\n",
    "coord_scene_transformer = process_coord_scene\n",
    "blocksworld_clevr = ProblemDomain(constraints, keys, '../data/clevr_block/constraint_1234_test', '../results/clevr_block_val/original/constraint_1234/', f'../data/clevr_block/clevr_attr_map.json')\n",
    "blocksworld_c3 = ProblemDomain(constraints, keys, '../data/clevr_block/c3', '../results/clevr_block_val/original/c3/', f'../data/clevr_block/clevr_attr_map.json')\n",
    "blocksworld_c4 = ProblemDomain(constraints, keys, '../data/clevr_block/c4', '../results/clevr_block_val/original/c4/', f'../data/clevr_block/clevr_attr_map.json')\n",
    "\n",
    "\n",
    "domains = [blocksworld_clevr, blocksworld_c3, blocksworld_c4]"
   ]
  },
  {
   "cell_type": "code",
   "execution_count": null,
   "metadata": {
    "pycharm": {
     "name": "#%%\n"
    }
   },
   "outputs": [],
   "source": [
    "for domain in domains:\n",
    "    domain.load_predicted_scenes(coord_scene_transformer)\n",
    "    domain.cal_matrics_statistics()"
   ]
  },
  {
   "cell_type": "code",
   "execution_count": null,
   "metadata": {
    "pycharm": {
     "name": "#%%\n"
    }
   },
   "outputs": [],
   "source": [
    "metrics = ['SGGen', 'SGGen+', 'SA', 'Con']\n",
    "result = []\n",
    "\n",
    "for domain in domains:\n",
    "    for metric in metrics:\n",
    "        result.append(np.mean(domain.coord_scene_fixed_stats[metric]))\n",
    "result\n"
   ]
  },
  {
   "cell_type": "markdown",
   "metadata": {},
   "source": [
    "## Clevr"
   ]
  },
  {
   "cell_type": "code",
   "execution_count": null,
   "metadata": {
    "pycharm": {
     "name": "#%%\n"
    }
   },
   "outputs": [],
   "source": [
    "scenes = read_json('../results/clevr_val/constraint_1234/rel_scenes.json')['scenes']\n",
    "gt_scenes = read_json(f'../data/clevr/constraint_1234_test/scenes.json')['scenes']\n",
    "schema = read_json(f'G:/My Drive/Research/data/Clevr_mini/clevr_attr_map.json')\n",
    "con_scenes = read_json('../results/clevr_val/constraint_1234/rel_scenes_fix_coord.json')['scenes']\n",
    "coord_scenes = read_json('../results/clevr_val/constraint_1234/scenes_coord_prob.json')['scenes']"
   ]
  },
  {
   "cell_type": "code",
   "execution_count": null,
   "metadata": {
    "pycharm": {
     "name": "#%%\n"
    }
   },
   "outputs": [],
   "source": [
    "from measurements import ProblemDomain\n",
    "from datasets.Clevr import *\n",
    "\n",
    "keys = ['SGGen', 'SGGen+', 'SA', 'FSA']\n",
    "constraints =  [SameColorConstraint('c1'), MaterialConstraint('c2'), LargeCubeConstraint('c3'), PairBehindConstraint('c4')]#, ObjectIdentityConstraint('identity')]\n",
    "coord_scene_transformer = process_coord_scene_clevr\n",
    "\n",
    "clevr_full = ProblemDomain(constraints, keys, '../data/clevr/constraint_1234_test', '../results/clevr_val/original/constraint_1234', f'G:/My Drive/Research/data/Clevr_mini/clevr_attr_map.json')\n",
    "clevr_half = ProblemDomain(constraints, keys, '../data/clevr/constraint_1234_test', '../results/clevr_val/original/constraint_1234/data_50', f'G:/My Drive/Research/data/Clevr_mini/clevr_attr_map.json')\n",
    "clevr_quarter = ProblemDomain(constraints, keys, '../data/clevr/constraint_1234_test', '../results/clevr_val/original/constraint_1234/data_25', f'G:/My Drive/Research/data/Clevr_mini/clevr_attr_map.json')\n",
    "\n",
    "# domains ={\n",
    "#     'clevr': clevr_full,\n",
    "#     # 'c3': clevr_c3,\n",
    "#     # 'c4': clevr_c4\n",
    "# }\n",
    "domains = [clevr_full, clevr_half, clevr_quarter]"
   ]
  },
  {
   "cell_type": "code",
   "execution_count": null,
   "metadata": {
    "pycharm": {
     "name": "#%%\n"
    }
   },
   "outputs": [],
   "source": [
    "for domain in domains:\n",
    "    domain.load_predicted_scenes(coord_scene_transformer, coord_scenes_fname=None, coord_fixed_fname=None)\n",
    "    domain.cal_matrics_statistics()"
   ]
  },
  {
   "cell_type": "code",
   "execution_count": null,
   "metadata": {
    "pycharm": {
     "name": "#%%\n"
    }
   },
   "outputs": [],
   "source": [
    "[np.mean(stats.scene_stats['SA']) for stats in domains]"
   ]
  },
  {
   "cell_type": "code",
   "execution_count": null,
   "metadata": {
    "pycharm": {
     "name": "#%%\n"
    }
   },
   "outputs": [],
   "source": [
    "np.mean(clevr_c1234.scene_fixed_stats['Con'])"
   ]
  },
  {
   "cell_type": "code",
   "execution_count": null,
   "metadata": {
    "pycharm": {
     "name": "#%%\n"
    }
   },
   "outputs": [],
   "source": [
    "for domain in domains.values():\n",
    "    domain.load_predicted_scenes(coord_scene_transformer)\n",
    "    domain.cal_matrics_statistics()"
   ]
  },
  {
   "cell_type": "code",
   "execution_count": null,
   "metadata": {
    "pycharm": {
     "name": "#%%\n"
    }
   },
   "outputs": [],
   "source": [
    "metric = 'c4'\n",
    "compares = [clevr_c1234.scene_stats, clevr_c1234.scene_fixed_stats, clevr_c1234.coord_scene_stats, clevr_c1234.coord_scene_fixed_stats]\n",
    "\n",
    "print([sum(compare[metric]) for compare in compares])\n",
    "print([np.mean(compare['Con']) for compare in compares])"
   ]
  },
  {
   "cell_type": "code",
   "execution_count": 177,
   "metadata": {
    "pycharm": {
     "name": "#%%\n"
    }
   },
   "outputs": [],
   "source": [
    "import numpy as np\n",
    "\n",
    "def cohen_d(x, y):\n",
    "    return (np.mean(x) - np.mean(y)) / np.sqrt((np.std(x, ddof=1) ** 2 + np.std(y, ddof=1) ** 2) / 2.0)"
   ]
  },
  {
   "cell_type": "code",
   "execution_count": null,
   "metadata": {
    "pycharm": {
     "name": "#%%\n"
    }
   },
   "outputs": [],
   "source": [
    "domains['clevr'].scene_fixed_stats['SA']"
   ]
  },
  {
   "cell_type": "code",
   "execution_count": null,
   "metadata": {
    "pycharm": {
     "name": "#%%\n"
    }
   },
   "outputs": [],
   "source": [
    "domains['c3'].scene_fixed_stats['SA']"
   ]
  },
  {
   "cell_type": "code",
   "execution_count": null,
   "metadata": {
    "pycharm": {
     "name": "#%%\n"
    }
   },
   "outputs": [],
   "source": [
    "metric = 'CV'\n",
    "print(cohen_d(domains['clevr'].scene_stats[metric], domains['c3'].scene_stats[metric]))\n",
    "print(cohen_d(domains['clevr'].scene_fixed_stats[metric], domains['c3'].scene_fixed_stats[metric]))\n",
    "print(cohen_d(domains['clevr'].coord_scene_stats[metric], domains['c3'].coord_scene_stats[metric]))\n",
    "print(cohen_d(domains['clevr'].coord_scene_fixed_stats[metric], domains['c3'].coord_scene_fixed_stats[metric]))"
   ]
  },
  {
   "cell_type": "code",
   "execution_count": null,
   "metadata": {
    "pycharm": {
     "name": "#%%\n"
    }
   },
   "outputs": [],
   "source": [
    "clevr_c1234 = ProblemDomain(constraints, keys, '../data/clevr/constraint_1234_test', '../results/clevr_val/original/constraint_1234/', f'G:/My Drive/Research/data/Clevr_mini/clevr_attr_map.json')\n",
    "clevr_c3 = ProblemDomain(constraints, keys, '../data/clevr/c3', '../results/clevr_val/original/c3/', f'G:/My Drive/Research/data/Clevr_mini/clevr_attr_map.json')\n",
    "clevr_c4 = ProblemDomain(constraints, keys, '../data/clevr/c4', '../results/clevr_val/original/c4/', f'G:/My Drive/Research/data/Clevr_mini/clevr_attr_map.json')\n",
    "\n",
    "domains_original ={\n",
    "    'clevr': clevr_c1234,\n",
    "    'c3': clevr_c3,\n",
    "    'c4': clevr_c4\n",
    "}"
   ]
  },
  {
   "cell_type": "code",
   "execution_count": null,
   "metadata": {
    "pycharm": {
     "name": "#%%\n"
    }
   },
   "outputs": [],
   "source": [
    "domains_original['clevr'].load_predicted_scenes(coord_scene_transformer)\n",
    "domains_original['clevr'].cal_matrics_statistics()"
   ]
  },
  {
   "cell_type": "code",
   "execution_count": null,
   "metadata": {
    "pycharm": {
     "name": "#%%\n"
    }
   },
   "outputs": [],
   "source": [
    "for domain in domains_original.values():\n",
    "    domain.load_predicted_scenes(coord_scene_transformer)\n",
    "    domain.cal_matrics_statistics()"
   ]
  },
  {
   "cell_type": "code",
   "execution_count": null,
   "metadata": {
    "pycharm": {
     "name": "#%%\n"
    }
   },
   "outputs": [],
   "source": [
    "error_map = domains_original['c3'].coord_scene_fixed_stats\n",
    "\n",
    "print(np.mean(error_map['SGGen']))\n",
    "print(np.mean(error_map['SGGen+']))\n",
    "print(np.mean(error_map['SA']))\n",
    "print(np.mean(error_map['FSA']))\n",
    "print(np.mean(error_map['CV']))"
   ]
  },
  {
   "cell_type": "code",
   "execution_count": null,
   "metadata": {
    "pycharm": {
     "name": "#%%\n"
    }
   },
   "outputs": [],
   "source": [
    "metric = 'SGGen+'\n",
    "print(cohen_d(domains_original['clevr'].scene_stats[metric], domains_original['c4'].scene_stats[metric]))\n",
    "print(cohen_d(domains_original['clevr'].scene_fixed_stats[metric], domains_original['c4'].scene_fixed_stats[metric]))\n",
    "print(cohen_d(domains_original['clevr'].coord_scene_stats[metric], domains_original['c4'].coord_scene_stats[metric]))\n",
    "print(cohen_d(domains_original['clevr'].coord_scene_fixed_stats[metric], domains_original['c4'].coord_scene_fixed_stats[metric]))"
   ]
  },
  {
   "cell_type": "code",
   "execution_count": null,
   "metadata": {
    "pycharm": {
     "name": "#%%\n"
    }
   },
   "outputs": [],
   "source": [
    "domains_original['c4'].gt_scenes[1224]"
   ]
  },
  {
   "cell_type": "markdown",
   "metadata": {},
   "source": [
    "# RQ1, 2"
   ]
  },
  {
   "cell_type": "markdown",
   "metadata": {},
   "source": [
    "## Clevr"
   ]
  },
  {
   "cell_type": "code",
   "execution_count": 34,
   "metadata": {
    "pycharm": {
     "name": "#%%\n"
    }
   },
   "outputs": [],
   "source": [
    "from measurements import ProblemDomain\n",
    "from datasets.Clevr import *"
   ]
  },
  {
   "cell_type": "code",
   "execution_count": 176,
   "metadata": {
    "pycharm": {
     "name": "#%%\n"
    }
   },
   "outputs": [],
   "source": [
    "def print_stats(results1, results2, metrics, setups, mapping):\n",
    "    values = []\n",
    "    for setup in setups:\n",
    "        stats1 = mapping(results1[setup])\n",
    "        stats2 = mapping(results2[setup])\n",
    "        for metric in metrics:\n",
    "            values.append(cohen_d(stats1[metric], stats2[metric]))\n",
    "    return np.array(values)\n",
    "\n",
    "def process_results(results, process_coord):\n",
    "    for _, value in results.items():\n",
    "        value.load_predicted_scenes(process_coord, coord_fixed_fname=None, fixed_scenes_fname=None)\n",
    "        value.cal_matrics_statistics()"
   ]
  },
  {
   "cell_type": "code",
   "execution_count": 191,
   "metadata": {
    "pycharm": {
     "name": "#%%\n"
    }
   },
   "outputs": [],
   "source": [
    "constraints =  [SameColorConstraint('c1'), MaterialConstraint('c2'), LargeCubeConstraint('c3'), PairBehindConstraint('c4')]\n",
    "keys = ['SGGen', 'SGGen+', 'SA', 'FSA']\n",
    "\n",
    "constrained_path = '../results/clevr_val/constraint_1234'\n",
    "original_path = '../results/clevr_val/original'\n",
    "test_paths = ['../data/clevr/constraint_1234_test', '../data/clevr/c3', '../data/clevr/c4']\n",
    "setup_paths = ['constraint_1234', 'c3', 'c4']\n",
    "schema_path = 'G:/My Drive/Research/data/Clevr_mini/clevr_attr_map.json'\n",
    "\n",
    "constrained_results_clevr = {}\n",
    "original_results_clevr = {}\n",
    "\n",
    "for i, setup in enumerate(setup_paths):\n",
    "    constrained_result = ProblemDomain(constraints, keys, test_paths[i], f'{constrained_path}/{setup}', schema_path)\n",
    "    original_result = ProblemDomain(constraints, keys, test_paths[i], f'{original_path}/{setup}', schema_path)\n",
    "    constrained_results_clevr[setup] = constrained_result\n",
    "    original_results_clevr[setup] = original_result"
   ]
  },
  {
   "cell_type": "code",
   "execution_count": 192,
   "metadata": {
    "pycharm": {
     "name": "#%%\n"
    },
    "scrolled": true
   },
   "outputs": [
    {
     "name": "stdout",
     "output_type": "stream",
     "text": [
      "../results/clevr_val/constraint_1234/constraint_1234\\rel_scenes.json\n"
     ]
    },
    {
     "name": "stderr",
     "output_type": "stream",
     "text": [
      "100%|██████████| 2000/2000 [00:21<00:00, 94.55it/s] \n",
      "100%|██████████| 2000/2000 [00:21<00:00, 93.94it/s] \n"
     ]
    },
    {
     "name": "stdout",
     "output_type": "stream",
     "text": [
      "../results/clevr_val/constraint_1234/c3\\rel_scenes.json\n"
     ]
    },
    {
     "name": "stderr",
     "output_type": "stream",
     "text": [
      "100%|██████████| 2000/2000 [00:30<00:00, 64.69it/s]\n",
      "100%|██████████| 2000/2000 [00:30<00:00, 64.89it/s]\n"
     ]
    },
    {
     "name": "stdout",
     "output_type": "stream",
     "text": [
      "../results/clevr_val/constraint_1234/c4\\rel_scenes.json\n"
     ]
    },
    {
     "name": "stderr",
     "output_type": "stream",
     "text": [
      "100%|██████████| 2000/2000 [00:17<00:00, 112.94it/s]\n",
      "100%|██████████| 2000/2000 [00:17<00:00, 112.96it/s]\n"
     ]
    },
    {
     "name": "stdout",
     "output_type": "stream",
     "text": [
      "../results/clevr_val/original/constraint_1234\\rel_scenes.json\n"
     ]
    },
    {
     "name": "stderr",
     "output_type": "stream",
     "text": [
      "100%|██████████| 2000/2000 [00:21<00:00, 95.03it/s] \n",
      "100%|██████████| 2000/2000 [00:21<00:00, 95.04it/s] \n"
     ]
    },
    {
     "name": "stdout",
     "output_type": "stream",
     "text": [
      "../results/clevr_val/original/c3\\rel_scenes.json\n"
     ]
    },
    {
     "name": "stderr",
     "output_type": "stream",
     "text": [
      "100%|██████████| 2000/2000 [00:30<00:00, 65.01it/s]\n",
      "100%|██████████| 2000/2000 [00:30<00:00, 64.78it/s]\n"
     ]
    },
    {
     "name": "stdout",
     "output_type": "stream",
     "text": [
      "../results/clevr_val/original/c4\\rel_scenes.json\n"
     ]
    },
    {
     "name": "stderr",
     "output_type": "stream",
     "text": [
      "100%|██████████| 2000/2000 [00:17<00:00, 112.85it/s]\n",
      "100%|██████████| 2000/2000 [00:17<00:00, 113.14it/s]\n"
     ]
    }
   ],
   "source": [
    "process_results(constrained_results_clevr, process_coord_scene_clevr)\n",
    "process_results(original_results_clevr, process_coord_scene_clevr)"
   ]
  },
  {
   "cell_type": "code",
   "execution_count": null,
   "metadata": {},
   "outputs": [],
   "source": [
    "print_metrics(constrained_results_clevr, ['SGGen', 'SGGen+', 'SA', 'Con'], setup_paths, lambda a: a.scene_stats)"
   ]
  },
  {
   "cell_type": "code",
   "execution_count": null,
   "metadata": {
    "pycharm": {
     "name": "#%%\n"
    }
   },
   "outputs": [],
   "source": [
    "print_metrics(original_results_clevr, ['SGGen', 'SGGen+', 'SA', 'Con'], setup_paths, lambda a: a.scene_stats)"
   ]
  },
  {
   "cell_type": "code",
   "execution_count": null,
   "metadata": {},
   "outputs": [],
   "source": [
    "print_metrics(constrained_results_clevr, ['SGGen', 'SGGen+', 'SA', 'Con'], setup_paths, lambda a: a.coord_scene_stats)"
   ]
  },
  {
   "cell_type": "code",
   "execution_count": null,
   "metadata": {},
   "outputs": [],
   "source": [
    "print_metrics(original_results_clevr, ['SGGen', 'SGGen+', 'SA', 'Con'], setup_paths, lambda a: a.coord_scene_stats)"
   ]
  },
  {
   "cell_type": "code",
   "execution_count": 195,
   "metadata": {},
   "outputs": [
    {
     "data": {
      "text/plain": [
       "'[-1.6961 -1.6726 -2.0254 -0.339  -2.522  -1.4659 -3.4665 -0.3795 -2.5191\\n -1.4704 -2.0883 -0.5529]'"
      ]
     },
     "execution_count": 195,
     "metadata": {},
     "output_type": "execute_result"
    }
   ],
   "source": [
    "np.array2string(print_stats(constrained_results_clevr, original_results_clevr, ['SGGen', 'SGGen+', 'SA', 'Con'], setup_paths, lambda a: a.scene_stats), precision=4)"
   ]
  },
  {
   "cell_type": "code",
   "execution_count": 196,
   "metadata": {
    "pycharm": {
     "name": "#%%\n"
    }
   },
   "outputs": [
    {
     "data": {
      "text/plain": [
       "'[-1.0097 -0.8144 -1.1455  0.     -1.8223 -0.9488 -1.7029  0.3721 -1.6253\\n -1.8284 -1.7227 -1.1649]'"
      ]
     },
     "execution_count": 196,
     "metadata": {},
     "output_type": "execute_result"
    }
   ],
   "source": [
    "np.array2string(print_stats(constrained_results_clevr, original_results_clevr, ['SGGen', 'SGGen+', 'SA', 'Con'], setup_paths, lambda a: a.coord_scene_stats), precision=4)"
   ]
  },
  {
   "cell_type": "code",
   "execution_count": null,
   "metadata": {
    "pycharm": {
     "name": "#%%\n"
    }
   },
   "outputs": [],
   "source": [
    "constrained_results['constraint_1234'].load_predicted_scenes(process_coord_scene_clevr, coord_fixed_fname=None, fixed_scenes_fname=None)\n",
    "original_results['constraint_1234'].load_predicted_scenes(process_coord_scene_clevr, coord_fixed_fname=None, fixed_scenes_fname=None)"
   ]
  },
  {
   "cell_type": "markdown",
   "metadata": {},
   "source": [
    "## Block"
   ]
  },
  {
   "cell_type": "code",
   "execution_count": null,
   "metadata": {},
   "outputs": [],
   "source": []
  },
  {
   "cell_type": "code",
   "execution_count": 184,
   "metadata": {
    "pycharm": {
     "name": "#%%\n"
    }
   },
   "outputs": [
    {
     "name": "stdout",
     "output_type": "stream",
     "text": [
      "../results/clevr_block_val/constraint_1234/constraint_1234\\rel_scenes.json\n"
     ]
    },
    {
     "name": "stderr",
     "output_type": "stream",
     "text": [
      "100%|██████████| 2000/2000 [00:35<00:00, 56.45it/s]\n",
      "100%|██████████| 2000/2000 [00:35<00:00, 56.34it/s]\n"
     ]
    },
    {
     "name": "stdout",
     "output_type": "stream",
     "text": [
      "../results/clevr_block_val/constraint_1234/c2\\rel_scenes.json\n"
     ]
    },
    {
     "name": "stderr",
     "output_type": "stream",
     "text": [
      "100%|██████████| 2000/2000 [00:44<00:00, 44.62it/s]\n",
      "100%|██████████| 2000/2000 [00:45<00:00, 44.43it/s]\n"
     ]
    },
    {
     "name": "stdout",
     "output_type": "stream",
     "text": [
      "../results/clevr_block_val/constraint_1234/c4\\rel_scenes.json\n"
     ]
    },
    {
     "name": "stderr",
     "output_type": "stream",
     "text": [
      "100%|██████████| 2000/2000 [00:39<00:00, 50.99it/s]\n",
      "100%|██████████| 2000/2000 [00:39<00:00, 51.08it/s]\n"
     ]
    },
    {
     "name": "stdout",
     "output_type": "stream",
     "text": [
      "../results/clevr_block_val/original/constraint_1234\\rel_scenes.json\n"
     ]
    },
    {
     "name": "stderr",
     "output_type": "stream",
     "text": [
      "100%|██████████| 2000/2000 [00:35<00:00, 56.86it/s]\n",
      "100%|██████████| 2000/2000 [00:35<00:00, 56.19it/s]\n"
     ]
    },
    {
     "name": "stdout",
     "output_type": "stream",
     "text": [
      "../results/clevr_block_val/original/c2\\rel_scenes.json\n"
     ]
    },
    {
     "name": "stderr",
     "output_type": "stream",
     "text": [
      "100%|██████████| 2000/2000 [00:44<00:00, 44.63it/s]\n",
      "100%|██████████| 2000/2000 [00:44<00:00, 44.51it/s]\n"
     ]
    },
    {
     "name": "stdout",
     "output_type": "stream",
     "text": [
      "../results/clevr_block_val/original/c4\\rel_scenes.json\n"
     ]
    },
    {
     "name": "stderr",
     "output_type": "stream",
     "text": [
      "100%|██████████| 2000/2000 [00:39<00:00, 51.22it/s]\n",
      "100%|██████████| 2000/2000 [00:39<00:00, 51.05it/s]\n"
     ]
    }
   ],
   "source": [
    "from datasets.Blockworld import *\n",
    "\n",
    "constraints =  [SmallObjectConstraint('c1'), LargeCubeConstraint('c2'), BottomConstraint('c3'), YellowObjectConstraint('c4')]\n",
    "keys = ['SGGen', 'SGGen+', 'SA', 'FSA']\n",
    "\n",
    "constrained_path = '../results/clevr_block_val/constraint_1234'\n",
    "original_path = '../results/clevr_block_val/original'\n",
    "test_paths = ['../data/clevr_block/constraint_1234_test', '../data/clevr_block/c2', '../data/clevr_block/c4']\n",
    "setup_paths = ['constraint_1234', 'c2', 'c4']\n",
    "schema_path = '../data/clevr_block/clevr_attr_map.json'\n",
    "\n",
    "constrained_results = {}\n",
    "original_results = {}\n",
    "\n",
    "for i, setup in enumerate(setup_paths):\n",
    "    constrained_result = ProblemDomain(constraints, keys, test_paths[i], f'{constrained_path}/{setup}', schema_path)\n",
    "    original_result = ProblemDomain(constraints, keys, test_paths[i], f'{original_path}/{setup}', schema_path)\n",
    "    constrained_results[setup] = constrained_result\n",
    "    original_results[setup] = original_result\n",
    "\n",
    "process_results(constrained_results, process_coord_scene)\n",
    "process_results(original_results, process_coord_scene)"
   ]
  },
  {
   "cell_type": "code",
   "execution_count": 187,
   "metadata": {},
   "outputs": [
    {
     "data": {
      "text/plain": [
       "'[ 1.6387  4.7712  2.4381  0.0976  2.7002  5.1212  3.0781 -0.949   2.5792\\n  2.6622  2.0758 -0.843 ]'"
      ]
     },
     "execution_count": 187,
     "metadata": {},
     "output_type": "execute_result"
    }
   ],
   "source": [
    "np.array2string(print_stats(constrained_results, original_results, ['SGGen', 'SGGen+', 'SA', 'Con'], setup_paths, lambda a: a.scene_stats), precision=4)"
   ]
  },
  {
   "cell_type": "code",
   "execution_count": 189,
   "metadata": {},
   "outputs": [
    {
     "name": "stderr",
     "output_type": "stream",
     "text": [
      "C:\\Users\\chenp\\AppData\\Local\\Temp/ipykernel_11540/1010908189.py:4: RuntimeWarning: invalid value encountered in double_scalars\n",
      "  return (np.mean(x) - np.mean(y)) / np.sqrt((np.std(x, ddof=1) ** 2 + np.std(y, ddof=1) ** 2) / 2.0)\n"
     ]
    },
    {
     "data": {
      "text/plain": [
       "'[-0.0013  0.3456 -0.13   -0.4472 -0.0235  0.1642 -0.2167     nan  0.1123\\n  0.4249  0.0501     nan]'"
      ]
     },
     "execution_count": 189,
     "metadata": {},
     "output_type": "execute_result"
    }
   ],
   "source": [
    "np.array2string(print_stats(constrained_results, original_results, ['SGGen', 'SGGen+', 'SA', 'Con'], setup_paths, lambda a: a.coord_scene_stats), precision=4)"
   ]
  },
  {
   "cell_type": "code",
   "execution_count": 185,
   "metadata": {},
   "outputs": [
    {
     "data": {
      "text/plain": [
       "'[0.9919 0.9967 0.898  0.925  0.9901 0.9958 0.854  0.9285 0.992  0.9969\\n 0.895  0.9585]'"
      ]
     },
     "execution_count": 185,
     "metadata": {},
     "output_type": "execute_result"
    }
   ],
   "source": [
    "print_metrics(constrained_results, ['SGGen', 'SGGen+', 'SA', 'Con'], setup_paths, lambda a: a.scene_stats)"
   ]
  },
  {
   "cell_type": "code",
   "execution_count": 186,
   "metadata": {},
   "outputs": [
    {
     "data": {
      "text/plain": [
       "'[0.9866 0.9935 0.848  0.924  0.9817 0.991  0.7835 0.9475 0.9855 0.9934\\n 0.8295 0.969 ]'"
      ]
     },
     "execution_count": 186,
     "metadata": {},
     "output_type": "execute_result"
    }
   ],
   "source": [
    "print_metrics(original_results, ['SGGen', 'SGGen+', 'SA', 'Con'], setup_paths, lambda a: a.scene_stats)"
   ]
  },
  {
   "cell_type": "code",
   "execution_count": 78,
   "metadata": {},
   "outputs": [],
   "source": [
    "def print_metrics(results, metrics, setups, mapping, precision=4):\n",
    "    values = []\n",
    "    for setup in setups:\n",
    "        stats = mapping(results[setup])\n",
    "        for metric in metrics:\n",
    "            values.append(np.mean(stats[metric]))\n",
    "    return np.array2string(np.array(values), precision=precision)"
   ]
  },
  {
   "cell_type": "code",
   "execution_count": 79,
   "metadata": {},
   "outputs": [
    {
     "data": {
      "text/plain": [
       "'[0.9841 0.9919 0.825  0.909  0.979  0.9888 0.7475 0.921  0.984  0.9918\\n 0.81   0.9515]'"
      ]
     },
     "execution_count": 79,
     "metadata": {},
     "output_type": "execute_result"
    }
   ],
   "source": [
    "print_metrics(constrained_results, ['SGGen', 'SGGen+', 'SA', 'Con'], setup_paths, lambda a: a.scene_stats)"
   ]
  },
  {
   "cell_type": "code",
   "execution_count": 80,
   "metadata": {},
   "outputs": [
    {
     "data": {
      "text/plain": [
       "'[0.97   0.9836 0.7545 0.861  0.9498 0.9722 0.5965 0.772  0.9628 0.9799\\n 0.691  0.86  ]'"
      ]
     },
     "execution_count": 80,
     "metadata": {},
     "output_type": "execute_result"
    }
   ],
   "source": [
    "print_metrics(original_results, ['SGGen', 'SGGen+', 'SA', 'Con'], setup_paths, lambda a: a.scene_stats)"
   ]
  },
  {
   "cell_type": "code",
   "execution_count": 102,
   "metadata": {},
   "outputs": [
    {
     "data": {
      "text/plain": [
       "'[0.9963 0.9997 0.9875 0.9995 0.9963 0.9998 0.9865 1.     0.9943 0.9997\\n 0.984  1.    ]'"
      ]
     },
     "execution_count": 102,
     "metadata": {},
     "output_type": "execute_result"
    }
   ],
   "source": [
    "print_metrics(constrained_results, ['SGGen', 'SGGen+', 'SA', 'Con'], setup_paths, lambda a: a.coord_scene_stats)"
   ]
  },
  {
   "cell_type": "code",
   "execution_count": null,
   "metadata": {
    "pycharm": {
     "name": "#%%\n"
    }
   },
   "outputs": [],
   "source": [
    "print_metrics(original_results, ['SGGen', 'SGGen+', 'SA', 'Con'], setup_paths, lambda a: a.coord_scene_stats)"
   ]
  },
  {
   "cell_type": "code",
   "execution_count": null,
   "metadata": {
    "pycharm": {
     "name": "#%%\n"
    }
   },
   "outputs": [],
   "source": [
    "np.array2string(print_stats(constrained_results, original_results, ['SGGen', 'SGGen+', 'SA', 'Con'], setup_paths, lambda a: a.coord_scene_stats), precision=4)"
   ]
  },
  {
   "cell_type": "code",
   "execution_count": null,
   "metadata": {},
   "outputs": [],
   "source": []
  },
  {
   "cell_type": "markdown",
   "metadata": {
    "pycharm": {
     "name": "#%% md\n"
    }
   },
   "source": [
    "# RQ3"
   ]
  },
  {
   "cell_type": "markdown",
   "metadata": {},
   "source": [
    "## Clevr"
   ]
  },
  {
   "cell_type": "code",
   "execution_count": 290,
   "metadata": {
    "pycharm": {
     "name": "#%%\n"
    }
   },
   "outputs": [],
   "source": [
    "from measurements import ProblemDomain\n",
    "from datasets.Clevr import *"
   ]
  },
  {
   "cell_type": "code",
   "execution_count": 291,
   "metadata": {
    "pycharm": {
     "name": "#%%\n"
    }
   },
   "outputs": [],
   "source": [
    "constraints =  [SameColorConstraint('c1'), MaterialConstraint('c2'), LargeCubeConstraint('c3'), PairBehindConstraint('c4')]\n",
    "schema_path = 'G:/My Drive/Research/data/Clevr_mini/clevr_attr_map.json'\n",
    "keys = ['SGGen', 'SGGen+', 'SA', 'FSA']\n",
    "\n",
    "full = ProblemDomain(constraints, keys, '../data/clevr/constraint_1234_test', '../results/clevr_val/original/constraint_1234/data_44', schema_path)\n",
    "three = ProblemDomain(constraints, keys, '../data/clevr/constraint_1234_test', '../results/clevr_val/original/constraint_1234/data_34', schema_path)\n",
    "half = ProblemDomain(constraints, keys, '../data/clevr/constraint_1234_test', '../results/clevr_val/original/constraint_1234/data_24', schema_path)\n",
    "quarter = ProblemDomain(constraints, keys, '../data/clevr/constraint_1234_test', '../results/clevr_val/original/constraint_1234/data_14', schema_path)\n",
    "\n",
    "setups = [quarter, half, three, full]\n",
    "coord_scene_transformer = process_coord_scene_clevr"
   ]
  },
  {
   "cell_type": "code",
   "execution_count": null,
   "metadata": {
    "pycharm": {
     "name": "#%%\n"
    }
   },
   "outputs": [],
   "source": [
    "for domain in setups:\n",
    "    domain.load_predicted_scenes(coord_scene_transformer)\n",
    "    domain.cal_matrics_statistics()"
   ]
  },
  {
   "cell_type": "code",
   "execution_count": null,
   "metadata": {},
   "outputs": [],
   "source": [
    "full.load_predicted_scenes(coord_scene_transformer)\n",
    "full.cal_matrics_statistics()\n"
   ]
  },
  {
   "cell_type": "code",
   "execution_count": 112,
   "metadata": {
    "pycharm": {
     "name": "#%%\n"
    }
   },
   "outputs": [],
   "source": [
    "def print_metric_values(metric_names, setups):\n",
    "    for metric_name in metric_names:\n",
    "        print(f'\"{metric_name}\": {np.array2string(np.array([np.mean(setup[metric_name]) for setup in setups]), precision=4)}')"
   ]
  },
  {
   "cell_type": "code",
   "execution_count": 113,
   "metadata": {
    "pycharm": {
     "name": "#%%\n"
    }
   },
   "outputs": [
    {
     "name": "stdout",
     "output_type": "stream",
     "text": [
      "\"SGGen\": [0.9937 0.9981 0.9978 0.9991]\n",
      "\"SGGen+\": [0.999  0.9996 0.9998 0.9998]\n",
      "\"SA\": [0.9705 0.9845 0.99   0.993 ]\n",
      "\"Con\": [0.9945 0.997  0.998  0.999 ]\n"
     ]
    }
   ],
   "source": [
    "print_metric_values(['SGGen', 'SGGen+', 'SA', 'Con'], [setup.scene_stats for setup in setups])"
   ]
  },
  {
   "cell_type": "code",
   "execution_count": 114,
   "metadata": {
    "pycharm": {
     "name": "#%%\n"
    }
   },
   "outputs": [
    {
     "name": "stdout",
     "output_type": "stream",
     "text": [
      "\"SGGen\": [0.996  0.9992 0.9981 0.9997]\n",
      "\"SGGen+\": [0.9997 0.9999 0.9998 1.    ]\n",
      "\"SA\": [0.988  0.9945 0.9945 0.999 ]\n",
      "\"Con\": [1. 1. 1. 1.]\n"
     ]
    }
   ],
   "source": [
    "print_metric_values(['SGGen', 'SGGen+', 'SA', 'Con'], [setup.scene_fixed_stats for setup in setups])"
   ]
  },
  {
   "cell_type": "code",
   "execution_count": 115,
   "metadata": {
    "pycharm": {
     "name": "#%%\n"
    }
   },
   "outputs": [
    {
     "name": "stdout",
     "output_type": "stream",
     "text": [
      "\"SGGen\": [0.1455 0.9898 0.9943 0.9949]\n",
      "\"SGGen+\": [0.9336 0.9995 0.9997 0.9997]\n",
      "\"SA\": [0.031  0.978  0.9875 0.99  ]\n",
      "\"Con\": [0.654  0.9975 0.9975 0.9985]\n"
     ]
    }
   ],
   "source": [
    "print_metric_values(['SGGen', 'SGGen+', 'SA', 'Con'], [setup.coord_scene_stats for setup in setups])"
   ]
  },
  {
   "cell_type": "code",
   "execution_count": 116,
   "metadata": {
    "pycharm": {
     "name": "#%%\n"
    }
   },
   "outputs": [
    {
     "name": "stdout",
     "output_type": "stream",
     "text": [
      "\"SGGen\": [0.1596 0.9908 0.9945 0.9958]\n",
      "\"SGGen+\": [0.9345 0.9995 0.9997 0.9998]\n",
      "\"SA\": [0.0425 0.98   0.9885 0.992 ]\n",
      "\"Con\": [1. 1. 1. 1.]\n"
     ]
    }
   ],
   "source": [
    "print_metric_values(['SGGen', 'SGGen+', 'SA', 'Con'], [setup.coord_scene_fixed_stats for setup in setups])"
   ]
  },
  {
   "cell_type": "code",
   "execution_count": null,
   "metadata": {
    "pycharm": {
     "name": "#%%\n"
    }
   },
   "outputs": [],
   "source": [
    "constraints"
   ]
  },
  {
   "cell_type": "code",
   "execution_count": null,
   "metadata": {
    "pycharm": {
     "name": "#%%\n"
    }
   },
   "outputs": [],
   "source": [
    "constraint_1234 = ProblemDomain(constraints, keys, '../data/clevr/constraint_1234_test', '../results/clevr_val/constraint_1234/constraint_1234/data_125', f'G:/My Drive/Research/data/Clevr_mini/clevr_attr_map.json')\n",
    "original = ProblemDomain(constraints, keys, '../data/clevr/constraint_1234_test', '../results/clevr_val/original/constraint_1234/data_125', f'G:/My Drive/Research/data/Clevr_mini/clevr_attr_map.json')\n"
   ]
  },
  {
   "cell_type": "code",
   "execution_count": null,
   "metadata": {
    "pycharm": {
     "name": "#%%\n"
    }
   },
   "outputs": [],
   "source": [
    "constraint_1234.load_predicted_scenes(coord_scene_transformer, coord_scenes_fname=None, coord_fixed_fname=None, fixed_scenes_fname=None)\n",
    "original.load_predicted_scenes(coord_scene_transformer, coord_scenes_fname=None, coord_fixed_fname=None, fixed_scenes_fname=None)"
   ]
  },
  {
   "cell_type": "code",
   "execution_count": null,
   "metadata": {
    "pycharm": {
     "name": "#%%\n"
    }
   },
   "outputs": [],
   "source": [
    "constraint_1234.cal_matrics_statistics()\n",
    "original.cal_matrics_statistics()\n"
   ]
  },
  {
   "cell_type": "code",
   "execution_count": null,
   "metadata": {
    "pycharm": {
     "name": "#%%\n"
    }
   },
   "outputs": [],
   "source": [
    "print_metric_values(['SGGen', 'SGGen+', 'SA', 'Con'], [constraint_1234.scene_stats])"
   ]
  },
  {
   "cell_type": "code",
   "execution_count": null,
   "metadata": {
    "pycharm": {
     "name": "#%%\n"
    }
   },
   "outputs": [],
   "source": [
    "print_metric_values(['SGGen', 'SGGen+', 'SA', 'Con'], [original.scene_stats])"
   ]
  },
  {
   "cell_type": "code",
   "execution_count": null,
   "metadata": {
    "pycharm": {
     "name": "#%%\n"
    }
   },
   "outputs": [],
   "source": [
    "original.scene_stats"
   ]
  },
  {
   "cell_type": "markdown",
   "metadata": {},
   "source": [
    "## Blocksworld"
   ]
  },
  {
   "cell_type": "code",
   "execution_count": 250,
   "metadata": {
    "pycharm": {
     "name": "#%%\n"
    }
   },
   "outputs": [],
   "source": [
    "from datasets.Blockworld import *"
   ]
  },
  {
   "cell_type": "code",
   "execution_count": 251,
   "metadata": {
    "pycharm": {
     "name": "#%%\n"
    }
   },
   "outputs": [],
   "source": [
    "constraints =  [SmallObjectConstraint('c1'), LargeCubeConstraint('c2'), BottomConstraint('c3'), YellowObjectConstraint('c4')]\n",
    "coord_scene_transformer = process_coord_scene\n",
    "keys = ['SGGen', 'SGGen+', 'SA', 'FSA']\n",
    "schema_fp = '../data/clevr_block/clevr_attr_map.json'\n",
    "full = ProblemDomain(constraints, keys, '../data/clevr_block/constraint_1234_test', '../results/clevr_block_val/constraint_1234/constraint_1234/data_44', schema_fp)\n",
    "third = ProblemDomain(constraints, keys, '../data/clevr_block/constraint_1234_test', '../results/clevr_block_val/constraint_1234/constraint_1234/data_34', schema_fp)\n",
    "half = ProblemDomain(constraints, keys, '../data/clevr_block/constraint_1234_test', '../results/clevr_block_val/constraint_1234/constraint_1234/data_24', schema_fp)\n",
    "quarter = ProblemDomain(constraints, keys, '../data/clevr_block/constraint_1234_test', '../results/clevr_block_val/constraint_1234/constraint_1234/data_14', schema_fp)\n",
    "\n",
    "setups = [quarter, half, third, full]"
   ]
  },
  {
   "cell_type": "code",
   "execution_count": 95,
   "metadata": {
    "pycharm": {
     "name": "#%%\n"
    }
   },
   "outputs": [
    {
     "name": "stdout",
     "output_type": "stream",
     "text": [
      "../results/clevr_block_val/constraint_1234/constraint_1234/data_14\\rel_scenes.json\n"
     ]
    },
    {
     "name": "stderr",
     "output_type": "stream",
     "text": [
      "100%|██████████| 2000/2000 [00:34<00:00, 57.68it/s]\n",
      "100%|██████████| 2000/2000 [00:35<00:00, 55.81it/s]\n",
      "100%|██████████| 2000/2000 [00:35<00:00, 56.86it/s]\n",
      "100%|██████████| 2000/2000 [00:35<00:00, 56.85it/s]\n"
     ]
    },
    {
     "name": "stdout",
     "output_type": "stream",
     "text": [
      "../results/clevr_block_val/constraint_1234/constraint_1234/data_24\\rel_scenes.json\n"
     ]
    },
    {
     "name": "stderr",
     "output_type": "stream",
     "text": [
      "100%|██████████| 2000/2000 [00:34<00:00, 57.34it/s]\n",
      "100%|██████████| 2000/2000 [00:35<00:00, 56.69it/s]\n",
      "100%|██████████| 2000/2000 [00:36<00:00, 55.40it/s]\n",
      "100%|██████████| 2000/2000 [00:38<00:00, 51.97it/s]\n"
     ]
    },
    {
     "name": "stdout",
     "output_type": "stream",
     "text": [
      "../results/clevr_block_val/constraint_1234/constraint_1234/data_34\\rel_scenes.json\n"
     ]
    },
    {
     "name": "stderr",
     "output_type": "stream",
     "text": [
      "100%|██████████| 2000/2000 [00:34<00:00, 57.59it/s]\n",
      "100%|██████████| 2000/2000 [00:35<00:00, 56.87it/s]\n",
      "100%|██████████| 2000/2000 [00:35<00:00, 56.65it/s]\n",
      "100%|██████████| 2000/2000 [00:35<00:00, 56.55it/s]\n"
     ]
    },
    {
     "name": "stdout",
     "output_type": "stream",
     "text": [
      "../results/clevr_block_val/constraint_1234/constraint_1234/data_44\\rel_scenes.json\n"
     ]
    },
    {
     "name": "stderr",
     "output_type": "stream",
     "text": [
      "100%|██████████| 2000/2000 [00:34<00:00, 57.15it/s]\n",
      "100%|██████████| 2000/2000 [00:35<00:00, 56.90it/s]\n",
      "100%|██████████| 2000/2000 [00:36<00:00, 54.79it/s]\n",
      "100%|██████████| 2000/2000 [00:36<00:00, 54.42it/s]\n"
     ]
    }
   ],
   "source": [
    "for domain in setups:\n",
    "    domain.load_predicted_scenes(coord_scene_transformer)\n",
    "    domain.cal_matrics_statistics()"
   ]
  },
  {
   "cell_type": "code",
   "execution_count": 103,
   "metadata": {
    "pycharm": {
     "name": "#%%\n"
    }
   },
   "outputs": [
    {
     "name": "stdout",
     "output_type": "stream",
     "text": [
      "\"SGGen\": [0.9595 0.9717 0.9727 0.9841]\n",
      "\"SGGen+\": [0.9783 0.9854 0.9859 0.9919]\n",
      "\"SA\": [0.743  0.7595 0.783  0.825 ]\n",
      "\"Con\": [0.8315 0.865  0.8715 0.909 ]\n"
     ]
    }
   ],
   "source": [
    "print_metric_values(['SGGen', 'SGGen+', 'SA', 'Con'], [setup.scene_stats for setup in setups])"
   ]
  },
  {
   "cell_type": "code",
   "execution_count": 104,
   "metadata": {
    "pycharm": {
     "name": "#%%\n"
    }
   },
   "outputs": [
    {
     "name": "stdout",
     "output_type": "stream",
     "text": [
      "\"SGGen\": [0.9917 0.9948 0.995  0.9965]\n",
      "\"SGGen+\": [0.9985 0.9994 0.9994 0.9997]\n",
      "\"SA\": [0.959  0.982  0.986  0.9885]\n",
      "\"Con\": [1. 1. 1. 1.]\n"
     ]
    }
   ],
   "source": [
    "print_metric_values(['SGGen', 'SGGen+', 'SA', 'Con'], [setup.scene_fixed_stats for setup in setups])"
   ]
  },
  {
   "cell_type": "code",
   "execution_count": 105,
   "metadata": {
    "pycharm": {
     "name": "#%%\n"
    }
   },
   "outputs": [
    {
     "name": "stdout",
     "output_type": "stream",
     "text": [
      "\"SGGen\": [0.9811 0.9927 0.9913 0.9942]\n",
      "\"SGGen+\": [0.9984 0.9994 0.9994 0.9996]\n",
      "\"SA\": [0.948  0.9775 0.976  0.982 ]\n",
      "\"Con\": [0.998  1.     0.9995 1.    ]\n"
     ]
    }
   ],
   "source": [
    "print_metric_values(['SGGen', 'SGGen+', 'SA', 'Con'], [setup.coord_scene_stats for setup in setups])"
   ]
  },
  {
   "cell_type": "code",
   "execution_count": 106,
   "metadata": {
    "pycharm": {
     "name": "#%%\n"
    }
   },
   "outputs": [
    {
     "name": "stdout",
     "output_type": "stream",
     "text": [
      "\"SGGen\": [0.981  0.9927 0.9913 0.9942]\n",
      "\"SGGen+\": [0.9984 0.9994 0.9994 0.9996]\n",
      "\"SA\": [0.949  0.9775 0.976  0.982 ]\n",
      "\"Con\": [1. 1. 1. 1.]\n"
     ]
    }
   ],
   "source": [
    "print_metric_values(['SGGen', 'SGGen+', 'SA', 'Con'], [setup.coord_scene_fixed_stats for setup in setups])"
   ]
  },
  {
   "cell_type": "markdown",
   "metadata": {
    "pycharm": {
     "name": "#%% md\n"
    }
   },
   "source": [
    "# VG"
   ]
  },
  {
   "cell_type": "code",
   "execution_count": 238,
   "metadata": {
    "pycharm": {
     "name": "#%%\n"
    }
   },
   "outputs": [],
   "source": [
    "from datasets.vg import get_vg_constraint_map\n",
    "from measurements import get_metrics_node_ordered, to_tuple_list"
   ]
  },
  {
   "cell_type": "code",
   "execution_count": 239,
   "metadata": {
    "pycharm": {
     "name": "#%%\n"
    }
   },
   "outputs": [],
   "source": [
    "constraints =  list(get_vg_constraint_map().values())\n",
    "keys = ['SGGen', 'SGGen+', 'SA', 'FSA']\n",
    "# schema_fp = '../data/clevr_block/clevr_attr_map.json'\n",
    "gt_scenes = read_json('../results/vg/scenes.json')['scenes']\n",
    "predicted_scenes = read_json('../results/vg/vg_test_sgcls.json')['scenes']\n",
    "predicted_scenes_fixed = read_json('../results/vg/scene_fixed.json')['scenes']\n"
   ]
  },
  {
   "cell_type": "code",
   "execution_count": 240,
   "metadata": {
    "pycharm": {
     "name": "#%%\n"
    }
   },
   "outputs": [
    {
     "name": "stdout",
     "output_type": "stream",
     "text": [
      "<datasets.vg.VGOppositeConstraint object at 0x000001E9289ADD00> 0\n",
      "<datasets.vg.VGLoopConstraint object at 0x000001E9289AD610> 0\n",
      "<datasets.vg.VGLabelConstraint object at 0x000001E9289AD160> 0\n"
     ]
    }
   ],
   "source": [
    "for constraint in constraints:\n",
    "    print(constraint, constraint.evaluate(predicted_scenes_fixed[0]))"
   ]
  },
  {
   "cell_type": "code",
   "execution_count": 241,
   "metadata": {
    "pycharm": {
     "name": "#%%\n"
    }
   },
   "outputs": [
    {
     "name": "stderr",
     "output_type": "stream",
     "text": [
      "100%|██████████| 4597/4597 [00:00<00:00, 5132.94it/s]\n"
     ]
    }
   ],
   "source": [
    "metrics, results = get_metrics_node_ordered(gt_scenes, predicted_scenes, constraints)"
   ]
  },
  {
   "cell_type": "code",
   "execution_count": 242,
   "metadata": {
    "pycharm": {
     "name": "#%%\n"
    }
   },
   "outputs": [
    {
     "name": "stderr",
     "output_type": "stream",
     "text": [
      "100%|██████████| 4597/4597 [00:00<00:00, 6428.58it/s]\n"
     ]
    }
   ],
   "source": [
    "gt_metrics, gt_results = get_metrics_node_ordered(gt_scenes, gt_scenes, constraints)"
   ]
  },
  {
   "cell_type": "code",
   "execution_count": 243,
   "metadata": {
    "pycharm": {
     "name": "#%%\n"
    }
   },
   "outputs": [
    {
     "data": {
      "text/plain": [
       "{'SGGen': 0.9527700212290305,\n",
       " 'SGGen+': 0.9788227579608061,\n",
       " 'SA': 0.7011094191864259,\n",
       " 'Con': 0.998477267783337}"
      ]
     },
     "execution_count": 243,
     "metadata": {},
     "output_type": "execute_result"
    }
   ],
   "source": [
    "gt_metrics"
   ]
  },
  {
   "cell_type": "code",
   "execution_count": 244,
   "metadata": {
    "pycharm": {
     "name": "#%%\n"
    }
   },
   "outputs": [
    {
     "name": "stderr",
     "output_type": "stream",
     "text": [
      "100%|██████████| 4597/4597 [00:00<00:00, 5708.70it/s]\n"
     ]
    }
   ],
   "source": [
    "metrics1, results1 = get_metrics_node_ordered(gt_scenes, predicted_scenes_fixed, constraints)"
   ]
  },
  {
   "cell_type": "code",
   "execution_count": 245,
   "metadata": {
    "pycharm": {
     "name": "#%%\n"
    }
   },
   "outputs": [
    {
     "name": "stdout",
     "output_type": "stream",
     "text": [
      "{'SGGen': 0.31042229937754634, 'SGGen+': 0.6344434890951813, 'SA': 0.01631498803567544, 'Con': 0.6543397868174897}\n",
      "{'SGGen': 0.3114891481931608, 'SGGen+': 0.6348172137948859, 'SA': 0.01587992168805743, 'Con': 1.0}\n"
     ]
    }
   ],
   "source": [
    "print(metrics)\n",
    "print(metrics1)"
   ]
  },
  {
   "cell_type": "code",
   "execution_count": 172,
   "metadata": {
    "pycharm": {
     "name": "#%%\n"
    }
   },
   "outputs": [],
   "source": [
    "gt_tuples = to_tuple_list(gt_scenes[52]['relationships'])\n",
    "predicted_tuples = to_tuple_list(predicted_scenes[52]['relationships'])\n",
    "predicted_tuples_fixed = to_tuple_list(predicted_scenes_fixed[52]['relationships'])\n",
    "\n",
    "# gt_scenes[52]['objects']"
   ]
  },
  {
   "cell_type": "code",
   "execution_count": 177,
   "metadata": {
    "pycharm": {
     "name": "#%%\n"
    }
   },
   "outputs": [
    {
     "name": "stdout",
     "output_type": "stream",
     "text": [
      "(7, 2, 'above')\n",
      "(1, 2, 'behind')\n",
      "(1, 4, 'behind')\n",
      "(3, 5, 'behind')\n",
      "(3, 5, 'behind')\n",
      "(9, 14, 'between')\n",
      "(13, 0, 'has')\n",
      "(17, 12, 'in')\n",
      "(7, 2, 'over')\n"
     ]
    },
    {
     "data": {
      "text/plain": [
       "0"
      ]
     },
     "execution_count": 177,
     "metadata": {},
     "output_type": "execute_result"
    }
   ],
   "source": [
    "count = 0\n",
    "for t in gt_tuples:\n",
    "    if t not in predicted_tuples:\n",
    "        print(t)\n",
    "count"
   ]
  },
  {
   "cell_type": "code",
   "execution_count": 176,
   "metadata": {
    "pycharm": {
     "name": "#%%\n"
    }
   },
   "outputs": [
    {
     "name": "stdout",
     "output_type": "stream",
     "text": [
      "(7, 2, 'above')\n",
      "(1, 2, 'behind')\n",
      "(1, 4, 'behind')\n",
      "(3, 5, 'behind')\n",
      "(3, 5, 'behind')\n",
      "(9, 14, 'between')\n",
      "(12, 7, 'has')\n",
      "(12, 6, 'has')\n",
      "(12, 7, 'has')\n",
      "(13, 16, 'has')\n",
      "(17, 12, 'in')\n",
      "(7, 2, 'over')\n"
     ]
    },
    {
     "data": {
      "text/plain": [
       "0"
      ]
     },
     "execution_count": 176,
     "metadata": {},
     "output_type": "execute_result"
    }
   ],
   "source": [
    "count = 0\n",
    "for t in gt_tuples:\n",
    "    if t not in predicted_tuples_fixed:\n",
    "        print(t)\n",
    "count"
   ]
  },
  {
   "cell_type": "code",
   "execution_count": 70,
   "metadata": {
    "pycharm": {
     "name": "#%%\n"
    }
   },
   "outputs": [
    {
     "data": {
      "text/plain": [
       "defaultdict(list,\n",
       "            {'SGGen': [0.3352631078827251],\n",
       "             'SGGen+': [0.7864052368611857],\n",
       "             'SA': [0.0],\n",
       "             'FSA': [0.006060606060606061],\n",
       "             'Con': [1.0],\n",
       "             'opposite': [0],\n",
       "             'transitivity': [0],\n",
       "             'label': [0]})"
      ]
     },
     "execution_count": 70,
     "metadata": {},
     "output_type": "execute_result"
    }
   ],
   "source": [
    "domain.scene_fixed_stats"
   ]
  },
  {
   "cell_type": "markdown",
   "metadata": {
    "pycharm": {
     "name": "#%% md\n"
    }
   },
   "source": [
    "# Measure the runtime w.r.t. the size of the object"
   ]
  },
  {
   "cell_type": "code",
   "execution_count": null,
   "metadata": {
    "pycharm": {
     "name": "#%%\n"
    }
   },
   "outputs": [],
   "source": []
  },
  {
   "cell_type": "code",
   "execution_count": 246,
   "metadata": {
    "pycharm": {
     "name": "#%%\n"
    }
   },
   "outputs": [],
   "source": [
    "from scene_graph_solver.LPProblem import ClevrLPProblem, BlocksworldLPProblem\n",
    "import os\n",
    "import json\n",
    "import time\n",
    "import numpy as np\n",
    "import matplotlib.pyplot as plt\n",
    "from tqdm.notebook import tqdm"
   ]
  },
  {
   "cell_type": "code",
   "execution_count": 271,
   "metadata": {
    "pycharm": {
     "name": "#%%\n"
    }
   },
   "outputs": [],
   "source": [
    "dataset = 'clevr_block'\n",
    "folder = f'../results/{dataset}_val/original/constraint_1234/data_44/'\n",
    "folder_more_obj = f'../results/more_objects/{dataset}/'\n",
    "src_file = 'rel_scenes.json'\n",
    "schema_file = f'../data/{dataset}/clevr_attr_map.json'"
   ]
  },
  {
   "cell_type": "code",
   "execution_count": 272,
   "metadata": {
    "pycharm": {
     "name": "#%%\n"
    }
   },
   "outputs": [],
   "source": [
    "with open(os.path.join(folder, src_file), 'r') as f:\n",
    "    scenes = json.load(f)['scenes']\n",
    "\n",
    "with open(os.path.join(folder_more_obj, src_file)) as f:\n",
    "    scenes_more_obj = json.load(f)['scenes']\n",
    "\n",
    "with open(schema_file, 'r') as f:\n",
    "    attr_map = json.load(f)"
   ]
  },
  {
   "cell_type": "code",
   "execution_count": 273,
   "metadata": {
    "pycharm": {
     "name": "#%%\n"
    }
   },
   "outputs": [],
   "source": [
    "if dataset == 'clevr_block':\n",
    "    problem_solver = BlocksworldLPProblem(attr_map, include_small_obj=True, include_large_cube=True, include_bottom_stack=True, include_yellow=True)\n",
    "else:\n",
    "    problem_solver = ClevrLPProblem(attr_map, color_between=True, material_order=True, large_cube=True, object_behind=True)\n"
   ]
  },
  {
   "cell_type": "code",
   "execution_count": 274,
   "metadata": {
    "pycharm": {
     "name": "#%%\n"
    }
   },
   "outputs": [],
   "source": [
    "lengths = []\n",
    "example_scenes = [None for _ in range(11)]\n",
    "for scene in scenes:\n",
    "    lengths.append(len(scene['objects']))\n",
    "    example_scenes[len(scene['objects'])] = scene\n",
    "\n",
    "for scene in scenes_more_obj:\n",
    "    example_scenes.append(scene)"
   ]
  },
  {
   "cell_type": "code",
   "execution_count": 276,
   "metadata": {
    "pycharm": {
     "name": "#%%\n"
    }
   },
   "outputs": [
    {
     "data": {
      "application/vnd.jupyter.widget-view+json": {
       "model_id": "02e50c09fac247c3b2a6e399ca165bb3",
       "version_major": 2,
       "version_minor": 0
      },
      "text/plain": [
       "  0%|          | 0/17 [00:00<?, ?it/s]"
      ]
     },
     "metadata": {},
     "output_type": "display_data"
    }
   ],
   "source": [
    "avg_times = []\n",
    "num_variables = []\n",
    "num_constraints = []\n",
    "for scene in tqdm(example_scenes[3:-1]):\n",
    "    times = []\n",
    "    for _ in range(10):\n",
    "        _, time_stat = problem_solver.solve_for_scene(scene, measure_time=True)\n",
    "        times.append(time_stat)\n",
    "    model, attr_variables, rel_variables = problem_solver.get_LP_problem(scene)\n",
    "    problem_solver.add_constraints(model, scene, rel_variables, attr_variables)\n",
    "    model.update()\n",
    "    num_variables.append(len(model.getVars()))\n",
    "    num_constraints.append(len(model.getConstrs()))\n",
    "    avg_times.append({key: np.mean([t[key] for t in times]) for key in times[0]})\n",
    "\n"
   ]
  },
  {
   "cell_type": "code",
   "execution_count": 277,
   "metadata": {
    "pycharm": {
     "name": "#%%\n"
    }
   },
   "outputs": [
    {
     "data": {
      "text/plain": [
       "Text(0.5, 1.0, 'Block Time Analysis')"
      ]
     },
     "execution_count": 277,
     "metadata": {},
     "output_type": "execute_result"
    },
    {
     "data": {
      "image/png": "[encoded data removed]",
      "text/plain": [
       "<Figure size 432x288 with 2 Axes>"
      ]
     },
     "metadata": {
      "needs_background": "light"
     },
     "output_type": "display_data"
    }
   ],
   "source": [
    "fig, ax1 = plt.subplots()\n",
    "\n",
    "create_problem = np.array([data['create problem'] for data in avg_times])\n",
    "solve_problem = np.array([data['solve problem'] for data in avg_times])\n",
    "transform_solution = np.array([data['transform solution'] for data in avg_times])\n",
    "\n",
    "plt.bar(range(3, 20), create_problem)\n",
    "plt.bar(range(3, 20), solve_problem, bottom=create_problem)\n",
    "plt.bar(range(3, 20), transform_solution, bottom = create_problem+solve_problem)\n",
    "plt.legend([\"create\", \"solve\", \"transform\"])\n",
    "plt.ylabel('time (s)')\n",
    "\n",
    "axes2 = plt.twinx()\n",
    "axes2.plot(range(3, 20), num_constraints, color='k', label='Sine')\n",
    "axes2.set_ylabel('number of constraints')\n",
    "\n",
    "plt.title('Block Time Analysis')"
   ]
  },
  {
   "cell_type": "code",
   "execution_count": 270,
   "metadata": {
    "pycharm": {
     "name": "#%%\n"
    }
   },
   "outputs": [
    {
     "data": {
      "text/plain": [
       "Text(0.5, 1.0, 'Clevr Time Analysis')"
      ]
     },
     "execution_count": 270,
     "metadata": {},
     "output_type": "execute_result"
    },
    {
     "data": {
      "image/png": "[encoded data removed]",
      "text/plain": [
       "<Figure size 432x288 with 2 Axes>"
      ]
     },
     "metadata": {
      "needs_background": "light"
     },
     "output_type": "display_data"
    }
   ],
   "source": [
    "fig, ax1 = plt.subplots()\n",
    "\n",
    "create_problem = np.array([data['create problem'] for data in avg_times])\n",
    "solve_problem = np.array([data['solve problem'] for data in avg_times])\n",
    "transform_solution = np.array([data['transform solution'] for data in avg_times])\n",
    "\n",
    "plt.bar(range(3, 20), create_problem)\n",
    "plt.bar(range(3, 20), solve_problem, bottom=create_problem)\n",
    "plt.bar(range(3, 20), transform_solution, bottom = create_problem+solve_problem)\n",
    "plt.legend([\"create\", \"solve\", \"transform\"])\n",
    "plt.ylabel('time (s)')\n",
    "\n",
    "axes2 = plt.twinx()\n",
    "axes2.plot(range(3, 20), num_constraints, color='k', label='Sine')\n",
    "axes2.set_ylabel('number of constraints')\n",
    "\n",
    "plt.title('Clevr Time Analysis')"
   ]
  },
  {
   "cell_type": "code",
   "execution_count": 263,
   "metadata": {
    "pycharm": {
     "name": "#%%\n"
    }
   },
   "outputs": [
    {
     "data": {
      "text/plain": [
       "array([0.01785235, 0.05096359, 0.08058474, 0.1015286 , 0.15448685,\n",
       "       0.21549301, 0.28463929, 0.30757768, 0.43473771, 0.91275964,\n",
       "       0.5669843 , 0.74939673, 1.67824612, 2.21205547, 3.50092494,\n",
       "       2.09106164, 3.19240441])"
      ]
     },
     "execution_count": 263,
     "metadata": {},
     "output_type": "execute_result"
    }
   ],
   "source": [
    "create_problem + solve_problem"
   ]
  },
  {
   "cell_type": "code",
   "execution_count": 19,
   "metadata": {
    "pycharm": {
     "name": "#%%\n"
    }
   },
   "outputs": [
    {
     "data": {
      "text/plain": [
       "Text(0.5, 1.0, 'Block Number of Constraints v.s. Number of Objects')"
      ]
     },
     "execution_count": 19,
     "metadata": {},
     "output_type": "execute_result"
    },
    {
     "data": {
      "image/png": "[encoded data removed]",
      "text/plain": [
       "<Figure size 432x288 with 1 Axes>"
      ]
     },
     "metadata": {
      "needs_background": "light"
     },
     "output_type": "display_data"
    }
   ],
   "source": [
    "plt.plot(range(3, 21), num_constraints)\n",
    "plt.title('Block Number of Constraints v.s. Number of Objects')"
   ]
  },
  {
   "cell_type": "code",
   "execution_count": 60,
   "metadata": {
    "pycharm": {
     "name": "#%%\n"
    }
   },
   "outputs": [
    {
     "data": {
      "text/plain": [
       "[138, 336, 670, 1176, 1890, 2848, 4086, 5640]"
      ]
     },
     "execution_count": 60,
     "metadata": {},
     "output_type": "execute_result"
    }
   ],
   "source": [
    "num_constraints"
   ]
  },
  {
   "cell_type": "code",
   "execution_count": null,
   "metadata": {
    "pycharm": {
     "name": "#%%\n"
    }
   },
   "outputs": [],
   "source": []
  },
  {
   "cell_type": "code",
   "execution_count": 253,
   "metadata": {
    "pycharm": {
     "name": "#%%\n"
    }
   },
   "outputs": [
    {
     "data": {
      "text/plain": [
       "Text(0.5, 1.0, 'Clevr')"
      ]
     },
     "execution_count": 253,
     "metadata": {},
     "output_type": "execute_result"
    },
    {
     "data": {
      "image/png": "[encoded data removed]",
      "text/plain": [
       "<Figure size 432x288 with 1 Axes>"
      ]
     },
     "metadata": {
      "needs_background": "light"
     },
     "output_type": "display_data"
    }
   ],
   "source": [
    "plt.plot(range(3, 20), avg_times)\n",
    "plt.title('Clevr')"
   ]
  },
  {
   "cell_type": "code",
   "execution_count": 28,
   "metadata": {
    "pycharm": {
     "name": "#%%\n"
    }
   },
   "outputs": [
    {
     "data": {
      "text/plain": [
       "Text(0.5, 1.0, 'Clevr')"
      ]
     },
     "execution_count": 28,
     "metadata": {},
     "output_type": "execute_result"
    },
    {
     "data": {
      "image/png": "[encoded data removed]",
      "text/plain": [
       "<Figure size 432x288 with 1 Axes>"
      ]
     },
     "metadata": {
      "needs_background": "light"
     },
     "output_type": "display_data"
    }
   ],
   "source": [
    "plt.plot(range(3, 20), num_variables)\n",
    "plt.title('Clevr')"
   ]
  },
  {
   "cell_type": "code",
   "execution_count": 29,
   "metadata": {
    "pycharm": {
     "name": "#%%\n"
    }
   },
   "outputs": [
    {
     "data": {
      "text/plain": [
       "Text(0.5, 1.0, 'Clevr')"
      ]
     },
     "execution_count": 29,
     "metadata": {},
     "output_type": "execute_result"
    },
    {
     "data": {
      "image/png": "[encoded data removed]",
      "text/plain": [
       "<Figure size 432x288 with 1 Axes>"
      ]
     },
     "metadata": {
      "needs_background": "light"
     },
     "output_type": "display_data"
    }
   ],
   "source": [
    "plt.plot(range(3, 20), num_constraints)\n",
    "plt.title('Clevr')"
   ]
  },
  {
   "cell_type": "code",
   "execution_count": null,
   "metadata": {
    "pycharm": {
     "name": "#%%\n"
    }
   },
   "outputs": [],
   "source": []
  }
 ],
 "metadata": {
  "kernelspec": {
   "display_name": "Python 3 (ipykernel)",
   "language": "python",
   "name": "python3"
  },
  "language_info": {
   "codemirror_mode": {
    "name": "ipython",
    "version": 3
   },
   "file_extension": ".py",
   "mimetype": "text/x-python",
   "name": "python",
   "nbconvert_exporter": "python",
   "pygments_lexer": "ipython3",
   "version": "3.8.12"
  }
 },
 "nbformat": 4,
 "nbformat_minor": 1
}