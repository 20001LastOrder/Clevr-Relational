{
 "cells": [
  {
   "cell_type": "markdown",
   "metadata": {
    "collapsed": true,
    "pycharm": {
     "name": "#%% md\n"
    }
   },
   "source": [
    "## Calculate the effect of the scene graph solver\n",
    "\n",
    "the scene nodes are ordered, so the edge difference can be directly used to measure the difference between naively pick\n",
    "the most probable edge or taking the whole graph into consideration"
   ]
  },
  {
   "cell_type": "markdown",
   "metadata": {},
   "source": []
  },
  {
   "cell_type": "code",
   "execution_count": null,
   "metadata": {
    "pycharm": {
     "name": "#%%\n"
    }
   },
   "outputs": [],
   "source": [
    "%load_ext autoreload\n",
    "%autoreload 2"
   ]
  },
  {
   "cell_type": "code",
   "execution_count": null,
   "metadata": {
    "pycharm": {
     "name": "#%%\n"
    }
   },
   "outputs": [],
   "source": [
    "from utils import *\n",
    "import networkx as nx\n",
    "import matplotlib.pyplot as plt\n",
    "import h5py\n"
   ]
  },
  {
   "cell_type": "code",
   "execution_count": null,
   "metadata": {
    "pycharm": {
     "name": "#%%\n"
    }
   },
   "outputs": [],
   "source": [
    "scenes_edge = read_json('G:/My Drive/Research/data/scenes/scenes_with_rels.json')\n",
    "scenes_graph = read_json('G:/My Drive/Research/data/scenes/scenes_with_rels_corrected.json')\n"
   ]
  },
  {
   "cell_type": "code",
   "execution_count": null,
   "metadata": {
    "pycharm": {
     "name": "#%%\n"
    }
   },
   "outputs": [],
   "source": [
    "directions = ['left', 'right', 'behind', 'front']\n",
    "differences = {i: {'more': [], 'few': []} for i in range(len(scenes_graph['scenes']))}\n",
    "\n",
    "for i, (scene_graph, scene_edge) in enumerate(zip(scenes_edge['scenes'], scenes_graph['scenes'])):\n",
    "    for dire in directions:\n",
    "        for source, (targets_graph, targets_edge) in enumerate(zip(scene_graph['relationships'][dire],\n",
    "                                                                   scene_edge['relationships'][dire])):\n",
    "            targets_graph = set(targets_graph)\n",
    "            targets_edge = set(targets_edge)\n",
    "\n",
    "            more = [(source, target, dire) for target in targets_graph.difference(targets_edge)]\n",
    "            few = [(source, target, dire) for target in targets_edge.difference(targets_graph)]\n",
    "            differences[i]['more'].extend(more)\n",
    "            differences[i]['few'].extend(few)\n",
    "\n",
    "differences = {key : value for (key, value) in differences.items() if len(value['more']) > 0 or len(value['few']) > 0}\n",
    "\n"
   ]
  },
  {
   "cell_type": "code",
   "execution_count": null,
   "metadata": {
    "pycharm": {
     "name": "#%%\n"
    }
   },
   "outputs": [],
   "source": [
    "for scene_id in differences.keys():\n",
    "    print(scene_id)\n",
    "    for direction in directions:\n",
    "        graph = convert_to_nx(scenes_edge['scenes'][scene_id], [direction], ['r'])\n",
    "        print(f'{direction} {list(nx.simple_cycles(graph))}')"
   ]
  },
  {
   "cell_type": "code",
   "execution_count": null,
   "metadata": {
    "pycharm": {
     "name": "#%%\n"
    }
   },
   "outputs": [],
   "source": [
    "    # pos = nx.circular_layout(graph)\n",
    "    # edges = graph.edges()\n",
    "    #\n",
    "    # colors = []\n",
    "    # for u, v, data in list(graph.edges(data=True)):\n",
    "    #     colors.append(data['color'])"
   ]
  },
  {
   "cell_type": "markdown",
   "metadata": {
    "pycharm": {
     "name": "#%% md\n"
    }
   },
   "source": [
    "# Fault Case Analysis"
   ]
  },
  {
   "cell_type": "code",
   "execution_count": null,
   "metadata": {
    "pycharm": {
     "name": "#%%\n"
    }
   },
   "outputs": [],
   "source": [
    "vocab = read_json('G:/My Drive/Research/data/vocab.json')\n",
    "clevr_results = read_json('G:/My Drive/Research/data/reason/results/result_clevr.json')\n",
    "clevr_rel_corrected_results = read_json('G:/My Drive/Research/data/reason/results/result_clevr_corrected.json')\n",
    "questions = read_json('G:/My Drive/Research/data/Original/CLEVR_questions.json')['questions']\n",
    "h5_filename = 'G:/My Drive/Research/data/Original/images.h5'\n",
    "images = h5py.File(h5_filename, 'r')['images']"
   ]
  },
  {
   "cell_type": "code",
   "execution_count": null,
   "metadata": {
    "pycharm": {
     "name": "#%%\n"
    }
   },
   "outputs": [],
   "source": [
    "wrong_ans_indexes = [i for (i, correct) in enumerate(clevr_results['corrects']) if not correct]\n",
    "wrong_ans_indexes_rel_corrected = [i for (i, correct) in enumerate(clevr_rel_corrected_results['corrects']) if not correct]\n"
   ]
  },
  {
   "cell_type": "code",
   "execution_count": null,
   "metadata": {
    "pycharm": {
     "name": "#%%\n"
    }
   },
   "outputs": [],
   "source": [
    "i = 6696\n",
    "print(i)\n",
    "print(questions[i]['question'])\n",
    "print(scenes_graph['scenes'][questions[i]['image_index']])\n",
    "print(len(scenes_graph['scenes'][questions[i]['image_index']]['objects']))\n",
    "plt.imshow(images[questions[i]['image_index']])\n",
    "print(f\"Model Answer: {clevr_rel_corrected_results['answers'][i]}\")\n",
    "print(f\"Actual Result: {questions[i]['answer']}\")\n",
    "[vocab['program_idx_to_token'][str(i)] for i in clevr_results['programs'][i]]"
   ]
  },
  {
   "cell_type": "markdown",
   "metadata": {
    "pycharm": {
     "name": "#%% md\n"
    }
   },
   "source": [
    "## Check If the faults are repairable\n",
    "1. The correct answer is ranked second, after the prediction\n",
    "2. The correct answer is higher than all other objects in the scene without that property"
   ]
  },
  {
   "cell_type": "code",
   "execution_count": null,
   "metadata": {
    "pycharm": {
     "name": "#%%\n"
    }
   },
   "outputs": [],
   "source": [
    "import pandas as pd"
   ]
  },
  {
   "cell_type": "code",
   "execution_count": null,
   "metadata": {
    "pycharm": {
     "name": "#%%\n"
    }
   },
   "outputs": [],
   "source": [
    "error_df = pd.read_csv('G:/My Drive/Research/data/measurements/error_cases.csv')\n",
    "scenes = read_json('G:/My Drive/Research/data/scenes/scenes_proba.json')['scenes']\n",
    "attr_map = read_json('G:/My Drive/Research/data/clevr_attr_map.json')['attributes']\n",
    "attributes = ['size', 'color', 'material', 'shape']"
   ]
  },
  {
   "cell_type": "code",
   "execution_count": null,
   "metadata": {
    "pycharm": {
     "name": "#%%\n"
    }
   },
   "outputs": [],
   "source": [
    "for _, row in error_df.iterrows():\n",
    "    print(row['image_id'])\n",
    "    scene = scenes[row['image_id']]\n",
    "    attr_name = row['attr_name']\n",
    "    objects = scene['objects']\n",
    "\n",
    "    target_obj = find_matching_object(row['detected_object'], objects, attr_map, attributes)\n",
    "    if not target_obj:\n",
    "        print('did not find matching object')\n",
    "        continue\n",
    "\n",
    "    print(row['attr_name'])\n",
    "    actual_idx = attr_map[attr_name].index(row['actual'])\n",
    "    actual_proba = target_obj[attr_name][actual_idx]\n",
    "    sorted_dist = np.argsort(target_obj[attr_name])\n",
    "    print(f'gt prob? {target_obj[attr_name][actual_idx]}')\n",
    "    print(f'gt is the second best? {sorted_dist[-2] == actual_idx}')\n",
    "\n",
    "    more_significant = is_more_significant(target_obj, objects, attr_name, actual_idx)\n",
    "    print(f'gt is more significant? {more_significant}')\n"
   ]
  },
  {
   "cell_type": "code",
   "execution_count": null,
   "metadata": {
    "pycharm": {
     "name": "#%%\n"
    }
   },
   "outputs": [],
   "source": [
    "error_df"
   ]
  },
  {
   "cell_type": "markdown",
   "metadata": {},
   "source": [
    "# Graph Edit Distance metrics"
   ]
  },
  {
   "cell_type": "code",
   "execution_count": null,
   "metadata": {
    "pycharm": {
     "name": "#%%\n"
    }
   },
   "outputs": [],
   "source": [
    "from scene_graph_transformer import get_concrete_scene_graph, get_simple_concrete_attributes\n",
    "from utils import dag_constraint, anti_symmetry_constraint, construct_adj, process_gt_scenes, process_coord_scene, process_coord_scene_clevr\n",
    "from tqdm import tqdm"
   ]
  },
  {
   "cell_type": "code",
   "execution_count": null,
   "metadata": {
    "pycharm": {
     "name": "#%%\n"
    }
   },
   "outputs": [],
   "source": [
    "scenes = read_json('../results/clevr_block_val/constraint_1234/rel_scenes.json')['scenes']\n",
    "gt_scenes = read_json(f'../data/clevr_block/constraint_1234/scenes_test.json')['scenes']\n",
    "schema = read_json(f'../data/clevr_block/clevr_attr_map.json')\n",
    "con_scenes = read_json('../results/clevr_block_val/constraint_1234/rel_scenes_fix.json')['scenes']\n",
    "coord_scenes = read_json('../results/clevr_block_val/constraint_1234/scenes_coord_prob.json')['scenes']"
   ]
  },
  {
   "cell_type": "code",
   "execution_count": null,
   "metadata": {
    "pycharm": {
     "name": "#%%\n"
    }
   },
   "outputs": [],
   "source": [
    "concrete_scenes = [get_concrete_scene_graph(scene, schema) for scene in scenes]\n",
    "gt_scenes = [process_gt_scenes(scene, schema) for scene in gt_scenes]\n",
    "coord_scenes = [process_coord_scene(scene, schema) for scene in coord_scenes]\n",
    "for scene in coord_scenes:\n",
    "    scene['objects'] = get_simple_concrete_attributes(scene, schema)"
   ]
  },
  {
   "cell_type": "code",
   "execution_count": null,
   "metadata": {
    "pycharm": {
     "name": "#%%\n"
    }
   },
   "outputs": [],
   "source": [
    "concrete_error_maps = error_classification_for_scenes(concrete_scenes, gt_scenes, schema['relations'])\n",
    "consistent_error_maps = error_classification_for_scenes(con_scenes, gt_scenes, schema['relations'])\n",
    "coord_error_maps = error_classification_for_scenes(coord_scenes, gt_scenes, schema['relations'])"
   ]
  },
  {
   "cell_type": "code",
   "execution_count": null,
   "metadata": {
    "pycharm": {
     "name": "#%%\n"
    }
   },
   "outputs": [],
   "source": [
    "from datasets.Blockworld import *\n",
    "\n",
    "keys = ['SGGen', 'SGGen+', 'SA', 'FSA']\n",
    "constraints = [SmallObjectConstraint('small'), LargeCubeConstraint('large'), BottomConstraint('bottom'), YellowObjectConstraint('yellow')]"
   ]
  },
  {
   "cell_type": "code",
   "execution_count": null,
   "metadata": {
    "pycharm": {
     "name": "#%%\n"
    }
   },
   "outputs": [],
   "source": [
    "error_maps = consistent_error_maps\n",
    "check_scenes = con_scenes\n",
    "\n",
    "for key in keys:\n",
    "    print(key, np.mean([m[key] for m in error_maps]))\n",
    "\n",
    "errors = [sum([constraint.evaluate(scene) for constraint in constraints]) for scene in check_scenes]\n",
    "print('CV', len([e for e in errors if e == 0]) / len(errors))"
   ]
  },
  {
   "cell_type": "markdown",
   "metadata": {},
   "source": [
    "## Blocksworld"
   ]
  },
  {
   "cell_type": "code",
   "execution_count": null,
   "metadata": {
    "pycharm": {
     "name": "#%%\n"
    }
   },
   "outputs": [],
   "source": [
    "from datasets.Blockworld import *\n",
    "from measurements import ProblemDomain\n"
   ]
  },
  {
   "cell_type": "code",
   "execution_count": null,
   "metadata": {
    "pycharm": {
     "name": "#%%\n"
    }
   },
   "outputs": [],
   "source": [
    "keys = ['SGGen', 'SGGen+', 'SA', 'FSA']\n",
    "constraints = [SmallObjectConstraint('c1'), LargeCubeConstraint('c2'), BottomConstraint('c3'), YellowObjectConstraint('c4')]\n",
    "coord_scene_transformer = process_coord_scene\n",
    "blocksworld_clevr = ProblemDomain(constraints, keys, '../data/clevr_block/constraint_1234_test', '../results/clevr_block_val/original/constraint_1234/', f'../data/clevr_block/clevr_attr_map.json')\n",
    "blocksworld_c3 = ProblemDomain(constraints, keys, '../data/clevr_block/c3', '../results/clevr_block_val/original/c3/', f'../data/clevr_block/clevr_attr_map.json')\n",
    "blocksworld_c4 = ProblemDomain(constraints, keys, '../data/clevr_block/c4', '../results/clevr_block_val/original/c4/', f'../data/clevr_block/clevr_attr_map.json')\n",
    "\n",
    "\n",
    "domains = [blocksworld_clevr, blocksworld_c3, blocksworld_c4]"
   ]
  },
  {
   "cell_type": "code",
   "execution_count": null,
   "metadata": {
    "pycharm": {
     "name": "#%%\n"
    }
   },
   "outputs": [],
   "source": [
    "for domain in domains:\n",
    "    domain.load_predicted_scenes(coord_scene_transformer)\n",
    "    domain.cal_matrics_statistics()"
   ]
  },
  {
   "cell_type": "code",
   "execution_count": null,
   "metadata": {
    "pycharm": {
     "name": "#%%\n"
    }
   },
   "outputs": [],
   "source": [
    "metrics = ['SGGen', 'SGGen+', 'SA', 'Con']\n",
    "result = []\n",
    "\n",
    "for domain in domains:\n",
    "    for metric in metrics:\n",
    "        result.append(np.mean(domain.coord_scene_fixed_stats[metric]))\n",
    "result\n"
   ]
  },
  {
   "cell_type": "markdown",
   "metadata": {},
   "source": [
    "## Clevr"
   ]
  },
  {
   "cell_type": "code",
   "execution_count": null,
   "metadata": {
    "pycharm": {
     "name": "#%%\n"
    }
   },
   "outputs": [],
   "source": [
    "scenes = read_json('../results/clevr_val/constraint_1234/rel_scenes.json')['scenes']\n",
    "gt_scenes = read_json(f'../data/clevr/constraint_1234_test/scenes.json')['scenes']\n",
    "schema = read_json(f'G:/My Drive/Research/data/Clevr_mini/clevr_attr_map.json')\n",
    "con_scenes = read_json('../results/clevr_val/constraint_1234/rel_scenes_fix_coord.json')['scenes']\n",
    "coord_scenes = read_json('../results/clevr_val/constraint_1234/scenes_coord_prob.json')['scenes']"
   ]
  },
  {
   "cell_type": "code",
   "execution_count": null,
   "metadata": {
    "pycharm": {
     "name": "#%%\n"
    }
   },
   "outputs": [],
   "source": [
    "from measurements import ProblemDomain\n",
    "from datasets.Clevr import *\n",
    "\n",
    "keys = ['SGGen', 'SGGen+', 'SA', 'FSA']\n",
    "constraints =  [SameColorConstraint('c1'), MaterialConstraint('c2'), LargeCubeConstraint('c3'), PairBehindConstraint('c4')]#, ObjectIdentityConstraint('identity')]\n",
    "coord_scene_transformer = process_coord_scene_clevr\n",
    "\n",
    "clevr_full = ProblemDomain(constraints, keys, '../data/clevr/constraint_1234_test', '../results/clevr_val/original/constraint_1234', f'G:/My Drive/Research/data/Clevr_mini/clevr_attr_map.json')\n",
    "clevr_half = ProblemDomain(constraints, keys, '../data/clevr/constraint_1234_test', '../results/clevr_val/original/constraint_1234/data_50', f'G:/My Drive/Research/data/Clevr_mini/clevr_attr_map.json')\n",
    "clevr_quarter = ProblemDomain(constraints, keys, '../data/clevr/constraint_1234_test', '../results/clevr_val/original/constraint_1234/data_25', f'G:/My Drive/Research/data/Clevr_mini/clevr_attr_map.json')\n",
    "\n",
    "# domains ={\n",
    "#     'clevr': clevr_full,\n",
    "#     # 'c3': clevr_c3,\n",
    "#     # 'c4': clevr_c4\n",
    "# }\n",
    "domains = [clevr_full, clevr_half, clevr_quarter]"
   ]
  },
  {
   "cell_type": "code",
   "execution_count": null,
   "metadata": {
    "pycharm": {
     "name": "#%%\n"
    }
   },
   "outputs": [],
   "source": [
    "for domain in domains:\n",
    "    domain.load_predicted_scenes(coord_scene_transformer, coord_scenes_fname=None, coord_fixed_fname=None)\n",
    "    domain.cal_matrics_statistics()"
   ]
  },
  {
   "cell_type": "code",
   "execution_count": null,
   "metadata": {
    "pycharm": {
     "name": "#%%\n"
    }
   },
   "outputs": [],
   "source": [
    "[np.mean(stats.scene_stats['SA']) for stats in domains]"
   ]
  },
  {
   "cell_type": "code",
   "execution_count": null,
   "metadata": {
    "pycharm": {
     "name": "#%%\n"
    }
   },
   "outputs": [],
   "source": [
    "np.mean(clevr_c1234.scene_fixed_stats['Con'])"
   ]
  },
  {
   "cell_type": "code",
   "execution_count": null,
   "metadata": {
    "pycharm": {
     "name": "#%%\n"
    }
   },
   "outputs": [],
   "source": [
    "for domain in domains.values():\n",
    "    domain.load_predicted_scenes(coord_scene_transformer)\n",
    "    domain.cal_matrics_statistics()"
   ]
  },
  {
   "cell_type": "code",
   "execution_count": null,
   "metadata": {
    "pycharm": {
     "name": "#%%\n"
    }
   },
   "outputs": [],
   "source": [
    "metric = 'c4'\n",
    "compares = [clevr_c1234.scene_stats, clevr_c1234.scene_fixed_stats, clevr_c1234.coord_scene_stats, clevr_c1234.coord_scene_fixed_stats]\n",
    "\n",
    "print([sum(compare[metric]) for compare in compares])\n",
    "print([np.mean(compare['Con']) for compare in compares])"
   ]
  },
  {
   "cell_type": "code",
   "execution_count": 177,
   "metadata": {
    "pycharm": {
     "name": "#%%\n"
    }
   },
   "outputs": [],
   "source": [
    "import numpy as np\n",
    "\n",
    "def cohen_d(x, y):\n",
    "    return (np.mean(x) - np.mean(y)) / np.sqrt((np.std(x, ddof=1) ** 2 + np.std(y, ddof=1) ** 2) / 2.0)"
   ]
  },
  {
   "cell_type": "code",
   "execution_count": null,
   "metadata": {
    "pycharm": {
     "name": "#%%\n"
    }
   },
   "outputs": [],
   "source": [
    "domains['clevr'].scene_fixed_stats['SA']"
   ]
  },
  {
   "cell_type": "code",
   "execution_count": null,
   "metadata": {
    "pycharm": {
     "name": "#%%\n"
    }
   },
   "outputs": [],
   "source": [
    "domains['c3'].scene_fixed_stats['SA']"
   ]
  },
  {
   "cell_type": "code",
   "execution_count": null,
   "metadata": {
    "pycharm": {
     "name": "#%%\n"
    }
   },
   "outputs": [],
   "source": [
    "metric = 'CV'\n",
    "print(cohen_d(domains['clevr'].scene_stats[metric], domains['c3'].scene_stats[metric]))\n",
    "print(cohen_d(domains['clevr'].scene_fixed_stats[metric], domains['c3'].scene_fixed_stats[metric]))\n",
    "print(cohen_d(domains['clevr'].coord_scene_stats[metric], domains['c3'].coord_scene_stats[metric]))\n",
    "print(cohen_d(domains['clevr'].coord_scene_fixed_stats[metric], domains['c3'].coord_scene_fixed_stats[metric]))"
   ]
  },
  {
   "cell_type": "code",
   "execution_count": null,
   "metadata": {
    "pycharm": {
     "name": "#%%\n"
    }
   },
   "outputs": [],
   "source": [
    "clevr_c1234 = ProblemDomain(constraints, keys, '../data/clevr/constraint_1234_test', '../results/clevr_val/original/constraint_1234/', f'G:/My Drive/Research/data/Clevr_mini/clevr_attr_map.json')\n",
    "clevr_c3 = ProblemDomain(constraints, keys, '../data/clevr/c3', '../results/clevr_val/original/c3/', f'G:/My Drive/Research/data/Clevr_mini/clevr_attr_map.json')\n",
    "clevr_c4 = ProblemDomain(constraints, keys, '../data/clevr/c4', '../results/clevr_val/original/c4/', f'G:/My Drive/Research/data/Clevr_mini/clevr_attr_map.json')\n",
    "\n",
    "domains_original ={\n",
    "    'clevr': clevr_c1234,\n",
    "    'c3': clevr_c3,\n",
    "    'c4': clevr_c4\n",
    "}"
   ]
  },
  {
   "cell_type": "code",
   "execution_count": null,
   "metadata": {
    "pycharm": {
     "name": "#%%\n"
    }
   },
   "outputs": [],
   "source": [
    "domains_original['clevr'].load_predicted_scenes(coord_scene_transformer)\n",
    "domains_original['clevr'].cal_matrics_statistics()"
   ]
  },
  {
   "cell_type": "code",
   "execution_count": null,
   "metadata": {
    "pycharm": {
     "name": "#%%\n"
    }
   },
   "outputs": [],
   "source": [
    "for domain in domains_original.values():\n",
    "    domain.load_predicted_scenes(coord_scene_transformer)\n",
    "    domain.cal_matrics_statistics()"
   ]
  },
  {
   "cell_type": "code",
   "execution_count": null,
   "metadata": {
    "pycharm": {
     "name": "#%%\n"
    }
   },
   "outputs": [],
   "source": [
    "error_map = domains_original['c3'].coord_scene_fixed_stats\n",
    "\n",
    "print(np.mean(error_map['SGGen']))\n",
    "print(np.mean(error_map['SGGen+']))\n",
    "print(np.mean(error_map['SA']))\n",
    "print(np.mean(error_map['FSA']))\n",
    "print(np.mean(error_map['CV']))"
   ]
  },
  {
   "cell_type": "code",
   "execution_count": null,
   "metadata": {
    "pycharm": {
     "name": "#%%\n"
    }
   },
   "outputs": [],
   "source": [
    "metric = 'SGGen+'\n",
    "print(cohen_d(domains_original['clevr'].scene_stats[metric], domains_original['c4'].scene_stats[metric]))\n",
    "print(cohen_d(domains_original['clevr'].scene_fixed_stats[metric], domains_original['c4'].scene_fixed_stats[metric]))\n",
    "print(cohen_d(domains_original['clevr'].coord_scene_stats[metric], domains_original['c4'].coord_scene_stats[metric]))\n",
    "print(cohen_d(domains_original['clevr'].coord_scene_fixed_stats[metric], domains_original['c4'].coord_scene_fixed_stats[metric]))"
   ]
  },
  {
   "cell_type": "code",
   "execution_count": null,
   "metadata": {
    "pycharm": {
     "name": "#%%\n"
    }
   },
   "outputs": [],
   "source": [
    "domains_original['c4'].gt_scenes[1224]"
   ]
  },
  {
   "cell_type": "markdown",
   "metadata": {},
   "source": [
    "# RQ1, 2"
   ]
  },
  {
   "cell_type": "markdown",
   "metadata": {},
   "source": [
    "## Clevr"
   ]
  },
  {
   "cell_type": "code",
   "execution_count": 190,
   "metadata": {
    "pycharm": {
     "name": "#%%\n"
    }
   },
   "outputs": [],
   "source": [
    "from measurements import ProblemDomain\n",
    "from datasets.Clevr import *"
   ]
  },
  {
   "cell_type": "code",
   "execution_count": 176,
   "metadata": {
    "pycharm": {
     "name": "#%%\n"
    }
   },
   "outputs": [],
   "source": [
    "def print_stats(results1, results2, metrics, setups, mapping):\n",
    "    values = []\n",
    "    for setup in setups:\n",
    "        stats1 = mapping(results1[setup])\n",
    "        stats2 = mapping(results2[setup])\n",
    "        for metric in metrics:\n",
    "            values.append(cohen_d(stats1[metric], stats2[metric]))\n",
    "    return np.array(values)\n",
    "\n",
    "def process_results(results, process_coord):\n",
    "    for _, value in results.items():\n",
    "        value.load_predicted_scenes(process_coord, coord_fixed_fname=None, fixed_scenes_fname=None)\n",
    "        value.cal_matrics_statistics()"
   ]
  },
  {
   "cell_type": "code",
   "execution_count": 191,
   "metadata": {
    "pycharm": {
     "name": "#%%\n"
    }
   },
   "outputs": [],
   "source": [
    "constraints =  [SameColorConstraint('c1'), MaterialConstraint('c2'), LargeCubeConstraint('c3'), PairBehindConstraint('c4')]\n",
    "keys = ['SGGen', 'SGGen+', 'SA', 'FSA']\n",
    "\n",
    "constrained_path = '../results/clevr_val/constraint_1234'\n",
    "original_path = '../results/clevr_val/original'\n",
    "test_paths = ['../data/clevr/constraint_1234_test', '../data/clevr/c3', '../data/clevr/c4']\n",
    "setup_paths = ['constraint_1234', 'c3', 'c4']\n",
    "schema_path = 'G:/My Drive/Research/data/Clevr_mini/clevr_attr_map.json'\n",
    "\n",
    "constrained_results_clevr = {}\n",
    "original_results_clevr = {}\n",
    "\n",
    "for i, setup in enumerate(setup_paths):\n",
    "    constrained_result = ProblemDomain(constraints, keys, test_paths[i], f'{constrained_path}/{setup}', schema_path)\n",
    "    original_result = ProblemDomain(constraints, keys, test_paths[i], f'{original_path}/{setup}', schema_path)\n",
    "    constrained_results_clevr[setup] = constrained_result\n",
    "    original_results_clevr[setup] = original_result"
   ]
  },
  {
   "cell_type": "code",
   "execution_count": 192,
   "metadata": {
    "pycharm": {
     "name": "#%%\n"
    },
    "scrolled": true
   },
   "outputs": [
    {
     "name": "stdout",
     "output_type": "stream",
     "text": [
      "../results/clevr_val/constraint_1234/constraint_1234\\rel_scenes.json\n"
     ]
    },
    {
     "name": "stderr",
     "output_type": "stream",
     "text": [
      "100%|██████████| 2000/2000 [00:21<00:00, 94.55it/s] \n",
      "100%|██████████| 2000/2000 [00:21<00:00, 93.94it/s] \n"
     ]
    },
    {
     "name": "stdout",
     "output_type": "stream",
     "text": [
      "../results/clevr_val/constraint_1234/c3\\rel_scenes.json\n"
     ]
    },
    {
     "name": "stderr",
     "output_type": "stream",
     "text": [
      "100%|██████████| 2000/2000 [00:30<00:00, 64.69it/s]\n",
      "100%|██████████| 2000/2000 [00:30<00:00, 64.89it/s]\n"
     ]
    },
    {
     "name": "stdout",
     "output_type": "stream",
     "text": [
      "../results/clevr_val/constraint_1234/c4\\rel_scenes.json\n"
     ]
    },
    {
     "name": "stderr",
     "output_type": "stream",
     "text": [
      "100%|██████████| 2000/2000 [00:17<00:00, 112.94it/s]\n",
      "100%|██████████| 2000/2000 [00:17<00:00, 112.96it/s]\n"
     ]
    },
    {
     "name": "stdout",
     "output_type": "stream",
     "text": [
      "../results/clevr_val/original/constraint_1234\\rel_scenes.json\n"
     ]
    },
    {
     "name": "stderr",
     "output_type": "stream",
     "text": [
      "100%|██████████| 2000/2000 [00:21<00:00, 95.03it/s] \n",
      "100%|██████████| 2000/2000 [00:21<00:00, 95.04it/s] \n"
     ]
    },
    {
     "name": "stdout",
     "output_type": "stream",
     "text": [
      "../results/clevr_val/original/c3\\rel_scenes.json\n"
     ]
    },
    {
     "name": "stderr",
     "output_type": "stream",
     "text": [
      "100%|██████████| 2000/2000 [00:30<00:00, 65.01it/s]\n",
      "100%|██████████| 2000/2000 [00:30<00:00, 64.78it/s]\n"
     ]
    },
    {
     "name": "stdout",
     "output_type": "stream",
     "text": [
      "../results/clevr_val/original/c4\\rel_scenes.json\n"
     ]
    },
    {
     "name": "stderr",
     "output_type": "stream",
     "text": [
      "100%|██████████| 2000/2000 [00:17<00:00, 112.85it/s]\n",
      "100%|██████████| 2000/2000 [00:17<00:00, 113.14it/s]\n"
     ]
    }
   ],
   "source": [
    "process_results(constrained_results_clevr, process_coord_scene_clevr)\n",
    "process_results(original_results_clevr, process_coord_scene_clevr)"
   ]
  },
  {
   "cell_type": "code",
   "execution_count": null,
   "metadata": {},
   "outputs": [],
   "source": [
    "print_metrics(constrained_results_clevr, ['SGGen', 'SGGen+', 'SA', 'Con'], setup_paths, lambda a: a.scene_stats)"
   ]
  },
  {
   "cell_type": "code",
   "execution_count": null,
   "metadata": {
    "pycharm": {
     "name": "#%%\n"
    }
   },
   "outputs": [],
   "source": [
    "print_metrics(original_results_clevr, ['SGGen', 'SGGen+', 'SA', 'Con'], setup_paths, lambda a: a.scene_stats)"
   ]
  },
  {
   "cell_type": "code",
   "execution_count": null,
   "metadata": {},
   "outputs": [],
   "source": [
    "print_metrics(constrained_results_clevr, ['SGGen', 'SGGen+', 'SA', 'Con'], setup_paths, lambda a: a.coord_scene_stats)"
   ]
  },
  {
   "cell_type": "code",
   "execution_count": null,
   "metadata": {},
   "outputs": [],
   "source": [
    "print_metrics(original_results_clevr, ['SGGen', 'SGGen+', 'SA', 'Con'], setup_paths, lambda a: a.coord_scene_stats)"
   ]
  },
  {
   "cell_type": "code",
   "execution_count": 195,
   "metadata": {},
   "outputs": [
    {
     "data": {
      "text/plain": [
       "'[-1.6961 -1.6726 -2.0254 -0.339  -2.522  -1.4659 -3.4665 -0.3795 -2.5191\\n -1.4704 -2.0883 -0.5529]'"
      ]
     },
     "execution_count": 195,
     "metadata": {},
     "output_type": "execute_result"
    }
   ],
   "source": [
    "np.array2string(print_stats(constrained_results_clevr, original_results_clevr, ['SGGen', 'SGGen+', 'SA', 'Con'], setup_paths, lambda a: a.scene_stats), precision=4)"
   ]
  },
  {
   "cell_type": "code",
   "execution_count": 196,
   "metadata": {
    "pycharm": {
     "name": "#%%\n"
    }
   },
   "outputs": [
    {
     "data": {
      "text/plain": [
       "'[-1.0097 -0.8144 -1.1455  0.     -1.8223 -0.9488 -1.7029  0.3721 -1.6253\\n -1.8284 -1.7227 -1.1649]'"
      ]
     },
     "execution_count": 196,
     "metadata": {},
     "output_type": "execute_result"
    }
   ],
   "source": [
    "np.array2string(print_stats(constrained_results_clevr, original_results_clevr, ['SGGen', 'SGGen+', 'SA', 'Con'], setup_paths, lambda a: a.coord_scene_stats), precision=4)"
   ]
  },
  {
   "cell_type": "code",
   "execution_count": null,
   "metadata": {
    "pycharm": {
     "name": "#%%\n"
    }
   },
   "outputs": [],
   "source": [
    "constrained_results['constraint_1234'].load_predicted_scenes(process_coord_scene_clevr, coord_fixed_fname=None, fixed_scenes_fname=None)\n",
    "original_results['constraint_1234'].load_predicted_scenes(process_coord_scene_clevr, coord_fixed_fname=None, fixed_scenes_fname=None)"
   ]
  },
  {
   "cell_type": "markdown",
   "metadata": {},
   "source": [
    "## Block"
   ]
  },
  {
   "cell_type": "code",
   "execution_count": null,
   "metadata": {},
   "outputs": [],
   "source": []
  },
  {
   "cell_type": "code",
   "execution_count": 184,
   "metadata": {
    "pycharm": {
     "name": "#%%\n"
    }
   },
   "outputs": [
    {
     "name": "stdout",
     "output_type": "stream",
     "text": [
      "../results/clevr_block_val/constraint_1234/constraint_1234\\rel_scenes.json\n"
     ]
    },
    {
     "name": "stderr",
     "output_type": "stream",
     "text": [
      "100%|██████████| 2000/2000 [00:35<00:00, 56.45it/s]\n",
      "100%|██████████| 2000/2000 [00:35<00:00, 56.34it/s]\n"
     ]
    },
    {
     "name": "stdout",
     "output_type": "stream",
     "text": [
      "../results/clevr_block_val/constraint_1234/c2\\rel_scenes.json\n"
     ]
    },
    {
     "name": "stderr",
     "output_type": "stream",
     "text": [
      "100%|██████████| 2000/2000 [00:44<00:00, 44.62it/s]\n",
      "100%|██████████| 2000/2000 [00:45<00:00, 44.43it/s]\n"
     ]
    },
    {
     "name": "stdout",
     "output_type": "stream",
     "text": [
      "../results/clevr_block_val/constraint_1234/c4\\rel_scenes.json\n"
     ]
    },
    {
     "name": "stderr",
     "output_type": "stream",
     "text": [
      "100%|██████████| 2000/2000 [00:39<00:00, 50.99it/s]\n",
      "100%|██████████| 2000/2000 [00:39<00:00, 51.08it/s]\n"
     ]
    },
    {
     "name": "stdout",
     "output_type": "stream",
     "text": [
      "../results/clevr_block_val/original/constraint_1234\\rel_scenes.json\n"
     ]
    },
    {
     "name": "stderr",
     "output_type": "stream",
     "text": [
      "100%|██████████| 2000/2000 [00:35<00:00, 56.86it/s]\n",
      "100%|██████████| 2000/2000 [00:35<00:00, 56.19it/s]\n"
     ]
    },
    {
     "name": "stdout",
     "output_type": "stream",
     "text": [
      "../results/clevr_block_val/original/c2\\rel_scenes.json\n"
     ]
    },
    {
     "name": "stderr",
     "output_type": "stream",
     "text": [
      "100%|██████████| 2000/2000 [00:44<00:00, 44.63it/s]\n",
      "100%|██████████| 2000/2000 [00:44<00:00, 44.51it/s]\n"
     ]
    },
    {
     "name": "stdout",
     "output_type": "stream",
     "text": [
      "../results/clevr_block_val/original/c4\\rel_scenes.json\n"
     ]
    },
    {
     "name": "stderr",
     "output_type": "stream",
     "text": [
      "100%|██████████| 2000/2000 [00:39<00:00, 51.22it/s]\n",
      "100%|██████████| 2000/2000 [00:39<00:00, 51.05it/s]\n"
     ]
    }
   ],
   "source": [
    "from datasets.Blockworld import *\n",
    "\n",
    "constraints =  [SmallObjectConstraint('c1'), LargeCubeConstraint('c2'), BottomConstraint('c3'), YellowObjectConstraint('c4')]\n",
    "keys = ['SGGen', 'SGGen+', 'SA', 'FSA']\n",
    "\n",
    "constrained_path = '../results/clevr_block_val/constraint_1234'\n",
    "original_path = '../results/clevr_block_val/original'\n",
    "test_paths = ['../data/clevr_block/constraint_1234_test', '../data/clevr_block/c2', '../data/clevr_block/c4']\n",
    "setup_paths = ['constraint_1234', 'c2', 'c4']\n",
    "schema_path = '../data/clevr_block/clevr_attr_map.json'\n",
    "\n",
    "constrained_results = {}\n",
    "original_results = {}\n",
    "\n",
    "for i, setup in enumerate(setup_paths):\n",
    "    constrained_result = ProblemDomain(constraints, keys, test_paths[i], f'{constrained_path}/{setup}', schema_path)\n",
    "    original_result = ProblemDomain(constraints, keys, test_paths[i], f'{original_path}/{setup}', schema_path)\n",
    "    constrained_results[setup] = constrained_result\n",
    "    original_results[setup] = original_result\n",
    "\n",
    "process_results(constrained_results, process_coord_scene)\n",
    "process_results(original_results, process_coord_scene)"
   ]
  },
  {
   "cell_type": "code",
   "execution_count": 187,
   "metadata": {},
   "outputs": [
    {
     "data": {
      "text/plain": [
       "'[ 1.6387  4.7712  2.4381  0.0976  2.7002  5.1212  3.0781 -0.949   2.5792\\n  2.6622  2.0758 -0.843 ]'"
      ]
     },
     "execution_count": 187,
     "metadata": {},
     "output_type": "execute_result"
    }
   ],
   "source": [
    "np.array2string(print_stats(constrained_results, original_results, ['SGGen', 'SGGen+', 'SA', 'Con'], setup_paths, lambda a: a.scene_stats), precision=4)"
   ]
  },
  {
   "cell_type": "code",
   "execution_count": 189,
   "metadata": {},
   "outputs": [
    {
     "name": "stderr",
     "output_type": "stream",
     "text": [
      "C:\\Users\\chenp\\AppData\\Local\\Temp/ipykernel_11540/1010908189.py:4: RuntimeWarning: invalid value encountered in double_scalars\n",
      "  return (np.mean(x) - np.mean(y)) / np.sqrt((np.std(x, ddof=1) ** 2 + np.std(y, ddof=1) ** 2) / 2.0)\n"
     ]
    },
    {
     "data": {
      "text/plain": [
       "'[-0.0013  0.3456 -0.13   -0.4472 -0.0235  0.1642 -0.2167     nan  0.1123\\n  0.4249  0.0501     nan]'"
      ]
     },
     "execution_count": 189,
     "metadata": {},
     "output_type": "execute_result"
    }
   ],
   "source": [
    "np.array2string(print_stats(constrained_results, original_results, ['SGGen', 'SGGen+', 'SA', 'Con'], setup_paths, lambda a: a.coord_scene_stats), precision=4)"
   ]
  },
  {
   "cell_type": "code",
   "execution_count": 185,
   "metadata": {},
   "outputs": [
    {
     "data": {
      "text/plain": [
       "'[0.9919 0.9967 0.898  0.925  0.9901 0.9958 0.854  0.9285 0.992  0.9969\\n 0.895  0.9585]'"
      ]
     },
     "execution_count": 185,
     "metadata": {},
     "output_type": "execute_result"
    }
   ],
   "source": [
    "print_metrics(constrained_results, ['SGGen', 'SGGen+', 'SA', 'Con'], setup_paths, lambda a: a.scene_stats)"
   ]
  },
  {
   "cell_type": "code",
   "execution_count": 186,
   "metadata": {},
   "outputs": [
    {
     "data": {
      "text/plain": [
       "'[0.9866 0.9935 0.848  0.924  0.9817 0.991  0.7835 0.9475 0.9855 0.9934\\n 0.8295 0.969 ]'"
      ]
     },
     "execution_count": 186,
     "metadata": {},
     "output_type": "execute_result"
    }
   ],
   "source": [
    "print_metrics(original_results, ['SGGen', 'SGGen+', 'SA', 'Con'], setup_paths, lambda a: a.scene_stats)"
   ]
  },
  {
   "cell_type": "code",
   "execution_count": 78,
   "metadata": {},
   "outputs": [],
   "source": [
    "def print_metrics(results, metrics, setups, mapping, precision=4):\n",
    "    values = []\n",
    "    for setup in setups:\n",
    "        stats = mapping(results[setup])\n",
    "        for metric in metrics:\n",
    "            values.append(np.mean(stats[metric]))\n",
    "    return np.array2string(np.array(values), precision=precision)"
   ]
  },
  {
   "cell_type": "code",
   "execution_count": 79,
   "metadata": {},
   "outputs": [
    {
     "data": {
      "text/plain": [
       "'[0.9841 0.9919 0.825  0.909  0.979  0.9888 0.7475 0.921  0.984  0.9918\\n 0.81   0.9515]'"
      ]
     },
     "execution_count": 79,
     "metadata": {},
     "output_type": "execute_result"
    }
   ],
   "source": [
    "print_metrics(constrained_results, ['SGGen', 'SGGen+', 'SA', 'Con'], setup_paths, lambda a: a.scene_stats)"
   ]
  },
  {
   "cell_type": "code",
   "execution_count": 80,
   "metadata": {},
   "outputs": [
    {
     "data": {
      "text/plain": [
       "'[0.97   0.9836 0.7545 0.861  0.9498 0.9722 0.5965 0.772  0.9628 0.9799\\n 0.691  0.86  ]'"
      ]
     },
     "execution_count": 80,
     "metadata": {},
     "output_type": "execute_result"
    }
   ],
   "source": [
    "print_metrics(original_results, ['SGGen', 'SGGen+', 'SA', 'Con'], setup_paths, lambda a: a.scene_stats)"
   ]
  },
  {
   "cell_type": "code",
   "execution_count": 102,
   "metadata": {},
   "outputs": [
    {
     "data": {
      "text/plain": [
       "'[0.9963 0.9997 0.9875 0.9995 0.9963 0.9998 0.9865 1.     0.9943 0.9997\\n 0.984  1.    ]'"
      ]
     },
     "execution_count": 102,
     "metadata": {},
     "output_type": "execute_result"
    }
   ],
   "source": [
    "print_metrics(constrained_results, ['SGGen', 'SGGen+', 'SA', 'Con'], setup_paths, lambda a: a.coord_scene_stats)"
   ]
  },
  {
   "cell_type": "code",
   "execution_count": null,
   "metadata": {
    "pycharm": {
     "name": "#%%\n"
    }
   },
   "outputs": [],
   "source": [
    "print_metrics(original_results, ['SGGen', 'SGGen+', 'SA', 'Con'], setup_paths, lambda a: a.coord_scene_stats)"
   ]
  },
  {
   "cell_type": "code",
   "execution_count": null,
   "metadata": {
    "pycharm": {
     "name": "#%%\n"
    }
   },
   "outputs": [],
   "source": [
    "np.array2string(print_stats(constrained_results, original_results, ['SGGen', 'SGGen+', 'SA', 'Con'], setup_paths, lambda a: a.coord_scene_stats), precision=4)"
   ]
  },
  {
   "cell_type": "code",
   "execution_count": null,
   "metadata": {},
   "outputs": [],
   "source": []
  },
  {
   "cell_type": "markdown",
   "metadata": {
    "pycharm": {
     "name": "#%% md\n"
    }
   },
   "source": [
    "# RQ3"
   ]
  },
  {
   "cell_type": "markdown",
   "metadata": {},
   "source": [
    "## Clevr"
   ]
  },
  {
   "cell_type": "code",
   "execution_count": 290,
   "metadata": {
    "pycharm": {
     "name": "#%%\n"
    }
   },
   "outputs": [],
   "source": [
    "from measurements import ProblemDomain\n",
    "from datasets.Clevr import *"
   ]
  },
  {
   "cell_type": "code",
   "execution_count": 291,
   "metadata": {
    "pycharm": {
     "name": "#%%\n"
    }
   },
   "outputs": [],
   "source": [
    "constraints =  [SameColorConstraint('c1'), MaterialConstraint('c2'), LargeCubeConstraint('c3'), PairBehindConstraint('c4')]\n",
    "schema_path = 'G:/My Drive/Research/data/Clevr_mini/clevr_attr_map.json'\n",
    "keys = ['SGGen', 'SGGen+', 'SA', 'FSA']\n",
    "\n",
    "full = ProblemDomain(constraints, keys, '../data/clevr/constraint_1234_test', '../results/clevr_val/original/constraint_1234/data_44', schema_path)\n",
    "three = ProblemDomain(constraints, keys, '../data/clevr/constraint_1234_test', '../results/clevr_val/original/constraint_1234/data_34', schema_path)\n",
    "half = ProblemDomain(constraints, keys, '../data/clevr/constraint_1234_test', '../results/clevr_val/original/constraint_1234/data_24', schema_path)\n",
    "quarter = ProblemDomain(constraints, keys, '../data/clevr/constraint_1234_test', '../results/clevr_val/original/constraint_1234/data_14', schema_path)\n",
    "\n",
    "setups = [quarter, half, three, full]\n",
    "coord_scene_transformer = process_coord_scene_clevr"
   ]
  },
  {
   "cell_type": "code",
   "execution_count": null,
   "metadata": {
    "pycharm": {
     "name": "#%%\n"
    }
   },
   "outputs": [],
   "source": [
    "for domain in setups:\n",
    "    domain.load_predicted_scenes(coord_scene_transformer)\n",
    "    domain.cal_matrics_statistics()"
   ]
  },
  {
   "cell_type": "code",
   "execution_count": null,
   "metadata": {},
   "outputs": [],
   "source": [
    "full.load_predicted_scenes(coord_scene_transformer)\n",
    "full.cal_matrics_statistics()\n"
   ]
  },
  {
   "cell_type": "code",
   "execution_count": 112,
   "metadata": {
    "pycharm": {
     "name": "#%%\n"
    }
   },
   "outputs": [],
   "source": [
    "def print_metric_values(metric_names, setups):\n",
    "    for metric_name in metric_names:\n",
    "        print(f'\"{metric_name}\": {np.array2string(np.array([np.mean(setup[metric_name]) for setup in setups]), precision=4)}')"
   ]
  },
  {
   "cell_type": "code",
   "execution_count": 113,
   "metadata": {
    "pycharm": {
     "name": "#%%\n"
    }
   },
   "outputs": [
    {
     "name": "stdout",
     "output_type": "stream",
     "text": [
      "\"SGGen\": [0.9937 0.9981 0.9978 0.9991]\n",
      "\"SGGen+\": [0.999  0.9996 0.9998 0.9998]\n",
      "\"SA\": [0.9705 0.9845 0.99   0.993 ]\n",
      "\"Con\": [0.9945 0.997  0.998  0.999 ]\n"
     ]
    }
   ],
   "source": [
    "print_metric_values(['SGGen', 'SGGen+', 'SA', 'Con'], [setup.scene_stats for setup in setups])"
   ]
  },
  {
   "cell_type": "code",
   "execution_count": 114,
   "metadata": {
    "pycharm": {
     "name": "#%%\n"
    }
   },
   "outputs": [
    {
     "name": "stdout",
     "output_type": "stream",
     "text": [
      "\"SGGen\": [0.996  0.9992 0.9981 0.9997]\n",
      "\"SGGen+\": [0.9997 0.9999 0.9998 1.    ]\n",
      "\"SA\": [0.988  0.9945 0.9945 0.999 ]\n",
      "\"Con\": [1. 1. 1. 1.]\n"
     ]
    }
   ],
   "source": [
    "print_metric_values(['SGGen', 'SGGen+', 'SA', 'Con'], [setup.scene_fixed_stats for setup in setups])"
   ]
  },
  {
   "cell_type": "code",
   "execution_count": 115,
   "metadata": {
    "pycharm": {
     "name": "#%%\n"
    }
   },
   "outputs": [
    {
     "name": "stdout",
     "output_type": "stream",
     "text": [
      "\"SGGen\": [0.1455 0.9898 0.9943 0.9949]\n",
      "\"SGGen+\": [0.9336 0.9995 0.9997 0.9997]\n",
      "\"SA\": [0.031  0.978  0.9875 0.99  ]\n",
      "\"Con\": [0.654  0.9975 0.9975 0.9985]\n"
     ]
    }
   ],
   "source": [
    "print_metric_values(['SGGen', 'SGGen+', 'SA', 'Con'], [setup.coord_scene_stats for setup in setups])"
   ]
  },
  {
   "cell_type": "code",
   "execution_count": 116,
   "metadata": {
    "pycharm": {
     "name": "#%%\n"
    }
   },
   "outputs": [
    {
     "name": "stdout",
     "output_type": "stream",
     "text": [
      "\"SGGen\": [0.1596 0.9908 0.9945 0.9958]\n",
      "\"SGGen+\": [0.9345 0.9995 0.9997 0.9998]\n",
      "\"SA\": [0.0425 0.98   0.9885 0.992 ]\n",
      "\"Con\": [1. 1. 1. 1.]\n"
     ]
    }
   ],
   "source": [
    "print_metric_values(['SGGen', 'SGGen+', 'SA', 'Con'], [setup.coord_scene_fixed_stats for setup in setups])"
   ]
  },
  {
   "cell_type": "code",
   "execution_count": null,
   "metadata": {
    "pycharm": {
     "name": "#%%\n"
    }
   },
   "outputs": [],
   "source": [
    "constraints"
   ]
  },
  {
   "cell_type": "code",
   "execution_count": null,
   "metadata": {
    "pycharm": {
     "name": "#%%\n"
    }
   },
   "outputs": [],
   "source": [
    "constraint_1234 = ProblemDomain(constraints, keys, '../data/clevr/constraint_1234_test', '../results/clevr_val/constraint_1234/constraint_1234/data_125', f'G:/My Drive/Research/data/Clevr_mini/clevr_attr_map.json')\n",
    "original = ProblemDomain(constraints, keys, '../data/clevr/constraint_1234_test', '../results/clevr_val/original/constraint_1234/data_125', f'G:/My Drive/Research/data/Clevr_mini/clevr_attr_map.json')\n"
   ]
  },
  {
   "cell_type": "code",
   "execution_count": null,
   "metadata": {
    "pycharm": {
     "name": "#%%\n"
    }
   },
   "outputs": [],
   "source": [
    "constraint_1234.load_predicted_scenes(coord_scene_transformer, coord_scenes_fname=None, coord_fixed_fname=None, fixed_scenes_fname=None)\n",
    "original.load_predicted_scenes(coord_scene_transformer, coord_scenes_fname=None, coord_fixed_fname=None, fixed_scenes_fname=None)"
   ]
  },
  {
   "cell_type": "code",
   "execution_count": null,
   "metadata": {
    "pycharm": {
     "name": "#%%\n"
    }
   },
   "outputs": [],
   "source": [
    "constraint_1234.cal_matrics_statistics()\n",
    "original.cal_matrics_statistics()\n"
   ]
  },
  {
   "cell_type": "code",
   "execution_count": null,
   "metadata": {
    "pycharm": {
     "name": "#%%\n"
    }
   },
   "outputs": [],
   "source": [
    "print_metric_values(['SGGen', 'SGGen+', 'SA', 'Con'], [constraint_1234.scene_stats])"
   ]
  },
  {
   "cell_type": "code",
   "execution_count": null,
   "metadata": {
    "pycharm": {
     "name": "#%%\n"
    }
   },
   "outputs": [],
   "source": [
    "print_metric_values(['SGGen', 'SGGen+', 'SA', 'Con'], [original.scene_stats])"
   ]
  },
  {
   "cell_type": "code",
   "execution_count": null,
   "metadata": {
    "pycharm": {
     "name": "#%%\n"
    }
   },
   "outputs": [],
   "source": [
    "original.scene_stats"
   ]
  },
  {
   "cell_type": "markdown",
   "metadata": {},
   "source": [
    "## Blocksworld"
   ]
  },
  {
   "cell_type": "code",
   "execution_count": 250,
   "metadata": {
    "pycharm": {
     "name": "#%%\n"
    }
   },
   "outputs": [],
   "source": [
    "from datasets.Blockworld import *"
   ]
  },
  {
   "cell_type": "code",
   "execution_count": 251,
   "metadata": {
    "pycharm": {
     "name": "#%%\n"
    }
   },
   "outputs": [],
   "source": [
    "constraints =  [SmallObjectConstraint('c1'), LargeCubeConstraint('c2'), BottomConstraint('c3'), YellowObjectConstraint('c4')]\n",
    "coord_scene_transformer = process_coord_scene\n",
    "keys = ['SGGen', 'SGGen+', 'SA', 'FSA']\n",
    "schema_fp = '../data/clevr_block/clevr_attr_map.json'\n",
    "full = ProblemDomain(constraints, keys, '../data/clevr_block/constraint_1234_test', '../results/clevr_block_val/constraint_1234/constraint_1234/data_44', schema_fp)\n",
    "third = ProblemDomain(constraints, keys, '../data/clevr_block/constraint_1234_test', '../results/clevr_block_val/constraint_1234/constraint_1234/data_34', schema_fp)\n",
    "half = ProblemDomain(constraints, keys, '../data/clevr_block/constraint_1234_test', '../results/clevr_block_val/constraint_1234/constraint_1234/data_24', schema_fp)\n",
    "quarter = ProblemDomain(constraints, keys, '../data/clevr_block/constraint_1234_test', '../results/clevr_block_val/constraint_1234/constraint_1234/data_14', schema_fp)\n",
    "\n",
    "setups = [quarter, half, third, full]"
   ]
  },
  {
   "cell_type": "code",
   "execution_count": 95,
   "metadata": {
    "pycharm": {
     "name": "#%%\n"
    }
   },
   "outputs": [
    {
     "name": "stdout",
     "output_type": "stream",
     "text": [
      "../results/clevr_block_val/constraint_1234/constraint_1234/data_14\\rel_scenes.json\n"
     ]
    },
    {
     "name": "stderr",
     "output_type": "stream",
     "text": [
      "100%|██████████| 2000/2000 [00:34<00:00, 57.68it/s]\n",
      "100%|██████████| 2000/2000 [00:35<00:00, 55.81it/s]\n",
      "100%|██████████| 2000/2000 [00:35<00:00, 56.86it/s]\n",
      "100%|██████████| 2000/2000 [00:35<00:00, 56.85it/s]\n"
     ]
    },
    {
     "name": "stdout",
     "output_type": "stream",
     "text": [
      "../results/clevr_block_val/constraint_1234/constraint_1234/data_24\\rel_scenes.json\n"
     ]
    },
    {
     "name": "stderr",
     "output_type": "stream",
     "text": [
      "100%|██████████| 2000/2000 [00:34<00:00, 57.34it/s]\n",
      "100%|██████████| 2000/2000 [00:35<00:00, 56.69it/s]\n",
      "100%|██████████| 2000/2000 [00:36<00:00, 55.40it/s]\n",
      "100%|██████████| 2000/2000 [00:38<00:00, 51.97it/s]\n"
     ]
    },
    {
     "name": "stdout",
     "output_type": "stream",
     "text": [
      "../results/clevr_block_val/constraint_1234/constraint_1234/data_34\\rel_scenes.json\n"
     ]
    },
    {
     "name": "stderr",
     "output_type": "stream",
     "text": [
      "100%|██████████| 2000/2000 [00:34<00:00, 57.59it/s]\n",
      "100%|██████████| 2000/2000 [00:35<00:00, 56.87it/s]\n",
      "100%|██████████| 2000/2000 [00:35<00:00, 56.65it/s]\n",
      "100%|██████████| 2000/2000 [00:35<00:00, 56.55it/s]\n"
     ]
    },
    {
     "name": "stdout",
     "output_type": "stream",
     "text": [
      "../results/clevr_block_val/constraint_1234/constraint_1234/data_44\\rel_scenes.json\n"
     ]
    },
    {
     "name": "stderr",
     "output_type": "stream",
     "text": [
      "100%|██████████| 2000/2000 [00:34<00:00, 57.15it/s]\n",
      "100%|██████████| 2000/2000 [00:35<00:00, 56.90it/s]\n",
      "100%|██████████| 2000/2000 [00:36<00:00, 54.79it/s]\n",
      "100%|██████████| 2000/2000 [00:36<00:00, 54.42it/s]\n"
     ]
    }
   ],
   "source": [
    "for domain in setups:\n",
    "    domain.load_predicted_scenes(coord_scene_transformer)\n",
    "    domain.cal_matrics_statistics()"
   ]
  },
  {
   "cell_type": "code",
   "execution_count": 103,
   "metadata": {
    "pycharm": {
     "name": "#%%\n"
    }
   },
   "outputs": [
    {
     "name": "stdout",
     "output_type": "stream",
     "text": [
      "\"SGGen\": [0.9595 0.9717 0.9727 0.9841]\n",
      "\"SGGen+\": [0.9783 0.9854 0.9859 0.9919]\n",
      "\"SA\": [0.743  0.7595 0.783  0.825 ]\n",
      "\"Con\": [0.8315 0.865  0.8715 0.909 ]\n"
     ]
    }
   ],
   "source": [
    "print_metric_values(['SGGen', 'SGGen+', 'SA', 'Con'], [setup.scene_stats for setup in setups])"
   ]
  },
  {
   "cell_type": "code",
   "execution_count": 104,
   "metadata": {
    "pycharm": {
     "name": "#%%\n"
    }
   },
   "outputs": [
    {
     "name": "stdout",
     "output_type": "stream",
     "text": [
      "\"SGGen\": [0.9917 0.9948 0.995  0.9965]\n",
      "\"SGGen+\": [0.9985 0.9994 0.9994 0.9997]\n",
      "\"SA\": [0.959  0.982  0.986  0.9885]\n",
      "\"Con\": [1. 1. 1. 1.]\n"
     ]
    }
   ],
   "source": [
    "print_metric_values(['SGGen', 'SGGen+', 'SA', 'Con'], [setup.scene_fixed_stats for setup in setups])"
   ]
  },
  {
   "cell_type": "code",
   "execution_count": 105,
   "metadata": {
    "pycharm": {
     "name": "#%%\n"
    }
   },
   "outputs": [
    {
     "name": "stdout",
     "output_type": "stream",
     "text": [
      "\"SGGen\": [0.9811 0.9927 0.9913 0.9942]\n",
      "\"SGGen+\": [0.9984 0.9994 0.9994 0.9996]\n",
      "\"SA\": [0.948  0.9775 0.976  0.982 ]\n",
      "\"Con\": [0.998  1.     0.9995 1.    ]\n"
     ]
    }
   ],
   "source": [
    "print_metric_values(['SGGen', 'SGGen+', 'SA', 'Con'], [setup.coord_scene_stats for setup in setups])"
   ]
  },
  {
   "cell_type": "code",
   "execution_count": 106,
   "metadata": {
    "pycharm": {
     "name": "#%%\n"
    }
   },
   "outputs": [
    {
     "name": "stdout",
     "output_type": "stream",
     "text": [
      "\"SGGen\": [0.981  0.9927 0.9913 0.9942]\n",
      "\"SGGen+\": [0.9984 0.9994 0.9994 0.9996]\n",
      "\"SA\": [0.949  0.9775 0.976  0.982 ]\n",
      "\"Con\": [1. 1. 1. 1.]\n"
     ]
    }
   ],
   "source": [
    "print_metric_values(['SGGen', 'SGGen+', 'SA', 'Con'], [setup.coord_scene_fixed_stats for setup in setups])"
   ]
  },
  {
   "cell_type": "markdown",
   "metadata": {},
   "source": [
    "# Explorations"
   ]
  },
  {
   "cell_type": "code",
   "execution_count": 292,
   "metadata": {
    "pycharm": {
     "name": "#%%\n"
    }
   },
   "outputs": [
    {
     "name": "stdout",
     "output_type": "stream",
     "text": [
      "../results/clevr_val/original/constraint_1234/data_14\\rel_scenes.json\n"
     ]
    }
   ],
   "source": [
    "test = ProblemDomain(constraints, keys, '../data/clevr/constraint_1234_test', '../results/clevr_val/original/constraint_1234/data_14', schema_path)\n",
    "test.load_predicted_scenes(process_coord_scene, coord_scenes_fname=None, coord_fixed_fname=None) # fixed_scenes_fname=None\n",
    "# test = ProblemDomain(constraints, keys, '../data/clevr_block/constraint_1234_test', '../results/clevr_block_val/constraint_1234/constraint_1234/data_14', schema_fp)\n",
    "# test.load_predicted_scenes(process_coord_scene, coord_scenes_fname=None, coord_fixed_fname=None)\n",
    "# test.cal_matrics_statistics()"
   ]
  },
  {
   "cell_type": "code",
   "execution_count": 293,
   "metadata": {},
   "outputs": [
    {
     "name": "stderr",
     "output_type": "stream",
     "text": [
      "100%|██████████| 2000/2000 [00:20<00:00, 95.36it/s] \n",
      "100%|██████████| 2000/2000 [00:21<00:00, 95.17it/s] \n"
     ]
    }
   ],
   "source": [
    "error_maps_rm = error_classification_for_scenes(test.predicted_scenes, test.gt_scenes, test.schema['relations'])\n",
    "error_maps_op = error_classification_for_scenes(test.predicted_scenes_fixed, test.gt_scenes, test.schema['relations'])"
   ]
  },
  {
   "cell_type": "code",
   "execution_count": 301,
   "metadata": {},
   "outputs": [],
   "source": [
    "for scene in test.predicted_scenes:\n",
    "    for idx, obj in enumerate(scene['objects']):\n",
    "        obj['id'] = idx"
   ]
  },
  {
   "cell_type": "code",
   "execution_count": 302,
   "metadata": {},
   "outputs": [],
   "source": [
    "errors = [[constraint.evaluate(scene) for constraint in constraints] for scene in\n",
    "                  test.predicted_scenes]"
   ]
  },
  {
   "cell_type": "code",
   "execution_count": 303,
   "metadata": {},
   "outputs": [
    {
     "data": {
      "text/plain": [
       "[1, 0, 0, False]"
      ]
     },
     "execution_count": 303,
     "metadata": {},
     "output_type": "execute_result"
    }
   ],
   "source": [
    "errors[35]"
   ]
  },
  {
   "cell_type": "code",
   "execution_count": 304,
   "metadata": {},
   "outputs": [],
   "source": [
    "diff = [error_maps_rm[i] for i in range(len(error_maps_rm)) if error_maps_rm[i]['SA'] == 0 and error_maps_op[i]['SA']==1 and error_maps_rm[i].get('attribute_errors', [])!=[]]"
   ]
  },
  {
   "cell_type": "code",
   "execution_count": 305,
   "metadata": {},
   "outputs": [
    {
     "data": {
      "text/plain": [
       "[{'missing_objects': [],\n",
       "  'more_objects': [],\n",
       "  'missing_edges': [],\n",
       "  'more_edges': [],\n",
       "  'attribute_errors': [({'color': 'yellow',\n",
       "     'shape': 'cube',\n",
       "     'material': 'rubber',\n",
       "     'size': 'small'},\n",
       "    {'shape': 'cylinder',\n",
       "     'size': 'small',\n",
       "     'material': 'rubber',\n",
       "     'color': 'yellow'})],\n",
       "  'relationship_errors': [],\n",
       "  'SGGen': 0.6,\n",
       "  'SGGen+': 0.9833333333333333,\n",
       "  'SA': 0,\n",
       "  'FSA': 0,\n",
       "  'id': 277},\n",
       " {'missing_objects': [],\n",
       "  'more_objects': [],\n",
       "  'missing_edges': [],\n",
       "  'more_edges': [],\n",
       "  'attribute_errors': [({'color': 'purple',\n",
       "     'shape': 'cube',\n",
       "     'material': 'rubber',\n",
       "     'size': 'small'},\n",
       "    {'shape': 'cylinder',\n",
       "     'size': 'small',\n",
       "     'material': 'rubber',\n",
       "     'color': 'purple'})],\n",
       "  'relationship_errors': [],\n",
       "  'SGGen': 0.5,\n",
       "  'SGGen+': 0.975,\n",
       "  'SA': 0,\n",
       "  'FSA': 0,\n",
       "  'id': 288},\n",
       " {'missing_objects': [],\n",
       "  'more_objects': [],\n",
       "  'missing_edges': [],\n",
       "  'more_edges': [],\n",
       "  'attribute_errors': [({'color': 'yellow',\n",
       "     'shape': 'cube',\n",
       "     'material': 'rubber',\n",
       "     'size': 'small'},\n",
       "    {'shape': 'cylinder',\n",
       "     'size': 'small',\n",
       "     'material': 'rubber',\n",
       "     'color': 'yellow'})],\n",
       "  'relationship_errors': [],\n",
       "  'SGGen': 0.6666666666666666,\n",
       "  'SGGen+': 0.9880952380952381,\n",
       "  'SA': 0,\n",
       "  'FSA': 0,\n",
       "  'id': 653},\n",
       " {'missing_objects': [],\n",
       "  'more_objects': [],\n",
       "  'missing_edges': [],\n",
       "  'more_edges': [],\n",
       "  'attribute_errors': [({'color': 'cyan',\n",
       "     'shape': 'cube',\n",
       "     'material': 'rubber',\n",
       "     'size': 'small'},\n",
       "    {'shape': 'cylinder',\n",
       "     'size': 'small',\n",
       "     'material': 'rubber',\n",
       "     'color': 'cyan'})],\n",
       "  'relationship_errors': [],\n",
       "  'SGGen': 0.6,\n",
       "  'SGGen+': 0.9833333333333333,\n",
       "  'SA': 0,\n",
       "  'FSA': 0,\n",
       "  'id': 825},\n",
       " {'missing_objects': [],\n",
       "  'more_objects': [],\n",
       "  'missing_edges': [],\n",
       "  'more_edges': [],\n",
       "  'attribute_errors': [({'color': 'yellow',\n",
       "     'shape': 'cube',\n",
       "     'material': 'metal',\n",
       "     'size': 'small'},\n",
       "    {'shape': 'cylinder',\n",
       "     'size': 'small',\n",
       "     'material': 'metal',\n",
       "     'color': 'yellow'})],\n",
       "  'relationship_errors': [],\n",
       "  'SGGen': 0.3333333333333333,\n",
       "  'SGGen+': 0.9583333333333334,\n",
       "  'SA': 0,\n",
       "  'FSA': 0,\n",
       "  'id': 918},\n",
       " {'missing_objects': [],\n",
       "  'more_objects': [],\n",
       "  'missing_edges': [],\n",
       "  'more_edges': [],\n",
       "  'attribute_errors': [({'color': 'cyan',\n",
       "     'shape': 'cube',\n",
       "     'material': 'rubber',\n",
       "     'size': 'small'},\n",
       "    {'shape': 'cylinder',\n",
       "     'size': 'small',\n",
       "     'material': 'rubber',\n",
       "     'color': 'cyan'})],\n",
       "  'relationship_errors': [],\n",
       "  'SGGen': 0.5,\n",
       "  'SGGen+': 0.975,\n",
       "  'SA': 0,\n",
       "  'FSA': 0,\n",
       "  'id': 1836}]"
      ]
     },
     "execution_count": 305,
     "metadata": {},
     "output_type": "execute_result"
    }
   ],
   "source": [
    "diff"
   ]
  },
  {
   "cell_type": "code",
   "execution_count": 170,
   "metadata": {},
   "outputs": [
    {
     "name": "stdout",
     "output_type": "stream",
     "text": [
      "../results/clevr_block_val/original/constraint_1234/rel_scenes.json\n"
     ]
    }
   ],
   "source": [
    "test_1 = ProblemDomain(constraints, keys, '../data/clevr_block/constraint_1234_test', '../results/clevr_block_val/original/constraint_1234/', schema_fp)\n",
    "test_1.load_predicted_scenes(process_coord_scene, coord_scenes_fname=None, coord_fixed_fname=None, fixed_scenes_fname=None)\n"
   ]
  },
  {
   "cell_type": "code",
   "execution_count": 171,
   "metadata": {},
   "outputs": [
    {
     "name": "stderr",
     "output_type": "stream",
     "text": [
      "100%|██████████| 2000/2000 [00:35<00:00, 56.76it/s]\n"
     ]
    }
   ],
   "source": [
    "error_maps = error_classification_for_scenes(test_1.predicted_scenes, test_1.gt_scenes, test_1.schema['relations'])"
   ]
  },
  {
   "cell_type": "code",
   "execution_count": 173,
   "metadata": {},
   "outputs": [
    {
     "data": {
      "text/plain": [
       "0.848"
      ]
     },
     "execution_count": 173,
     "metadata": {},
     "output_type": "execute_result"
    }
   ],
   "source": [
    "np.mean([e['FSA'] for e in error_maps])"
   ]
  },
  {
   "cell_type": "code",
   "execution_count": 136,
   "metadata": {},
   "outputs": [
    {
     "data": {
      "text/plain": [
       "19"
      ]
     },
     "execution_count": 136,
     "metadata": {},
     "output_type": "execute_result"
    }
   ],
   "source": [
    "sum([len(e.get('attribute_errors', [])) for e in error_maps])"
   ]
  },
  {
   "cell_type": "code",
   "execution_count": null,
   "metadata": {
    "pycharm": {
     "name": "#%%\n"
    }
   },
   "outputs": [],
   "source": [
    "schema_fp = '../data/clevr_block/clevr_attr_map.json'\n",
    "with open(schema_fp, 'r') as f:\n",
    "    schema = json.load(f)"
   ]
  },
  {
   "cell_type": "code",
   "execution_count": null,
   "metadata": {
    "pycharm": {
     "name": "#%%\n"
    }
   },
   "outputs": [],
   "source": [
    "with open('../data/clevr_block/constraint_1234/scenes_train.json') as f:\n",
    "    block_scenes_con = json.load(f)['scenes']\n",
    "with open('../data/clevr_block/original/scenes.json') as f:\n",
    "    block_scenes_no_con = json.load(f)['scenes']\n",
    "with open('../data/clevr/constraint_1234/scenes.json') as f:\n",
    "    clevr_scenes_con = json.load(f)['scenes']\n",
    "with open('../data/clevr/original/scenes.json') as f:\n",
    "    clevr_scenes_no_con = json.load(f)['scenes']"
   ]
  },
  {
   "cell_type": "code",
   "execution_count": null,
   "metadata": {
    "pycharm": {
     "name": "#%%\n"
    }
   },
   "outputs": [],
   "source": [
    "import matplotlib.pyplot as plt\n",
    "def get_dist(scenes, attr):\n",
    "    values = []\n",
    "    for scene in scenes:\n",
    "        for obj in scene['objects']:\n",
    "            values.append(obj[attr])\n",
    "    return values\n",
    "\n",
    "attributes = schema['attributes']\n",
    "fig, axs = plt.subplots(1, len(attributes))\n",
    "fig.set_size_inches(28, 5)\n",
    "\n",
    "for i, attribute in enumerate(attributes):\n",
    "    dist = get_dist(scenes_no_con, attribute)\n",
    "    labels, counts = np.unique(dist, return_counts=True)\n",
    "    total = sum(counts)\n",
    "    counts = [count / total for count in counts]\n",
    "    axs[i].bar(labels, counts, align='center')\n",
    "fig.suptitle('Clevr-Con', size=40)\n"
   ]
  },
  {
   "cell_type": "code",
   "execution_count": null,
   "metadata": {},
   "outputs": [],
   "source": [
    "def get_property_dist(scenes):\n",
    "    values = []\n",
    "    for scene in scenes:\n",
    "        for obj in scene['objects']:\n",
    "            values.append(f\"{obj['size']} {obj['color']} {obj['material']} {obj['shape']}\")\n",
    "    return values"
   ]
  },
  {
   "cell_type": "code",
   "execution_count": null,
   "metadata": {
    "pycharm": {
     "name": "#%%\n"
    }
   },
   "outputs": [],
   "source": [
    "len(values)"
   ]
  },
  {
   "cell_type": "code",
   "execution_count": null,
   "metadata": {},
   "outputs": [],
   "source": [
    "dist = get_property_dist(block_scenes_no_con)\n",
    "labels, counts = np.unique(values, return_counts=True)\n",
    "total = sum(counts)\n",
    "counts_no_con = [count / total for count in counts]\n",
    "plt.bar(range(len(labels)), counts_no_con, align='center')\n",
    "plt.title('Block+Con')"
   ]
  },
  {
   "cell_type": "code",
   "execution_count": null,
   "metadata": {
    "pycharm": {
     "name": "#%%\n"
    }
   },
   "outputs": [],
   "source": [
    "print(labels)"
   ]
  },
  {
   "cell_type": "code",
   "execution_count": null,
   "metadata": {},
   "outputs": [],
   "source": [
    "dist = get_property_dist(block_scenes_con)\n",
    "labels, counts = np.unique(values, return_counts=True)\n",
    "total = sum(counts)\n",
    "counts_con = [count / total for count in counts]\n",
    "plt.bar(range(len(labels)), counts_con, align='center')\n",
    "plt.title('Clevr+Con')\n",
    "print(labels)"
   ]
  },
  {
   "cell_type": "code",
   "execution_count": null,
   "metadata": {},
   "outputs": [],
   "source": [
    "labels"
   ]
  },
  {
   "cell_type": "code",
   "execution_count": null,
   "metadata": {},
   "outputs": [],
   "source": [
    "# calculate the kl divergence\n",
    "def kl_divergence(p, q):\n",
    "    return sum(p[i] * np.log2(p[i]/q[i]) for i in range(len(p)))\n",
    "kl_divergence(counts_no_con, counts_con)"
   ]
  },
  {
   "cell_type": "code",
   "execution_count": null,
   "metadata": {
    "pycharm": {
     "name": "#%%\n"
    }
   },
   "outputs": [],
   "source": [
    "with open('../data/clevr_block/constraint_1234/scenes_train.json') as f:\n",
    "    scenes = json.load(f)['scenes']\n",
    "satisfied = 0\n",
    "\n",
    "for scene in scenes:\n",
    "    cyan_metal = False\n",
    "    red_sphere = False\n",
    "    for obj in scene['objects']:\n",
    "        if obj['color'] == 'yellow':\n",
    "            satisfied += 1"
   ]
  },
  {
   "cell_type": "code",
   "execution_count": null,
   "metadata": {
    "pycharm": {
     "name": "#%%\n"
    }
   },
   "outputs": [],
   "source": []
  },
  {
   "cell_type": "code",
   "execution_count": null,
   "metadata": {
    "pycharm": {
     "name": "#%%\n"
    }
   },
   "outputs": [],
   "source": [
    "3052"
   ]
  },
  {
   "cell_type": "code",
   "execution_count": null,
   "metadata": {
    "pycharm": {
     "name": "#%%\n"
    }
   },
   "outputs": [],
   "source": [
    "1754"
   ]
  },
  {
   "cell_type": "code",
   "execution_count": null,
   "metadata": {
    "pycharm": {
     "name": "#%%\n"
    }
   },
   "outputs": [],
   "source": [
    "satisfied"
   ]
  },
  {
   "cell_type": "code",
   "execution_count": null,
   "metadata": {
    "pycharm": {
     "name": "#%%\n"
    }
   },
   "outputs": [],
   "source": [
    "3195"
   ]
  },
  {
   "cell_type": "code",
   "execution_count": null,
   "metadata": {
    "pycharm": {
     "name": "#%%\n"
    }
   },
   "outputs": [],
   "source": [
    "1812"
   ]
  }
 ],
 "metadata": {
  "kernelspec": {
   "display_name": "Python 3 (ipykernel)",
   "language": "python",
   "name": "python3"
  },
  "language_info": {
   "codemirror_mode": {
    "name": "ipython",
    "version": 3
   },
   "file_extension": ".py",
   "mimetype": "text/x-python",
   "name": "python",
   "nbconvert_exporter": "python",
   "pygments_lexer": "ipython3",
   "version": "3.8.12"
  }
 },
 "nbformat": 4,
 "nbformat_minor": 1
}